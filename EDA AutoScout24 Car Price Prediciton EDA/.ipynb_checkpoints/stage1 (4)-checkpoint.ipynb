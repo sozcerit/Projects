{
 "cells": [
  {
   "cell_type": "code",
   "execution_count": 1,
   "id": "3d9007f0",
   "metadata": {},
   "outputs": [],
   "source": [
    "import pandas as pd\n",
    "import numpy as np\n",
    "import re\n",
    "import warnings\n",
    "warnings.filterwarnings(\"ignore\")\n",
    "pd.set_option(\"display.max_columns\", None)"
   ]
  },
  {
   "cell_type": "code",
   "execution_count": 2,
   "id": "f2062d6e",
   "metadata": {},
   "outputs": [],
   "source": [
    "df = pd.read_json(\"stage1.json\")"
   ]
  },
  {
   "cell_type": "code",
   "execution_count": 3,
   "id": "eee3699a",
   "metadata": {},
   "outputs": [
    {
     "data": {
      "text/plain": [
       "Index(['make_model', 'body_type', 'price', 'vat', 'km', 'registration',\n",
       "       'prev_owner', 'hp', 'Type', 'Next Inspection', 'Inspection new',\n",
       "       'Warranty', 'Make', 'Model', 'First Registration', 'Body Color',\n",
       "       'Upholstery', 'Body', 'Nr. of Doors', 'Nr. of Seats', 'Gearing Type',\n",
       "       'Displacement', 'Weight', 'Drive chain', 'Consumption', 'CO2 Emission',\n",
       "       'Emission Class', '\\nComfort & Convenience\\n',\n",
       "       '\\nEntertainment & Media\\n', '\\nExtras\\n', '\\nSafety & Security\\n',\n",
       "       'Emission Label', 'Gears', 'Country version'],\n",
       "      dtype='object')"
      ]
     },
     "execution_count": 3,
     "metadata": {},
     "output_type": "execute_result"
    }
   ],
   "source": [
    "df.columns"
   ]
  },
  {
   "cell_type": "code",
   "execution_count": 4,
   "id": "718aaed0",
   "metadata": {},
   "outputs": [
    {
     "data": {
      "text/html": [
       "<div>\n",
       "<style scoped>\n",
       "    .dataframe tbody tr th:only-of-type {\n",
       "        vertical-align: middle;\n",
       "    }\n",
       "\n",
       "    .dataframe tbody tr th {\n",
       "        vertical-align: top;\n",
       "    }\n",
       "\n",
       "    .dataframe thead th {\n",
       "        text-align: right;\n",
       "    }\n",
       "</style>\n",
       "<table border=\"1\" class=\"dataframe\">\n",
       "  <thead>\n",
       "    <tr style=\"text-align: right;\">\n",
       "      <th></th>\n",
       "      <th>make_model</th>\n",
       "      <th>body_type</th>\n",
       "      <th>price</th>\n",
       "      <th>vat</th>\n",
       "      <th>km</th>\n",
       "      <th>registration</th>\n",
       "      <th>prev_owner</th>\n",
       "      <th>hp</th>\n",
       "      <th>Type</th>\n",
       "      <th>Next Inspection</th>\n",
       "      <th>Inspection new</th>\n",
       "      <th>Warranty</th>\n",
       "      <th>Make</th>\n",
       "      <th>Model</th>\n",
       "      <th>First Registration</th>\n",
       "      <th>Body Color</th>\n",
       "      <th>Upholstery</th>\n",
       "      <th>Body</th>\n",
       "      <th>Nr. of Doors</th>\n",
       "      <th>Nr. of Seats</th>\n",
       "      <th>Gearing Type</th>\n",
       "      <th>Displacement</th>\n",
       "      <th>Weight</th>\n",
       "      <th>Drive chain</th>\n",
       "      <th>Consumption</th>\n",
       "      <th>CO2 Emission</th>\n",
       "      <th>Emission Class</th>\n",
       "      <th>\\nComfort &amp; Convenience\\n</th>\n",
       "      <th>\\nEntertainment &amp; Media\\n</th>\n",
       "      <th>\\nExtras\\n</th>\n",
       "      <th>\\nSafety &amp; Security\\n</th>\n",
       "      <th>Emission Label</th>\n",
       "      <th>Gears</th>\n",
       "      <th>Country version</th>\n",
       "    </tr>\n",
       "  </thead>\n",
       "  <tbody>\n",
       "    <tr>\n",
       "      <th>0</th>\n",
       "      <td>Audi A1</td>\n",
       "      <td>Sedans</td>\n",
       "      <td>15770</td>\n",
       "      <td>VAT deductible</td>\n",
       "      <td>56,013 km</td>\n",
       "      <td>01/2016</td>\n",
       "      <td>2 previous owners</td>\n",
       "      <td>66 kW</td>\n",
       "      <td>[, Used, , Diesel (Particulate Filter)]</td>\n",
       "      <td>[\\n06/2021\\n, \\n99 g CO2/km (comb)\\n]</td>\n",
       "      <td>[\\nYes\\n, \\nEuro 6\\n]</td>\n",
       "      <td></td>\n",
       "      <td>\\nAudi\\n</td>\n",
       "      <td>[\\n, A1, \\n]</td>\n",
       "      <td>[\\n, 2016, \\n]</td>\n",
       "      <td>[\\n, Black, \\n]</td>\n",
       "      <td>[\\nCloth, Black\\n]</td>\n",
       "      <td>[\\n, Sedans, \\n]</td>\n",
       "      <td>[\\n5\\n]</td>\n",
       "      <td>[\\n5\\n]</td>\n",
       "      <td>[\\n, Automatic, \\n]</td>\n",
       "      <td>[\\n1,422 cc\\n]</td>\n",
       "      <td>[\\n1,220 kg\\n]</td>\n",
       "      <td>[\\nfront\\n]</td>\n",
       "      <td>[[3.8 l/100 km (comb)], [4.3 l/100 km (city)],...</td>\n",
       "      <td>[\\n99 g CO2/km (comb)\\n]</td>\n",
       "      <td>[\\nEuro 6\\n]</td>\n",
       "      <td>[Air conditioning, Armrest, Automatic climate ...</td>\n",
       "      <td>[Bluetooth, Hands-free equipment, On-board com...</td>\n",
       "      <td>[Alloy wheels, Catalytic Converter, Voice Cont...</td>\n",
       "      <td>[ABS, Central door lock, Daytime running light...</td>\n",
       "      <td>None</td>\n",
       "      <td>None</td>\n",
       "      <td>None</td>\n",
       "    </tr>\n",
       "    <tr>\n",
       "      <th>1</th>\n",
       "      <td>Audi A1</td>\n",
       "      <td>Sedans</td>\n",
       "      <td>14500</td>\n",
       "      <td>Price negotiable</td>\n",
       "      <td>80,000 km</td>\n",
       "      <td>03/2017</td>\n",
       "      <td>None</td>\n",
       "      <td>141 kW</td>\n",
       "      <td>[, Used, , Gasoline]</td>\n",
       "      <td>None</td>\n",
       "      <td>None</td>\n",
       "      <td>None</td>\n",
       "      <td>\\nAudi\\n</td>\n",
       "      <td>[\\n, A1, \\n]</td>\n",
       "      <td>[\\n, 2017, \\n]</td>\n",
       "      <td>[\\n, Red, \\n]</td>\n",
       "      <td>[\\nCloth, Grey\\n]</td>\n",
       "      <td>[\\n, Sedans, \\n]</td>\n",
       "      <td>[\\n3\\n]</td>\n",
       "      <td>[\\n4\\n]</td>\n",
       "      <td>[\\n, Automatic, \\n]</td>\n",
       "      <td>[\\n1,798 cc\\n]</td>\n",
       "      <td>[\\n1,255 kg\\n]</td>\n",
       "      <td>[\\nfront\\n]</td>\n",
       "      <td>[[5.6 l/100 km (comb)], [7.1 l/100 km (city)],...</td>\n",
       "      <td>[\\n129 g CO2/km (comb)\\n]</td>\n",
       "      <td>[\\nEuro 6\\n]</td>\n",
       "      <td>[Air conditioning, Automatic climate control, ...</td>\n",
       "      <td>[Bluetooth, Hands-free equipment, On-board com...</td>\n",
       "      <td>[Alloy wheels, Sport seats, Sport suspension, ...</td>\n",
       "      <td>[ABS, Central door lock, Central door lock wit...</td>\n",
       "      <td>[\\n4 (Green)\\n]</td>\n",
       "      <td>[\\n7\\n]</td>\n",
       "      <td>None</td>\n",
       "    </tr>\n",
       "    <tr>\n",
       "      <th>2</th>\n",
       "      <td>Audi A1</td>\n",
       "      <td>Sedans</td>\n",
       "      <td>14640</td>\n",
       "      <td>VAT deductible</td>\n",
       "      <td>83,450 km</td>\n",
       "      <td>02/2016</td>\n",
       "      <td>1 previous owner</td>\n",
       "      <td>85 kW</td>\n",
       "      <td>[, Used, , Diesel (Particulate Filter)]</td>\n",
       "      <td>None</td>\n",
       "      <td>None</td>\n",
       "      <td></td>\n",
       "      <td>\\nAudi\\n</td>\n",
       "      <td>[\\n, A1, \\n]</td>\n",
       "      <td>[\\n, 2016, \\n]</td>\n",
       "      <td>[\\n, Black, \\n]</td>\n",
       "      <td>[\\nCloth, Black\\n]</td>\n",
       "      <td>[\\n, Sedans, \\n]</td>\n",
       "      <td>[\\n4\\n]</td>\n",
       "      <td>[\\n4\\n]</td>\n",
       "      <td>[\\n, Automatic, \\n]</td>\n",
       "      <td>[\\n1,598 cc\\n]</td>\n",
       "      <td>None</td>\n",
       "      <td>[\\nfront\\n]</td>\n",
       "      <td>[[3.8 l/100 km (comb)], [4.4 l/100 km (city)],...</td>\n",
       "      <td>[\\n99 g CO2/km (comb)\\n]</td>\n",
       "      <td>[\\nEuro 6\\n]</td>\n",
       "      <td>[Air conditioning, Cruise control, Electrical ...</td>\n",
       "      <td>[MP3, On-board computer]</td>\n",
       "      <td>[Alloy wheels, Voice Control]</td>\n",
       "      <td>[ABS, Central door lock, Daytime running light...</td>\n",
       "      <td>[\\n4 (Green)\\n]</td>\n",
       "      <td>None</td>\n",
       "      <td>None</td>\n",
       "    </tr>\n",
       "    <tr>\n",
       "      <th>3</th>\n",
       "      <td>Audi A1</td>\n",
       "      <td>Sedans</td>\n",
       "      <td>14500</td>\n",
       "      <td>None</td>\n",
       "      <td>73,000 km</td>\n",
       "      <td>08/2016</td>\n",
       "      <td>1 previous owner</td>\n",
       "      <td>66 kW</td>\n",
       "      <td>[, Used, , Diesel (Particulate Filter)]</td>\n",
       "      <td>None</td>\n",
       "      <td>None</td>\n",
       "      <td>None</td>\n",
       "      <td>\\nAudi\\n</td>\n",
       "      <td>[\\n, A1, \\n]</td>\n",
       "      <td>[\\n, 2016, \\n]</td>\n",
       "      <td>[\\n, Brown, \\n]</td>\n",
       "      <td>None</td>\n",
       "      <td>[\\n, Sedans, \\n]</td>\n",
       "      <td>[\\n3\\n]</td>\n",
       "      <td>[\\n4\\n]</td>\n",
       "      <td>[\\n, Automatic, \\n]</td>\n",
       "      <td>[\\n1,422 cc\\n]</td>\n",
       "      <td>[\\n1,195 kg\\n]</td>\n",
       "      <td>None</td>\n",
       "      <td>[[3.8 l/100 km (comb)], [4.3 l/100 km (city)],...</td>\n",
       "      <td>[\\n99 g CO2/km (comb)\\n]</td>\n",
       "      <td>[\\nEuro 6\\n]</td>\n",
       "      <td>[Air suspension, Armrest, Auxiliary heating, E...</td>\n",
       "      <td>[Bluetooth, CD player, Hands-free equipment, M...</td>\n",
       "      <td>[Alloy wheels, Sport seats, Voice Control]</td>\n",
       "      <td>[ABS, Alarm system, Central door lock with rem...</td>\n",
       "      <td>None</td>\n",
       "      <td>[\\n6\\n]</td>\n",
       "      <td>None</td>\n",
       "    </tr>\n",
       "    <tr>\n",
       "      <th>4</th>\n",
       "      <td>Audi A1</td>\n",
       "      <td>Sedans</td>\n",
       "      <td>16790</td>\n",
       "      <td>None</td>\n",
       "      <td>16,200 km</td>\n",
       "      <td>05/2016</td>\n",
       "      <td>1 previous owner</td>\n",
       "      <td>66 kW</td>\n",
       "      <td>[, Used, , Diesel (Particulate Filter)]</td>\n",
       "      <td>None</td>\n",
       "      <td>[\\nYes\\n, \\n109 g CO2/km (comb)\\n]</td>\n",
       "      <td></td>\n",
       "      <td>\\nAudi\\n</td>\n",
       "      <td>[\\n, A1, \\n]</td>\n",
       "      <td>[\\n, 2016, \\n]</td>\n",
       "      <td>[\\n, Black, \\n]</td>\n",
       "      <td>[\\nCloth, Black\\n]</td>\n",
       "      <td>[\\n, Sedans, \\n]</td>\n",
       "      <td>[\\n5\\n]</td>\n",
       "      <td>[\\n5\\n]</td>\n",
       "      <td>[\\n, Automatic, \\n]</td>\n",
       "      <td>[\\n1,422 cc\\n]</td>\n",
       "      <td>None</td>\n",
       "      <td>[\\nfront\\n]</td>\n",
       "      <td>[[4.1 l/100 km (comb)], [4.6 l/100 km (city)],...</td>\n",
       "      <td>[\\n109 g CO2/km (comb)\\n]</td>\n",
       "      <td>[\\nEuro 6\\n]</td>\n",
       "      <td>[Air conditioning, Armrest, Automatic climate ...</td>\n",
       "      <td>[Bluetooth, CD player, Hands-free equipment, M...</td>\n",
       "      <td>[Alloy wheels, Sport package, Sport suspension...</td>\n",
       "      <td>[ABS, Central door lock, Driver-side airbag, E...</td>\n",
       "      <td>None</td>\n",
       "      <td>None</td>\n",
       "      <td>[\\nGermany\\n]</td>\n",
       "    </tr>\n",
       "  </tbody>\n",
       "</table>\n",
       "</div>"
      ],
      "text/plain": [
       "  make_model body_type  price               vat         km registration  \\\n",
       "0    Audi A1    Sedans  15770    VAT deductible  56,013 km      01/2016   \n",
       "1    Audi A1    Sedans  14500  Price negotiable  80,000 km      03/2017   \n",
       "2    Audi A1    Sedans  14640    VAT deductible  83,450 km      02/2016   \n",
       "3    Audi A1    Sedans  14500              None  73,000 km      08/2016   \n",
       "4    Audi A1    Sedans  16790              None  16,200 km      05/2016   \n",
       "\n",
       "          prev_owner      hp                                     Type  \\\n",
       "0  2 previous owners   66 kW  [, Used, , Diesel (Particulate Filter)]   \n",
       "1               None  141 kW                     [, Used, , Gasoline]   \n",
       "2   1 previous owner   85 kW  [, Used, , Diesel (Particulate Filter)]   \n",
       "3   1 previous owner   66 kW  [, Used, , Diesel (Particulate Filter)]   \n",
       "4   1 previous owner   66 kW  [, Used, , Diesel (Particulate Filter)]   \n",
       "\n",
       "                         Next Inspection                      Inspection new  \\\n",
       "0  [\\n06/2021\\n, \\n99 g CO2/km (comb)\\n]               [\\nYes\\n, \\nEuro 6\\n]   \n",
       "1                                   None                                None   \n",
       "2                                   None                                None   \n",
       "3                                   None                                None   \n",
       "4                                   None  [\\nYes\\n, \\n109 g CO2/km (comb)\\n]   \n",
       "\n",
       "  Warranty      Make         Model First Registration       Body Color  \\\n",
       "0           \\nAudi\\n  [\\n, A1, \\n]     [\\n, 2016, \\n]  [\\n, Black, \\n]   \n",
       "1     None  \\nAudi\\n  [\\n, A1, \\n]     [\\n, 2017, \\n]    [\\n, Red, \\n]   \n",
       "2           \\nAudi\\n  [\\n, A1, \\n]     [\\n, 2016, \\n]  [\\n, Black, \\n]   \n",
       "3     None  \\nAudi\\n  [\\n, A1, \\n]     [\\n, 2016, \\n]  [\\n, Brown, \\n]   \n",
       "4           \\nAudi\\n  [\\n, A1, \\n]     [\\n, 2016, \\n]  [\\n, Black, \\n]   \n",
       "\n",
       "           Upholstery              Body Nr. of Doors Nr. of Seats  \\\n",
       "0  [\\nCloth, Black\\n]  [\\n, Sedans, \\n]      [\\n5\\n]      [\\n5\\n]   \n",
       "1   [\\nCloth, Grey\\n]  [\\n, Sedans, \\n]      [\\n3\\n]      [\\n4\\n]   \n",
       "2  [\\nCloth, Black\\n]  [\\n, Sedans, \\n]      [\\n4\\n]      [\\n4\\n]   \n",
       "3                None  [\\n, Sedans, \\n]      [\\n3\\n]      [\\n4\\n]   \n",
       "4  [\\nCloth, Black\\n]  [\\n, Sedans, \\n]      [\\n5\\n]      [\\n5\\n]   \n",
       "\n",
       "          Gearing Type    Displacement          Weight  Drive chain  \\\n",
       "0  [\\n, Automatic, \\n]  [\\n1,422 cc\\n]  [\\n1,220 kg\\n]  [\\nfront\\n]   \n",
       "1  [\\n, Automatic, \\n]  [\\n1,798 cc\\n]  [\\n1,255 kg\\n]  [\\nfront\\n]   \n",
       "2  [\\n, Automatic, \\n]  [\\n1,598 cc\\n]            None  [\\nfront\\n]   \n",
       "3  [\\n, Automatic, \\n]  [\\n1,422 cc\\n]  [\\n1,195 kg\\n]         None   \n",
       "4  [\\n, Automatic, \\n]  [\\n1,422 cc\\n]            None  [\\nfront\\n]   \n",
       "\n",
       "                                         Consumption  \\\n",
       "0  [[3.8 l/100 km (comb)], [4.3 l/100 km (city)],...   \n",
       "1  [[5.6 l/100 km (comb)], [7.1 l/100 km (city)],...   \n",
       "2  [[3.8 l/100 km (comb)], [4.4 l/100 km (city)],...   \n",
       "3  [[3.8 l/100 km (comb)], [4.3 l/100 km (city)],...   \n",
       "4  [[4.1 l/100 km (comb)], [4.6 l/100 km (city)],...   \n",
       "\n",
       "                CO2 Emission Emission Class  \\\n",
       "0   [\\n99 g CO2/km (comb)\\n]   [\\nEuro 6\\n]   \n",
       "1  [\\n129 g CO2/km (comb)\\n]   [\\nEuro 6\\n]   \n",
       "2   [\\n99 g CO2/km (comb)\\n]   [\\nEuro 6\\n]   \n",
       "3   [\\n99 g CO2/km (comb)\\n]   [\\nEuro 6\\n]   \n",
       "4  [\\n109 g CO2/km (comb)\\n]   [\\nEuro 6\\n]   \n",
       "\n",
       "                           \\nComfort & Convenience\\n  \\\n",
       "0  [Air conditioning, Armrest, Automatic climate ...   \n",
       "1  [Air conditioning, Automatic climate control, ...   \n",
       "2  [Air conditioning, Cruise control, Electrical ...   \n",
       "3  [Air suspension, Armrest, Auxiliary heating, E...   \n",
       "4  [Air conditioning, Armrest, Automatic climate ...   \n",
       "\n",
       "                           \\nEntertainment & Media\\n  \\\n",
       "0  [Bluetooth, Hands-free equipment, On-board com...   \n",
       "1  [Bluetooth, Hands-free equipment, On-board com...   \n",
       "2                           [MP3, On-board computer]   \n",
       "3  [Bluetooth, CD player, Hands-free equipment, M...   \n",
       "4  [Bluetooth, CD player, Hands-free equipment, M...   \n",
       "\n",
       "                                          \\nExtras\\n  \\\n",
       "0  [Alloy wheels, Catalytic Converter, Voice Cont...   \n",
       "1  [Alloy wheels, Sport seats, Sport suspension, ...   \n",
       "2                      [Alloy wheels, Voice Control]   \n",
       "3         [Alloy wheels, Sport seats, Voice Control]   \n",
       "4  [Alloy wheels, Sport package, Sport suspension...   \n",
       "\n",
       "                               \\nSafety & Security\\n   Emission Label  \\\n",
       "0  [ABS, Central door lock, Daytime running light...             None   \n",
       "1  [ABS, Central door lock, Central door lock wit...  [\\n4 (Green)\\n]   \n",
       "2  [ABS, Central door lock, Daytime running light...  [\\n4 (Green)\\n]   \n",
       "3  [ABS, Alarm system, Central door lock with rem...             None   \n",
       "4  [ABS, Central door lock, Driver-side airbag, E...             None   \n",
       "\n",
       "     Gears Country version  \n",
       "0     None            None  \n",
       "1  [\\n7\\n]            None  \n",
       "2     None            None  \n",
       "3  [\\n6\\n]            None  \n",
       "4     None   [\\nGermany\\n]  "
      ]
     },
     "execution_count": 4,
     "metadata": {},
     "output_type": "execute_result"
    }
   ],
   "source": [
    "df.head()"
   ]
  },
  {
   "cell_type": "markdown",
   "id": "30ba314b",
   "metadata": {},
   "source": [
    "### Öncelikle Dublicate satırları düşüyoruz. "
   ]
  },
  {
   "cell_type": "code",
   "execution_count": 5,
   "id": "48d2c04f",
   "metadata": {},
   "outputs": [
    {
     "data": {
      "text/plain": [
       "(15919, 34)"
      ]
     },
     "execution_count": 5,
     "metadata": {},
     "output_type": "execute_result"
    }
   ],
   "source": [
    "df.shape"
   ]
  },
  {
   "cell_type": "code",
   "execution_count": 6,
   "id": "77ab4d13",
   "metadata": {},
   "outputs": [
    {
     "data": {
      "text/plain": [
       "(15919, 34)"
      ]
     },
     "execution_count": 6,
     "metadata": {},
     "output_type": "execute_result"
    }
   ],
   "source": [
    "df.shape"
   ]
  },
  {
   "cell_type": "markdown",
   "id": "3cae7617",
   "metadata": {},
   "source": [
    "### make_model \n",
    "**Bu sütunda yer alan veriler üzerinde herhangi bir cleaning işlemi yapmaya gerek yok.**"
   ]
  },
  {
   "cell_type": "code",
   "execution_count": 7,
   "id": "113aa3c7",
   "metadata": {},
   "outputs": [
    {
     "data": {
      "text/plain": [
       "8596       Opel Corsa\n",
       "10030      Opel Corsa\n",
       "3153          Audi A3\n",
       "13581    Renault Clio\n",
       "93            Audi A1\n",
       "Name: make_model, dtype: object"
      ]
     },
     "execution_count": 7,
     "metadata": {},
     "output_type": "execute_result"
    }
   ],
   "source": [
    "df.make_model.sample(5)\n",
    "    "
   ]
  },
  {
   "cell_type": "code",
   "execution_count": 8,
   "id": "0172401a",
   "metadata": {},
   "outputs": [
    {
     "data": {
      "text/plain": [
       "0"
      ]
     },
     "execution_count": 8,
     "metadata": {},
     "output_type": "execute_result"
    }
   ],
   "source": [
    "df.make_model.isnull().sum()"
   ]
  },
  {
   "cell_type": "markdown",
   "id": "32c298a8",
   "metadata": {},
   "source": [
    "### body_type\n",
    "**bu sütun üzerinde data cleaning işlemi yapmaya gerek yok."
   ]
  },
  {
   "cell_type": "code",
   "execution_count": 9,
   "id": "d819c4a5",
   "metadata": {},
   "outputs": [
    {
     "data": {
      "text/plain": [
       "60"
      ]
     },
     "execution_count": 9,
     "metadata": {},
     "output_type": "execute_result"
    }
   ],
   "source": [
    "df.body_type.isnull().sum()"
   ]
  },
  {
   "cell_type": "code",
   "execution_count": 10,
   "id": "bb1b9d5d",
   "metadata": {},
   "outputs": [
    {
     "data": {
      "text/plain": [
       "Sedans           7903\n",
       "Station wagon    3553\n",
       "Compact          3153\n",
       "Van               783\n",
       "Other             290\n",
       "Transporter        88\n",
       "Off-Road           56\n",
       "Coupe              25\n",
       "Convertible         8\n",
       "Name: body_type, dtype: int64"
      ]
     },
     "execution_count": 10,
     "metadata": {},
     "output_type": "execute_result"
    }
   ],
   "source": [
    "df.body_type.value_counts()\n"
   ]
  },
  {
   "cell_type": "code",
   "execution_count": 11,
   "id": "a7ff4a2f",
   "metadata": {},
   "outputs": [
    {
     "data": {
      "text/plain": [
       "Index(['make_model', 'body_type', 'price', 'vat', 'km', 'registration',\n",
       "       'prev_owner', 'hp', 'Type', 'Next Inspection', 'Inspection new',\n",
       "       'Warranty', 'Make', 'Model', 'First Registration', 'Body Color',\n",
       "       'Upholstery', 'Body', 'Nr. of Doors', 'Nr. of Seats', 'Gearing Type',\n",
       "       'Displacement', 'Weight', 'Drive chain', 'Consumption', 'CO2 Emission',\n",
       "       'Emission Class', '\\nComfort & Convenience\\n',\n",
       "       '\\nEntertainment & Media\\n', '\\nExtras\\n', '\\nSafety & Security\\n',\n",
       "       'Emission Label', 'Gears', 'Country version'],\n",
       "      dtype='object')"
      ]
     },
     "execution_count": 11,
     "metadata": {},
     "output_type": "execute_result"
    }
   ],
   "source": [
    "df.columns"
   ]
  },
  {
   "cell_type": "markdown",
   "id": "b9f10515",
   "metadata": {},
   "source": [
    "### price"
   ]
  },
  {
   "cell_type": "markdown",
   "id": "dd684e84",
   "metadata": {},
   "source": [
    "**Bu sütunda integer değerler var ve veri tipi de integer. Null değerler yok fakat outlier değerler var.**"
   ]
  },
  {
   "cell_type": "code",
   "execution_count": 12,
   "id": "3433dbe2",
   "metadata": {},
   "outputs": [
    {
     "data": {
      "text/plain": [
       "dtype('int64')"
      ]
     },
     "execution_count": 12,
     "metadata": {},
     "output_type": "execute_result"
    }
   ],
   "source": [
    "df.price.dtype"
   ]
  },
  {
   "cell_type": "code",
   "execution_count": 13,
   "id": "cb4443ac",
   "metadata": {},
   "outputs": [
    {
     "data": {
      "text/plain": [
       "0"
      ]
     },
     "execution_count": 13,
     "metadata": {},
     "output_type": "execute_result"
    }
   ],
   "source": [
    "df.price.isnull().sum()"
   ]
  },
  {
   "cell_type": "code",
   "execution_count": 14,
   "id": "1c54f385",
   "metadata": {},
   "outputs": [],
   "source": [
    "min_price,max_price = min(df.price), max(df.price)"
   ]
  },
  {
   "cell_type": "code",
   "execution_count": 15,
   "id": "4006687a",
   "metadata": {},
   "outputs": [
    {
     "data": {
      "text/plain": [
       "[13, 74600]"
      ]
     },
     "execution_count": 15,
     "metadata": {},
     "output_type": "execute_result"
    }
   ],
   "source": [
    "[min_price,max_price]"
   ]
  },
  {
   "cell_type": "markdown",
   "id": "194b8652",
   "metadata": {},
   "source": [
    "**Outlier değerler var bunlar ile daha sonra ilgileneceğiz. Outlier değerleri tespit edip bunlar ile ilgili \n",
    "karar vereceğiz.**"
   ]
  },
  {
   "cell_type": "markdown",
   "id": "2a598ae0",
   "metadata": {},
   "source": [
    "### vat \n",
    "**bu sütunda yer alan değerler için web sitesini incelediğimiz zaman 2 farklı seçenek vardı.\n",
    "bunlardan null olanları false diğerlerini True yaptık.** "
   ]
  },
  {
   "cell_type": "code",
   "execution_count": 16,
   "id": "1acbd1c4",
   "metadata": {},
   "outputs": [
    {
     "data": {
      "text/plain": [
       "380      VAT deductible\n",
       "8340     VAT deductible\n",
       "14927              None\n",
       "979      VAT deductible\n",
       "10711              None\n",
       "Name: vat, dtype: object"
      ]
     },
     "execution_count": 16,
     "metadata": {},
     "output_type": "execute_result"
    }
   ],
   "source": [
    "df.vat.sample(5)"
   ]
  },
  {
   "cell_type": "code",
   "execution_count": 17,
   "id": "519cbffe",
   "metadata": {},
   "outputs": [
    {
     "data": {
      "text/plain": [
       "array(['VAT deductible', 'Price negotiable', None], dtype=object)"
      ]
     },
     "execution_count": 17,
     "metadata": {},
     "output_type": "execute_result"
    }
   ],
   "source": [
    "df.vat.unique()"
   ]
  },
  {
   "cell_type": "code",
   "execution_count": 18,
   "id": "b5ec0e36",
   "metadata": {},
   "outputs": [
    {
     "data": {
      "text/plain": [
       "VAT deductible      10980\n",
       "Price negotiable      426\n",
       "Name: vat, dtype: int64"
      ]
     },
     "execution_count": 18,
     "metadata": {},
     "output_type": "execute_result"
    }
   ],
   "source": [
    "df.vat.value_counts()"
   ]
  },
  {
   "cell_type": "code",
   "execution_count": 19,
   "id": "c3b809c9",
   "metadata": {},
   "outputs": [
    {
     "data": {
      "text/plain": [
       "4513"
      ]
     },
     "execution_count": 19,
     "metadata": {},
     "output_type": "execute_result"
    }
   ],
   "source": [
    "df.vat.isnull().sum()"
   ]
  },
  {
   "cell_type": "code",
   "execution_count": 20,
   "id": "108e0c9e",
   "metadata": {},
   "outputs": [
    {
     "data": {
      "text/plain": [
       "NoneType"
      ]
     },
     "execution_count": 20,
     "metadata": {},
     "output_type": "execute_result"
    }
   ],
   "source": [
    "type(df.vat[4])"
   ]
  },
  {
   "cell_type": "code",
   "execution_count": 21,
   "id": "eb19481b",
   "metadata": {},
   "outputs": [],
   "source": [
    "df.vat = df.vat.map(lambda x: False if x == None else True)"
   ]
  },
  {
   "cell_type": "code",
   "execution_count": 22,
   "id": "47a28bd6",
   "metadata": {},
   "outputs": [
    {
     "data": {
      "text/plain": [
       "True     11406\n",
       "False     4513\n",
       "Name: vat, dtype: int64"
      ]
     },
     "execution_count": 22,
     "metadata": {},
     "output_type": "execute_result"
    }
   ],
   "source": [
    "df.vat.value_counts()"
   ]
  },
  {
   "cell_type": "code",
   "execution_count": 23,
   "id": "684e20a4",
   "metadata": {},
   "outputs": [
    {
     "data": {
      "text/plain": [
       "False"
      ]
     },
     "execution_count": 23,
     "metadata": {},
     "output_type": "execute_result"
    }
   ],
   "source": [
    "np.nan == np.nan  # np.nan özel bir değer. kendisine bile eşit değil."
   ]
  },
  {
   "cell_type": "code",
   "execution_count": 24,
   "id": "e15663b8",
   "metadata": {},
   "outputs": [
    {
     "data": {
      "text/plain": [
       "float"
      ]
     },
     "execution_count": 24,
     "metadata": {},
     "output_type": "execute_result"
    }
   ],
   "source": [
    "type(np.nan)  # değer tipi olarak float döndürür."
   ]
  },
  {
   "cell_type": "markdown",
   "id": "9d1b7991",
   "metadata": {},
   "source": [
    "### km \n",
    "**sütunu string veri tipinde. Bu sütunu temizleyip integer veri tipine çevirmeliyiz.** "
   ]
  },
  {
   "cell_type": "code",
   "execution_count": 25,
   "id": "19a838ca",
   "metadata": {},
   "outputs": [
    {
     "data": {
      "text/plain": [
       "0        56,013 km\n",
       "1        80,000 km\n",
       "2        83,450 km\n",
       "3        73,000 km\n",
       "4        16,200 km\n",
       "           ...    \n",
       "15914         - km\n",
       "15915     9,900 km\n",
       "15916        15 km\n",
       "15917        10 km\n",
       "15918         - km\n",
       "Name: km, Length: 15919, dtype: object"
      ]
     },
     "execution_count": 25,
     "metadata": {},
     "output_type": "execute_result"
    }
   ],
   "source": [
    "df.km"
   ]
  },
  {
   "cell_type": "code",
   "execution_count": 26,
   "id": "7d164888",
   "metadata": {},
   "outputs": [],
   "source": [
    "df.km = df.km.str.replace(',','').str.strip(' km').replace('-', np.nan).astype(float)\n"
   ]
  },
  {
   "cell_type": "markdown",
   "id": "ee79ee7c",
   "metadata": {},
   "source": [
    "**km sütunu içinde yer alan non-integer ifadeler temizlendi. Yerlerine nan değerler atandı. Nan değerlerin yerine**\n",
    "**diğer sütunlar incelendikten sonra ortalama bir km değeri atamayı planlıyoruz. Şimdilik işlem yapılmadı.**"
   ]
  },
  {
   "cell_type": "code",
   "execution_count": 27,
   "id": "7650f9d4",
   "metadata": {},
   "outputs": [
    {
     "data": {
      "text/plain": [
       "1024"
      ]
     },
     "execution_count": 27,
     "metadata": {},
     "output_type": "execute_result"
    }
   ],
   "source": [
    "df.km.isnull().sum()"
   ]
  },
  {
   "cell_type": "code",
   "execution_count": 28,
   "id": "8e39f07a",
   "metadata": {},
   "outputs": [
    {
     "ename": "TypeError",
     "evalue": "unhashable type: 'list'",
     "output_type": "error",
     "traceback": [
      "\u001b[0;31m---------------------------------------------------------------------------\u001b[0m",
      "\u001b[0;31mTypeError\u001b[0m                                 Traceback (most recent call last)",
      "\u001b[0;32mpandas/_libs/hashtable_class_helper.pxi\u001b[0m in \u001b[0;36mpandas._libs.hashtable.PyObjectHashTable.map_locations\u001b[0;34m()\u001b[0m\n",
      "\u001b[0;31mTypeError\u001b[0m: unhashable type: 'list'"
     ]
    },
    {
     "name": "stderr",
     "output_type": "stream",
     "text": [
      "Exception ignored in: 'pandas._libs.index.IndexEngine._call_map_locations'\n",
      "Traceback (most recent call last):\n",
      "  File \"pandas/_libs/hashtable_class_helper.pxi\", line 4588, in pandas._libs.hashtable.PyObjectHashTable.map_locations\n",
      "TypeError: unhashable type: 'list'\n"
     ]
    },
    {
     "data": {
      "text/plain": [
       "[\\n, 2019, \\n]    147\n",
       "[\\n, 2018, \\n]     38\n",
       "[\\n, 2017, \\n]      1\n",
       "Name: First Registration, dtype: int64"
      ]
     },
     "execution_count": 28,
     "metadata": {},
     "output_type": "execute_result"
    }
   ],
   "source": [
    "df[df.km.isnull()]['First Registration'].value_counts()"
   ]
  },
  {
   "cell_type": "markdown",
   "id": "23450876",
   "metadata": {},
   "source": [
    "### registration Sütunu"
   ]
  },
  {
   "cell_type": "markdown",
   "id": "461d07c7",
   "metadata": {},
   "source": [
    "**Veri tipini datetime tipine çevirmeliyiz. Çünkü tarih verisi içeriyor.** "
   ]
  },
  {
   "cell_type": "code",
   "execution_count": 29,
   "id": "6a922f99",
   "metadata": {},
   "outputs": [
    {
     "data": {
      "text/plain": [
       "0    01/2016\n",
       "1    03/2017\n",
       "2    02/2016\n",
       "3    08/2016\n",
       "4    05/2016\n",
       "Name: registration, dtype: object"
      ]
     },
     "execution_count": 29,
     "metadata": {},
     "output_type": "execute_result"
    }
   ],
   "source": [
    "df.registration.head()"
   ]
  },
  {
   "cell_type": "code",
   "execution_count": 30,
   "id": "de6516db",
   "metadata": {},
   "outputs": [
    {
     "data": {
      "text/plain": [
       "0"
      ]
     },
     "execution_count": 30,
     "metadata": {},
     "output_type": "execute_result"
    }
   ],
   "source": [
    "df.registration.isnull().sum()"
   ]
  },
  {
   "cell_type": "code",
   "execution_count": 31,
   "id": "02639e76",
   "metadata": {},
   "outputs": [],
   "source": [
    "df.registration = df.registration.replace('-/-', np.nan)\n"
   ]
  },
  {
   "cell_type": "code",
   "execution_count": 32,
   "id": "2b9073a4",
   "metadata": {},
   "outputs": [],
   "source": [
    "df.registration = pd.to_datetime(df.registration)\n"
   ]
  },
  {
   "cell_type": "code",
   "execution_count": 33,
   "id": "12b88e04",
   "metadata": {},
   "outputs": [
    {
     "data": {
      "text/plain": [
       "1597"
      ]
     },
     "execution_count": 33,
     "metadata": {},
     "output_type": "execute_result"
    }
   ],
   "source": [
    "df[\"First Registration\"].isnull().sum()"
   ]
  },
  {
   "cell_type": "code",
   "execution_count": 34,
   "id": "2706c1dd",
   "metadata": {},
   "outputs": [
    {
     "data": {
      "text/plain": [
       "1597"
      ]
     },
     "execution_count": 34,
     "metadata": {},
     "output_type": "execute_result"
    }
   ],
   "source": [
    "df.registration.isnull().sum()"
   ]
  },
  {
   "cell_type": "code",
   "execution_count": 35,
   "id": "06a7f91c",
   "metadata": {},
   "outputs": [
    {
     "data": {
      "text/html": [
       "<div>\n",
       "<style scoped>\n",
       "    .dataframe tbody tr th:only-of-type {\n",
       "        vertical-align: middle;\n",
       "    }\n",
       "\n",
       "    .dataframe tbody tr th {\n",
       "        vertical-align: top;\n",
       "    }\n",
       "\n",
       "    .dataframe thead th {\n",
       "        text-align: right;\n",
       "    }\n",
       "</style>\n",
       "<table border=\"1\" class=\"dataframe\">\n",
       "  <thead>\n",
       "    <tr style=\"text-align: right;\">\n",
       "      <th></th>\n",
       "      <th>First Registration</th>\n",
       "      <th>registration</th>\n",
       "    </tr>\n",
       "  </thead>\n",
       "  <tbody>\n",
       "    <tr>\n",
       "      <th>15381</th>\n",
       "      <td>[\\n, 2017, \\n]</td>\n",
       "      <td>2017-07-01</td>\n",
       "    </tr>\n",
       "    <tr>\n",
       "      <th>6256</th>\n",
       "      <td>[\\n, 2016, \\n]</td>\n",
       "      <td>2016-01-01</td>\n",
       "    </tr>\n",
       "    <tr>\n",
       "      <th>7051</th>\n",
       "      <td>[\\n, 2018, \\n]</td>\n",
       "      <td>2018-08-01</td>\n",
       "    </tr>\n",
       "    <tr>\n",
       "      <th>6805</th>\n",
       "      <td>[\\n, 2017, \\n]</td>\n",
       "      <td>2017-05-01</td>\n",
       "    </tr>\n",
       "    <tr>\n",
       "      <th>2278</th>\n",
       "      <td>[\\n, 2019, \\n]</td>\n",
       "      <td>2019-03-01</td>\n",
       "    </tr>\n",
       "  </tbody>\n",
       "</table>\n",
       "</div>"
      ],
      "text/plain": [
       "      First Registration registration\n",
       "15381     [\\n, 2017, \\n]   2017-07-01\n",
       "6256      [\\n, 2016, \\n]   2016-01-01\n",
       "7051      [\\n, 2018, \\n]   2018-08-01\n",
       "6805      [\\n, 2017, \\n]   2017-05-01\n",
       "2278      [\\n, 2019, \\n]   2019-03-01"
      ]
     },
     "execution_count": 35,
     "metadata": {},
     "output_type": "execute_result"
    }
   ],
   "source": [
    "df[['First Registration','registration']].sample(5)\n",
    "# first registration sütunun  ile registration sütunu benzer değerleri içerdiği için\n",
    "# first registration sütunu drop edilebilir"
   ]
  },
  {
   "cell_type": "code",
   "execution_count": 36,
   "id": "dbde183e",
   "metadata": {},
   "outputs": [],
   "source": [
    "df.drop('First Registration',axis=1,inplace=True)"
   ]
  },
  {
   "cell_type": "markdown",
   "id": "7402a94f",
   "metadata": {},
   "source": [
    "###  registration sütununda yer alan nan değerler için daha sonra tekrar bakılacak."
   ]
  },
  {
   "cell_type": "code",
   "execution_count": null,
   "id": "26a26a5d",
   "metadata": {},
   "outputs": [],
   "source": []
  },
  {
   "cell_type": "markdown",
   "id": "f42ec5a5",
   "metadata": {},
   "source": [
    "### 'prev_owner' sütunu\n",
    "**arabanın kaçıncı el olduğu bilgisi yer alıyor. Bu sütunun daha anlamlı hale gelmesi için integer'a çevirilebilir.**"
   ]
  },
  {
   "cell_type": "code",
   "execution_count": 37,
   "id": "92d3b688",
   "metadata": {},
   "outputs": [
    {
     "data": {
      "text/plain": [
       "0    2 previous owners\n",
       "1                 None\n",
       "2     1 previous owner\n",
       "3     1 previous owner\n",
       "4     1 previous owner\n",
       "Name: prev_owner, dtype: object"
      ]
     },
     "execution_count": 37,
     "metadata": {},
     "output_type": "execute_result"
    }
   ],
   "source": [
    "df.prev_owner.head()"
   ]
  },
  {
   "cell_type": "code",
   "execution_count": 38,
   "id": "74c6c111",
   "metadata": {},
   "outputs": [
    {
     "data": {
      "text/plain": [
       "array(['2 previous owners', None, '1 previous owner', '3 previous owners',\n",
       "       '4 previous owners'], dtype=object)"
      ]
     },
     "execution_count": 38,
     "metadata": {},
     "output_type": "execute_result"
    }
   ],
   "source": [
    "df.prev_owner.unique()"
   ]
  },
  {
   "cell_type": "code",
   "execution_count": 39,
   "id": "69a20c5b",
   "metadata": {},
   "outputs": [
    {
     "data": {
      "text/plain": [
       "6828"
      ]
     },
     "execution_count": 39,
     "metadata": {},
     "output_type": "execute_result"
    }
   ],
   "source": [
    "df.prev_owner.isnull().sum()"
   ]
  },
  {
   "cell_type": "code",
   "execution_count": 40,
   "id": "2f70e6fa",
   "metadata": {},
   "outputs": [],
   "source": [
    "df.prev_owner = df.prev_owner.str.strip('previous owners').astype(float)\n"
   ]
  },
  {
   "cell_type": "code",
   "execution_count": 41,
   "id": "1ee98d64",
   "metadata": {},
   "outputs": [],
   "source": [
    "# df.prev_owner.map(lambda x: x.split()[0],na_action='ignore').astype(float)"
   ]
  },
  {
   "cell_type": "markdown",
   "id": "0dceb7e4",
   "metadata": {},
   "source": [
    "### hp sütunu\n",
    "** bu sütunu integer ya da float a çevirebiliriz.** "
   ]
  },
  {
   "cell_type": "code",
   "execution_count": 42,
   "id": "e3395e73",
   "metadata": {
    "scrolled": true
   },
   "outputs": [
    {
     "data": {
      "text/plain": [
       "85 kW     2542\n",
       "66 kW     2122\n",
       "81 kW     1402\n",
       "100 kW    1308\n",
       "110 kW    1112\n",
       "          ... \n",
       "75 kW        1\n",
       "239 kW       1\n",
       "9 kW         1\n",
       "132 kW       1\n",
       "44 kW        1\n",
       "Name: hp, Length: 81, dtype: int64"
      ]
     },
     "execution_count": 42,
     "metadata": {},
     "output_type": "execute_result"
    }
   ],
   "source": [
    "df.hp.value_counts()"
   ]
  },
  {
   "cell_type": "code",
   "execution_count": 43,
   "id": "673d6c60",
   "metadata": {},
   "outputs": [
    {
     "data": {
      "text/plain": [
       "0         66 kW\n",
       "1        141 kW\n",
       "2         85 kW\n",
       "3         66 kW\n",
       "4         66 kW\n",
       "          ...  \n",
       "15914    147 kW\n",
       "15915    165 kW\n",
       "15916    146 kW\n",
       "15917    147 kW\n",
       "15918    165 kW\n",
       "Name: hp, Length: 15919, dtype: object"
      ]
     },
     "execution_count": 43,
     "metadata": {},
     "output_type": "execute_result"
    }
   ],
   "source": [
    "df.hp"
   ]
  },
  {
   "cell_type": "code",
   "execution_count": 44,
   "id": "fd77d6a6",
   "metadata": {},
   "outputs": [],
   "source": [
    "df.hp = df.hp.str.strip(\" kW\").replace(\"-\",np.nan).astype(float)"
   ]
  },
  {
   "cell_type": "code",
   "execution_count": 45,
   "id": "20c544a5",
   "metadata": {},
   "outputs": [
    {
     "data": {
      "text/plain": [
       "88"
      ]
     },
     "execution_count": 45,
     "metadata": {},
     "output_type": "execute_result"
    }
   ],
   "source": [
    "df.hp.isnull().sum()"
   ]
  },
  {
   "cell_type": "markdown",
   "id": "586c0a40",
   "metadata": {},
   "source": [
    "### Type sütunu"
   ]
  },
  {
   "cell_type": "code",
   "execution_count": 46,
   "id": "0ccc4b28",
   "metadata": {},
   "outputs": [
    {
     "data": {
      "text/plain": [
       "0                  [, Used, , Diesel (Particulate Filter)]\n",
       "1                                     [, Used, , Gasoline]\n",
       "2                  [, Used, , Diesel (Particulate Filter)]\n",
       "3                  [, Used, , Diesel (Particulate Filter)]\n",
       "4                  [, Used, , Diesel (Particulate Filter)]\n",
       "                               ...                        \n",
       "15914               [, New, , Diesel (Particulate Filter)]\n",
       "15915    [, Used, , Super 95 / Super Plus 98 (Particula...\n",
       "15916                         [, Pre-registered, , Diesel]\n",
       "15917                         [, Pre-registered, , Diesel]\n",
       "15918                        [, Demonstration, , Super 95]\n",
       "Name: Type, Length: 15919, dtype: object"
      ]
     },
     "execution_count": 46,
     "metadata": {},
     "output_type": "execute_result"
    }
   ],
   "source": [
    "df.Type"
   ]
  },
  {
   "cell_type": "code",
   "execution_count": 47,
   "id": "5528b16d",
   "metadata": {},
   "outputs": [
    {
     "data": {
      "text/plain": [
       "8234     Pre-registered\n",
       "14310              Used\n",
       "10657              Used\n",
       "13869     Demonstration\n",
       "8834     Employee's car\n",
       "Name: Type, dtype: object"
      ]
     },
     "execution_count": 47,
     "metadata": {},
     "output_type": "execute_result"
    }
   ],
   "source": [
    "df.Type.map(lambda x: x[1],na_action='ignore').sample(5)\n",
    "# siteyi incelediğimiz bu bilgilerin \"Vehicle condition\" olarak karşımıza çıktığını görmekteyiz. Serda\n",
    "# bu nedenle Vehicle condition sütunu oluşturup type sütununu parçalıyoruz."
   ]
  },
  {
   "cell_type": "code",
   "execution_count": 48,
   "id": "e86a49a5",
   "metadata": {},
   "outputs": [],
   "source": [
    "df[\"Vehicle condition\"] = df.Type.map(lambda x: x[1],na_action='ignore')\n"
   ]
  },
  {
   "cell_type": "code",
   "execution_count": 49,
   "id": "d7d0c20a",
   "metadata": {},
   "outputs": [
    {
     "data": {
      "text/plain": [
       "0    Used\n",
       "1    Used\n",
       "2    Used\n",
       "3    Used\n",
       "4    Used\n",
       "Name: Vehicle condition, dtype: object"
      ]
     },
     "execution_count": 49,
     "metadata": {},
     "output_type": "execute_result"
    }
   ],
   "source": [
    "df[\"Vehicle condition\"].head()"
   ]
  },
  {
   "cell_type": "code",
   "execution_count": 50,
   "id": "db7e38bd",
   "metadata": {},
   "outputs": [
    {
     "data": {
      "text/plain": [
       "4819"
      ]
     },
     "execution_count": 50,
     "metadata": {},
     "output_type": "execute_result"
    }
   ],
   "source": [
    "df.Type.map(lambda x: x[3],na_action='ignore').str.contains(\"Particulate Filter\").sum()\n",
    "# particulate filter içeren satır sayısı"
   ]
  },
  {
   "cell_type": "code",
   "execution_count": 51,
   "id": "c296ea28",
   "metadata": {
    "scrolled": false
   },
   "outputs": [],
   "source": [
    "df[\"particul_filter\"] = df.Type.map(lambda x: x[3], na_action='ignore').str.extract(\"\\(([^)]+)\").fillna(False)\n",
    "# particule filter için regex denemesi () parantez içinde yer yazan 'particulate filter' string ifadeyi almak için\n",
    "# içinde particulate filter yazmayan nan değerlere False atadık"
   ]
  },
  {
   "cell_type": "code",
   "execution_count": 52,
   "id": "cb42190e",
   "metadata": {},
   "outputs": [],
   "source": [
    "df.particul_filter = df.particul_filter.map(lambda x: True if x else False)\n",
    "# içinde particulate filter yazanları True yazmayanlar ise zaten false"
   ]
  },
  {
   "cell_type": "code",
   "execution_count": 53,
   "id": "20d1c0f7",
   "metadata": {},
   "outputs": [
    {
     "data": {
      "text/plain": [
       "0         True\n",
       "1        False\n",
       "2         True\n",
       "3         True\n",
       "4         True\n",
       "         ...  \n",
       "15914     True\n",
       "15915     True\n",
       "15916    False\n",
       "15917    False\n",
       "15918    False\n",
       "Name: particul_filter, Length: 15919, dtype: bool"
      ]
     },
     "execution_count": 53,
     "metadata": {},
     "output_type": "execute_result"
    }
   ],
   "source": [
    "df.particul_filter"
   ]
  },
  {
   "cell_type": "code",
   "execution_count": 54,
   "id": "ddff5e4f",
   "metadata": {},
   "outputs": [],
   "source": [
    "df[\"Fuel Type\"] = df.Type.map(lambda x: x[3],na_action='ignore').str.extract(\"([^(]+)\")\n",
    "# ( karakterinden önceki her şeyi al \n",
    "# bu sayede araçların yakıt tiplerini çekmiş olacağız."
   ]
  },
  {
   "cell_type": "code",
   "execution_count": 55,
   "id": "c7f1aad8",
   "metadata": {},
   "outputs": [
    {
     "data": {
      "text/plain": [
       "0                          Diesel \n",
       "1                         Gasoline\n",
       "2                          Diesel \n",
       "3                          Diesel \n",
       "4                          Diesel \n",
       "                   ...            \n",
       "15914                      Diesel \n",
       "15915    Super 95 / Super Plus 98 \n",
       "15916                       Diesel\n",
       "15917                       Diesel\n",
       "15918                     Super 95\n",
       "Name: Fuel Type, Length: 15919, dtype: object"
      ]
     },
     "execution_count": 55,
     "metadata": {},
     "output_type": "execute_result"
    }
   ],
   "source": [
    "df[\"Fuel Type\"]"
   ]
  },
  {
   "cell_type": "code",
   "execution_count": 56,
   "id": "d3b0b147",
   "metadata": {},
   "outputs": [
    {
     "data": {
      "text/plain": [
       "0                  [, Used, , Diesel (Particulate Filter)]\n",
       "1                                     [, Used, , Gasoline]\n",
       "2                  [, Used, , Diesel (Particulate Filter)]\n",
       "3                  [, Used, , Diesel (Particulate Filter)]\n",
       "4                  [, Used, , Diesel (Particulate Filter)]\n",
       "                               ...                        \n",
       "15914               [, New, , Diesel (Particulate Filter)]\n",
       "15915    [, Used, , Super 95 / Super Plus 98 (Particula...\n",
       "15916                         [, Pre-registered, , Diesel]\n",
       "15917                         [, Pre-registered, , Diesel]\n",
       "15918                        [, Demonstration, , Super 95]\n",
       "Name: Type, Length: 15919, dtype: object"
      ]
     },
     "execution_count": 56,
     "metadata": {},
     "output_type": "execute_result"
    }
   ],
   "source": [
    "df.Type"
   ]
  },
  {
   "cell_type": "code",
   "execution_count": 57,
   "id": "d8250538",
   "metadata": {},
   "outputs": [],
   "source": [
    "# Type sütunundan Vehicle condition,  Fuel Type ve particul_filter olmak üzere yeni kolanlar oluşturduk\n",
    "# Type sütunu artık düşebiliriz\n",
    "df.drop('Type',axis=1, inplace=True)"
   ]
  },
  {
   "cell_type": "code",
   "execution_count": 58,
   "id": "f3795803",
   "metadata": {},
   "outputs": [
    {
     "data": {
      "text/plain": [
       "Index(['make_model', 'body_type', 'price', 'vat', 'km', 'registration',\n",
       "       'prev_owner', 'hp', 'Next Inspection', 'Inspection new', 'Warranty',\n",
       "       'Make', 'Model', 'Body Color', 'Upholstery', 'Body', 'Nr. of Doors',\n",
       "       'Nr. of Seats', 'Gearing Type', 'Displacement', 'Weight', 'Drive chain',\n",
       "       'Consumption', 'CO2 Emission', 'Emission Class',\n",
       "       '\\nComfort & Convenience\\n', '\\nEntertainment & Media\\n', '\\nExtras\\n',\n",
       "       '\\nSafety & Security\\n', 'Emission Label', 'Gears', 'Country version',\n",
       "       'Vehicle condition', 'particul_filter', 'Fuel Type'],\n",
       "      dtype='object')"
      ]
     },
     "execution_count": 58,
     "metadata": {},
     "output_type": "execute_result"
    }
   ],
   "source": [
    "df.columns"
   ]
  },
  {
   "cell_type": "markdown",
   "id": "3b9caca2",
   "metadata": {},
   "source": [
    "### 'Next Inspection' sütunu"
   ]
  },
  {
   "cell_type": "code",
   "execution_count": 59,
   "id": "9098d640",
   "metadata": {},
   "outputs": [
    {
     "data": {
      "text/plain": [
       "Index(['make_model', 'body_type', 'price', 'vat', 'km', 'registration',\n",
       "       'prev_owner', 'hp', 'Next Inspection', 'Inspection new', 'Warranty',\n",
       "       'Make', 'Model', 'Body Color', 'Upholstery', 'Body', 'Nr. of Doors',\n",
       "       'Nr. of Seats', 'Gearing Type', 'Displacement', 'Weight', 'Drive chain',\n",
       "       'Consumption', 'CO2 Emission', 'Emission Class',\n",
       "       '\\nComfort & Convenience\\n', '\\nEntertainment & Media\\n', '\\nExtras\\n',\n",
       "       '\\nSafety & Security\\n', 'Emission Label', 'Gears', 'Country version',\n",
       "       'Vehicle condition', 'particul_filter', 'Fuel Type'],\n",
       "      dtype='object')"
      ]
     },
     "execution_count": 59,
     "metadata": {},
     "output_type": "execute_result"
    }
   ],
   "source": [
    "df.columns"
   ]
  },
  {
   "cell_type": "code",
   "execution_count": 60,
   "id": "8bc453cb",
   "metadata": {},
   "outputs": [
    {
     "data": {
      "text/plain": [
       "12384"
      ]
     },
     "execution_count": 60,
     "metadata": {},
     "output_type": "execute_result"
    }
   ],
   "source": [
    "df['Next Inspection'].isnull().sum()"
   ]
  },
  {
   "cell_type": "code",
   "execution_count": 61,
   "id": "4ddb3c27",
   "metadata": {},
   "outputs": [],
   "source": [
    "# null sayısına bakılırsa bu sütunu düşebiliriz.\n"
   ]
  },
  {
   "cell_type": "code",
   "execution_count": 62,
   "id": "5b42fd40",
   "metadata": {},
   "outputs": [],
   "source": [
    "df.drop('Next Inspection',axis=1, inplace=True)"
   ]
  },
  {
   "cell_type": "markdown",
   "id": "9ef355b6",
   "metadata": {},
   "source": [
    "### 'Inspection new' Sütunu"
   ]
  },
  {
   "cell_type": "code",
   "execution_count": 63,
   "id": "2a0c67be",
   "metadata": {},
   "outputs": [
    {
     "data": {
      "text/plain": [
       "11987"
      ]
     },
     "execution_count": 63,
     "metadata": {},
     "output_type": "execute_result"
    }
   ],
   "source": [
    "df['Inspection new'].isnull().sum()"
   ]
  },
  {
   "cell_type": "code",
   "execution_count": 64,
   "id": "c0c7bae8",
   "metadata": {},
   "outputs": [],
   "source": [
    "# null sayısına bakılırsa bu sütunu da düşebiliriz.\n",
    "df.drop('Inspection new',axis=1,inplace = True)"
   ]
  },
  {
   "cell_type": "markdown",
   "id": "98167030",
   "metadata": {},
   "source": [
    "### 'Warranty' sütunu"
   ]
  },
  {
   "cell_type": "code",
   "execution_count": 65,
   "id": "c557db8a",
   "metadata": {},
   "outputs": [
    {
     "data": {
      "text/plain": [
       "5420"
      ]
     },
     "execution_count": 65,
     "metadata": {},
     "output_type": "execute_result"
    }
   ],
   "source": [
    "df.Warranty.isnull().sum()"
   ]
  },
  {
   "cell_type": "code",
   "execution_count": 66,
   "id": "9e845bc6",
   "metadata": {},
   "outputs": [
    {
     "data": {
      "text/plain": [
       "7703"
      ]
     },
     "execution_count": 66,
     "metadata": {},
     "output_type": "execute_result"
    }
   ],
   "source": [
    "sum(df.Warranty == \"\")"
   ]
  },
  {
   "cell_type": "code",
   "execution_count": 67,
   "id": "3a3effc7",
   "metadata": {},
   "outputs": [
    {
     "data": {
      "text/plain": [
       "(7703, 33)"
      ]
     },
     "execution_count": 67,
     "metadata": {},
     "output_type": "execute_result"
    }
   ],
   "source": [
    "df[df.Warranty == \"\"].shape"
   ]
  },
  {
   "cell_type": "code",
   "execution_count": 68,
   "id": "76735176",
   "metadata": {},
   "outputs": [],
   "source": [
    "# null ve \"\" ifadeleri 13000 den fazla. Bu sütunun neredeyse tamamı da null. Düşülebilir. \n",
    "df.drop('Warranty',axis=1,inplace=True)"
   ]
  },
  {
   "cell_type": "code",
   "execution_count": 69,
   "id": "e3cae56d",
   "metadata": {},
   "outputs": [
    {
     "data": {
      "text/plain": [
       "Index(['make_model', 'body_type', 'price', 'vat', 'km', 'registration',\n",
       "       'prev_owner', 'hp', 'Make', 'Model', 'Body Color', 'Upholstery', 'Body',\n",
       "       'Nr. of Doors', 'Nr. of Seats', 'Gearing Type', 'Displacement',\n",
       "       'Weight', 'Drive chain', 'Consumption', 'CO2 Emission',\n",
       "       'Emission Class', '\\nComfort & Convenience\\n',\n",
       "       '\\nEntertainment & Media\\n', '\\nExtras\\n', '\\nSafety & Security\\n',\n",
       "       'Emission Label', 'Gears', 'Country version', 'Vehicle condition',\n",
       "       'particul_filter', 'Fuel Type'],\n",
       "      dtype='object')"
      ]
     },
     "execution_count": 69,
     "metadata": {},
     "output_type": "execute_result"
    }
   ],
   "source": [
    "df.columns"
   ]
  },
  {
   "cell_type": "markdown",
   "id": "88255ecb",
   "metadata": {},
   "source": [
    "### Make ve Model Sütunları"
   ]
  },
  {
   "cell_type": "code",
   "execution_count": 70,
   "id": "f4116897",
   "metadata": {},
   "outputs": [],
   "source": [
    "df.Make = df.Make.str.strip(\"\\n\")"
   ]
  },
  {
   "cell_type": "code",
   "execution_count": 71,
   "id": "6110fd88",
   "metadata": {},
   "outputs": [
    {
     "data": {
      "text/plain": [
       "0           Audi\n",
       "1           Audi\n",
       "2           Audi\n",
       "3           Audi\n",
       "4           Audi\n",
       "          ...   \n",
       "15914    Renault\n",
       "15915    Renault\n",
       "15916    Renault\n",
       "15917    Renault\n",
       "15918    Renault\n",
       "Name: Make, Length: 15919, dtype: object"
      ]
     },
     "execution_count": 71,
     "metadata": {},
     "output_type": "execute_result"
    }
   ],
   "source": [
    "df.Make"
   ]
  },
  {
   "cell_type": "code",
   "execution_count": 72,
   "id": "e8c5b3aa",
   "metadata": {},
   "outputs": [],
   "source": [
    "df.Model = df.Model.map(lambda x: x[1],na_action='ignore')"
   ]
  },
  {
   "cell_type": "markdown",
   "id": "aac44f0c",
   "metadata": {},
   "source": [
    "### 'Body Color' Sütunu"
   ]
  },
  {
   "cell_type": "code",
   "execution_count": 73,
   "id": "22b6ed3d",
   "metadata": {},
   "outputs": [],
   "source": [
    "df['Body Color'] = df['Body Color'].map(lambda x: x[1],na_action='ignore')"
   ]
  },
  {
   "cell_type": "code",
   "execution_count": 74,
   "id": "a26c6271",
   "metadata": {},
   "outputs": [
    {
     "data": {
      "text/plain": [
       "0        Black\n",
       "1          Red\n",
       "2        Black\n",
       "3        Brown\n",
       "4        Black\n",
       "         ...  \n",
       "15914     Grey\n",
       "15915     Grey\n",
       "15916    White\n",
       "15917     Grey\n",
       "15918     Grey\n",
       "Name: Body Color, Length: 15919, dtype: object"
      ]
     },
     "execution_count": 74,
     "metadata": {},
     "output_type": "execute_result"
    }
   ],
   "source": [
    "df['Body Color']"
   ]
  },
  {
   "cell_type": "code",
   "execution_count": 75,
   "id": "eab723d0",
   "metadata": {},
   "outputs": [
    {
     "ename": "TypeError",
     "evalue": "unhashable type: 'list'",
     "output_type": "error",
     "traceback": [
      "\u001b[0;31m---------------------------------------------------------------------------\u001b[0m",
      "\u001b[0;31mTypeError\u001b[0m                                 Traceback (most recent call last)",
      "\u001b[0;32mpandas/_libs/hashtable_class_helper.pxi\u001b[0m in \u001b[0;36mpandas._libs.hashtable.PyObjectHashTable.map_locations\u001b[0;34m()\u001b[0m\n",
      "\u001b[0;31mTypeError\u001b[0m: unhashable type: 'list'"
     ]
    },
    {
     "name": "stderr",
     "output_type": "stream",
     "text": [
      "Exception ignored in: 'pandas._libs.index.IndexEngine._call_map_locations'\n",
      "Traceback (most recent call last):\n",
      "  File \"pandas/_libs/hashtable_class_helper.pxi\", line 4588, in pandas._libs.hashtable.PyObjectHashTable.map_locations\n",
      "TypeError: unhashable type: 'list'\n"
     ]
    },
    {
     "data": {
      "text/plain": [
       "[\\nCloth, Black\\n]           5821\n",
       "[\\nPart leather, Black\\n]    1121\n",
       "[\\nCloth\\n]                  1005\n",
       "[\\nCloth, Grey\\n]             891\n",
       "[\\nCloth, Other\\n]            639\n",
       "[\\nFull leather, Black\\n]     575\n",
       "[\\nBlack\\n]                   491\n",
       "[\\nGrey\\n]                    273\n",
       "[\\nOther, Other\\n]            182\n",
       "[\\nPart leather\\n]            140\n",
       "[\\nFull leather\\n]            139\n",
       "[\\nFull leather, Brown\\n]     116\n",
       "[\\nPart leather, Grey\\n]      116\n",
       "[\\nOther, Black\\n]            110\n",
       "[\\nFull leather, Other\\n]      72\n",
       "[\\nFull leather, Grey\\n]       67\n",
       "[\\nPart leather, Other\\n]      65\n",
       "[\\nOther\\n]                    56\n",
       "[\\nPart leather, Brown\\n]      50\n",
       "[\\nalcantara, Black\\n]         47\n",
       "[\\nVelour, Black\\n]            36\n",
       "[\\nFull leather, Beige\\n]      36\n",
       "[\\nCloth, Brown\\n]             28\n",
       "[\\nVelour\\n]                   16\n",
       "[\\nOther, Grey\\n]              15\n",
       "[\\nCloth, Beige\\n]             13\n",
       "[\\nBrown\\n]                    12\n",
       "[\\nCloth, Blue\\n]              12\n",
       "[\\nCloth, White\\n]              8\n",
       "[\\nVelour, Grey\\n]              8\n",
       "[\\nalcantara, Grey\\n]           6\n",
       "[\\nCloth, Red\\n]                5\n",
       "[\\nOther, Yellow\\n]             4\n",
       "[\\nPart leather, Red\\n]         3\n",
       "[\\nBeige\\n]                     3\n",
       "[\\nBlue\\n]                      2\n",
       "[\\nFull leather, Blue\\n]        2\n",
       "[\\nalcantara\\n]                 2\n",
       "[\\nalcantara, Other\\n]          2\n",
       "[\\nPart leather, Beige\\n]       2\n",
       "[\\nWhite\\n]                     2\n",
       "[\\nPart leather, White\\n]       2\n",
       "[\\nFull leather, Red\\n]         1\n",
       "[\\nOther, Brown\\n]              1\n",
       "[\\nCloth, Orange\\n]             1\n",
       "[\\nFull leather, White\\n]       1\n",
       "Name: Upholstery, dtype: int64"
      ]
     },
     "execution_count": 75,
     "metadata": {},
     "output_type": "execute_result"
    }
   ],
   "source": [
    "df.Upholstery.map(lambda x: x).value_counts()\n",
    "# bu sütunu incelediğimiz zaman arabaların koltuklarının deri mi kumaşmı olduğu bilgis ön plana çıkıyor. Ben fiyata etki edecek \n",
    "#olan kumaş mı deri mi kısmını alıp gerisini atacağım. "
   ]
  },
  {
   "cell_type": "code",
   "execution_count": 76,
   "id": "a83dd3ea",
   "metadata": {},
   "outputs": [
    {
     "data": {
      "text/plain": [
       "3720"
      ]
     },
     "execution_count": 76,
     "metadata": {},
     "output_type": "execute_result"
    }
   ],
   "source": [
    "df.Upholstery.isnull().sum()"
   ]
  },
  {
   "cell_type": "code",
   "execution_count": 77,
   "id": "14645137",
   "metadata": {},
   "outputs": [],
   "source": [
    "df.Upholstery = df.Upholstery.map(lambda x: x[0].strip(\"\\n\").split(\",\")[0],na_action='ignore')"
   ]
  },
  {
   "cell_type": "code",
   "execution_count": 78,
   "id": "28e6a36a",
   "metadata": {},
   "outputs": [
    {
     "data": {
      "text/plain": [
       "3720"
      ]
     },
     "execution_count": 78,
     "metadata": {},
     "output_type": "execute_result"
    }
   ],
   "source": [
    "df.Upholstery.isnull().sum()"
   ]
  },
  {
   "cell_type": "code",
   "execution_count": 79,
   "id": "efa58218",
   "metadata": {
    "scrolled": true
   },
   "outputs": [
    {
     "data": {
      "text/plain": [
       "array(['Cloth', None, 'Part leather', 'Full leather', 'Black', 'Other',\n",
       "       'alcantara', 'Velour', 'Grey', 'Blue', 'White', 'Beige', 'Brown'],\n",
       "      dtype=object)"
      ]
     },
     "execution_count": 79,
     "metadata": {},
     "output_type": "execute_result"
    }
   ],
   "source": [
    "df.Upholstery.unique()"
   ]
  },
  {
   "cell_type": "code",
   "execution_count": 80,
   "id": "b0198228",
   "metadata": {},
   "outputs": [
    {
     "data": {
      "text/plain": [
       "0               Cloth\n",
       "1               Cloth\n",
       "2               Cloth\n",
       "3                None\n",
       "4               Cloth\n",
       "             ...     \n",
       "15914            None\n",
       "15915           Cloth\n",
       "15916    Full leather\n",
       "15917    Part leather\n",
       "15918    Full leather\n",
       "Name: Upholstery, Length: 15919, dtype: object"
      ]
     },
     "execution_count": 80,
     "metadata": {},
     "output_type": "execute_result"
    }
   ],
   "source": [
    "df.Upholstery"
   ]
  },
  {
   "cell_type": "code",
   "execution_count": 81,
   "id": "493e7512",
   "metadata": {},
   "outputs": [],
   "source": [
    "color = ['Grey','Blue','White','Beige', 'Brown','Black','Other']"
   ]
  },
  {
   "cell_type": "code",
   "execution_count": 82,
   "id": "b2703489",
   "metadata": {},
   "outputs": [],
   "source": [
    "df.Upholstery = df.Upholstery.map(lambda x: None if x in color else x)"
   ]
  },
  {
   "cell_type": "code",
   "execution_count": 83,
   "id": "f4a9a906",
   "metadata": {},
   "outputs": [
    {
     "data": {
      "text/plain": [
       "0               Cloth\n",
       "1               Cloth\n",
       "2               Cloth\n",
       "3                None\n",
       "4               Cloth\n",
       "             ...     \n",
       "15914            None\n",
       "15915           Cloth\n",
       "15916    Full leather\n",
       "15917    Part leather\n",
       "15918    Full leather\n",
       "Name: Upholstery, Length: 15919, dtype: object"
      ]
     },
     "execution_count": 83,
     "metadata": {},
     "output_type": "execute_result"
    }
   ],
   "source": [
    "df.Upholstery"
   ]
  },
  {
   "cell_type": "code",
   "execution_count": 84,
   "id": "fdde9a4b",
   "metadata": {},
   "outputs": [
    {
     "data": {
      "text/plain": [
       "4871"
      ]
     },
     "execution_count": 84,
     "metadata": {},
     "output_type": "execute_result"
    }
   ],
   "source": [
    "df.Upholstery.isnull().sum()"
   ]
  },
  {
   "cell_type": "markdown",
   "id": "dcc523a2",
   "metadata": {},
   "source": [
    "### Body Sütunu"
   ]
  },
  {
   "cell_type": "code",
   "execution_count": 85,
   "id": "7dfcb6d3",
   "metadata": {},
   "outputs": [],
   "source": [
    "df.Body = df.Body.map(lambda x: x[1],na_action='ignore')"
   ]
  },
  {
   "cell_type": "markdown",
   "id": "07fe53e3",
   "metadata": {},
   "source": [
    "### 'Nr. of Doors' sütunu"
   ]
  },
  {
   "cell_type": "code",
   "execution_count": 86,
   "id": "d10742b9",
   "metadata": {},
   "outputs": [],
   "source": [
    "df['Nr. of Doors'] = df['Nr. of Doors'].map(lambda x: x[0].strip(\"\\n\"),na_action='ignore')"
   ]
  },
  {
   "cell_type": "code",
   "execution_count": 87,
   "id": "c0be4b79",
   "metadata": {},
   "outputs": [
    {
     "data": {
      "text/plain": [
       "5    11575\n",
       "4     3079\n",
       "3      832\n",
       "2      219\n",
       "7        1\n",
       "1        1\n",
       "Name: Nr. of Doors, dtype: int64"
      ]
     },
     "execution_count": 87,
     "metadata": {},
     "output_type": "execute_result"
    }
   ],
   "source": [
    "df['Nr. of Doors'].value_counts()"
   ]
  },
  {
   "cell_type": "code",
   "execution_count": 88,
   "id": "ee51654d",
   "metadata": {},
   "outputs": [
    {
     "data": {
      "text/plain": [
       "212"
      ]
     },
     "execution_count": 88,
     "metadata": {},
     "output_type": "execute_result"
    }
   ],
   "source": [
    "df['Nr. of Doors'].isnull().sum()"
   ]
  },
  {
   "cell_type": "code",
   "execution_count": 89,
   "id": "016bb30f",
   "metadata": {},
   "outputs": [],
   "source": [
    "df['Nr. of Doors'] = df['Nr. of Doors'].astype(float)"
   ]
  },
  {
   "cell_type": "code",
   "execution_count": 90,
   "id": "807cacc1",
   "metadata": {},
   "outputs": [
    {
     "data": {
      "text/plain": [
       "dtype('float64')"
      ]
     },
     "execution_count": 90,
     "metadata": {},
     "output_type": "execute_result"
    }
   ],
   "source": [
    "df['Nr. of Doors'].dtype"
   ]
  },
  {
   "cell_type": "markdown",
   "id": "379a74ad",
   "metadata": {},
   "source": [
    "### 'Gearing Type'"
   ]
  },
  {
   "cell_type": "code",
   "execution_count": 91,
   "id": "1efd4ddd",
   "metadata": {
    "scrolled": true
   },
   "outputs": [
    {
     "data": {
      "text/plain": [
       "array(['Automatic', 'Manual', 'Semi-automatic'], dtype=object)"
      ]
     },
     "execution_count": 91,
     "metadata": {},
     "output_type": "execute_result"
    }
   ],
   "source": [
    "df['Gearing Type'].map(lambda x: x[1],na_action='ignore').unique()"
   ]
  },
  {
   "cell_type": "code",
   "execution_count": 92,
   "id": "710649ae",
   "metadata": {},
   "outputs": [],
   "source": [
    "df['Gearing Type'] = df['Gearing Type'].map(lambda x: x[1],na_action='ignore')"
   ]
  },
  {
   "cell_type": "code",
   "execution_count": 93,
   "id": "f0d6db87",
   "metadata": {},
   "outputs": [
    {
     "data": {
      "text/plain": [
       "0"
      ]
     },
     "execution_count": 93,
     "metadata": {},
     "output_type": "execute_result"
    }
   ],
   "source": [
    "df['Gearing Type'].isnull().sum()"
   ]
  },
  {
   "cell_type": "code",
   "execution_count": 94,
   "id": "29e8dc48",
   "metadata": {},
   "outputs": [
    {
     "data": {
      "text/plain": [
       "Index(['make_model', 'body_type', 'price', 'vat', 'km', 'registration',\n",
       "       'prev_owner', 'hp', 'Make', 'Model', 'Body Color', 'Upholstery', 'Body',\n",
       "       'Nr. of Doors', 'Nr. of Seats', 'Gearing Type', 'Displacement',\n",
       "       'Weight', 'Drive chain', 'Consumption', 'CO2 Emission',\n",
       "       'Emission Class', '\\nComfort & Convenience\\n',\n",
       "       '\\nEntertainment & Media\\n', '\\nExtras\\n', '\\nSafety & Security\\n',\n",
       "       'Emission Label', 'Gears', 'Country version', 'Vehicle condition',\n",
       "       'particul_filter', 'Fuel Type'],\n",
       "      dtype='object')"
      ]
     },
     "execution_count": 94,
     "metadata": {},
     "output_type": "execute_result"
    }
   ],
   "source": [
    "df.columns"
   ]
  },
  {
   "cell_type": "markdown",
   "id": "e83ffbe4",
   "metadata": {},
   "source": [
    "### 'Displacement' Sütunu"
   ]
  },
  {
   "cell_type": "code",
   "execution_count": 95,
   "id": "9e20df74",
   "metadata": {},
   "outputs": [
    {
     "data": {
      "text/plain": [
       "0        [\\n1,422 cc\\n]\n",
       "1        [\\n1,798 cc\\n]\n",
       "2        [\\n1,598 cc\\n]\n",
       "3        [\\n1,422 cc\\n]\n",
       "4        [\\n1,422 cc\\n]\n",
       "              ...      \n",
       "15914    [\\n1,997 cc\\n]\n",
       "15915    [\\n1,798 cc\\n]\n",
       "15916    [\\n1,997 cc\\n]\n",
       "15917    [\\n1,997 cc\\n]\n",
       "15918    [\\n1,798 cc\\n]\n",
       "Name: Displacement, Length: 15919, dtype: object"
      ]
     },
     "execution_count": 95,
     "metadata": {},
     "output_type": "execute_result"
    }
   ],
   "source": [
    "df['Displacement']"
   ]
  },
  {
   "cell_type": "code",
   "execution_count": 96,
   "id": "452bd399",
   "metadata": {},
   "outputs": [],
   "source": [
    "df['Displacement'] = df['Displacement'].map(lambda x: x[0].strip(\",\\n1\").strip(\" cc\"),na_action='ignore')"
   ]
  },
  {
   "cell_type": "code",
   "execution_count": 97,
   "id": "1370845f",
   "metadata": {},
   "outputs": [
    {
     "data": {
      "text/plain": [
       "36"
      ]
     },
     "execution_count": 97,
     "metadata": {},
     "output_type": "execute_result"
    }
   ],
   "source": [
    "sum(df['Displacement'] == '')\n",
    "# 36 tane '' değeri var."
   ]
  },
  {
   "cell_type": "code",
   "execution_count": 98,
   "id": "7de59b4a",
   "metadata": {},
   "outputs": [],
   "source": [
    "df['Displacement'] = df['Displacement'].map(lambda x: x if x.isnumeric() else np.nan,na_action='ignore')"
   ]
  },
  {
   "cell_type": "code",
   "execution_count": 99,
   "id": "79404173",
   "metadata": {},
   "outputs": [
    {
     "data": {
      "text/plain": [
       "0"
      ]
     },
     "execution_count": 99,
     "metadata": {},
     "output_type": "execute_result"
    }
   ],
   "source": [
    "sum(df['Displacement'] == '')\n",
    "# kodumu çalışmış"
   ]
  },
  {
   "cell_type": "code",
   "execution_count": 100,
   "id": "5c570f6e",
   "metadata": {},
   "outputs": [],
   "source": [
    "df['Displacement'] = df['Displacement'].astype(float)"
   ]
  },
  {
   "cell_type": "code",
   "execution_count": 101,
   "id": "2c0d486b",
   "metadata": {},
   "outputs": [
    {
     "data": {
      "text/plain": [
       "601"
      ]
     },
     "execution_count": 101,
     "metadata": {},
     "output_type": "execute_result"
    }
   ],
   "source": [
    "df['Displacement'].isnull().sum()"
   ]
  },
  {
   "cell_type": "code",
   "execution_count": 102,
   "id": "610b0ebf",
   "metadata": {},
   "outputs": [
    {
     "data": {
      "text/plain": [
       "41"
      ]
     },
     "execution_count": 102,
     "metadata": {},
     "output_type": "execute_result"
    }
   ],
   "source": [
    "sum(df.Displacement== 0.)"
   ]
  },
  {
   "cell_type": "code",
   "execution_count": 103,
   "id": "ff1e50ec",
   "metadata": {},
   "outputs": [],
   "source": [
    "df.Displacement = df.Displacement.map(lambda x: np.nan if x == 0. else x)"
   ]
  },
  {
   "cell_type": "code",
   "execution_count": 104,
   "id": "0b77df92",
   "metadata": {},
   "outputs": [
    {
     "data": {
      "text/plain": [
       "0"
      ]
     },
     "execution_count": 104,
     "metadata": {},
     "output_type": "execute_result"
    }
   ],
   "source": [
    "sum(df.Displacement== 0.)"
   ]
  },
  {
   "cell_type": "code",
   "execution_count": 105,
   "id": "f8946820",
   "metadata": {},
   "outputs": [
    {
     "data": {
      "text/plain": [
       "642"
      ]
     },
     "execution_count": 105,
     "metadata": {},
     "output_type": "execute_result"
    }
   ],
   "source": [
    "df['Displacement'].isnull().sum()"
   ]
  },
  {
   "cell_type": "markdown",
   "id": "885a6e94",
   "metadata": {},
   "source": [
    "### Weight Sütunu"
   ]
  },
  {
   "cell_type": "code",
   "execution_count": 106,
   "id": "5b40ca10",
   "metadata": {},
   "outputs": [
    {
     "data": {
      "text/plain": [
       "['\\n1,220 kg\\n']"
      ]
     },
     "execution_count": 106,
     "metadata": {},
     "output_type": "execute_result"
    }
   ],
   "source": [
    "df.Weight[0]\n",
    "# tek bir satır ile veri tipimizi tanımış olduk.\n",
    "# weight sütununda birim yazmasına gerek yok. Bu sütunu da float yapabiliriz\n"
   ]
  },
  {
   "cell_type": "code",
   "execution_count": 107,
   "id": "8e9a821f",
   "metadata": {},
   "outputs": [],
   "source": [
    "df.Weight = df.Weight.map(lambda x: x[0].strip('\\n1,').strip(\" kg\"),na_action='ignore')"
   ]
  },
  {
   "cell_type": "code",
   "execution_count": 108,
   "id": "8474d1c5",
   "metadata": {},
   "outputs": [
    {
     "data": {
      "text/plain": [
       "6974"
      ]
     },
     "execution_count": 108,
     "metadata": {},
     "output_type": "execute_result"
    }
   ],
   "source": [
    "df.Weight.isnull().sum()"
   ]
  },
  {
   "cell_type": "markdown",
   "id": "795d6c03",
   "metadata": {},
   "source": [
    "### 'Drive chain' Sütunu\n"
   ]
  },
  {
   "cell_type": "code",
   "execution_count": 109,
   "id": "5783aa7a",
   "metadata": {
    "scrolled": true
   },
   "outputs": [
    {
     "data": {
      "text/plain": [
       "0        [\\nfront\\n]\n",
       "1        [\\nfront\\n]\n",
       "2        [\\nfront\\n]\n",
       "3               None\n",
       "4        [\\nfront\\n]\n",
       "            ...     \n",
       "15914    [\\nfront\\n]\n",
       "15915    [\\nfront\\n]\n",
       "15916    [\\nfront\\n]\n",
       "15917    [\\nfront\\n]\n",
       "15918      [\\n4WD\\n]\n",
       "Name: Drive chain, Length: 15919, dtype: object"
      ]
     },
     "execution_count": 109,
     "metadata": {},
     "output_type": "execute_result"
    }
   ],
   "source": [
    "df['Drive chain']"
   ]
  },
  {
   "cell_type": "code",
   "execution_count": 110,
   "id": "c6f04759",
   "metadata": {},
   "outputs": [],
   "source": [
    "df['Drive chain'] = df['Drive chain'].map(lambda x: x[0].strip('\\n'),na_action='ignore')"
   ]
  },
  {
   "cell_type": "code",
   "execution_count": 111,
   "id": "5fe56222",
   "metadata": {},
   "outputs": [
    {
     "data": {
      "text/plain": [
       "array(['front', None, '4WD', 'rear'], dtype=object)"
      ]
     },
     "execution_count": 111,
     "metadata": {},
     "output_type": "execute_result"
    }
   ],
   "source": [
    "df['Drive chain'].unique()"
   ]
  },
  {
   "cell_type": "code",
   "execution_count": 112,
   "id": "912b2334",
   "metadata": {},
   "outputs": [
    {
     "data": {
      "text/plain": [
       "6858"
      ]
     },
     "execution_count": 112,
     "metadata": {},
     "output_type": "execute_result"
    }
   ],
   "source": [
    "df['Drive chain'].isnull().sum()"
   ]
  },
  {
   "cell_type": "markdown",
   "id": "bbf74c05",
   "metadata": {},
   "source": [
    "### Consumption "
   ]
  },
  {
   "cell_type": "markdown",
   "id": "9c156e8a",
   "metadata": {},
   "source": [
    "* bu sütunda 3 farklı veri bulunmakta fakat bazı sütunlarda 3 ten daha az veya \n",
    "* daha fazla verilerde bulunmakta. Bu nedenle sütunda gerekli temizlikleri yaptıktan sonra ortalama alacağız. "
   ]
  },
  {
   "cell_type": "code",
   "execution_count": 113,
   "id": "89356b0d",
   "metadata": {},
   "outputs": [
    {
     "ename": "TypeError",
     "evalue": "unhashable type: 'list'",
     "output_type": "error",
     "traceback": [
      "\u001b[0;31m---------------------------------------------------------------------------\u001b[0m",
      "\u001b[0;31mTypeError\u001b[0m                                 Traceback (most recent call last)",
      "\u001b[0;32mpandas/_libs/hashtable_class_helper.pxi\u001b[0m in \u001b[0;36mpandas._libs.hashtable.PyObjectHashTable.map_locations\u001b[0;34m()\u001b[0m\n",
      "\u001b[0;31mTypeError\u001b[0m: unhashable type: 'list'"
     ]
    },
    {
     "name": "stderr",
     "output_type": "stream",
     "text": [
      "Exception ignored in: 'pandas._libs.index.IndexEngine._call_map_locations'\n",
      "Traceback (most recent call last):\n",
      "  File \"pandas/_libs/hashtable_class_helper.pxi\", line 4588, in pandas._libs.hashtable.PyObjectHashTable.map_locations\n",
      "TypeError: unhashable type: 'list'\n"
     ]
    },
    {
     "data": {
      "text/plain": [
       "[[3.9 l/100 km (comb)], [4.1 l/100 km (city)], [3.7 l/100 km (country)]]              304\n",
       "[[4.2 l/100 km (comb)], [5 l/100 km (city)], [3.7 l/100 km (country)]]                276\n",
       "[[5.4 l/100 km (comb)], [6.8 l/100 km (city)], [4.5 l/100 km (country)]]              257\n",
       "[[3.8 l/100 km (comb)], [4.3 l/100 km (city)], [3.5 l/100 km (country)]]              253\n",
       "[[4.7 l/100 km (comb)], [5.1 l/100 km (city)], [4.4 l/100 km (country)]]              244\n",
       "                                                                                     ... \n",
       "[[5.2 l/100 km (comb)], [6 l/100 km (city)], [4.8 l/100 km (country)]]                  1\n",
       "[[5.3 l/100 km (comb)], [6 l/100 km (city)], [5 l/100 km (country)]]                    1\n",
       "[\\n, 6.5 l/100 km (comb), \\n, 8.1 l/100 km (city), \\n, 5.5 l/100 km (country), \\n]      1\n",
       "[[4.3 l/100 km (comb)], [5.6 l/100 km (city)], [3.5 l/100 km (country)]]                1\n",
       "[[50 l/100 km (comb)], [64 l/100 km (city)], [42 l/100 km (country)]]                   1\n",
       "Name: Consumption, Length: 881, dtype: int64"
      ]
     },
     "execution_count": 113,
     "metadata": {},
     "output_type": "execute_result"
    }
   ],
   "source": [
    "df.Consumption.value_counts()"
   ]
  },
  {
   "cell_type": "code",
   "execution_count": 114,
   "id": "0d478f10",
   "metadata": {
    "scrolled": true
   },
   "outputs": [
    {
     "data": {
      "text/plain": [
       "[['3.8 l/100 km (comb)'], ['4.3 l/100 km (city)'], ['3.5 l/100 km (country)']]"
      ]
     },
     "execution_count": 114,
     "metadata": {},
     "output_type": "execute_result"
    }
   ],
   "source": [
    "df.Consumption[0]"
   ]
  },
  {
   "cell_type": "code",
   "execution_count": 115,
   "id": "18bb3b75",
   "metadata": {
    "scrolled": false
   },
   "outputs": [
    {
     "data": {
      "text/plain": [
       "9833     [[5.2 l/100 km (comb)], [6.9 l/100 km (city)],...\n",
       "2599     [[4.6 l/100 km (comb)], [5.8 l/100 km (city)],...\n",
       "7937                                                  None\n",
       "11225    [[5.6 l/100 km (comb)], [7.3 l/100 km (city)],...\n",
       "1621     [[4.4 l/100 km (comb)], [5.4 l/100 km (city)],...\n",
       "4781                                                  None\n",
       "2761                                                  None\n",
       "1184     [[5.1 l/100 km (comb)], [6.6 l/100 km (city)],...\n",
       "355      [[3.9 l/100 km (comb)], [4.3 l/100 km (city)],...\n",
       "15572    [[4.7 l/100 km (comb)], [5.1 l/100 km (city)],...\n",
       "Name: Consumption, dtype: object"
      ]
     },
     "execution_count": 115,
     "metadata": {},
     "output_type": "execute_result"
    }
   ],
   "source": [
    "df.Consumption.sample(10)"
   ]
  },
  {
   "cell_type": "code",
   "execution_count": null,
   "id": "45e69026",
   "metadata": {},
   "outputs": [],
   "source": []
  },
  {
   "cell_type": "code",
   "execution_count": 116,
   "id": "28486901",
   "metadata": {},
   "outputs": [
    {
     "data": {
      "text/plain": [
       "['\\n',\n",
       " '5 l/100 km (comb)',\n",
       " '\\n',\n",
       " '5.9 l/100 km (city)',\n",
       " '\\n',\n",
       " '4.5 l/100 km (country)',\n",
       " '\\n']"
      ]
     },
     "execution_count": 116,
     "metadata": {},
     "output_type": "execute_result"
    }
   ],
   "source": [
    "df.Consumption[8013]\n",
    "# bu index de 7 eleman var. \n",
    "# boş elemanların hepsi de \\n\n"
   ]
  },
  {
   "cell_type": "code",
   "execution_count": 117,
   "id": "0657ca1f",
   "metadata": {
    "scrolled": true
   },
   "outputs": [
    {
     "data": {
      "text/plain": [
       "[['4 l/100 km (comb)'], ['4.6 l/100 km (city)'], ['3.6 l/100 km (country)']]"
      ]
     },
     "execution_count": 117,
     "metadata": {},
     "output_type": "execute_result"
    }
   ],
   "source": [
    "df.Consumption[10]"
   ]
  },
  {
   "cell_type": "code",
   "execution_count": 118,
   "id": "52dabcc7",
   "metadata": {},
   "outputs": [
    {
     "data": {
      "text/plain": [
       "Index(['make_model', 'body_type', 'price', 'vat', 'km', 'registration',\n",
       "       'prev_owner', 'hp', 'Make', 'Model', 'Body Color', 'Upholstery', 'Body',\n",
       "       'Nr. of Doors', 'Nr. of Seats', 'Gearing Type', 'Displacement',\n",
       "       'Weight', 'Drive chain', 'Consumption', 'CO2 Emission',\n",
       "       'Emission Class', '\\nComfort & Convenience\\n',\n",
       "       '\\nEntertainment & Media\\n', '\\nExtras\\n', '\\nSafety & Security\\n',\n",
       "       'Emission Label', 'Gears', 'Country version', 'Vehicle condition',\n",
       "       'particul_filter', 'Fuel Type'],\n",
       "      dtype='object')"
      ]
     },
     "execution_count": 118,
     "metadata": {},
     "output_type": "execute_result"
    }
   ],
   "source": [
    "df.columns"
   ]
  },
  {
   "cell_type": "markdown",
   "id": "3e538e11",
   "metadata": {},
   "source": [
    "### CO2 Emission sütunu"
   ]
  },
  {
   "cell_type": "code",
   "execution_count": 119,
   "id": "bf6dbfde",
   "metadata": {},
   "outputs": [
    {
     "data": {
      "text/plain": [
       "['\\n99 g CO2/km (comb)\\n']"
      ]
     },
     "execution_count": 119,
     "metadata": {},
     "output_type": "execute_result"
    }
   ],
   "source": [
    "df['CO2 Emission'][0]"
   ]
  },
  {
   "cell_type": "code",
   "execution_count": 120,
   "id": "82a23621",
   "metadata": {},
   "outputs": [
    {
     "ename": "TypeError",
     "evalue": "unhashable type: 'list'",
     "output_type": "error",
     "traceback": [
      "\u001b[0;31m---------------------------------------------------------------------------\u001b[0m",
      "\u001b[0;31mTypeError\u001b[0m                                 Traceback (most recent call last)",
      "\u001b[0;32mpandas/_libs/hashtable_class_helper.pxi\u001b[0m in \u001b[0;36mpandas._libs.hashtable.PyObjectHashTable.map_locations\u001b[0;34m()\u001b[0m\n",
      "\u001b[0;31mTypeError\u001b[0m: unhashable type: 'list'"
     ]
    },
    {
     "name": "stderr",
     "output_type": "stream",
     "text": [
      "Exception ignored in: 'pandas._libs.index.IndexEngine._call_map_locations'\n",
      "Traceback (most recent call last):\n",
      "  File \"pandas/_libs/hashtable_class_helper.pxi\", line 4588, in pandas._libs.hashtable.PyObjectHashTable.map_locations\n",
      "TypeError: unhashable type: 'list'\n"
     ]
    },
    {
     "data": {
      "text/plain": [
       "[\\n169 g CO2/km (comb)\\n]     15\n",
       "[\\n154 g CO2/km (comb)\\n]     40\n",
       "[\\n193 g CO2/km (comb)\\n]      1\n",
       "[\\n165 g CO2/km (comb)\\n]      1\n",
       "[\\n91 g CO2/km (comb)\\n]      31\n",
       "[\\n162 g CO2/km (comb)\\n]      2\n",
       "[\\n239 g CO2/km (comb)\\n]      1\n",
       "[\\n153 g CO2/km (comb)\\n]    113\n",
       "[\\n5 g CO2/km (comb)\\n]        3\n",
       "[\\n150 g CO2/km (comb)\\n]    174\n",
       "Name: CO2 Emission, dtype: int64"
      ]
     },
     "execution_count": 120,
     "metadata": {},
     "output_type": "execute_result"
    }
   ],
   "source": [
    "df['CO2 Emission'].value_counts().sample(10)"
   ]
  },
  {
   "cell_type": "code",
   "execution_count": 121,
   "id": "b631476c",
   "metadata": {},
   "outputs": [],
   "source": [
    "# tüm satırlar tek elemanlı listeden oluşuyor. 1 den fazla elemanı olan \n",
    "# tüm satırlar [[], [], []]  şeklinde bunları none yapacağız."
   ]
  },
  {
   "cell_type": "code",
   "execution_count": 122,
   "id": "794daaf6",
   "metadata": {},
   "outputs": [],
   "source": [
    "df['CO2 Emission'] = df['CO2 Emission'].map(lambda x: None if len(x) > 3 else x,na_action='ignore') "
   ]
  },
  {
   "cell_type": "code",
   "execution_count": 123,
   "id": "39eb7e91",
   "metadata": {},
   "outputs": [
    {
     "data": {
      "text/plain": [
       "0         99 g CO2/km (comb)\n",
       "1        129 g CO2/km (comb)\n",
       "2         99 g CO2/km (comb)\n",
       "3         99 g CO2/km (comb)\n",
       "4        109 g CO2/km (comb)\n",
       "                ...         \n",
       "15914    139 g CO2/km (comb)\n",
       "15915    168 g CO2/km (comb)\n",
       "15916    139 g CO2/km (comb)\n",
       "15917    139 g CO2/km (comb)\n",
       "15918    153 g CO2/km (comb)\n",
       "Name: CO2 Emission, Length: 15919, dtype: object"
      ]
     },
     "execution_count": 123,
     "metadata": {},
     "output_type": "execute_result"
    }
   ],
   "source": [
    "df['CO2 Emission'] = df['CO2 Emission'].map(lambda x: x[0],na_action='ignore').str.strip(\"\\n\")\n",
    "df['CO2 Emission']"
   ]
  },
  {
   "cell_type": "code",
   "execution_count": 124,
   "id": "7baff60f",
   "metadata": {},
   "outputs": [],
   "source": [
    "# df['CO2 Emission'].str.strip(\" g CO2/km (comb)\").astype(float)"
   ]
  },
  {
   "cell_type": "code",
   "execution_count": 125,
   "id": "35faf22e",
   "metadata": {},
   "outputs": [],
   "source": [
    "df['CO2 Emission'] = df['CO2 Emission'].str.replace(\",\",\".\")"
   ]
  },
  {
   "cell_type": "code",
   "execution_count": 126,
   "id": "ac2537d1",
   "metadata": {},
   "outputs": [],
   "source": [
    "df['CO2 Emission'] = df['CO2 Emission'].str.strip(\" g CO2/km (comb)\").astype(float)"
   ]
  },
  {
   "cell_type": "code",
   "execution_count": 127,
   "id": "ded5f7b6",
   "metadata": {},
   "outputs": [
    {
     "data": {
      "text/plain": [
       "2436"
      ]
     },
     "execution_count": 127,
     "metadata": {},
     "output_type": "execute_result"
    }
   ],
   "source": [
    "df['CO2 Emission'].isnull().sum()"
   ]
  },
  {
   "cell_type": "code",
   "execution_count": 128,
   "id": "defe6490",
   "metadata": {},
   "outputs": [
    {
     "data": {
      "text/plain": [
       "0         99.0\n",
       "1        129.0\n",
       "2         99.0\n",
       "3         99.0\n",
       "4        109.0\n",
       "         ...  \n",
       "15914    139.0\n",
       "15915    168.0\n",
       "15916    139.0\n",
       "15917    139.0\n",
       "15918    153.0\n",
       "Name: CO2 Emission, Length: 15919, dtype: float64"
      ]
     },
     "execution_count": 128,
     "metadata": {},
     "output_type": "execute_result"
    }
   ],
   "source": [
    "df['CO2 Emission']"
   ]
  },
  {
   "cell_type": "code",
   "execution_count": 129,
   "id": "bbe3a627",
   "metadata": {},
   "outputs": [
    {
     "data": {
      "text/plain": [
       "2436"
      ]
     },
     "execution_count": 129,
     "metadata": {},
     "output_type": "execute_result"
    }
   ],
   "source": [
    "df['CO2 Emission'].isnull().sum()"
   ]
  },
  {
   "cell_type": "code",
   "execution_count": 130,
   "id": "bfc2d67f",
   "metadata": {
    "scrolled": true
   },
   "outputs": [
    {
     "data": {
      "text/plain": [
       "Index(['make_model', 'body_type', 'price', 'vat', 'km', 'registration',\n",
       "       'prev_owner', 'hp', 'Make', 'Model', 'Body Color', 'Upholstery', 'Body',\n",
       "       'Nr. of Doors', 'Nr. of Seats', 'Gearing Type', 'Displacement',\n",
       "       'Weight', 'Drive chain', 'Consumption', 'CO2 Emission',\n",
       "       'Emission Class', '\\nComfort & Convenience\\n',\n",
       "       '\\nEntertainment & Media\\n', '\\nExtras\\n', '\\nSafety & Security\\n',\n",
       "       'Emission Label', 'Gears', 'Country version', 'Vehicle condition',\n",
       "       'particul_filter', 'Fuel Type'],\n",
       "      dtype='object')"
      ]
     },
     "execution_count": 130,
     "metadata": {},
     "output_type": "execute_result"
    }
   ],
   "source": [
    "df.columns"
   ]
  },
  {
   "cell_type": "markdown",
   "id": "b634a30e",
   "metadata": {},
   "source": [
    "### 'Emission Class' Sütunu"
   ]
  },
  {
   "cell_type": "code",
   "execution_count": 131,
   "id": "655c1c7c",
   "metadata": {},
   "outputs": [
    {
     "ename": "TypeError",
     "evalue": "unhashable type: 'list'",
     "output_type": "error",
     "traceback": [
      "\u001b[0;31m---------------------------------------------------------------------------\u001b[0m",
      "\u001b[0;31mTypeError\u001b[0m                                 Traceback (most recent call last)",
      "\u001b[0;32mpandas/_libs/hashtable_class_helper.pxi\u001b[0m in \u001b[0;36mpandas._libs.hashtable.PyObjectHashTable.map_locations\u001b[0;34m()\u001b[0m\n",
      "\u001b[0;31mTypeError\u001b[0m: unhashable type: 'list'"
     ]
    },
    {
     "name": "stderr",
     "output_type": "stream",
     "text": [
      "Exception ignored in: 'pandas._libs.index.IndexEngine._call_map_locations'\n",
      "Traceback (most recent call last):\n",
      "  File \"pandas/_libs/hashtable_class_helper.pxi\", line 4588, in pandas._libs.hashtable.PyObjectHashTable.map_locations\n",
      "TypeError: unhashable type: 'list'\n"
     ]
    },
    {
     "data": {
      "text/plain": [
       "[\\nEuro 6\\n]          10139\n",
       "NaN                    3021\n",
       "[\\nEuro 6d-TEMP\\n]     1845\n",
       "[[], [], []]            607\n",
       "[\\nEuro 6c\\n]           127\n",
       "[\\nEuro 5\\n]             78\n",
       "[\\nEuro 6d\\n]            62\n",
       "[\\nEuro 4\\n]             40\n",
       "Name: Emission Class, dtype: int64"
      ]
     },
     "execution_count": 131,
     "metadata": {},
     "output_type": "execute_result"
    }
   ],
   "source": [
    "df['Emission Class'].value_counts(dropna = False)"
   ]
  },
  {
   "cell_type": "code",
   "execution_count": 132,
   "id": "91f2b615",
   "metadata": {},
   "outputs": [
    {
     "data": {
      "text/plain": [
       "['\\nEuro 6\\n']"
      ]
     },
     "execution_count": 132,
     "metadata": {},
     "output_type": "execute_result"
    }
   ],
   "source": [
    "df['Emission Class'][0]\n",
    "# tek parça string eleman"
   ]
  },
  {
   "cell_type": "code",
   "execution_count": 133,
   "id": "cd134942",
   "metadata": {},
   "outputs": [],
   "source": [
    "df['Emission Class'] = df['Emission Class'].map(lambda x: np.nan if len(x)>3 else x,na_action='ignore')"
   ]
  },
  {
   "cell_type": "code",
   "execution_count": 134,
   "id": "e400d5f5",
   "metadata": {},
   "outputs": [
    {
     "data": {
      "text/plain": [
       "0              [\\nEuro 6\\n]\n",
       "1              [\\nEuro 6\\n]\n",
       "2              [\\nEuro 6\\n]\n",
       "3              [\\nEuro 6\\n]\n",
       "4              [\\nEuro 6\\n]\n",
       "                ...        \n",
       "15914                  None\n",
       "15915                  None\n",
       "15916    [\\nEuro 6d-TEMP\\n]\n",
       "15917          [\\nEuro 6\\n]\n",
       "15918          [\\nEuro 6\\n]\n",
       "Name: Emission Class, Length: 15919, dtype: object"
      ]
     },
     "execution_count": 134,
     "metadata": {},
     "output_type": "execute_result"
    }
   ],
   "source": [
    "df['Emission Class']"
   ]
  },
  {
   "cell_type": "code",
   "execution_count": 135,
   "id": "01502200",
   "metadata": {},
   "outputs": [],
   "source": [
    "df['Emission Class'] = df['Emission Class'].map(lambda x: x[0],na_action='ignore').str.strip(\"\\n\")"
   ]
  },
  {
   "cell_type": "code",
   "execution_count": 136,
   "id": "e1d16e1c",
   "metadata": {},
   "outputs": [
    {
     "data": {
      "text/plain": [
       "array(['Euro 6', None, 'Euro 5', 'Euro 6d-TEMP', nan, 'Euro 6c', 'Euro 4',\n",
       "       'Euro 6d'], dtype=object)"
      ]
     },
     "execution_count": 136,
     "metadata": {},
     "output_type": "execute_result"
    }
   ],
   "source": [
    "df['Emission Class'].unique()"
   ]
  },
  {
   "cell_type": "code",
   "execution_count": 137,
   "id": "c8c1e3d2",
   "metadata": {},
   "outputs": [
    {
     "data": {
      "text/plain": [
       "1021     Euro 6\n",
       "9487     Euro 6\n",
       "15296    Euro 6\n",
       "12979      None\n",
       "8271     Euro 6\n",
       "2434     Euro 6\n",
       "11380    Euro 6\n",
       "772      Euro 6\n",
       "11986    Euro 6\n",
       "12046    Euro 6\n",
       "Name: Emission Class, dtype: object"
      ]
     },
     "execution_count": 137,
     "metadata": {},
     "output_type": "execute_result"
    }
   ],
   "source": [
    "df['Emission Class'].sample(10)"
   ]
  },
  {
   "cell_type": "code",
   "execution_count": 138,
   "id": "6119871e",
   "metadata": {},
   "outputs": [
    {
     "data": {
      "text/plain": [
       "array(['Euro 6', 'Euro 5', 'Euro 6d-TEMP', 'Euro 6c', 'Euro 4', 'Euro 6d'],\n",
       "      dtype=object)"
      ]
     },
     "execution_count": 138,
     "metadata": {},
     "output_type": "execute_result"
    }
   ],
   "source": [
    "df['Emission Class'].dropna().unique()"
   ]
  },
  {
   "cell_type": "markdown",
   "id": "0af81f31",
   "metadata": {},
   "source": [
    "### ['\\nComfort & Convenience\\n'] Sütunu"
   ]
  },
  {
   "cell_type": "code",
   "execution_count": 139,
   "id": "fac37d1a",
   "metadata": {},
   "outputs": [],
   "source": [
    "df.rename(columns={'\\nComfort & Convenience\\n':'comfort'},inplace=True)"
   ]
  },
  {
   "cell_type": "code",
   "execution_count": 140,
   "id": "4d5da248",
   "metadata": {},
   "outputs": [
    {
     "data": {
      "text/plain": [
       "0        [Air conditioning, Armrest, Automatic climate ...\n",
       "1        [Air conditioning, Automatic climate control, ...\n",
       "2        [Air conditioning, Cruise control, Electrical ...\n",
       "3        [Air suspension, Armrest, Auxiliary heating, E...\n",
       "4        [Air conditioning, Armrest, Automatic climate ...\n",
       "                               ...                        \n",
       "15914    [Air conditioning, Automatic climate control, ...\n",
       "15915    [Air conditioning, Automatic climate control, ...\n",
       "15916    [Air conditioning, Armrest, Automatic climate ...\n",
       "15917    [Air conditioning, Automatic climate control, ...\n",
       "15918    [Air conditioning, Automatic climate control, ...\n",
       "Name: comfort, Length: 15919, dtype: object"
      ]
     },
     "execution_count": 140,
     "metadata": {},
     "output_type": "execute_result"
    }
   ],
   "source": [
    "df.comfort"
   ]
  },
  {
   "cell_type": "code",
   "execution_count": 141,
   "id": "6e5a36d2",
   "metadata": {},
   "outputs": [],
   "source": [
    "comfort_unique = []\n",
    "for i in df.comfort.dropna():\n",
    "        for j in i:\n",
    "            if j not in comfort_unique:\n",
    "                comfort_unique.append(j)\n",
    "            \n",
    "    \n",
    "        \n",
    "        "
   ]
  },
  {
   "cell_type": "code",
   "execution_count": 142,
   "id": "9ae10c1c",
   "metadata": {},
   "outputs": [
    {
     "data": {
      "text/plain": [
       "['Air conditioning',\n",
       " 'Armrest',\n",
       " 'Automatic climate control',\n",
       " 'Cruise control',\n",
       " 'Electrical side mirrors',\n",
       " 'Hill Holder',\n",
       " 'Leather steering wheel',\n",
       " 'Light sensor',\n",
       " 'Multi-function steering wheel',\n",
       " 'Navigation system',\n",
       " 'Park Distance Control',\n",
       " 'Parking assist system sensors rear',\n",
       " 'Power windows',\n",
       " 'Rain sensor',\n",
       " 'Seat heating',\n",
       " 'Start-stop system',\n",
       " 'Lumbar support',\n",
       " 'Tinted windows',\n",
       " 'Parking assist system sensors front',\n",
       " 'Air suspension',\n",
       " 'Auxiliary heating',\n",
       " 'Heads-up display',\n",
       " 'Split rear seats',\n",
       " 'Keyless central door lock',\n",
       " 'Electrically heated windshield',\n",
       " 'Seat ventilation',\n",
       " 'Wind deflector',\n",
       " 'Leather seats',\n",
       " 'Sunroof',\n",
       " 'Panorama roof',\n",
       " 'Parking assist system camera',\n",
       " 'Electrically adjustable seats',\n",
       " 'Parking assist system self-steering',\n",
       " 'Windshield',\n",
       " 'Electric tailgate',\n",
       " 'Heated steering wheel',\n",
       " 'Massage seats',\n",
       " 'Electric Starter']"
      ]
     },
     "execution_count": 142,
     "metadata": {},
     "output_type": "execute_result"
    }
   ],
   "source": [
    "comfort_unique\n",
    "# unique özelliklerin hepsini bir listede topladık. "
   ]
  },
  {
   "cell_type": "code",
   "execution_count": 143,
   "id": "3b891de7",
   "metadata": {
    "scrolled": true
   },
   "outputs": [],
   "source": [
    "# daha sonra bu sütunda yer alan uniq değerlerin hepsinden  sütunlar\n",
    "# oluşturup her bir sütunda yer alan anahtar kelime için true false atayacağız. "
   ]
  },
  {
   "cell_type": "code",
   "execution_count": 144,
   "id": "b5bf3f80",
   "metadata": {},
   "outputs": [
    {
     "data": {
      "text/plain": [
       "['Air conditioning',\n",
       " 'Armrest',\n",
       " 'Automatic climate control',\n",
       " 'Cruise control',\n",
       " 'Electrical side mirrors',\n",
       " 'Hill Holder',\n",
       " 'Leather steering wheel',\n",
       " 'Light sensor',\n",
       " 'Multi-function steering wheel',\n",
       " 'Navigation system',\n",
       " 'Park Distance Control',\n",
       " 'Parking assist system sensors rear',\n",
       " 'Power windows',\n",
       " 'Rain sensor',\n",
       " 'Seat heating',\n",
       " 'Start-stop system']"
      ]
     },
     "execution_count": 144,
     "metadata": {},
     "output_type": "execute_result"
    }
   ],
   "source": [
    "df.comfort.map(lambda x: x)[0]"
   ]
  },
  {
   "cell_type": "code",
   "execution_count": 145,
   "id": "9788d755",
   "metadata": {},
   "outputs": [],
   "source": [
    "liste = ['Air conditioning',\n",
    " 'Armrest',\n",
    " 'Automatic climate control',\n",
    " 'Cruise control',\n",
    " 'Electrical side mirrors',\n",
    " 'Hill Holder',\n",
    " 'Leather steering wheel',\n",
    " 'Light sensor',\n",
    " 'Multi-function steering wheel',\n",
    " 'Navigation system',\n",
    " 'Park Distance Control',\n",
    " 'Parking assist system sensors rear',\n",
    " 'Power windows',\n",
    " 'Rain sensor',\n",
    " 'Seat heating',\n",
    " 'Start-stop system']"
   ]
  },
  {
   "cell_type": "code",
   "execution_count": 146,
   "id": "e5356069",
   "metadata": {},
   "outputs": [],
   "source": [
    "string = \",\".join(liste)"
   ]
  },
  {
   "cell_type": "code",
   "execution_count": 147,
   "id": "75846e04",
   "metadata": {},
   "outputs": [
    {
     "data": {
      "text/plain": [
       "'Air conditioning,Armrest,Automatic climate control,Cruise control,Electrical side mirrors,Hill Holder,Leather steering wheel,Light sensor,Multi-function steering wheel,Navigation system,Park Distance Control,Parking assist system sensors rear,Power windows,Rain sensor,Seat heating,Start-stop system'"
      ]
     },
     "execution_count": 147,
     "metadata": {},
     "output_type": "execute_result"
    }
   ],
   "source": [
    "string"
   ]
  },
  {
   "cell_type": "code",
   "execution_count": 148,
   "id": "338a36ad",
   "metadata": {},
   "outputs": [],
   "source": [
    "# df[\"col_name\"] = [item[0] if type(item) == list else item for item in df[\"col_name\"]]\n",
    "# df[\"col_name\"] = df[\"col_name\"].apply(lambda item: item[0] if type(item) == list else item)\n",
    "# stewe hocanın çözümü"
   ]
  },
  {
   "cell_type": "code",
   "execution_count": 149,
   "id": "c4b34f49",
   "metadata": {},
   "outputs": [
    {
     "data": {
      "text/plain": [
       "0        Air conditioning,Armrest,Automatic climate con...\n",
       "1        Air conditioning,Automatic climate control,Hil...\n",
       "2        Air conditioning,Cruise control,Electrical sid...\n",
       "3        Air suspension,Armrest,Auxiliary heating,Elect...\n",
       "4        Air conditioning,Armrest,Automatic climate con...\n",
       "                               ...                        \n",
       "15914    Air conditioning,Automatic climate control,Cru...\n",
       "15915    Air conditioning,Automatic climate control,Cru...\n",
       "15916    Air conditioning,Armrest,Automatic climate con...\n",
       "15917    Air conditioning,Automatic climate control,Cru...\n",
       "15918    Air conditioning,Automatic climate control,Cru...\n",
       "Name: comfort, Length: 15919, dtype: object"
      ]
     },
     "execution_count": 149,
     "metadata": {},
     "output_type": "execute_result"
    }
   ],
   "source": [
    "df.comfort.map(lambda x: \",\".join(x),na_action='ignore')"
   ]
  },
  {
   "cell_type": "code",
   "execution_count": 150,
   "id": "c25be17c",
   "metadata": {},
   "outputs": [
    {
     "data": {
      "text/html": [
       "<div>\n",
       "<style scoped>\n",
       "    .dataframe tbody tr th:only-of-type {\n",
       "        vertical-align: middle;\n",
       "    }\n",
       "\n",
       "    .dataframe tbody tr th {\n",
       "        vertical-align: top;\n",
       "    }\n",
       "\n",
       "    .dataframe thead th {\n",
       "        text-align: right;\n",
       "    }\n",
       "</style>\n",
       "<table border=\"1\" class=\"dataframe\">\n",
       "  <thead>\n",
       "    <tr style=\"text-align: right;\">\n",
       "      <th></th>\n",
       "      <th>Air conditioning</th>\n",
       "      <th>Air suspension</th>\n",
       "      <th>Armrest</th>\n",
       "      <th>Automatic climate control</th>\n",
       "      <th>Auxiliary heating</th>\n",
       "      <th>Cruise control</th>\n",
       "      <th>Electric Starter</th>\n",
       "      <th>Electric tailgate</th>\n",
       "      <th>Electrical side mirrors</th>\n",
       "      <th>Electrically adjustable seats</th>\n",
       "      <th>Electrically heated windshield</th>\n",
       "      <th>Heads-up display</th>\n",
       "      <th>Heated steering wheel</th>\n",
       "      <th>Hill Holder</th>\n",
       "      <th>Keyless central door lock</th>\n",
       "      <th>Leather seats</th>\n",
       "      <th>Leather steering wheel</th>\n",
       "      <th>Light sensor</th>\n",
       "      <th>Lumbar support</th>\n",
       "      <th>Massage seats</th>\n",
       "      <th>Multi-function steering wheel</th>\n",
       "      <th>Navigation system</th>\n",
       "      <th>Panorama roof</th>\n",
       "      <th>Park Distance Control</th>\n",
       "      <th>Parking assist system camera</th>\n",
       "      <th>Parking assist system self-steering</th>\n",
       "      <th>Parking assist system sensors front</th>\n",
       "      <th>Parking assist system sensors rear</th>\n",
       "      <th>Power windows</th>\n",
       "      <th>Rain sensor</th>\n",
       "      <th>Seat heating</th>\n",
       "      <th>Seat ventilation</th>\n",
       "      <th>Split rear seats</th>\n",
       "      <th>Start-stop system</th>\n",
       "      <th>Sunroof</th>\n",
       "      <th>Tinted windows</th>\n",
       "      <th>Wind deflector</th>\n",
       "      <th>Windshield</th>\n",
       "    </tr>\n",
       "  </thead>\n",
       "  <tbody>\n",
       "    <tr>\n",
       "      <th>0</th>\n",
       "      <td>1</td>\n",
       "      <td>0</td>\n",
       "      <td>1</td>\n",
       "      <td>1</td>\n",
       "      <td>0</td>\n",
       "      <td>1</td>\n",
       "      <td>0</td>\n",
       "      <td>0</td>\n",
       "      <td>1</td>\n",
       "      <td>0</td>\n",
       "      <td>0</td>\n",
       "      <td>0</td>\n",
       "      <td>0</td>\n",
       "      <td>1</td>\n",
       "      <td>0</td>\n",
       "      <td>0</td>\n",
       "      <td>1</td>\n",
       "      <td>1</td>\n",
       "      <td>0</td>\n",
       "      <td>0</td>\n",
       "      <td>1</td>\n",
       "      <td>1</td>\n",
       "      <td>0</td>\n",
       "      <td>1</td>\n",
       "      <td>0</td>\n",
       "      <td>0</td>\n",
       "      <td>0</td>\n",
       "      <td>1</td>\n",
       "      <td>1</td>\n",
       "      <td>1</td>\n",
       "      <td>1</td>\n",
       "      <td>0</td>\n",
       "      <td>0</td>\n",
       "      <td>1</td>\n",
       "      <td>0</td>\n",
       "      <td>0</td>\n",
       "      <td>0</td>\n",
       "      <td>0</td>\n",
       "    </tr>\n",
       "    <tr>\n",
       "      <th>1</th>\n",
       "      <td>1</td>\n",
       "      <td>0</td>\n",
       "      <td>0</td>\n",
       "      <td>1</td>\n",
       "      <td>0</td>\n",
       "      <td>0</td>\n",
       "      <td>0</td>\n",
       "      <td>0</td>\n",
       "      <td>0</td>\n",
       "      <td>0</td>\n",
       "      <td>0</td>\n",
       "      <td>0</td>\n",
       "      <td>0</td>\n",
       "      <td>1</td>\n",
       "      <td>0</td>\n",
       "      <td>0</td>\n",
       "      <td>1</td>\n",
       "      <td>0</td>\n",
       "      <td>1</td>\n",
       "      <td>0</td>\n",
       "      <td>0</td>\n",
       "      <td>0</td>\n",
       "      <td>0</td>\n",
       "      <td>0</td>\n",
       "      <td>0</td>\n",
       "      <td>0</td>\n",
       "      <td>0</td>\n",
       "      <td>1</td>\n",
       "      <td>1</td>\n",
       "      <td>0</td>\n",
       "      <td>0</td>\n",
       "      <td>0</td>\n",
       "      <td>0</td>\n",
       "      <td>1</td>\n",
       "      <td>0</td>\n",
       "      <td>1</td>\n",
       "      <td>0</td>\n",
       "      <td>0</td>\n",
       "    </tr>\n",
       "    <tr>\n",
       "      <th>2</th>\n",
       "      <td>1</td>\n",
       "      <td>0</td>\n",
       "      <td>0</td>\n",
       "      <td>0</td>\n",
       "      <td>0</td>\n",
       "      <td>1</td>\n",
       "      <td>0</td>\n",
       "      <td>0</td>\n",
       "      <td>1</td>\n",
       "      <td>0</td>\n",
       "      <td>0</td>\n",
       "      <td>0</td>\n",
       "      <td>0</td>\n",
       "      <td>1</td>\n",
       "      <td>0</td>\n",
       "      <td>0</td>\n",
       "      <td>1</td>\n",
       "      <td>0</td>\n",
       "      <td>0</td>\n",
       "      <td>0</td>\n",
       "      <td>1</td>\n",
       "      <td>1</td>\n",
       "      <td>0</td>\n",
       "      <td>1</td>\n",
       "      <td>0</td>\n",
       "      <td>0</td>\n",
       "      <td>1</td>\n",
       "      <td>1</td>\n",
       "      <td>1</td>\n",
       "      <td>0</td>\n",
       "      <td>1</td>\n",
       "      <td>0</td>\n",
       "      <td>0</td>\n",
       "      <td>1</td>\n",
       "      <td>0</td>\n",
       "      <td>0</td>\n",
       "      <td>0</td>\n",
       "      <td>0</td>\n",
       "    </tr>\n",
       "    <tr>\n",
       "      <th>3</th>\n",
       "      <td>0</td>\n",
       "      <td>1</td>\n",
       "      <td>1</td>\n",
       "      <td>0</td>\n",
       "      <td>1</td>\n",
       "      <td>0</td>\n",
       "      <td>0</td>\n",
       "      <td>0</td>\n",
       "      <td>1</td>\n",
       "      <td>0</td>\n",
       "      <td>0</td>\n",
       "      <td>1</td>\n",
       "      <td>0</td>\n",
       "      <td>1</td>\n",
       "      <td>0</td>\n",
       "      <td>0</td>\n",
       "      <td>1</td>\n",
       "      <td>1</td>\n",
       "      <td>1</td>\n",
       "      <td>0</td>\n",
       "      <td>1</td>\n",
       "      <td>1</td>\n",
       "      <td>0</td>\n",
       "      <td>0</td>\n",
       "      <td>0</td>\n",
       "      <td>0</td>\n",
       "      <td>0</td>\n",
       "      <td>0</td>\n",
       "      <td>1</td>\n",
       "      <td>1</td>\n",
       "      <td>1</td>\n",
       "      <td>0</td>\n",
       "      <td>1</td>\n",
       "      <td>1</td>\n",
       "      <td>0</td>\n",
       "      <td>0</td>\n",
       "      <td>0</td>\n",
       "      <td>0</td>\n",
       "    </tr>\n",
       "    <tr>\n",
       "      <th>4</th>\n",
       "      <td>1</td>\n",
       "      <td>0</td>\n",
       "      <td>1</td>\n",
       "      <td>1</td>\n",
       "      <td>0</td>\n",
       "      <td>0</td>\n",
       "      <td>0</td>\n",
       "      <td>0</td>\n",
       "      <td>1</td>\n",
       "      <td>0</td>\n",
       "      <td>0</td>\n",
       "      <td>0</td>\n",
       "      <td>0</td>\n",
       "      <td>1</td>\n",
       "      <td>0</td>\n",
       "      <td>0</td>\n",
       "      <td>1</td>\n",
       "      <td>1</td>\n",
       "      <td>0</td>\n",
       "      <td>0</td>\n",
       "      <td>1</td>\n",
       "      <td>0</td>\n",
       "      <td>0</td>\n",
       "      <td>1</td>\n",
       "      <td>0</td>\n",
       "      <td>0</td>\n",
       "      <td>0</td>\n",
       "      <td>1</td>\n",
       "      <td>1</td>\n",
       "      <td>1</td>\n",
       "      <td>0</td>\n",
       "      <td>0</td>\n",
       "      <td>0</td>\n",
       "      <td>1</td>\n",
       "      <td>0</td>\n",
       "      <td>0</td>\n",
       "      <td>0</td>\n",
       "      <td>0</td>\n",
       "    </tr>\n",
       "    <tr>\n",
       "      <th>...</th>\n",
       "      <td>...</td>\n",
       "      <td>...</td>\n",
       "      <td>...</td>\n",
       "      <td>...</td>\n",
       "      <td>...</td>\n",
       "      <td>...</td>\n",
       "      <td>...</td>\n",
       "      <td>...</td>\n",
       "      <td>...</td>\n",
       "      <td>...</td>\n",
       "      <td>...</td>\n",
       "      <td>...</td>\n",
       "      <td>...</td>\n",
       "      <td>...</td>\n",
       "      <td>...</td>\n",
       "      <td>...</td>\n",
       "      <td>...</td>\n",
       "      <td>...</td>\n",
       "      <td>...</td>\n",
       "      <td>...</td>\n",
       "      <td>...</td>\n",
       "      <td>...</td>\n",
       "      <td>...</td>\n",
       "      <td>...</td>\n",
       "      <td>...</td>\n",
       "      <td>...</td>\n",
       "      <td>...</td>\n",
       "      <td>...</td>\n",
       "      <td>...</td>\n",
       "      <td>...</td>\n",
       "      <td>...</td>\n",
       "      <td>...</td>\n",
       "      <td>...</td>\n",
       "      <td>...</td>\n",
       "      <td>...</td>\n",
       "      <td>...</td>\n",
       "      <td>...</td>\n",
       "      <td>...</td>\n",
       "    </tr>\n",
       "    <tr>\n",
       "      <th>15914</th>\n",
       "      <td>1</td>\n",
       "      <td>0</td>\n",
       "      <td>0</td>\n",
       "      <td>1</td>\n",
       "      <td>0</td>\n",
       "      <td>1</td>\n",
       "      <td>0</td>\n",
       "      <td>0</td>\n",
       "      <td>1</td>\n",
       "      <td>1</td>\n",
       "      <td>0</td>\n",
       "      <td>0</td>\n",
       "      <td>0</td>\n",
       "      <td>1</td>\n",
       "      <td>1</td>\n",
       "      <td>0</td>\n",
       "      <td>1</td>\n",
       "      <td>1</td>\n",
       "      <td>0</td>\n",
       "      <td>1</td>\n",
       "      <td>1</td>\n",
       "      <td>1</td>\n",
       "      <td>0</td>\n",
       "      <td>1</td>\n",
       "      <td>0</td>\n",
       "      <td>0</td>\n",
       "      <td>1</td>\n",
       "      <td>1</td>\n",
       "      <td>1</td>\n",
       "      <td>1</td>\n",
       "      <td>0</td>\n",
       "      <td>0</td>\n",
       "      <td>1</td>\n",
       "      <td>1</td>\n",
       "      <td>0</td>\n",
       "      <td>1</td>\n",
       "      <td>0</td>\n",
       "      <td>0</td>\n",
       "    </tr>\n",
       "    <tr>\n",
       "      <th>15915</th>\n",
       "      <td>1</td>\n",
       "      <td>0</td>\n",
       "      <td>0</td>\n",
       "      <td>1</td>\n",
       "      <td>0</td>\n",
       "      <td>1</td>\n",
       "      <td>0</td>\n",
       "      <td>1</td>\n",
       "      <td>1</td>\n",
       "      <td>0</td>\n",
       "      <td>1</td>\n",
       "      <td>1</td>\n",
       "      <td>1</td>\n",
       "      <td>1</td>\n",
       "      <td>1</td>\n",
       "      <td>0</td>\n",
       "      <td>1</td>\n",
       "      <td>1</td>\n",
       "      <td>1</td>\n",
       "      <td>0</td>\n",
       "      <td>0</td>\n",
       "      <td>1</td>\n",
       "      <td>0</td>\n",
       "      <td>1</td>\n",
       "      <td>1</td>\n",
       "      <td>1</td>\n",
       "      <td>1</td>\n",
       "      <td>1</td>\n",
       "      <td>1</td>\n",
       "      <td>1</td>\n",
       "      <td>1</td>\n",
       "      <td>0</td>\n",
       "      <td>0</td>\n",
       "      <td>0</td>\n",
       "      <td>1</td>\n",
       "      <td>0</td>\n",
       "      <td>0</td>\n",
       "      <td>0</td>\n",
       "    </tr>\n",
       "    <tr>\n",
       "      <th>15916</th>\n",
       "      <td>1</td>\n",
       "      <td>0</td>\n",
       "      <td>1</td>\n",
       "      <td>1</td>\n",
       "      <td>0</td>\n",
       "      <td>1</td>\n",
       "      <td>0</td>\n",
       "      <td>1</td>\n",
       "      <td>1</td>\n",
       "      <td>0</td>\n",
       "      <td>1</td>\n",
       "      <td>1</td>\n",
       "      <td>1</td>\n",
       "      <td>0</td>\n",
       "      <td>0</td>\n",
       "      <td>0</td>\n",
       "      <td>1</td>\n",
       "      <td>1</td>\n",
       "      <td>0</td>\n",
       "      <td>1</td>\n",
       "      <td>1</td>\n",
       "      <td>1</td>\n",
       "      <td>1</td>\n",
       "      <td>1</td>\n",
       "      <td>1</td>\n",
       "      <td>0</td>\n",
       "      <td>1</td>\n",
       "      <td>1</td>\n",
       "      <td>1</td>\n",
       "      <td>1</td>\n",
       "      <td>1</td>\n",
       "      <td>1</td>\n",
       "      <td>0</td>\n",
       "      <td>0</td>\n",
       "      <td>1</td>\n",
       "      <td>0</td>\n",
       "      <td>0</td>\n",
       "      <td>0</td>\n",
       "    </tr>\n",
       "    <tr>\n",
       "      <th>15917</th>\n",
       "      <td>1</td>\n",
       "      <td>0</td>\n",
       "      <td>0</td>\n",
       "      <td>1</td>\n",
       "      <td>0</td>\n",
       "      <td>1</td>\n",
       "      <td>0</td>\n",
       "      <td>0</td>\n",
       "      <td>1</td>\n",
       "      <td>1</td>\n",
       "      <td>0</td>\n",
       "      <td>0</td>\n",
       "      <td>0</td>\n",
       "      <td>0</td>\n",
       "      <td>0</td>\n",
       "      <td>0</td>\n",
       "      <td>1</td>\n",
       "      <td>1</td>\n",
       "      <td>0</td>\n",
       "      <td>0</td>\n",
       "      <td>0</td>\n",
       "      <td>0</td>\n",
       "      <td>0</td>\n",
       "      <td>1</td>\n",
       "      <td>0</td>\n",
       "      <td>0</td>\n",
       "      <td>0</td>\n",
       "      <td>0</td>\n",
       "      <td>1</td>\n",
       "      <td>0</td>\n",
       "      <td>0</td>\n",
       "      <td>0</td>\n",
       "      <td>0</td>\n",
       "      <td>1</td>\n",
       "      <td>0</td>\n",
       "      <td>0</td>\n",
       "      <td>0</td>\n",
       "      <td>0</td>\n",
       "    </tr>\n",
       "    <tr>\n",
       "      <th>15918</th>\n",
       "      <td>1</td>\n",
       "      <td>0</td>\n",
       "      <td>0</td>\n",
       "      <td>1</td>\n",
       "      <td>0</td>\n",
       "      <td>1</td>\n",
       "      <td>0</td>\n",
       "      <td>1</td>\n",
       "      <td>1</td>\n",
       "      <td>1</td>\n",
       "      <td>0</td>\n",
       "      <td>0</td>\n",
       "      <td>0</td>\n",
       "      <td>1</td>\n",
       "      <td>0</td>\n",
       "      <td>0</td>\n",
       "      <td>1</td>\n",
       "      <td>0</td>\n",
       "      <td>0</td>\n",
       "      <td>0</td>\n",
       "      <td>0</td>\n",
       "      <td>1</td>\n",
       "      <td>0</td>\n",
       "      <td>0</td>\n",
       "      <td>0</td>\n",
       "      <td>0</td>\n",
       "      <td>0</td>\n",
       "      <td>0</td>\n",
       "      <td>1</td>\n",
       "      <td>0</td>\n",
       "      <td>1</td>\n",
       "      <td>0</td>\n",
       "      <td>0</td>\n",
       "      <td>0</td>\n",
       "      <td>0</td>\n",
       "      <td>0</td>\n",
       "      <td>0</td>\n",
       "      <td>0</td>\n",
       "    </tr>\n",
       "  </tbody>\n",
       "</table>\n",
       "<p>15919 rows × 38 columns</p>\n",
       "</div>"
      ],
      "text/plain": [
       "       Air conditioning  Air suspension  Armrest  Automatic climate control  \\\n",
       "0                     1               0        1                          1   \n",
       "1                     1               0        0                          1   \n",
       "2                     1               0        0                          0   \n",
       "3                     0               1        1                          0   \n",
       "4                     1               0        1                          1   \n",
       "...                 ...             ...      ...                        ...   \n",
       "15914                 1               0        0                          1   \n",
       "15915                 1               0        0                          1   \n",
       "15916                 1               0        1                          1   \n",
       "15917                 1               0        0                          1   \n",
       "15918                 1               0        0                          1   \n",
       "\n",
       "       Auxiliary heating  Cruise control  Electric Starter  Electric tailgate  \\\n",
       "0                      0               1                 0                  0   \n",
       "1                      0               0                 0                  0   \n",
       "2                      0               1                 0                  0   \n",
       "3                      1               0                 0                  0   \n",
       "4                      0               0                 0                  0   \n",
       "...                  ...             ...               ...                ...   \n",
       "15914                  0               1                 0                  0   \n",
       "15915                  0               1                 0                  1   \n",
       "15916                  0               1                 0                  1   \n",
       "15917                  0               1                 0                  0   \n",
       "15918                  0               1                 0                  1   \n",
       "\n",
       "       Electrical side mirrors  Electrically adjustable seats  \\\n",
       "0                            1                              0   \n",
       "1                            0                              0   \n",
       "2                            1                              0   \n",
       "3                            1                              0   \n",
       "4                            1                              0   \n",
       "...                        ...                            ...   \n",
       "15914                        1                              1   \n",
       "15915                        1                              0   \n",
       "15916                        1                              0   \n",
       "15917                        1                              1   \n",
       "15918                        1                              1   \n",
       "\n",
       "       Electrically heated windshield  Heads-up display  \\\n",
       "0                                   0                 0   \n",
       "1                                   0                 0   \n",
       "2                                   0                 0   \n",
       "3                                   0                 1   \n",
       "4                                   0                 0   \n",
       "...                               ...               ...   \n",
       "15914                               0                 0   \n",
       "15915                               1                 1   \n",
       "15916                               1                 1   \n",
       "15917                               0                 0   \n",
       "15918                               0                 0   \n",
       "\n",
       "       Heated steering wheel  Hill Holder  Keyless central door lock  \\\n",
       "0                          0            1                          0   \n",
       "1                          0            1                          0   \n",
       "2                          0            1                          0   \n",
       "3                          0            1                          0   \n",
       "4                          0            1                          0   \n",
       "...                      ...          ...                        ...   \n",
       "15914                      0            1                          1   \n",
       "15915                      1            1                          1   \n",
       "15916                      1            0                          0   \n",
       "15917                      0            0                          0   \n",
       "15918                      0            1                          0   \n",
       "\n",
       "       Leather seats  Leather steering wheel  Light sensor  Lumbar support  \\\n",
       "0                  0                       1             1               0   \n",
       "1                  0                       1             0               1   \n",
       "2                  0                       1             0               0   \n",
       "3                  0                       1             1               1   \n",
       "4                  0                       1             1               0   \n",
       "...              ...                     ...           ...             ...   \n",
       "15914              0                       1             1               0   \n",
       "15915              0                       1             1               1   \n",
       "15916              0                       1             1               0   \n",
       "15917              0                       1             1               0   \n",
       "15918              0                       1             0               0   \n",
       "\n",
       "       Massage seats  Multi-function steering wheel  Navigation system  \\\n",
       "0                  0                              1                  1   \n",
       "1                  0                              0                  0   \n",
       "2                  0                              1                  1   \n",
       "3                  0                              1                  1   \n",
       "4                  0                              1                  0   \n",
       "...              ...                            ...                ...   \n",
       "15914              1                              1                  1   \n",
       "15915              0                              0                  1   \n",
       "15916              1                              1                  1   \n",
       "15917              0                              0                  0   \n",
       "15918              0                              0                  1   \n",
       "\n",
       "       Panorama roof  Park Distance Control  Parking assist system camera  \\\n",
       "0                  0                      1                             0   \n",
       "1                  0                      0                             0   \n",
       "2                  0                      1                             0   \n",
       "3                  0                      0                             0   \n",
       "4                  0                      1                             0   \n",
       "...              ...                    ...                           ...   \n",
       "15914              0                      1                             0   \n",
       "15915              0                      1                             1   \n",
       "15916              1                      1                             1   \n",
       "15917              0                      1                             0   \n",
       "15918              0                      0                             0   \n",
       "\n",
       "       Parking assist system self-steering  \\\n",
       "0                                        0   \n",
       "1                                        0   \n",
       "2                                        0   \n",
       "3                                        0   \n",
       "4                                        0   \n",
       "...                                    ...   \n",
       "15914                                    0   \n",
       "15915                                    1   \n",
       "15916                                    0   \n",
       "15917                                    0   \n",
       "15918                                    0   \n",
       "\n",
       "       Parking assist system sensors front  \\\n",
       "0                                        0   \n",
       "1                                        0   \n",
       "2                                        1   \n",
       "3                                        0   \n",
       "4                                        0   \n",
       "...                                    ...   \n",
       "15914                                    1   \n",
       "15915                                    1   \n",
       "15916                                    1   \n",
       "15917                                    0   \n",
       "15918                                    0   \n",
       "\n",
       "       Parking assist system sensors rear  Power windows  Rain sensor  \\\n",
       "0                                       1              1            1   \n",
       "1                                       1              1            0   \n",
       "2                                       1              1            0   \n",
       "3                                       0              1            1   \n",
       "4                                       1              1            1   \n",
       "...                                   ...            ...          ...   \n",
       "15914                                   1              1            1   \n",
       "15915                                   1              1            1   \n",
       "15916                                   1              1            1   \n",
       "15917                                   0              1            0   \n",
       "15918                                   0              1            0   \n",
       "\n",
       "       Seat heating  Seat ventilation  Split rear seats  Start-stop system  \\\n",
       "0                 1                 0                 0                  1   \n",
       "1                 0                 0                 0                  1   \n",
       "2                 1                 0                 0                  1   \n",
       "3                 1                 0                 1                  1   \n",
       "4                 0                 0                 0                  1   \n",
       "...             ...               ...               ...                ...   \n",
       "15914             0                 0                 1                  1   \n",
       "15915             1                 0                 0                  0   \n",
       "15916             1                 1                 0                  0   \n",
       "15917             0                 0                 0                  1   \n",
       "15918             1                 0                 0                  0   \n",
       "\n",
       "       Sunroof  Tinted windows  Wind deflector  Windshield  \n",
       "0            0               0               0           0  \n",
       "1            0               1               0           0  \n",
       "2            0               0               0           0  \n",
       "3            0               0               0           0  \n",
       "4            0               0               0           0  \n",
       "...        ...             ...             ...         ...  \n",
       "15914        0               1               0           0  \n",
       "15915        1               0               0           0  \n",
       "15916        1               0               0           0  \n",
       "15917        0               0               0           0  \n",
       "15918        0               0               0           0  \n",
       "\n",
       "[15919 rows x 38 columns]"
      ]
     },
     "execution_count": 150,
     "metadata": {},
     "output_type": "execute_result"
    }
   ],
   "source": [
    "df.comfort.map(lambda x: \",\".join(x),na_action='ignore').str.get_dummies(\",\")"
   ]
  },
  {
   "cell_type": "code",
   "execution_count": 151,
   "id": "00fc8ecd",
   "metadata": {},
   "outputs": [
    {
     "data": {
      "text/html": [
       "<div>\n",
       "<style scoped>\n",
       "    .dataframe tbody tr th:only-of-type {\n",
       "        vertical-align: middle;\n",
       "    }\n",
       "\n",
       "    .dataframe tbody tr th {\n",
       "        vertical-align: top;\n",
       "    }\n",
       "\n",
       "    .dataframe thead th {\n",
       "        text-align: right;\n",
       "    }\n",
       "</style>\n",
       "<table border=\"1\" class=\"dataframe\">\n",
       "  <thead>\n",
       "    <tr style=\"text-align: right;\">\n",
       "      <th></th>\n",
       "      <th>'Air suspension'</th>\n",
       "      <th>'Armrest'</th>\n",
       "      <th>'Armrest']</th>\n",
       "      <th>'Automatic climate control'</th>\n",
       "      <th>'Automatic climate control']</th>\n",
       "      <th>'Auxiliary heating'</th>\n",
       "      <th>'Cruise control'</th>\n",
       "      <th>'Cruise control']</th>\n",
       "      <th>'Electric Starter'</th>\n",
       "      <th>'Electric tailgate'</th>\n",
       "      <th>'Electrical side mirrors'</th>\n",
       "      <th>'Electrical side mirrors']</th>\n",
       "      <th>'Electrically adjustable seats'</th>\n",
       "      <th>'Electrically heated windshield'</th>\n",
       "      <th>'Heads-up display'</th>\n",
       "      <th>'Heated steering wheel'</th>\n",
       "      <th>'Hill Holder'</th>\n",
       "      <th>'Hill Holder']</th>\n",
       "      <th>'Keyless central door lock'</th>\n",
       "      <th>'Keyless central door lock']</th>\n",
       "      <th>'Leather seats'</th>\n",
       "      <th>'Leather steering wheel'</th>\n",
       "      <th>'Leather steering wheel']</th>\n",
       "      <th>'Light sensor'</th>\n",
       "      <th>'Lumbar support'</th>\n",
       "      <th>'Lumbar support']</th>\n",
       "      <th>'Massage seats'</th>\n",
       "      <th>'Multi-function steering wheel'</th>\n",
       "      <th>'Multi-function steering wheel']</th>\n",
       "      <th>'Navigation system'</th>\n",
       "      <th>'Navigation system']</th>\n",
       "      <th>'Panorama roof'</th>\n",
       "      <th>'Panorama roof']</th>\n",
       "      <th>'Park Distance Control'</th>\n",
       "      <th>'Park Distance Control']</th>\n",
       "      <th>'Parking assist system camera'</th>\n",
       "      <th>'Parking assist system camera']</th>\n",
       "      <th>'Parking assist system self-steering'</th>\n",
       "      <th>'Parking assist system self-steering']</th>\n",
       "      <th>'Parking assist system sensors front'</th>\n",
       "      <th>'Parking assist system sensors front']</th>\n",
       "      <th>'Parking assist system sensors rear'</th>\n",
       "      <th>'Parking assist system sensors rear']</th>\n",
       "      <th>'Power windows'</th>\n",
       "      <th>'Power windows']</th>\n",
       "      <th>'Rain sensor'</th>\n",
       "      <th>'Rain sensor']</th>\n",
       "      <th>'Seat heating'</th>\n",
       "      <th>'Seat heating']</th>\n",
       "      <th>'Seat ventilation'</th>\n",
       "      <th>'Seat ventilation']</th>\n",
       "      <th>'Split rear seats'</th>\n",
       "      <th>'Split rear seats']</th>\n",
       "      <th>'Start-stop system'</th>\n",
       "      <th>'Start-stop system']</th>\n",
       "      <th>'Sunroof'</th>\n",
       "      <th>'Sunroof']</th>\n",
       "      <th>'Tinted windows'</th>\n",
       "      <th>'Tinted windows']</th>\n",
       "      <th>'Wind deflector']</th>\n",
       "      <th>'Windshield']</th>\n",
       "      <th>['Air conditioning'</th>\n",
       "      <th>['Air conditioning']</th>\n",
       "      <th>['Air suspension'</th>\n",
       "      <th>['Air suspension']</th>\n",
       "      <th>['Armrest'</th>\n",
       "      <th>['Auxiliary heating'</th>\n",
       "      <th>['Cruise control'</th>\n",
       "      <th>['Cruise control']</th>\n",
       "      <th>['Electrical side mirrors'</th>\n",
       "      <th>['Electrically adjustable seats'</th>\n",
       "      <th>['Electrically heated windshield'</th>\n",
       "      <th>['Heads-up display']</th>\n",
       "      <th>['Heated steering wheel'</th>\n",
       "      <th>['Hill Holder'</th>\n",
       "      <th>['Hill Holder']</th>\n",
       "      <th>['Leather steering wheel'</th>\n",
       "      <th>['Light sensor'</th>\n",
       "      <th>['Multi-function steering wheel'</th>\n",
       "      <th>['Multi-function steering wheel']</th>\n",
       "      <th>['Navigation system'</th>\n",
       "      <th>['Navigation system']</th>\n",
       "      <th>['Panorama roof']</th>\n",
       "      <th>['Park Distance Control'</th>\n",
       "      <th>['Park Distance Control']</th>\n",
       "      <th>['Power windows'</th>\n",
       "      <th>['Power windows']</th>\n",
       "      <th>['Rain sensor']</th>\n",
       "      <th>['Sunroof']</th>\n",
       "    </tr>\n",
       "  </thead>\n",
       "  <tbody>\n",
       "    <tr>\n",
       "      <th>0</th>\n",
       "      <td>0</td>\n",
       "      <td>1</td>\n",
       "      <td>0</td>\n",
       "      <td>1</td>\n",
       "      <td>0</td>\n",
       "      <td>0</td>\n",
       "      <td>1</td>\n",
       "      <td>0</td>\n",
       "      <td>0</td>\n",
       "      <td>0</td>\n",
       "      <td>1</td>\n",
       "      <td>0</td>\n",
       "      <td>0</td>\n",
       "      <td>0</td>\n",
       "      <td>0</td>\n",
       "      <td>0</td>\n",
       "      <td>1</td>\n",
       "      <td>0</td>\n",
       "      <td>0</td>\n",
       "      <td>0</td>\n",
       "      <td>0</td>\n",
       "      <td>1</td>\n",
       "      <td>0</td>\n",
       "      <td>1</td>\n",
       "      <td>0</td>\n",
       "      <td>0</td>\n",
       "      <td>0</td>\n",
       "      <td>1</td>\n",
       "      <td>0</td>\n",
       "      <td>1</td>\n",
       "      <td>0</td>\n",
       "      <td>0</td>\n",
       "      <td>0</td>\n",
       "      <td>1</td>\n",
       "      <td>0</td>\n",
       "      <td>0</td>\n",
       "      <td>0</td>\n",
       "      <td>0</td>\n",
       "      <td>0</td>\n",
       "      <td>0</td>\n",
       "      <td>0</td>\n",
       "      <td>1</td>\n",
       "      <td>0</td>\n",
       "      <td>1</td>\n",
       "      <td>0</td>\n",
       "      <td>1</td>\n",
       "      <td>0</td>\n",
       "      <td>1</td>\n",
       "      <td>0</td>\n",
       "      <td>0</td>\n",
       "      <td>0</td>\n",
       "      <td>0</td>\n",
       "      <td>0</td>\n",
       "      <td>0</td>\n",
       "      <td>1</td>\n",
       "      <td>0</td>\n",
       "      <td>0</td>\n",
       "      <td>0</td>\n",
       "      <td>0</td>\n",
       "      <td>0</td>\n",
       "      <td>0</td>\n",
       "      <td>1</td>\n",
       "      <td>0</td>\n",
       "      <td>0</td>\n",
       "      <td>0</td>\n",
       "      <td>0</td>\n",
       "      <td>0</td>\n",
       "      <td>0</td>\n",
       "      <td>0</td>\n",
       "      <td>0</td>\n",
       "      <td>0</td>\n",
       "      <td>0</td>\n",
       "      <td>0</td>\n",
       "      <td>0</td>\n",
       "      <td>0</td>\n",
       "      <td>0</td>\n",
       "      <td>0</td>\n",
       "      <td>0</td>\n",
       "      <td>0</td>\n",
       "      <td>0</td>\n",
       "      <td>0</td>\n",
       "      <td>0</td>\n",
       "      <td>0</td>\n",
       "      <td>0</td>\n",
       "      <td>0</td>\n",
       "      <td>0</td>\n",
       "      <td>0</td>\n",
       "      <td>0</td>\n",
       "      <td>0</td>\n",
       "    </tr>\n",
       "    <tr>\n",
       "      <th>1</th>\n",
       "      <td>0</td>\n",
       "      <td>0</td>\n",
       "      <td>0</td>\n",
       "      <td>1</td>\n",
       "      <td>0</td>\n",
       "      <td>0</td>\n",
       "      <td>0</td>\n",
       "      <td>0</td>\n",
       "      <td>0</td>\n",
       "      <td>0</td>\n",
       "      <td>0</td>\n",
       "      <td>0</td>\n",
       "      <td>0</td>\n",
       "      <td>0</td>\n",
       "      <td>0</td>\n",
       "      <td>0</td>\n",
       "      <td>1</td>\n",
       "      <td>0</td>\n",
       "      <td>0</td>\n",
       "      <td>0</td>\n",
       "      <td>0</td>\n",
       "      <td>1</td>\n",
       "      <td>0</td>\n",
       "      <td>0</td>\n",
       "      <td>1</td>\n",
       "      <td>0</td>\n",
       "      <td>0</td>\n",
       "      <td>0</td>\n",
       "      <td>0</td>\n",
       "      <td>0</td>\n",
       "      <td>0</td>\n",
       "      <td>0</td>\n",
       "      <td>0</td>\n",
       "      <td>0</td>\n",
       "      <td>0</td>\n",
       "      <td>0</td>\n",
       "      <td>0</td>\n",
       "      <td>0</td>\n",
       "      <td>0</td>\n",
       "      <td>0</td>\n",
       "      <td>0</td>\n",
       "      <td>1</td>\n",
       "      <td>0</td>\n",
       "      <td>1</td>\n",
       "      <td>0</td>\n",
       "      <td>0</td>\n",
       "      <td>0</td>\n",
       "      <td>0</td>\n",
       "      <td>0</td>\n",
       "      <td>0</td>\n",
       "      <td>0</td>\n",
       "      <td>0</td>\n",
       "      <td>0</td>\n",
       "      <td>1</td>\n",
       "      <td>0</td>\n",
       "      <td>0</td>\n",
       "      <td>0</td>\n",
       "      <td>0</td>\n",
       "      <td>1</td>\n",
       "      <td>0</td>\n",
       "      <td>0</td>\n",
       "      <td>1</td>\n",
       "      <td>0</td>\n",
       "      <td>0</td>\n",
       "      <td>0</td>\n",
       "      <td>0</td>\n",
       "      <td>0</td>\n",
       "      <td>0</td>\n",
       "      <td>0</td>\n",
       "      <td>0</td>\n",
       "      <td>0</td>\n",
       "      <td>0</td>\n",
       "      <td>0</td>\n",
       "      <td>0</td>\n",
       "      <td>0</td>\n",
       "      <td>0</td>\n",
       "      <td>0</td>\n",
       "      <td>0</td>\n",
       "      <td>0</td>\n",
       "      <td>0</td>\n",
       "      <td>0</td>\n",
       "      <td>0</td>\n",
       "      <td>0</td>\n",
       "      <td>0</td>\n",
       "      <td>0</td>\n",
       "      <td>0</td>\n",
       "      <td>0</td>\n",
       "      <td>0</td>\n",
       "      <td>0</td>\n",
       "    </tr>\n",
       "    <tr>\n",
       "      <th>2</th>\n",
       "      <td>0</td>\n",
       "      <td>0</td>\n",
       "      <td>0</td>\n",
       "      <td>0</td>\n",
       "      <td>0</td>\n",
       "      <td>0</td>\n",
       "      <td>1</td>\n",
       "      <td>0</td>\n",
       "      <td>0</td>\n",
       "      <td>0</td>\n",
       "      <td>1</td>\n",
       "      <td>0</td>\n",
       "      <td>0</td>\n",
       "      <td>0</td>\n",
       "      <td>0</td>\n",
       "      <td>0</td>\n",
       "      <td>1</td>\n",
       "      <td>0</td>\n",
       "      <td>0</td>\n",
       "      <td>0</td>\n",
       "      <td>0</td>\n",
       "      <td>1</td>\n",
       "      <td>0</td>\n",
       "      <td>0</td>\n",
       "      <td>0</td>\n",
       "      <td>0</td>\n",
       "      <td>0</td>\n",
       "      <td>1</td>\n",
       "      <td>0</td>\n",
       "      <td>1</td>\n",
       "      <td>0</td>\n",
       "      <td>0</td>\n",
       "      <td>0</td>\n",
       "      <td>1</td>\n",
       "      <td>0</td>\n",
       "      <td>0</td>\n",
       "      <td>0</td>\n",
       "      <td>0</td>\n",
       "      <td>0</td>\n",
       "      <td>1</td>\n",
       "      <td>0</td>\n",
       "      <td>1</td>\n",
       "      <td>0</td>\n",
       "      <td>1</td>\n",
       "      <td>0</td>\n",
       "      <td>0</td>\n",
       "      <td>0</td>\n",
       "      <td>1</td>\n",
       "      <td>0</td>\n",
       "      <td>0</td>\n",
       "      <td>0</td>\n",
       "      <td>0</td>\n",
       "      <td>0</td>\n",
       "      <td>0</td>\n",
       "      <td>1</td>\n",
       "      <td>0</td>\n",
       "      <td>0</td>\n",
       "      <td>0</td>\n",
       "      <td>0</td>\n",
       "      <td>0</td>\n",
       "      <td>0</td>\n",
       "      <td>1</td>\n",
       "      <td>0</td>\n",
       "      <td>0</td>\n",
       "      <td>0</td>\n",
       "      <td>0</td>\n",
       "      <td>0</td>\n",
       "      <td>0</td>\n",
       "      <td>0</td>\n",
       "      <td>0</td>\n",
       "      <td>0</td>\n",
       "      <td>0</td>\n",
       "      <td>0</td>\n",
       "      <td>0</td>\n",
       "      <td>0</td>\n",
       "      <td>0</td>\n",
       "      <td>0</td>\n",
       "      <td>0</td>\n",
       "      <td>0</td>\n",
       "      <td>0</td>\n",
       "      <td>0</td>\n",
       "      <td>0</td>\n",
       "      <td>0</td>\n",
       "      <td>0</td>\n",
       "      <td>0</td>\n",
       "      <td>0</td>\n",
       "      <td>0</td>\n",
       "      <td>0</td>\n",
       "      <td>0</td>\n",
       "    </tr>\n",
       "    <tr>\n",
       "      <th>3</th>\n",
       "      <td>0</td>\n",
       "      <td>1</td>\n",
       "      <td>0</td>\n",
       "      <td>0</td>\n",
       "      <td>0</td>\n",
       "      <td>1</td>\n",
       "      <td>0</td>\n",
       "      <td>0</td>\n",
       "      <td>0</td>\n",
       "      <td>0</td>\n",
       "      <td>1</td>\n",
       "      <td>0</td>\n",
       "      <td>0</td>\n",
       "      <td>0</td>\n",
       "      <td>1</td>\n",
       "      <td>0</td>\n",
       "      <td>1</td>\n",
       "      <td>0</td>\n",
       "      <td>0</td>\n",
       "      <td>0</td>\n",
       "      <td>0</td>\n",
       "      <td>1</td>\n",
       "      <td>0</td>\n",
       "      <td>1</td>\n",
       "      <td>1</td>\n",
       "      <td>0</td>\n",
       "      <td>0</td>\n",
       "      <td>1</td>\n",
       "      <td>0</td>\n",
       "      <td>1</td>\n",
       "      <td>0</td>\n",
       "      <td>0</td>\n",
       "      <td>0</td>\n",
       "      <td>0</td>\n",
       "      <td>0</td>\n",
       "      <td>0</td>\n",
       "      <td>0</td>\n",
       "      <td>0</td>\n",
       "      <td>0</td>\n",
       "      <td>0</td>\n",
       "      <td>0</td>\n",
       "      <td>0</td>\n",
       "      <td>0</td>\n",
       "      <td>1</td>\n",
       "      <td>0</td>\n",
       "      <td>1</td>\n",
       "      <td>0</td>\n",
       "      <td>1</td>\n",
       "      <td>0</td>\n",
       "      <td>0</td>\n",
       "      <td>0</td>\n",
       "      <td>1</td>\n",
       "      <td>0</td>\n",
       "      <td>0</td>\n",
       "      <td>1</td>\n",
       "      <td>0</td>\n",
       "      <td>0</td>\n",
       "      <td>0</td>\n",
       "      <td>0</td>\n",
       "      <td>0</td>\n",
       "      <td>0</td>\n",
       "      <td>0</td>\n",
       "      <td>0</td>\n",
       "      <td>1</td>\n",
       "      <td>0</td>\n",
       "      <td>0</td>\n",
       "      <td>0</td>\n",
       "      <td>0</td>\n",
       "      <td>0</td>\n",
       "      <td>0</td>\n",
       "      <td>0</td>\n",
       "      <td>0</td>\n",
       "      <td>0</td>\n",
       "      <td>0</td>\n",
       "      <td>0</td>\n",
       "      <td>0</td>\n",
       "      <td>0</td>\n",
       "      <td>0</td>\n",
       "      <td>0</td>\n",
       "      <td>0</td>\n",
       "      <td>0</td>\n",
       "      <td>0</td>\n",
       "      <td>0</td>\n",
       "      <td>0</td>\n",
       "      <td>0</td>\n",
       "      <td>0</td>\n",
       "      <td>0</td>\n",
       "      <td>0</td>\n",
       "      <td>0</td>\n",
       "    </tr>\n",
       "    <tr>\n",
       "      <th>4</th>\n",
       "      <td>0</td>\n",
       "      <td>1</td>\n",
       "      <td>0</td>\n",
       "      <td>1</td>\n",
       "      <td>0</td>\n",
       "      <td>0</td>\n",
       "      <td>0</td>\n",
       "      <td>0</td>\n",
       "      <td>0</td>\n",
       "      <td>0</td>\n",
       "      <td>1</td>\n",
       "      <td>0</td>\n",
       "      <td>0</td>\n",
       "      <td>0</td>\n",
       "      <td>0</td>\n",
       "      <td>0</td>\n",
       "      <td>1</td>\n",
       "      <td>0</td>\n",
       "      <td>0</td>\n",
       "      <td>0</td>\n",
       "      <td>0</td>\n",
       "      <td>1</td>\n",
       "      <td>0</td>\n",
       "      <td>1</td>\n",
       "      <td>0</td>\n",
       "      <td>0</td>\n",
       "      <td>0</td>\n",
       "      <td>1</td>\n",
       "      <td>0</td>\n",
       "      <td>0</td>\n",
       "      <td>0</td>\n",
       "      <td>0</td>\n",
       "      <td>0</td>\n",
       "      <td>1</td>\n",
       "      <td>0</td>\n",
       "      <td>0</td>\n",
       "      <td>0</td>\n",
       "      <td>0</td>\n",
       "      <td>0</td>\n",
       "      <td>0</td>\n",
       "      <td>0</td>\n",
       "      <td>1</td>\n",
       "      <td>0</td>\n",
       "      <td>1</td>\n",
       "      <td>0</td>\n",
       "      <td>1</td>\n",
       "      <td>0</td>\n",
       "      <td>0</td>\n",
       "      <td>0</td>\n",
       "      <td>0</td>\n",
       "      <td>0</td>\n",
       "      <td>0</td>\n",
       "      <td>0</td>\n",
       "      <td>0</td>\n",
       "      <td>1</td>\n",
       "      <td>0</td>\n",
       "      <td>0</td>\n",
       "      <td>0</td>\n",
       "      <td>0</td>\n",
       "      <td>0</td>\n",
       "      <td>0</td>\n",
       "      <td>1</td>\n",
       "      <td>0</td>\n",
       "      <td>0</td>\n",
       "      <td>0</td>\n",
       "      <td>0</td>\n",
       "      <td>0</td>\n",
       "      <td>0</td>\n",
       "      <td>0</td>\n",
       "      <td>0</td>\n",
       "      <td>0</td>\n",
       "      <td>0</td>\n",
       "      <td>0</td>\n",
       "      <td>0</td>\n",
       "      <td>0</td>\n",
       "      <td>0</td>\n",
       "      <td>0</td>\n",
       "      <td>0</td>\n",
       "      <td>0</td>\n",
       "      <td>0</td>\n",
       "      <td>0</td>\n",
       "      <td>0</td>\n",
       "      <td>0</td>\n",
       "      <td>0</td>\n",
       "      <td>0</td>\n",
       "      <td>0</td>\n",
       "      <td>0</td>\n",
       "      <td>0</td>\n",
       "      <td>0</td>\n",
       "    </tr>\n",
       "    <tr>\n",
       "      <th>...</th>\n",
       "      <td>...</td>\n",
       "      <td>...</td>\n",
       "      <td>...</td>\n",
       "      <td>...</td>\n",
       "      <td>...</td>\n",
       "      <td>...</td>\n",
       "      <td>...</td>\n",
       "      <td>...</td>\n",
       "      <td>...</td>\n",
       "      <td>...</td>\n",
       "      <td>...</td>\n",
       "      <td>...</td>\n",
       "      <td>...</td>\n",
       "      <td>...</td>\n",
       "      <td>...</td>\n",
       "      <td>...</td>\n",
       "      <td>...</td>\n",
       "      <td>...</td>\n",
       "      <td>...</td>\n",
       "      <td>...</td>\n",
       "      <td>...</td>\n",
       "      <td>...</td>\n",
       "      <td>...</td>\n",
       "      <td>...</td>\n",
       "      <td>...</td>\n",
       "      <td>...</td>\n",
       "      <td>...</td>\n",
       "      <td>...</td>\n",
       "      <td>...</td>\n",
       "      <td>...</td>\n",
       "      <td>...</td>\n",
       "      <td>...</td>\n",
       "      <td>...</td>\n",
       "      <td>...</td>\n",
       "      <td>...</td>\n",
       "      <td>...</td>\n",
       "      <td>...</td>\n",
       "      <td>...</td>\n",
       "      <td>...</td>\n",
       "      <td>...</td>\n",
       "      <td>...</td>\n",
       "      <td>...</td>\n",
       "      <td>...</td>\n",
       "      <td>...</td>\n",
       "      <td>...</td>\n",
       "      <td>...</td>\n",
       "      <td>...</td>\n",
       "      <td>...</td>\n",
       "      <td>...</td>\n",
       "      <td>...</td>\n",
       "      <td>...</td>\n",
       "      <td>...</td>\n",
       "      <td>...</td>\n",
       "      <td>...</td>\n",
       "      <td>...</td>\n",
       "      <td>...</td>\n",
       "      <td>...</td>\n",
       "      <td>...</td>\n",
       "      <td>...</td>\n",
       "      <td>...</td>\n",
       "      <td>...</td>\n",
       "      <td>...</td>\n",
       "      <td>...</td>\n",
       "      <td>...</td>\n",
       "      <td>...</td>\n",
       "      <td>...</td>\n",
       "      <td>...</td>\n",
       "      <td>...</td>\n",
       "      <td>...</td>\n",
       "      <td>...</td>\n",
       "      <td>...</td>\n",
       "      <td>...</td>\n",
       "      <td>...</td>\n",
       "      <td>...</td>\n",
       "      <td>...</td>\n",
       "      <td>...</td>\n",
       "      <td>...</td>\n",
       "      <td>...</td>\n",
       "      <td>...</td>\n",
       "      <td>...</td>\n",
       "      <td>...</td>\n",
       "      <td>...</td>\n",
       "      <td>...</td>\n",
       "      <td>...</td>\n",
       "      <td>...</td>\n",
       "      <td>...</td>\n",
       "      <td>...</td>\n",
       "      <td>...</td>\n",
       "      <td>...</td>\n",
       "    </tr>\n",
       "    <tr>\n",
       "      <th>15914</th>\n",
       "      <td>0</td>\n",
       "      <td>0</td>\n",
       "      <td>0</td>\n",
       "      <td>1</td>\n",
       "      <td>0</td>\n",
       "      <td>0</td>\n",
       "      <td>1</td>\n",
       "      <td>0</td>\n",
       "      <td>0</td>\n",
       "      <td>0</td>\n",
       "      <td>1</td>\n",
       "      <td>0</td>\n",
       "      <td>1</td>\n",
       "      <td>0</td>\n",
       "      <td>0</td>\n",
       "      <td>0</td>\n",
       "      <td>1</td>\n",
       "      <td>0</td>\n",
       "      <td>1</td>\n",
       "      <td>0</td>\n",
       "      <td>0</td>\n",
       "      <td>1</td>\n",
       "      <td>0</td>\n",
       "      <td>1</td>\n",
       "      <td>0</td>\n",
       "      <td>0</td>\n",
       "      <td>1</td>\n",
       "      <td>1</td>\n",
       "      <td>0</td>\n",
       "      <td>1</td>\n",
       "      <td>0</td>\n",
       "      <td>0</td>\n",
       "      <td>0</td>\n",
       "      <td>1</td>\n",
       "      <td>0</td>\n",
       "      <td>0</td>\n",
       "      <td>0</td>\n",
       "      <td>0</td>\n",
       "      <td>0</td>\n",
       "      <td>1</td>\n",
       "      <td>0</td>\n",
       "      <td>1</td>\n",
       "      <td>0</td>\n",
       "      <td>1</td>\n",
       "      <td>0</td>\n",
       "      <td>1</td>\n",
       "      <td>0</td>\n",
       "      <td>0</td>\n",
       "      <td>0</td>\n",
       "      <td>0</td>\n",
       "      <td>0</td>\n",
       "      <td>1</td>\n",
       "      <td>0</td>\n",
       "      <td>1</td>\n",
       "      <td>0</td>\n",
       "      <td>0</td>\n",
       "      <td>0</td>\n",
       "      <td>0</td>\n",
       "      <td>1</td>\n",
       "      <td>0</td>\n",
       "      <td>0</td>\n",
       "      <td>1</td>\n",
       "      <td>0</td>\n",
       "      <td>0</td>\n",
       "      <td>0</td>\n",
       "      <td>0</td>\n",
       "      <td>0</td>\n",
       "      <td>0</td>\n",
       "      <td>0</td>\n",
       "      <td>0</td>\n",
       "      <td>0</td>\n",
       "      <td>0</td>\n",
       "      <td>0</td>\n",
       "      <td>0</td>\n",
       "      <td>0</td>\n",
       "      <td>0</td>\n",
       "      <td>0</td>\n",
       "      <td>0</td>\n",
       "      <td>0</td>\n",
       "      <td>0</td>\n",
       "      <td>0</td>\n",
       "      <td>0</td>\n",
       "      <td>0</td>\n",
       "      <td>0</td>\n",
       "      <td>0</td>\n",
       "      <td>0</td>\n",
       "      <td>0</td>\n",
       "      <td>0</td>\n",
       "      <td>0</td>\n",
       "    </tr>\n",
       "    <tr>\n",
       "      <th>15915</th>\n",
       "      <td>0</td>\n",
       "      <td>0</td>\n",
       "      <td>0</td>\n",
       "      <td>1</td>\n",
       "      <td>0</td>\n",
       "      <td>0</td>\n",
       "      <td>1</td>\n",
       "      <td>0</td>\n",
       "      <td>0</td>\n",
       "      <td>1</td>\n",
       "      <td>1</td>\n",
       "      <td>0</td>\n",
       "      <td>0</td>\n",
       "      <td>1</td>\n",
       "      <td>1</td>\n",
       "      <td>1</td>\n",
       "      <td>1</td>\n",
       "      <td>0</td>\n",
       "      <td>1</td>\n",
       "      <td>0</td>\n",
       "      <td>0</td>\n",
       "      <td>1</td>\n",
       "      <td>0</td>\n",
       "      <td>1</td>\n",
       "      <td>1</td>\n",
       "      <td>0</td>\n",
       "      <td>0</td>\n",
       "      <td>0</td>\n",
       "      <td>0</td>\n",
       "      <td>1</td>\n",
       "      <td>0</td>\n",
       "      <td>0</td>\n",
       "      <td>0</td>\n",
       "      <td>1</td>\n",
       "      <td>0</td>\n",
       "      <td>1</td>\n",
       "      <td>0</td>\n",
       "      <td>1</td>\n",
       "      <td>0</td>\n",
       "      <td>1</td>\n",
       "      <td>0</td>\n",
       "      <td>1</td>\n",
       "      <td>0</td>\n",
       "      <td>1</td>\n",
       "      <td>0</td>\n",
       "      <td>1</td>\n",
       "      <td>0</td>\n",
       "      <td>1</td>\n",
       "      <td>0</td>\n",
       "      <td>0</td>\n",
       "      <td>0</td>\n",
       "      <td>0</td>\n",
       "      <td>0</td>\n",
       "      <td>0</td>\n",
       "      <td>0</td>\n",
       "      <td>0</td>\n",
       "      <td>1</td>\n",
       "      <td>0</td>\n",
       "      <td>0</td>\n",
       "      <td>0</td>\n",
       "      <td>0</td>\n",
       "      <td>1</td>\n",
       "      <td>0</td>\n",
       "      <td>0</td>\n",
       "      <td>0</td>\n",
       "      <td>0</td>\n",
       "      <td>0</td>\n",
       "      <td>0</td>\n",
       "      <td>0</td>\n",
       "      <td>0</td>\n",
       "      <td>0</td>\n",
       "      <td>0</td>\n",
       "      <td>0</td>\n",
       "      <td>0</td>\n",
       "      <td>0</td>\n",
       "      <td>0</td>\n",
       "      <td>0</td>\n",
       "      <td>0</td>\n",
       "      <td>0</td>\n",
       "      <td>0</td>\n",
       "      <td>0</td>\n",
       "      <td>0</td>\n",
       "      <td>0</td>\n",
       "      <td>0</td>\n",
       "      <td>0</td>\n",
       "      <td>0</td>\n",
       "      <td>0</td>\n",
       "      <td>0</td>\n",
       "      <td>0</td>\n",
       "    </tr>\n",
       "    <tr>\n",
       "      <th>15916</th>\n",
       "      <td>0</td>\n",
       "      <td>1</td>\n",
       "      <td>0</td>\n",
       "      <td>1</td>\n",
       "      <td>0</td>\n",
       "      <td>0</td>\n",
       "      <td>1</td>\n",
       "      <td>0</td>\n",
       "      <td>0</td>\n",
       "      <td>1</td>\n",
       "      <td>1</td>\n",
       "      <td>0</td>\n",
       "      <td>0</td>\n",
       "      <td>1</td>\n",
       "      <td>1</td>\n",
       "      <td>1</td>\n",
       "      <td>0</td>\n",
       "      <td>0</td>\n",
       "      <td>0</td>\n",
       "      <td>0</td>\n",
       "      <td>0</td>\n",
       "      <td>1</td>\n",
       "      <td>0</td>\n",
       "      <td>1</td>\n",
       "      <td>0</td>\n",
       "      <td>0</td>\n",
       "      <td>1</td>\n",
       "      <td>1</td>\n",
       "      <td>0</td>\n",
       "      <td>1</td>\n",
       "      <td>0</td>\n",
       "      <td>1</td>\n",
       "      <td>0</td>\n",
       "      <td>1</td>\n",
       "      <td>0</td>\n",
       "      <td>1</td>\n",
       "      <td>0</td>\n",
       "      <td>0</td>\n",
       "      <td>0</td>\n",
       "      <td>1</td>\n",
       "      <td>0</td>\n",
       "      <td>1</td>\n",
       "      <td>0</td>\n",
       "      <td>1</td>\n",
       "      <td>0</td>\n",
       "      <td>1</td>\n",
       "      <td>0</td>\n",
       "      <td>1</td>\n",
       "      <td>0</td>\n",
       "      <td>1</td>\n",
       "      <td>0</td>\n",
       "      <td>0</td>\n",
       "      <td>0</td>\n",
       "      <td>0</td>\n",
       "      <td>0</td>\n",
       "      <td>0</td>\n",
       "      <td>1</td>\n",
       "      <td>0</td>\n",
       "      <td>0</td>\n",
       "      <td>0</td>\n",
       "      <td>0</td>\n",
       "      <td>1</td>\n",
       "      <td>0</td>\n",
       "      <td>0</td>\n",
       "      <td>0</td>\n",
       "      <td>0</td>\n",
       "      <td>0</td>\n",
       "      <td>0</td>\n",
       "      <td>0</td>\n",
       "      <td>0</td>\n",
       "      <td>0</td>\n",
       "      <td>0</td>\n",
       "      <td>0</td>\n",
       "      <td>0</td>\n",
       "      <td>0</td>\n",
       "      <td>0</td>\n",
       "      <td>0</td>\n",
       "      <td>0</td>\n",
       "      <td>0</td>\n",
       "      <td>0</td>\n",
       "      <td>0</td>\n",
       "      <td>0</td>\n",
       "      <td>0</td>\n",
       "      <td>0</td>\n",
       "      <td>0</td>\n",
       "      <td>0</td>\n",
       "      <td>0</td>\n",
       "      <td>0</td>\n",
       "      <td>0</td>\n",
       "    </tr>\n",
       "    <tr>\n",
       "      <th>15917</th>\n",
       "      <td>0</td>\n",
       "      <td>0</td>\n",
       "      <td>0</td>\n",
       "      <td>1</td>\n",
       "      <td>0</td>\n",
       "      <td>0</td>\n",
       "      <td>1</td>\n",
       "      <td>0</td>\n",
       "      <td>0</td>\n",
       "      <td>0</td>\n",
       "      <td>1</td>\n",
       "      <td>0</td>\n",
       "      <td>1</td>\n",
       "      <td>0</td>\n",
       "      <td>0</td>\n",
       "      <td>0</td>\n",
       "      <td>0</td>\n",
       "      <td>0</td>\n",
       "      <td>0</td>\n",
       "      <td>0</td>\n",
       "      <td>0</td>\n",
       "      <td>1</td>\n",
       "      <td>0</td>\n",
       "      <td>1</td>\n",
       "      <td>0</td>\n",
       "      <td>0</td>\n",
       "      <td>0</td>\n",
       "      <td>0</td>\n",
       "      <td>0</td>\n",
       "      <td>0</td>\n",
       "      <td>0</td>\n",
       "      <td>0</td>\n",
       "      <td>0</td>\n",
       "      <td>1</td>\n",
       "      <td>0</td>\n",
       "      <td>0</td>\n",
       "      <td>0</td>\n",
       "      <td>0</td>\n",
       "      <td>0</td>\n",
       "      <td>0</td>\n",
       "      <td>0</td>\n",
       "      <td>0</td>\n",
       "      <td>0</td>\n",
       "      <td>1</td>\n",
       "      <td>0</td>\n",
       "      <td>0</td>\n",
       "      <td>0</td>\n",
       "      <td>0</td>\n",
       "      <td>0</td>\n",
       "      <td>0</td>\n",
       "      <td>0</td>\n",
       "      <td>0</td>\n",
       "      <td>0</td>\n",
       "      <td>0</td>\n",
       "      <td>1</td>\n",
       "      <td>0</td>\n",
       "      <td>0</td>\n",
       "      <td>0</td>\n",
       "      <td>0</td>\n",
       "      <td>0</td>\n",
       "      <td>0</td>\n",
       "      <td>1</td>\n",
       "      <td>0</td>\n",
       "      <td>0</td>\n",
       "      <td>0</td>\n",
       "      <td>0</td>\n",
       "      <td>0</td>\n",
       "      <td>0</td>\n",
       "      <td>0</td>\n",
       "      <td>0</td>\n",
       "      <td>0</td>\n",
       "      <td>0</td>\n",
       "      <td>0</td>\n",
       "      <td>0</td>\n",
       "      <td>0</td>\n",
       "      <td>0</td>\n",
       "      <td>0</td>\n",
       "      <td>0</td>\n",
       "      <td>0</td>\n",
       "      <td>0</td>\n",
       "      <td>0</td>\n",
       "      <td>0</td>\n",
       "      <td>0</td>\n",
       "      <td>0</td>\n",
       "      <td>0</td>\n",
       "      <td>0</td>\n",
       "      <td>0</td>\n",
       "      <td>0</td>\n",
       "      <td>0</td>\n",
       "    </tr>\n",
       "    <tr>\n",
       "      <th>15918</th>\n",
       "      <td>0</td>\n",
       "      <td>0</td>\n",
       "      <td>0</td>\n",
       "      <td>1</td>\n",
       "      <td>0</td>\n",
       "      <td>0</td>\n",
       "      <td>1</td>\n",
       "      <td>0</td>\n",
       "      <td>0</td>\n",
       "      <td>1</td>\n",
       "      <td>1</td>\n",
       "      <td>0</td>\n",
       "      <td>1</td>\n",
       "      <td>0</td>\n",
       "      <td>0</td>\n",
       "      <td>0</td>\n",
       "      <td>1</td>\n",
       "      <td>0</td>\n",
       "      <td>0</td>\n",
       "      <td>0</td>\n",
       "      <td>0</td>\n",
       "      <td>1</td>\n",
       "      <td>0</td>\n",
       "      <td>0</td>\n",
       "      <td>0</td>\n",
       "      <td>0</td>\n",
       "      <td>0</td>\n",
       "      <td>0</td>\n",
       "      <td>0</td>\n",
       "      <td>1</td>\n",
       "      <td>0</td>\n",
       "      <td>0</td>\n",
       "      <td>0</td>\n",
       "      <td>0</td>\n",
       "      <td>0</td>\n",
       "      <td>0</td>\n",
       "      <td>0</td>\n",
       "      <td>0</td>\n",
       "      <td>0</td>\n",
       "      <td>0</td>\n",
       "      <td>0</td>\n",
       "      <td>0</td>\n",
       "      <td>0</td>\n",
       "      <td>1</td>\n",
       "      <td>0</td>\n",
       "      <td>0</td>\n",
       "      <td>0</td>\n",
       "      <td>0</td>\n",
       "      <td>1</td>\n",
       "      <td>0</td>\n",
       "      <td>0</td>\n",
       "      <td>0</td>\n",
       "      <td>0</td>\n",
       "      <td>0</td>\n",
       "      <td>0</td>\n",
       "      <td>0</td>\n",
       "      <td>0</td>\n",
       "      <td>0</td>\n",
       "      <td>0</td>\n",
       "      <td>0</td>\n",
       "      <td>0</td>\n",
       "      <td>1</td>\n",
       "      <td>0</td>\n",
       "      <td>0</td>\n",
       "      <td>0</td>\n",
       "      <td>0</td>\n",
       "      <td>0</td>\n",
       "      <td>0</td>\n",
       "      <td>0</td>\n",
       "      <td>0</td>\n",
       "      <td>0</td>\n",
       "      <td>0</td>\n",
       "      <td>0</td>\n",
       "      <td>0</td>\n",
       "      <td>0</td>\n",
       "      <td>0</td>\n",
       "      <td>0</td>\n",
       "      <td>0</td>\n",
       "      <td>0</td>\n",
       "      <td>0</td>\n",
       "      <td>0</td>\n",
       "      <td>0</td>\n",
       "      <td>0</td>\n",
       "      <td>0</td>\n",
       "      <td>0</td>\n",
       "      <td>0</td>\n",
       "      <td>0</td>\n",
       "      <td>0</td>\n",
       "      <td>0</td>\n",
       "    </tr>\n",
       "  </tbody>\n",
       "</table>\n",
       "<p>15919 rows × 89 columns</p>\n",
       "</div>"
      ],
      "text/plain": [
       "        'Air suspension'   'Armrest'   'Armrest']  \\\n",
       "0                      0           1            0   \n",
       "1                      0           0            0   \n",
       "2                      0           0            0   \n",
       "3                      0           1            0   \n",
       "4                      0           1            0   \n",
       "...                  ...         ...          ...   \n",
       "15914                  0           0            0   \n",
       "15915                  0           0            0   \n",
       "15916                  0           1            0   \n",
       "15917                  0           0            0   \n",
       "15918                  0           0            0   \n",
       "\n",
       "        'Automatic climate control'   'Automatic climate control']  \\\n",
       "0                                 1                              0   \n",
       "1                                 1                              0   \n",
       "2                                 0                              0   \n",
       "3                                 0                              0   \n",
       "4                                 1                              0   \n",
       "...                             ...                            ...   \n",
       "15914                             1                              0   \n",
       "15915                             1                              0   \n",
       "15916                             1                              0   \n",
       "15917                             1                              0   \n",
       "15918                             1                              0   \n",
       "\n",
       "        'Auxiliary heating'   'Cruise control'   'Cruise control']  \\\n",
       "0                         0                  1                   0   \n",
       "1                         0                  0                   0   \n",
       "2                         0                  1                   0   \n",
       "3                         1                  0                   0   \n",
       "4                         0                  0                   0   \n",
       "...                     ...                ...                 ...   \n",
       "15914                     0                  1                   0   \n",
       "15915                     0                  1                   0   \n",
       "15916                     0                  1                   0   \n",
       "15917                     0                  1                   0   \n",
       "15918                     0                  1                   0   \n",
       "\n",
       "        'Electric Starter'   'Electric tailgate'   'Electrical side mirrors'  \\\n",
       "0                        0                     0                           1   \n",
       "1                        0                     0                           0   \n",
       "2                        0                     0                           1   \n",
       "3                        0                     0                           1   \n",
       "4                        0                     0                           1   \n",
       "...                    ...                   ...                         ...   \n",
       "15914                    0                     0                           1   \n",
       "15915                    0                     1                           1   \n",
       "15916                    0                     1                           1   \n",
       "15917                    0                     0                           1   \n",
       "15918                    0                     1                           1   \n",
       "\n",
       "        'Electrical side mirrors']   'Electrically adjustable seats'  \\\n",
       "0                                0                                 0   \n",
       "1                                0                                 0   \n",
       "2                                0                                 0   \n",
       "3                                0                                 0   \n",
       "4                                0                                 0   \n",
       "...                            ...                               ...   \n",
       "15914                            0                                 1   \n",
       "15915                            0                                 0   \n",
       "15916                            0                                 0   \n",
       "15917                            0                                 1   \n",
       "15918                            0                                 1   \n",
       "\n",
       "        'Electrically heated windshield'   'Heads-up display'  \\\n",
       "0                                      0                    0   \n",
       "1                                      0                    0   \n",
       "2                                      0                    0   \n",
       "3                                      0                    1   \n",
       "4                                      0                    0   \n",
       "...                                  ...                  ...   \n",
       "15914                                  0                    0   \n",
       "15915                                  1                    1   \n",
       "15916                                  1                    1   \n",
       "15917                                  0                    0   \n",
       "15918                                  0                    0   \n",
       "\n",
       "        'Heated steering wheel'   'Hill Holder'   'Hill Holder']  \\\n",
       "0                             0               1                0   \n",
       "1                             0               1                0   \n",
       "2                             0               1                0   \n",
       "3                             0               1                0   \n",
       "4                             0               1                0   \n",
       "...                         ...             ...              ...   \n",
       "15914                         0               1                0   \n",
       "15915                         1               1                0   \n",
       "15916                         1               0                0   \n",
       "15917                         0               0                0   \n",
       "15918                         0               1                0   \n",
       "\n",
       "        'Keyless central door lock'   'Keyless central door lock']  \\\n",
       "0                                 0                              0   \n",
       "1                                 0                              0   \n",
       "2                                 0                              0   \n",
       "3                                 0                              0   \n",
       "4                                 0                              0   \n",
       "...                             ...                            ...   \n",
       "15914                             1                              0   \n",
       "15915                             1                              0   \n",
       "15916                             0                              0   \n",
       "15917                             0                              0   \n",
       "15918                             0                              0   \n",
       "\n",
       "        'Leather seats'   'Leather steering wheel'  \\\n",
       "0                     0                          1   \n",
       "1                     0                          1   \n",
       "2                     0                          1   \n",
       "3                     0                          1   \n",
       "4                     0                          1   \n",
       "...                 ...                        ...   \n",
       "15914                 0                          1   \n",
       "15915                 0                          1   \n",
       "15916                 0                          1   \n",
       "15917                 0                          1   \n",
       "15918                 0                          1   \n",
       "\n",
       "        'Leather steering wheel']   'Light sensor'   'Lumbar support'  \\\n",
       "0                               0                1                  0   \n",
       "1                               0                0                  1   \n",
       "2                               0                0                  0   \n",
       "3                               0                1                  1   \n",
       "4                               0                1                  0   \n",
       "...                           ...              ...                ...   \n",
       "15914                           0                1                  0   \n",
       "15915                           0                1                  1   \n",
       "15916                           0                1                  0   \n",
       "15917                           0                1                  0   \n",
       "15918                           0                0                  0   \n",
       "\n",
       "        'Lumbar support']   'Massage seats'   'Multi-function steering wheel'  \\\n",
       "0                       0                 0                                 1   \n",
       "1                       0                 0                                 0   \n",
       "2                       0                 0                                 1   \n",
       "3                       0                 0                                 1   \n",
       "4                       0                 0                                 1   \n",
       "...                   ...               ...                               ...   \n",
       "15914                   0                 1                                 1   \n",
       "15915                   0                 0                                 0   \n",
       "15916                   0                 1                                 1   \n",
       "15917                   0                 0                                 0   \n",
       "15918                   0                 0                                 0   \n",
       "\n",
       "        'Multi-function steering wheel']   'Navigation system'  \\\n",
       "0                                      0                     1   \n",
       "1                                      0                     0   \n",
       "2                                      0                     1   \n",
       "3                                      0                     1   \n",
       "4                                      0                     0   \n",
       "...                                  ...                   ...   \n",
       "15914                                  0                     1   \n",
       "15915                                  0                     1   \n",
       "15916                                  0                     1   \n",
       "15917                                  0                     0   \n",
       "15918                                  0                     1   \n",
       "\n",
       "        'Navigation system']   'Panorama roof'   'Panorama roof']  \\\n",
       "0                          0                 0                  0   \n",
       "1                          0                 0                  0   \n",
       "2                          0                 0                  0   \n",
       "3                          0                 0                  0   \n",
       "4                          0                 0                  0   \n",
       "...                      ...               ...                ...   \n",
       "15914                      0                 0                  0   \n",
       "15915                      0                 0                  0   \n",
       "15916                      0                 1                  0   \n",
       "15917                      0                 0                  0   \n",
       "15918                      0                 0                  0   \n",
       "\n",
       "        'Park Distance Control'   'Park Distance Control']  \\\n",
       "0                             1                          0   \n",
       "1                             0                          0   \n",
       "2                             1                          0   \n",
       "3                             0                          0   \n",
       "4                             1                          0   \n",
       "...                         ...                        ...   \n",
       "15914                         1                          0   \n",
       "15915                         1                          0   \n",
       "15916                         1                          0   \n",
       "15917                         1                          0   \n",
       "15918                         0                          0   \n",
       "\n",
       "        'Parking assist system camera'   'Parking assist system camera']  \\\n",
       "0                                    0                                 0   \n",
       "1                                    0                                 0   \n",
       "2                                    0                                 0   \n",
       "3                                    0                                 0   \n",
       "4                                    0                                 0   \n",
       "...                                ...                               ...   \n",
       "15914                                0                                 0   \n",
       "15915                                1                                 0   \n",
       "15916                                1                                 0   \n",
       "15917                                0                                 0   \n",
       "15918                                0                                 0   \n",
       "\n",
       "        'Parking assist system self-steering'  \\\n",
       "0                                           0   \n",
       "1                                           0   \n",
       "2                                           0   \n",
       "3                                           0   \n",
       "4                                           0   \n",
       "...                                       ...   \n",
       "15914                                       0   \n",
       "15915                                       1   \n",
       "15916                                       0   \n",
       "15917                                       0   \n",
       "15918                                       0   \n",
       "\n",
       "        'Parking assist system self-steering']  \\\n",
       "0                                            0   \n",
       "1                                            0   \n",
       "2                                            0   \n",
       "3                                            0   \n",
       "4                                            0   \n",
       "...                                        ...   \n",
       "15914                                        0   \n",
       "15915                                        0   \n",
       "15916                                        0   \n",
       "15917                                        0   \n",
       "15918                                        0   \n",
       "\n",
       "        'Parking assist system sensors front'  \\\n",
       "0                                           0   \n",
       "1                                           0   \n",
       "2                                           1   \n",
       "3                                           0   \n",
       "4                                           0   \n",
       "...                                       ...   \n",
       "15914                                       1   \n",
       "15915                                       1   \n",
       "15916                                       1   \n",
       "15917                                       0   \n",
       "15918                                       0   \n",
       "\n",
       "        'Parking assist system sensors front']  \\\n",
       "0                                            0   \n",
       "1                                            0   \n",
       "2                                            0   \n",
       "3                                            0   \n",
       "4                                            0   \n",
       "...                                        ...   \n",
       "15914                                        0   \n",
       "15915                                        0   \n",
       "15916                                        0   \n",
       "15917                                        0   \n",
       "15918                                        0   \n",
       "\n",
       "        'Parking assist system sensors rear'  \\\n",
       "0                                          1   \n",
       "1                                          1   \n",
       "2                                          1   \n",
       "3                                          0   \n",
       "4                                          1   \n",
       "...                                      ...   \n",
       "15914                                      1   \n",
       "15915                                      1   \n",
       "15916                                      1   \n",
       "15917                                      0   \n",
       "15918                                      0   \n",
       "\n",
       "        'Parking assist system sensors rear']   'Power windows'  \\\n",
       "0                                           0                 1   \n",
       "1                                           0                 1   \n",
       "2                                           0                 1   \n",
       "3                                           0                 1   \n",
       "4                                           0                 1   \n",
       "...                                       ...               ...   \n",
       "15914                                       0                 1   \n",
       "15915                                       0                 1   \n",
       "15916                                       0                 1   \n",
       "15917                                       0                 1   \n",
       "15918                                       0                 1   \n",
       "\n",
       "        'Power windows']   'Rain sensor'   'Rain sensor']   'Seat heating'  \\\n",
       "0                      0               1                0                1   \n",
       "1                      0               0                0                0   \n",
       "2                      0               0                0                1   \n",
       "3                      0               1                0                1   \n",
       "4                      0               1                0                0   \n",
       "...                  ...             ...              ...              ...   \n",
       "15914                  0               1                0                0   \n",
       "15915                  0               1                0                1   \n",
       "15916                  0               1                0                1   \n",
       "15917                  0               0                0                0   \n",
       "15918                  0               0                0                0   \n",
       "\n",
       "        'Seat heating']   'Seat ventilation'   'Seat ventilation']  \\\n",
       "0                     0                    0                     0   \n",
       "1                     0                    0                     0   \n",
       "2                     0                    0                     0   \n",
       "3                     0                    0                     0   \n",
       "4                     0                    0                     0   \n",
       "...                 ...                  ...                   ...   \n",
       "15914                 0                    0                     0   \n",
       "15915                 0                    0                     0   \n",
       "15916                 0                    1                     0   \n",
       "15917                 0                    0                     0   \n",
       "15918                 1                    0                     0   \n",
       "\n",
       "        'Split rear seats'   'Split rear seats']   'Start-stop system'  \\\n",
       "0                        0                     0                     0   \n",
       "1                        0                     0                     1   \n",
       "2                        0                     0                     0   \n",
       "3                        1                     0                     0   \n",
       "4                        0                     0                     0   \n",
       "...                    ...                   ...                   ...   \n",
       "15914                    1                     0                     1   \n",
       "15915                    0                     0                     0   \n",
       "15916                    0                     0                     0   \n",
       "15917                    0                     0                     0   \n",
       "15918                    0                     0                     0   \n",
       "\n",
       "        'Start-stop system']   'Sunroof'   'Sunroof']   'Tinted windows'  \\\n",
       "0                          1           0            0                  0   \n",
       "1                          0           0            0                  0   \n",
       "2                          1           0            0                  0   \n",
       "3                          1           0            0                  0   \n",
       "4                          1           0            0                  0   \n",
       "...                      ...         ...          ...                ...   \n",
       "15914                      0           0            0                  0   \n",
       "15915                      0           0            1                  0   \n",
       "15916                      0           0            1                  0   \n",
       "15917                      1           0            0                  0   \n",
       "15918                      0           0            0                  0   \n",
       "\n",
       "        'Tinted windows']   'Wind deflector']   'Windshield']  \\\n",
       "0                       0                   0               0   \n",
       "1                       1                   0               0   \n",
       "2                       0                   0               0   \n",
       "3                       0                   0               0   \n",
       "4                       0                   0               0   \n",
       "...                   ...                 ...             ...   \n",
       "15914                   1                   0               0   \n",
       "15915                   0                   0               0   \n",
       "15916                   0                   0               0   \n",
       "15917                   0                   0               0   \n",
       "15918                   0                   0               0   \n",
       "\n",
       "       ['Air conditioning'  ['Air conditioning']  ['Air suspension'  \\\n",
       "0                        1                     0                  0   \n",
       "1                        1                     0                  0   \n",
       "2                        1                     0                  0   \n",
       "3                        0                     0                  1   \n",
       "4                        1                     0                  0   \n",
       "...                    ...                   ...                ...   \n",
       "15914                    1                     0                  0   \n",
       "15915                    1                     0                  0   \n",
       "15916                    1                     0                  0   \n",
       "15917                    1                     0                  0   \n",
       "15918                    1                     0                  0   \n",
       "\n",
       "       ['Air suspension']  ['Armrest'  ['Auxiliary heating'  \\\n",
       "0                       0           0                     0   \n",
       "1                       0           0                     0   \n",
       "2                       0           0                     0   \n",
       "3                       0           0                     0   \n",
       "4                       0           0                     0   \n",
       "...                   ...         ...                   ...   \n",
       "15914                   0           0                     0   \n",
       "15915                   0           0                     0   \n",
       "15916                   0           0                     0   \n",
       "15917                   0           0                     0   \n",
       "15918                   0           0                     0   \n",
       "\n",
       "       ['Cruise control'  ['Cruise control']  ['Electrical side mirrors'  \\\n",
       "0                      0                   0                           0   \n",
       "1                      0                   0                           0   \n",
       "2                      0                   0                           0   \n",
       "3                      0                   0                           0   \n",
       "4                      0                   0                           0   \n",
       "...                  ...                 ...                         ...   \n",
       "15914                  0                   0                           0   \n",
       "15915                  0                   0                           0   \n",
       "15916                  0                   0                           0   \n",
       "15917                  0                   0                           0   \n",
       "15918                  0                   0                           0   \n",
       "\n",
       "       ['Electrically adjustable seats'  ['Electrically heated windshield'  \\\n",
       "0                                     0                                  0   \n",
       "1                                     0                                  0   \n",
       "2                                     0                                  0   \n",
       "3                                     0                                  0   \n",
       "4                                     0                                  0   \n",
       "...                                 ...                                ...   \n",
       "15914                                 0                                  0   \n",
       "15915                                 0                                  0   \n",
       "15916                                 0                                  0   \n",
       "15917                                 0                                  0   \n",
       "15918                                 0                                  0   \n",
       "\n",
       "       ['Heads-up display']  ['Heated steering wheel'  ['Hill Holder'  \\\n",
       "0                         0                         0               0   \n",
       "1                         0                         0               0   \n",
       "2                         0                         0               0   \n",
       "3                         0                         0               0   \n",
       "4                         0                         0               0   \n",
       "...                     ...                       ...             ...   \n",
       "15914                     0                         0               0   \n",
       "15915                     0                         0               0   \n",
       "15916                     0                         0               0   \n",
       "15917                     0                         0               0   \n",
       "15918                     0                         0               0   \n",
       "\n",
       "       ['Hill Holder']  ['Leather steering wheel'  ['Light sensor'  \\\n",
       "0                    0                          0                0   \n",
       "1                    0                          0                0   \n",
       "2                    0                          0                0   \n",
       "3                    0                          0                0   \n",
       "4                    0                          0                0   \n",
       "...                ...                        ...              ...   \n",
       "15914                0                          0                0   \n",
       "15915                0                          0                0   \n",
       "15916                0                          0                0   \n",
       "15917                0                          0                0   \n",
       "15918                0                          0                0   \n",
       "\n",
       "       ['Multi-function steering wheel'  ['Multi-function steering wheel']  \\\n",
       "0                                     0                                  0   \n",
       "1                                     0                                  0   \n",
       "2                                     0                                  0   \n",
       "3                                     0                                  0   \n",
       "4                                     0                                  0   \n",
       "...                                 ...                                ...   \n",
       "15914                                 0                                  0   \n",
       "15915                                 0                                  0   \n",
       "15916                                 0                                  0   \n",
       "15917                                 0                                  0   \n",
       "15918                                 0                                  0   \n",
       "\n",
       "       ['Navigation system'  ['Navigation system']  ['Panorama roof']  \\\n",
       "0                         0                      0                  0   \n",
       "1                         0                      0                  0   \n",
       "2                         0                      0                  0   \n",
       "3                         0                      0                  0   \n",
       "4                         0                      0                  0   \n",
       "...                     ...                    ...                ...   \n",
       "15914                     0                      0                  0   \n",
       "15915                     0                      0                  0   \n",
       "15916                     0                      0                  0   \n",
       "15917                     0                      0                  0   \n",
       "15918                     0                      0                  0   \n",
       "\n",
       "       ['Park Distance Control'  ['Park Distance Control']  ['Power windows'  \\\n",
       "0                             0                          0                 0   \n",
       "1                             0                          0                 0   \n",
       "2                             0                          0                 0   \n",
       "3                             0                          0                 0   \n",
       "4                             0                          0                 0   \n",
       "...                         ...                        ...               ...   \n",
       "15914                         0                          0                 0   \n",
       "15915                         0                          0                 0   \n",
       "15916                         0                          0                 0   \n",
       "15917                         0                          0                 0   \n",
       "15918                         0                          0                 0   \n",
       "\n",
       "       ['Power windows']  ['Rain sensor']  ['Sunroof']  \n",
       "0                      0                0            0  \n",
       "1                      0                0            0  \n",
       "2                      0                0            0  \n",
       "3                      0                0            0  \n",
       "4                      0                0            0  \n",
       "...                  ...              ...          ...  \n",
       "15914                  0                0            0  \n",
       "15915                  0                0            0  \n",
       "15916                  0                0            0  \n",
       "15917                  0                0            0  \n",
       "15918                  0                0            0  \n",
       "\n",
       "[15919 rows x 89 columns]"
      ]
     },
     "execution_count": 151,
     "metadata": {},
     "output_type": "execute_result"
    }
   ],
   "source": [
    "df.comfort.str.get_dummies(\",\")\n",
    "# string hale getirmezsek gereksiz sütunlar oluşuyor"
   ]
  },
  {
   "cell_type": "markdown",
   "id": "2e835832",
   "metadata": {},
   "source": [
    "### '\\nEntertainment & Media\\n' Sütunu"
   ]
  },
  {
   "cell_type": "code",
   "execution_count": 152,
   "id": "885b4294",
   "metadata": {},
   "outputs": [],
   "source": [
    "df.rename(columns={'\\nEntertainment & Media\\n':'media'},inplace=True)"
   ]
  },
  {
   "cell_type": "code",
   "execution_count": 153,
   "id": "fb7d4e06",
   "metadata": {},
   "outputs": [
    {
     "data": {
      "text/plain": [
       "13259                                                 None\n",
       "2392     [Bluetooth, CD player, Hands-free equipment, M...\n",
       "11098                                  [On-board computer]\n",
       "8212     [Bluetooth, Hands-free equipment, MP3, On-boar...\n",
       "6999     [Bluetooth, Hands-free equipment, MP3, On-boar...\n",
       "Name: media, dtype: object"
      ]
     },
     "execution_count": 153,
     "metadata": {},
     "output_type": "execute_result"
    }
   ],
   "source": [
    "df.media.sample(5)"
   ]
  },
  {
   "cell_type": "code",
   "execution_count": 154,
   "id": "eea563a4",
   "metadata": {},
   "outputs": [],
   "source": [
    "media_unique = {j for i in df.media.dropna() for j in i}\n",
    "# set comprehension ile unique değerlerini bulduk. "
   ]
  },
  {
   "cell_type": "code",
   "execution_count": 155,
   "id": "179f80d3",
   "metadata": {},
   "outputs": [
    {
     "data": {
      "text/plain": [
       "10"
      ]
     },
     "execution_count": 155,
     "metadata": {},
     "output_type": "execute_result"
    }
   ],
   "source": [
    "len(media_unique)"
   ]
  },
  {
   "cell_type": "code",
   "execution_count": 156,
   "id": "f1aba214",
   "metadata": {},
   "outputs": [],
   "source": [
    "# comfort sütunu için yapmayı planladığımız işlemlerin aynısını bu sütunlar içinde yapabiliriz"
   ]
  },
  {
   "cell_type": "code",
   "execution_count": 157,
   "id": "d311c390",
   "metadata": {},
   "outputs": [
    {
     "data": {
      "text/html": [
       "<div>\n",
       "<style scoped>\n",
       "    .dataframe tbody tr th:only-of-type {\n",
       "        vertical-align: middle;\n",
       "    }\n",
       "\n",
       "    .dataframe tbody tr th {\n",
       "        vertical-align: top;\n",
       "    }\n",
       "\n",
       "    .dataframe thead th {\n",
       "        text-align: right;\n",
       "    }\n",
       "</style>\n",
       "<table border=\"1\" class=\"dataframe\">\n",
       "  <thead>\n",
       "    <tr style=\"text-align: right;\">\n",
       "      <th></th>\n",
       "      <th>'CD player'</th>\n",
       "      <th>'CD player']</th>\n",
       "      <th>'Digital radio'</th>\n",
       "      <th>'Digital radio']</th>\n",
       "      <th>'Hands-free equipment'</th>\n",
       "      <th>'Hands-free equipment']</th>\n",
       "      <th>'MP3'</th>\n",
       "      <th>'MP3']</th>\n",
       "      <th>'On-board computer'</th>\n",
       "      <th>'On-board computer']</th>\n",
       "      <th>'Radio'</th>\n",
       "      <th>'Radio']</th>\n",
       "      <th>'Sound system'</th>\n",
       "      <th>'Sound system']</th>\n",
       "      <th>'Television'</th>\n",
       "      <th>'Television']</th>\n",
       "      <th>'USB']</th>\n",
       "      <th>['Bluetooth'</th>\n",
       "      <th>['Bluetooth']</th>\n",
       "      <th>['CD player'</th>\n",
       "      <th>['CD player']</th>\n",
       "      <th>['Digital radio'</th>\n",
       "      <th>['Digital radio']</th>\n",
       "      <th>['Hands-free equipment'</th>\n",
       "      <th>['Hands-free equipment']</th>\n",
       "      <th>['MP3'</th>\n",
       "      <th>['MP3']</th>\n",
       "      <th>['On-board computer'</th>\n",
       "      <th>['On-board computer']</th>\n",
       "      <th>['Radio'</th>\n",
       "      <th>['Radio']</th>\n",
       "      <th>['Sound system'</th>\n",
       "      <th>['Sound system']</th>\n",
       "      <th>['USB']</th>\n",
       "    </tr>\n",
       "  </thead>\n",
       "  <tbody>\n",
       "    <tr>\n",
       "      <th>0</th>\n",
       "      <td>0</td>\n",
       "      <td>0</td>\n",
       "      <td>0</td>\n",
       "      <td>0</td>\n",
       "      <td>1</td>\n",
       "      <td>0</td>\n",
       "      <td>0</td>\n",
       "      <td>0</td>\n",
       "      <td>1</td>\n",
       "      <td>0</td>\n",
       "      <td>0</td>\n",
       "      <td>1</td>\n",
       "      <td>0</td>\n",
       "      <td>0</td>\n",
       "      <td>0</td>\n",
       "      <td>0</td>\n",
       "      <td>0</td>\n",
       "      <td>1</td>\n",
       "      <td>0</td>\n",
       "      <td>0</td>\n",
       "      <td>0</td>\n",
       "      <td>0</td>\n",
       "      <td>0</td>\n",
       "      <td>0</td>\n",
       "      <td>0</td>\n",
       "      <td>0</td>\n",
       "      <td>0</td>\n",
       "      <td>0</td>\n",
       "      <td>0</td>\n",
       "      <td>0</td>\n",
       "      <td>0</td>\n",
       "      <td>0</td>\n",
       "      <td>0</td>\n",
       "      <td>0</td>\n",
       "    </tr>\n",
       "    <tr>\n",
       "      <th>1</th>\n",
       "      <td>0</td>\n",
       "      <td>0</td>\n",
       "      <td>0</td>\n",
       "      <td>0</td>\n",
       "      <td>1</td>\n",
       "      <td>0</td>\n",
       "      <td>0</td>\n",
       "      <td>0</td>\n",
       "      <td>1</td>\n",
       "      <td>0</td>\n",
       "      <td>1</td>\n",
       "      <td>0</td>\n",
       "      <td>0</td>\n",
       "      <td>1</td>\n",
       "      <td>0</td>\n",
       "      <td>0</td>\n",
       "      <td>0</td>\n",
       "      <td>1</td>\n",
       "      <td>0</td>\n",
       "      <td>0</td>\n",
       "      <td>0</td>\n",
       "      <td>0</td>\n",
       "      <td>0</td>\n",
       "      <td>0</td>\n",
       "      <td>0</td>\n",
       "      <td>0</td>\n",
       "      <td>0</td>\n",
       "      <td>0</td>\n",
       "      <td>0</td>\n",
       "      <td>0</td>\n",
       "      <td>0</td>\n",
       "      <td>0</td>\n",
       "      <td>0</td>\n",
       "      <td>0</td>\n",
       "    </tr>\n",
       "    <tr>\n",
       "      <th>2</th>\n",
       "      <td>0</td>\n",
       "      <td>0</td>\n",
       "      <td>0</td>\n",
       "      <td>0</td>\n",
       "      <td>0</td>\n",
       "      <td>0</td>\n",
       "      <td>0</td>\n",
       "      <td>0</td>\n",
       "      <td>0</td>\n",
       "      <td>1</td>\n",
       "      <td>0</td>\n",
       "      <td>0</td>\n",
       "      <td>0</td>\n",
       "      <td>0</td>\n",
       "      <td>0</td>\n",
       "      <td>0</td>\n",
       "      <td>0</td>\n",
       "      <td>0</td>\n",
       "      <td>0</td>\n",
       "      <td>0</td>\n",
       "      <td>0</td>\n",
       "      <td>0</td>\n",
       "      <td>0</td>\n",
       "      <td>0</td>\n",
       "      <td>0</td>\n",
       "      <td>1</td>\n",
       "      <td>0</td>\n",
       "      <td>0</td>\n",
       "      <td>0</td>\n",
       "      <td>0</td>\n",
       "      <td>0</td>\n",
       "      <td>0</td>\n",
       "      <td>0</td>\n",
       "      <td>0</td>\n",
       "    </tr>\n",
       "    <tr>\n",
       "      <th>3</th>\n",
       "      <td>1</td>\n",
       "      <td>0</td>\n",
       "      <td>0</td>\n",
       "      <td>0</td>\n",
       "      <td>1</td>\n",
       "      <td>0</td>\n",
       "      <td>1</td>\n",
       "      <td>0</td>\n",
       "      <td>1</td>\n",
       "      <td>0</td>\n",
       "      <td>1</td>\n",
       "      <td>0</td>\n",
       "      <td>1</td>\n",
       "      <td>0</td>\n",
       "      <td>0</td>\n",
       "      <td>0</td>\n",
       "      <td>1</td>\n",
       "      <td>1</td>\n",
       "      <td>0</td>\n",
       "      <td>0</td>\n",
       "      <td>0</td>\n",
       "      <td>0</td>\n",
       "      <td>0</td>\n",
       "      <td>0</td>\n",
       "      <td>0</td>\n",
       "      <td>0</td>\n",
       "      <td>0</td>\n",
       "      <td>0</td>\n",
       "      <td>0</td>\n",
       "      <td>0</td>\n",
       "      <td>0</td>\n",
       "      <td>0</td>\n",
       "      <td>0</td>\n",
       "      <td>0</td>\n",
       "    </tr>\n",
       "    <tr>\n",
       "      <th>4</th>\n",
       "      <td>1</td>\n",
       "      <td>0</td>\n",
       "      <td>0</td>\n",
       "      <td>0</td>\n",
       "      <td>1</td>\n",
       "      <td>0</td>\n",
       "      <td>1</td>\n",
       "      <td>0</td>\n",
       "      <td>1</td>\n",
       "      <td>0</td>\n",
       "      <td>1</td>\n",
       "      <td>0</td>\n",
       "      <td>0</td>\n",
       "      <td>0</td>\n",
       "      <td>0</td>\n",
       "      <td>0</td>\n",
       "      <td>1</td>\n",
       "      <td>1</td>\n",
       "      <td>0</td>\n",
       "      <td>0</td>\n",
       "      <td>0</td>\n",
       "      <td>0</td>\n",
       "      <td>0</td>\n",
       "      <td>0</td>\n",
       "      <td>0</td>\n",
       "      <td>0</td>\n",
       "      <td>0</td>\n",
       "      <td>0</td>\n",
       "      <td>0</td>\n",
       "      <td>0</td>\n",
       "      <td>0</td>\n",
       "      <td>0</td>\n",
       "      <td>0</td>\n",
       "      <td>0</td>\n",
       "    </tr>\n",
       "    <tr>\n",
       "      <th>...</th>\n",
       "      <td>...</td>\n",
       "      <td>...</td>\n",
       "      <td>...</td>\n",
       "      <td>...</td>\n",
       "      <td>...</td>\n",
       "      <td>...</td>\n",
       "      <td>...</td>\n",
       "      <td>...</td>\n",
       "      <td>...</td>\n",
       "      <td>...</td>\n",
       "      <td>...</td>\n",
       "      <td>...</td>\n",
       "      <td>...</td>\n",
       "      <td>...</td>\n",
       "      <td>...</td>\n",
       "      <td>...</td>\n",
       "      <td>...</td>\n",
       "      <td>...</td>\n",
       "      <td>...</td>\n",
       "      <td>...</td>\n",
       "      <td>...</td>\n",
       "      <td>...</td>\n",
       "      <td>...</td>\n",
       "      <td>...</td>\n",
       "      <td>...</td>\n",
       "      <td>...</td>\n",
       "      <td>...</td>\n",
       "      <td>...</td>\n",
       "      <td>...</td>\n",
       "      <td>...</td>\n",
       "      <td>...</td>\n",
       "      <td>...</td>\n",
       "      <td>...</td>\n",
       "      <td>...</td>\n",
       "    </tr>\n",
       "    <tr>\n",
       "      <th>15914</th>\n",
       "      <td>0</td>\n",
       "      <td>0</td>\n",
       "      <td>1</td>\n",
       "      <td>0</td>\n",
       "      <td>1</td>\n",
       "      <td>0</td>\n",
       "      <td>0</td>\n",
       "      <td>0</td>\n",
       "      <td>1</td>\n",
       "      <td>0</td>\n",
       "      <td>1</td>\n",
       "      <td>0</td>\n",
       "      <td>0</td>\n",
       "      <td>0</td>\n",
       "      <td>0</td>\n",
       "      <td>0</td>\n",
       "      <td>1</td>\n",
       "      <td>1</td>\n",
       "      <td>0</td>\n",
       "      <td>0</td>\n",
       "      <td>0</td>\n",
       "      <td>0</td>\n",
       "      <td>0</td>\n",
       "      <td>0</td>\n",
       "      <td>0</td>\n",
       "      <td>0</td>\n",
       "      <td>0</td>\n",
       "      <td>0</td>\n",
       "      <td>0</td>\n",
       "      <td>0</td>\n",
       "      <td>0</td>\n",
       "      <td>0</td>\n",
       "      <td>0</td>\n",
       "      <td>0</td>\n",
       "    </tr>\n",
       "    <tr>\n",
       "      <th>15915</th>\n",
       "      <td>0</td>\n",
       "      <td>0</td>\n",
       "      <td>1</td>\n",
       "      <td>0</td>\n",
       "      <td>1</td>\n",
       "      <td>0</td>\n",
       "      <td>0</td>\n",
       "      <td>0</td>\n",
       "      <td>0</td>\n",
       "      <td>0</td>\n",
       "      <td>1</td>\n",
       "      <td>0</td>\n",
       "      <td>0</td>\n",
       "      <td>0</td>\n",
       "      <td>0</td>\n",
       "      <td>0</td>\n",
       "      <td>1</td>\n",
       "      <td>1</td>\n",
       "      <td>0</td>\n",
       "      <td>0</td>\n",
       "      <td>0</td>\n",
       "      <td>0</td>\n",
       "      <td>0</td>\n",
       "      <td>0</td>\n",
       "      <td>0</td>\n",
       "      <td>0</td>\n",
       "      <td>0</td>\n",
       "      <td>0</td>\n",
       "      <td>0</td>\n",
       "      <td>0</td>\n",
       "      <td>0</td>\n",
       "      <td>0</td>\n",
       "      <td>0</td>\n",
       "      <td>0</td>\n",
       "    </tr>\n",
       "    <tr>\n",
       "      <th>15916</th>\n",
       "      <td>0</td>\n",
       "      <td>0</td>\n",
       "      <td>0</td>\n",
       "      <td>0</td>\n",
       "      <td>1</td>\n",
       "      <td>0</td>\n",
       "      <td>0</td>\n",
       "      <td>0</td>\n",
       "      <td>1</td>\n",
       "      <td>0</td>\n",
       "      <td>0</td>\n",
       "      <td>1</td>\n",
       "      <td>0</td>\n",
       "      <td>0</td>\n",
       "      <td>0</td>\n",
       "      <td>0</td>\n",
       "      <td>0</td>\n",
       "      <td>1</td>\n",
       "      <td>0</td>\n",
       "      <td>0</td>\n",
       "      <td>0</td>\n",
       "      <td>0</td>\n",
       "      <td>0</td>\n",
       "      <td>0</td>\n",
       "      <td>0</td>\n",
       "      <td>0</td>\n",
       "      <td>0</td>\n",
       "      <td>0</td>\n",
       "      <td>0</td>\n",
       "      <td>0</td>\n",
       "      <td>0</td>\n",
       "      <td>0</td>\n",
       "      <td>0</td>\n",
       "      <td>0</td>\n",
       "    </tr>\n",
       "    <tr>\n",
       "      <th>15917</th>\n",
       "      <td>0</td>\n",
       "      <td>0</td>\n",
       "      <td>1</td>\n",
       "      <td>0</td>\n",
       "      <td>0</td>\n",
       "      <td>0</td>\n",
       "      <td>0</td>\n",
       "      <td>0</td>\n",
       "      <td>0</td>\n",
       "      <td>0</td>\n",
       "      <td>1</td>\n",
       "      <td>0</td>\n",
       "      <td>0</td>\n",
       "      <td>0</td>\n",
       "      <td>0</td>\n",
       "      <td>0</td>\n",
       "      <td>1</td>\n",
       "      <td>1</td>\n",
       "      <td>0</td>\n",
       "      <td>0</td>\n",
       "      <td>0</td>\n",
       "      <td>0</td>\n",
       "      <td>0</td>\n",
       "      <td>0</td>\n",
       "      <td>0</td>\n",
       "      <td>0</td>\n",
       "      <td>0</td>\n",
       "      <td>0</td>\n",
       "      <td>0</td>\n",
       "      <td>0</td>\n",
       "      <td>0</td>\n",
       "      <td>0</td>\n",
       "      <td>0</td>\n",
       "      <td>0</td>\n",
       "    </tr>\n",
       "    <tr>\n",
       "      <th>15918</th>\n",
       "      <td>0</td>\n",
       "      <td>0</td>\n",
       "      <td>0</td>\n",
       "      <td>0</td>\n",
       "      <td>0</td>\n",
       "      <td>0</td>\n",
       "      <td>0</td>\n",
       "      <td>0</td>\n",
       "      <td>0</td>\n",
       "      <td>0</td>\n",
       "      <td>0</td>\n",
       "      <td>0</td>\n",
       "      <td>0</td>\n",
       "      <td>0</td>\n",
       "      <td>0</td>\n",
       "      <td>0</td>\n",
       "      <td>0</td>\n",
       "      <td>0</td>\n",
       "      <td>0</td>\n",
       "      <td>0</td>\n",
       "      <td>0</td>\n",
       "      <td>0</td>\n",
       "      <td>0</td>\n",
       "      <td>0</td>\n",
       "      <td>0</td>\n",
       "      <td>0</td>\n",
       "      <td>0</td>\n",
       "      <td>0</td>\n",
       "      <td>0</td>\n",
       "      <td>0</td>\n",
       "      <td>0</td>\n",
       "      <td>0</td>\n",
       "      <td>0</td>\n",
       "      <td>1</td>\n",
       "    </tr>\n",
       "  </tbody>\n",
       "</table>\n",
       "<p>15919 rows × 34 columns</p>\n",
       "</div>"
      ],
      "text/plain": [
       "        'CD player'   'CD player']   'Digital radio'   'Digital radio']  \\\n",
       "0                 0              0                 0                  0   \n",
       "1                 0              0                 0                  0   \n",
       "2                 0              0                 0                  0   \n",
       "3                 1              0                 0                  0   \n",
       "4                 1              0                 0                  0   \n",
       "...             ...            ...               ...                ...   \n",
       "15914             0              0                 1                  0   \n",
       "15915             0              0                 1                  0   \n",
       "15916             0              0                 0                  0   \n",
       "15917             0              0                 1                  0   \n",
       "15918             0              0                 0                  0   \n",
       "\n",
       "        'Hands-free equipment'   'Hands-free equipment']   'MP3'   'MP3']  \\\n",
       "0                            1                         0       0        0   \n",
       "1                            1                         0       0        0   \n",
       "2                            0                         0       0        0   \n",
       "3                            1                         0       1        0   \n",
       "4                            1                         0       1        0   \n",
       "...                        ...                       ...     ...      ...   \n",
       "15914                        1                         0       0        0   \n",
       "15915                        1                         0       0        0   \n",
       "15916                        1                         0       0        0   \n",
       "15917                        0                         0       0        0   \n",
       "15918                        0                         0       0        0   \n",
       "\n",
       "        'On-board computer'   'On-board computer']   'Radio'   'Radio']  \\\n",
       "0                         1                      0         0          1   \n",
       "1                         1                      0         1          0   \n",
       "2                         0                      1         0          0   \n",
       "3                         1                      0         1          0   \n",
       "4                         1                      0         1          0   \n",
       "...                     ...                    ...       ...        ...   \n",
       "15914                     1                      0         1          0   \n",
       "15915                     0                      0         1          0   \n",
       "15916                     1                      0         0          1   \n",
       "15917                     0                      0         1          0   \n",
       "15918                     0                      0         0          0   \n",
       "\n",
       "        'Sound system'   'Sound system']   'Television'   'Television']  \\\n",
       "0                    0                 0              0               0   \n",
       "1                    0                 1              0               0   \n",
       "2                    0                 0              0               0   \n",
       "3                    1                 0              0               0   \n",
       "4                    0                 0              0               0   \n",
       "...                ...               ...            ...             ...   \n",
       "15914                0                 0              0               0   \n",
       "15915                0                 0              0               0   \n",
       "15916                0                 0              0               0   \n",
       "15917                0                 0              0               0   \n",
       "15918                0                 0              0               0   \n",
       "\n",
       "        'USB']  ['Bluetooth'  ['Bluetooth']  ['CD player'  ['CD player']  \\\n",
       "0            0             1              0             0              0   \n",
       "1            0             1              0             0              0   \n",
       "2            0             0              0             0              0   \n",
       "3            1             1              0             0              0   \n",
       "4            1             1              0             0              0   \n",
       "...        ...           ...            ...           ...            ...   \n",
       "15914        1             1              0             0              0   \n",
       "15915        1             1              0             0              0   \n",
       "15916        0             1              0             0              0   \n",
       "15917        1             1              0             0              0   \n",
       "15918        0             0              0             0              0   \n",
       "\n",
       "       ['Digital radio'  ['Digital radio']  ['Hands-free equipment'  \\\n",
       "0                     0                  0                        0   \n",
       "1                     0                  0                        0   \n",
       "2                     0                  0                        0   \n",
       "3                     0                  0                        0   \n",
       "4                     0                  0                        0   \n",
       "...                 ...                ...                      ...   \n",
       "15914                 0                  0                        0   \n",
       "15915                 0                  0                        0   \n",
       "15916                 0                  0                        0   \n",
       "15917                 0                  0                        0   \n",
       "15918                 0                  0                        0   \n",
       "\n",
       "       ['Hands-free equipment']  ['MP3'  ['MP3']  ['On-board computer'  \\\n",
       "0                             0       0        0                     0   \n",
       "1                             0       0        0                     0   \n",
       "2                             0       1        0                     0   \n",
       "3                             0       0        0                     0   \n",
       "4                             0       0        0                     0   \n",
       "...                         ...     ...      ...                   ...   \n",
       "15914                         0       0        0                     0   \n",
       "15915                         0       0        0                     0   \n",
       "15916                         0       0        0                     0   \n",
       "15917                         0       0        0                     0   \n",
       "15918                         0       0        0                     0   \n",
       "\n",
       "       ['On-board computer']  ['Radio'  ['Radio']  ['Sound system'  \\\n",
       "0                          0         0          0                0   \n",
       "1                          0         0          0                0   \n",
       "2                          0         0          0                0   \n",
       "3                          0         0          0                0   \n",
       "4                          0         0          0                0   \n",
       "...                      ...       ...        ...              ...   \n",
       "15914                      0         0          0                0   \n",
       "15915                      0         0          0                0   \n",
       "15916                      0         0          0                0   \n",
       "15917                      0         0          0                0   \n",
       "15918                      0         0          0                0   \n",
       "\n",
       "       ['Sound system']  ['USB']  \n",
       "0                     0        0  \n",
       "1                     0        0  \n",
       "2                     0        0  \n",
       "3                     0        0  \n",
       "4                     0        0  \n",
       "...                 ...      ...  \n",
       "15914                 0        0  \n",
       "15915                 0        0  \n",
       "15916                 0        0  \n",
       "15917                 0        0  \n",
       "15918                 0        1  \n",
       "\n",
       "[15919 rows x 34 columns]"
      ]
     },
     "execution_count": 157,
     "metadata": {},
     "output_type": "execute_result"
    }
   ],
   "source": [
    "df.media.str.get_dummies(\",\")"
   ]
  },
  {
   "cell_type": "code",
   "execution_count": 158,
   "id": "02734584",
   "metadata": {},
   "outputs": [
    {
     "data": {
      "text/html": [
       "<div>\n",
       "<style scoped>\n",
       "    .dataframe tbody tr th:only-of-type {\n",
       "        vertical-align: middle;\n",
       "    }\n",
       "\n",
       "    .dataframe tbody tr th {\n",
       "        vertical-align: top;\n",
       "    }\n",
       "\n",
       "    .dataframe thead th {\n",
       "        text-align: right;\n",
       "    }\n",
       "</style>\n",
       "<table border=\"1\" class=\"dataframe\">\n",
       "  <thead>\n",
       "    <tr style=\"text-align: right;\">\n",
       "      <th></th>\n",
       "      <th>Bluetooth</th>\n",
       "      <th>CD player</th>\n",
       "      <th>Digital radio</th>\n",
       "      <th>Hands-free equipment</th>\n",
       "      <th>MP3</th>\n",
       "      <th>On-board computer</th>\n",
       "      <th>Radio</th>\n",
       "      <th>Sound system</th>\n",
       "      <th>Television</th>\n",
       "      <th>USB</th>\n",
       "    </tr>\n",
       "  </thead>\n",
       "  <tbody>\n",
       "    <tr>\n",
       "      <th>0</th>\n",
       "      <td>1</td>\n",
       "      <td>0</td>\n",
       "      <td>0</td>\n",
       "      <td>1</td>\n",
       "      <td>0</td>\n",
       "      <td>1</td>\n",
       "      <td>1</td>\n",
       "      <td>0</td>\n",
       "      <td>0</td>\n",
       "      <td>0</td>\n",
       "    </tr>\n",
       "    <tr>\n",
       "      <th>1</th>\n",
       "      <td>1</td>\n",
       "      <td>0</td>\n",
       "      <td>0</td>\n",
       "      <td>1</td>\n",
       "      <td>0</td>\n",
       "      <td>1</td>\n",
       "      <td>1</td>\n",
       "      <td>1</td>\n",
       "      <td>0</td>\n",
       "      <td>0</td>\n",
       "    </tr>\n",
       "    <tr>\n",
       "      <th>2</th>\n",
       "      <td>0</td>\n",
       "      <td>0</td>\n",
       "      <td>0</td>\n",
       "      <td>0</td>\n",
       "      <td>1</td>\n",
       "      <td>1</td>\n",
       "      <td>0</td>\n",
       "      <td>0</td>\n",
       "      <td>0</td>\n",
       "      <td>0</td>\n",
       "    </tr>\n",
       "    <tr>\n",
       "      <th>3</th>\n",
       "      <td>1</td>\n",
       "      <td>1</td>\n",
       "      <td>0</td>\n",
       "      <td>1</td>\n",
       "      <td>1</td>\n",
       "      <td>1</td>\n",
       "      <td>1</td>\n",
       "      <td>1</td>\n",
       "      <td>0</td>\n",
       "      <td>1</td>\n",
       "    </tr>\n",
       "    <tr>\n",
       "      <th>4</th>\n",
       "      <td>1</td>\n",
       "      <td>1</td>\n",
       "      <td>0</td>\n",
       "      <td>1</td>\n",
       "      <td>1</td>\n",
       "      <td>1</td>\n",
       "      <td>1</td>\n",
       "      <td>0</td>\n",
       "      <td>0</td>\n",
       "      <td>1</td>\n",
       "    </tr>\n",
       "    <tr>\n",
       "      <th>...</th>\n",
       "      <td>...</td>\n",
       "      <td>...</td>\n",
       "      <td>...</td>\n",
       "      <td>...</td>\n",
       "      <td>...</td>\n",
       "      <td>...</td>\n",
       "      <td>...</td>\n",
       "      <td>...</td>\n",
       "      <td>...</td>\n",
       "      <td>...</td>\n",
       "    </tr>\n",
       "    <tr>\n",
       "      <th>15914</th>\n",
       "      <td>1</td>\n",
       "      <td>0</td>\n",
       "      <td>1</td>\n",
       "      <td>1</td>\n",
       "      <td>0</td>\n",
       "      <td>1</td>\n",
       "      <td>1</td>\n",
       "      <td>0</td>\n",
       "      <td>0</td>\n",
       "      <td>1</td>\n",
       "    </tr>\n",
       "    <tr>\n",
       "      <th>15915</th>\n",
       "      <td>1</td>\n",
       "      <td>0</td>\n",
       "      <td>1</td>\n",
       "      <td>1</td>\n",
       "      <td>0</td>\n",
       "      <td>0</td>\n",
       "      <td>1</td>\n",
       "      <td>0</td>\n",
       "      <td>0</td>\n",
       "      <td>1</td>\n",
       "    </tr>\n",
       "    <tr>\n",
       "      <th>15916</th>\n",
       "      <td>1</td>\n",
       "      <td>0</td>\n",
       "      <td>0</td>\n",
       "      <td>1</td>\n",
       "      <td>0</td>\n",
       "      <td>1</td>\n",
       "      <td>1</td>\n",
       "      <td>0</td>\n",
       "      <td>0</td>\n",
       "      <td>0</td>\n",
       "    </tr>\n",
       "    <tr>\n",
       "      <th>15917</th>\n",
       "      <td>1</td>\n",
       "      <td>0</td>\n",
       "      <td>1</td>\n",
       "      <td>0</td>\n",
       "      <td>0</td>\n",
       "      <td>0</td>\n",
       "      <td>1</td>\n",
       "      <td>0</td>\n",
       "      <td>0</td>\n",
       "      <td>1</td>\n",
       "    </tr>\n",
       "    <tr>\n",
       "      <th>15918</th>\n",
       "      <td>0</td>\n",
       "      <td>0</td>\n",
       "      <td>0</td>\n",
       "      <td>0</td>\n",
       "      <td>0</td>\n",
       "      <td>0</td>\n",
       "      <td>0</td>\n",
       "      <td>0</td>\n",
       "      <td>0</td>\n",
       "      <td>1</td>\n",
       "    </tr>\n",
       "  </tbody>\n",
       "</table>\n",
       "<p>15919 rows × 10 columns</p>\n",
       "</div>"
      ],
      "text/plain": [
       "       Bluetooth  CD player  Digital radio  Hands-free equipment  MP3  \\\n",
       "0              1          0              0                     1    0   \n",
       "1              1          0              0                     1    0   \n",
       "2              0          0              0                     0    1   \n",
       "3              1          1              0                     1    1   \n",
       "4              1          1              0                     1    1   \n",
       "...          ...        ...            ...                   ...  ...   \n",
       "15914          1          0              1                     1    0   \n",
       "15915          1          0              1                     1    0   \n",
       "15916          1          0              0                     1    0   \n",
       "15917          1          0              1                     0    0   \n",
       "15918          0          0              0                     0    0   \n",
       "\n",
       "       On-board computer  Radio  Sound system  Television  USB  \n",
       "0                      1      1             0           0    0  \n",
       "1                      1      1             1           0    0  \n",
       "2                      1      0             0           0    0  \n",
       "3                      1      1             1           0    1  \n",
       "4                      1      1             0           0    1  \n",
       "...                  ...    ...           ...         ...  ...  \n",
       "15914                  1      1             0           0    1  \n",
       "15915                  0      1             0           0    1  \n",
       "15916                  1      1             0           0    0  \n",
       "15917                  0      1             0           0    1  \n",
       "15918                  0      0             0           0    1  \n",
       "\n",
       "[15919 rows x 10 columns]"
      ]
     },
     "execution_count": 158,
     "metadata": {},
     "output_type": "execute_result"
    }
   ],
   "source": [
    "df.media.map(lambda x: \",\".join(x), na_action='ignore').str.get_dummies(\",\")"
   ]
  },
  {
   "cell_type": "code",
   "execution_count": 159,
   "id": "70772bab",
   "metadata": {},
   "outputs": [
    {
     "data": {
      "text/plain": [
       "Index(['make_model', 'body_type', 'price', 'vat', 'km', 'registration',\n",
       "       'prev_owner', 'hp', 'Make', 'Model', 'Body Color', 'Upholstery', 'Body',\n",
       "       'Nr. of Doors', 'Nr. of Seats', 'Gearing Type', 'Displacement',\n",
       "       'Weight', 'Drive chain', 'Consumption', 'CO2 Emission',\n",
       "       'Emission Class', 'comfort', 'media', '\\nExtras\\n',\n",
       "       '\\nSafety & Security\\n', 'Emission Label', 'Gears', 'Country version',\n",
       "       'Vehicle condition', 'particul_filter', 'Fuel Type'],\n",
       "      dtype='object')"
      ]
     },
     "execution_count": 159,
     "metadata": {},
     "output_type": "execute_result"
    }
   ],
   "source": [
    "df.columns"
   ]
  },
  {
   "cell_type": "markdown",
   "id": "2b1ea04f",
   "metadata": {},
   "source": [
    "### '\\nExtras\\n' sütunu "
   ]
  },
  {
   "cell_type": "code",
   "execution_count": 160,
   "id": "ea5cc2d5",
   "metadata": {},
   "outputs": [],
   "source": [
    "df.rename(columns= {'\\nExtras\\n':\"Extras\"},inplace=True)"
   ]
  },
  {
   "cell_type": "code",
   "execution_count": 161,
   "id": "756f3e25",
   "metadata": {},
   "outputs": [
    {
     "data": {
      "text/plain": [
       "0        [Alloy wheels, Catalytic Converter, Voice Cont...\n",
       "1        [Alloy wheels, Sport seats, Sport suspension, ...\n",
       "2                            [Alloy wheels, Voice Control]\n",
       "3               [Alloy wheels, Sport seats, Voice Control]\n",
       "4        [Alloy wheels, Sport package, Sport suspension...\n",
       "                               ...                        \n",
       "15914                         [Alloy wheels, Touch screen]\n",
       "15915          [Alloy wheels, Touch screen, Voice Control]\n",
       "15916                                       [Alloy wheels]\n",
       "15917                         [Alloy wheels, Touch screen]\n",
       "15918                         [Alloy wheels, Touch screen]\n",
       "Name: Extras, Length: 15919, dtype: object"
      ]
     },
     "execution_count": 161,
     "metadata": {},
     "output_type": "execute_result"
    }
   ],
   "source": [
    "df.Extras"
   ]
  },
  {
   "cell_type": "code",
   "execution_count": 162,
   "id": "afcc290b",
   "metadata": {},
   "outputs": [
    {
     "data": {
      "text/plain": [
       "7626                         [Alloy wheels, Voice Control]\n",
       "11253              [Alloy wheels, Roof rack, Touch screen]\n",
       "7048     [Alloy wheels, Catalytic Converter, Roof rack,...\n",
       "8686                                                  None\n",
       "12261                         [Alloy wheels, Touch screen]\n",
       "Name: Extras, dtype: object"
      ]
     },
     "execution_count": 162,
     "metadata": {},
     "output_type": "execute_result"
    }
   ],
   "source": [
    "df.Extras.sample(5)"
   ]
  },
  {
   "cell_type": "code",
   "execution_count": 163,
   "id": "0d758d5c",
   "metadata": {},
   "outputs": [],
   "source": [
    "extras_unique = {j for i in df.Extras.dropna() for j in i}"
   ]
  },
  {
   "cell_type": "code",
   "execution_count": 164,
   "id": "e03b89f4",
   "metadata": {},
   "outputs": [
    {
     "data": {
      "text/plain": [
       "17"
      ]
     },
     "execution_count": 164,
     "metadata": {},
     "output_type": "execute_result"
    }
   ],
   "source": [
    "len(extras_unique)"
   ]
  },
  {
   "cell_type": "code",
   "execution_count": 165,
   "id": "9ebe997b",
   "metadata": {
    "scrolled": true
   },
   "outputs": [
    {
     "data": {
      "text/plain": [
       "['Alloy wheels', 'Catalytic Converter', 'Voice Control']"
      ]
     },
     "execution_count": 165,
     "metadata": {},
     "output_type": "execute_result"
    }
   ],
   "source": [
    "df.Extras[0]"
   ]
  },
  {
   "cell_type": "code",
   "execution_count": 166,
   "id": "a501d474",
   "metadata": {},
   "outputs": [
    {
     "data": {
      "text/html": [
       "<div>\n",
       "<style scoped>\n",
       "    .dataframe tbody tr th:only-of-type {\n",
       "        vertical-align: middle;\n",
       "    }\n",
       "\n",
       "    .dataframe tbody tr th {\n",
       "        vertical-align: top;\n",
       "    }\n",
       "\n",
       "    .dataframe thead th {\n",
       "        text-align: right;\n",
       "    }\n",
       "</style>\n",
       "<table border=\"1\" class=\"dataframe\">\n",
       "  <thead>\n",
       "    <tr style=\"text-align: right;\">\n",
       "      <th></th>\n",
       "      <th>Alloy wheels</th>\n",
       "      <th>Cab or rented Car</th>\n",
       "      <th>Catalytic Converter</th>\n",
       "      <th>Handicapped enabled</th>\n",
       "      <th>Right hand drive</th>\n",
       "      <th>Roof rack</th>\n",
       "      <th>Shift paddles</th>\n",
       "      <th>Ski bag</th>\n",
       "      <th>Sliding door</th>\n",
       "      <th>Sport package</th>\n",
       "      <th>Sport seats</th>\n",
       "      <th>Sport suspension</th>\n",
       "      <th>Touch screen</th>\n",
       "      <th>Trailer hitch</th>\n",
       "      <th>Tuned car</th>\n",
       "      <th>Voice Control</th>\n",
       "      <th>Winter tyres</th>\n",
       "    </tr>\n",
       "  </thead>\n",
       "  <tbody>\n",
       "    <tr>\n",
       "      <th>0</th>\n",
       "      <td>1</td>\n",
       "      <td>0</td>\n",
       "      <td>1</td>\n",
       "      <td>0</td>\n",
       "      <td>0</td>\n",
       "      <td>0</td>\n",
       "      <td>0</td>\n",
       "      <td>0</td>\n",
       "      <td>0</td>\n",
       "      <td>0</td>\n",
       "      <td>0</td>\n",
       "      <td>0</td>\n",
       "      <td>0</td>\n",
       "      <td>0</td>\n",
       "      <td>0</td>\n",
       "      <td>1</td>\n",
       "      <td>0</td>\n",
       "    </tr>\n",
       "    <tr>\n",
       "      <th>1</th>\n",
       "      <td>1</td>\n",
       "      <td>0</td>\n",
       "      <td>0</td>\n",
       "      <td>0</td>\n",
       "      <td>0</td>\n",
       "      <td>0</td>\n",
       "      <td>0</td>\n",
       "      <td>0</td>\n",
       "      <td>0</td>\n",
       "      <td>0</td>\n",
       "      <td>1</td>\n",
       "      <td>1</td>\n",
       "      <td>0</td>\n",
       "      <td>0</td>\n",
       "      <td>0</td>\n",
       "      <td>1</td>\n",
       "      <td>0</td>\n",
       "    </tr>\n",
       "    <tr>\n",
       "      <th>2</th>\n",
       "      <td>1</td>\n",
       "      <td>0</td>\n",
       "      <td>0</td>\n",
       "      <td>0</td>\n",
       "      <td>0</td>\n",
       "      <td>0</td>\n",
       "      <td>0</td>\n",
       "      <td>0</td>\n",
       "      <td>0</td>\n",
       "      <td>0</td>\n",
       "      <td>0</td>\n",
       "      <td>0</td>\n",
       "      <td>0</td>\n",
       "      <td>0</td>\n",
       "      <td>0</td>\n",
       "      <td>1</td>\n",
       "      <td>0</td>\n",
       "    </tr>\n",
       "    <tr>\n",
       "      <th>3</th>\n",
       "      <td>1</td>\n",
       "      <td>0</td>\n",
       "      <td>0</td>\n",
       "      <td>0</td>\n",
       "      <td>0</td>\n",
       "      <td>0</td>\n",
       "      <td>0</td>\n",
       "      <td>0</td>\n",
       "      <td>0</td>\n",
       "      <td>0</td>\n",
       "      <td>1</td>\n",
       "      <td>0</td>\n",
       "      <td>0</td>\n",
       "      <td>0</td>\n",
       "      <td>0</td>\n",
       "      <td>1</td>\n",
       "      <td>0</td>\n",
       "    </tr>\n",
       "    <tr>\n",
       "      <th>4</th>\n",
       "      <td>1</td>\n",
       "      <td>0</td>\n",
       "      <td>0</td>\n",
       "      <td>0</td>\n",
       "      <td>0</td>\n",
       "      <td>0</td>\n",
       "      <td>0</td>\n",
       "      <td>0</td>\n",
       "      <td>0</td>\n",
       "      <td>1</td>\n",
       "      <td>0</td>\n",
       "      <td>1</td>\n",
       "      <td>0</td>\n",
       "      <td>0</td>\n",
       "      <td>0</td>\n",
       "      <td>1</td>\n",
       "      <td>0</td>\n",
       "    </tr>\n",
       "    <tr>\n",
       "      <th>...</th>\n",
       "      <td>...</td>\n",
       "      <td>...</td>\n",
       "      <td>...</td>\n",
       "      <td>...</td>\n",
       "      <td>...</td>\n",
       "      <td>...</td>\n",
       "      <td>...</td>\n",
       "      <td>...</td>\n",
       "      <td>...</td>\n",
       "      <td>...</td>\n",
       "      <td>...</td>\n",
       "      <td>...</td>\n",
       "      <td>...</td>\n",
       "      <td>...</td>\n",
       "      <td>...</td>\n",
       "      <td>...</td>\n",
       "      <td>...</td>\n",
       "    </tr>\n",
       "    <tr>\n",
       "      <th>15914</th>\n",
       "      <td>1</td>\n",
       "      <td>0</td>\n",
       "      <td>0</td>\n",
       "      <td>0</td>\n",
       "      <td>0</td>\n",
       "      <td>0</td>\n",
       "      <td>0</td>\n",
       "      <td>0</td>\n",
       "      <td>0</td>\n",
       "      <td>0</td>\n",
       "      <td>0</td>\n",
       "      <td>0</td>\n",
       "      <td>1</td>\n",
       "      <td>0</td>\n",
       "      <td>0</td>\n",
       "      <td>0</td>\n",
       "      <td>0</td>\n",
       "    </tr>\n",
       "    <tr>\n",
       "      <th>15915</th>\n",
       "      <td>1</td>\n",
       "      <td>0</td>\n",
       "      <td>0</td>\n",
       "      <td>0</td>\n",
       "      <td>0</td>\n",
       "      <td>0</td>\n",
       "      <td>0</td>\n",
       "      <td>0</td>\n",
       "      <td>0</td>\n",
       "      <td>0</td>\n",
       "      <td>0</td>\n",
       "      <td>0</td>\n",
       "      <td>1</td>\n",
       "      <td>0</td>\n",
       "      <td>0</td>\n",
       "      <td>1</td>\n",
       "      <td>0</td>\n",
       "    </tr>\n",
       "    <tr>\n",
       "      <th>15916</th>\n",
       "      <td>1</td>\n",
       "      <td>0</td>\n",
       "      <td>0</td>\n",
       "      <td>0</td>\n",
       "      <td>0</td>\n",
       "      <td>0</td>\n",
       "      <td>0</td>\n",
       "      <td>0</td>\n",
       "      <td>0</td>\n",
       "      <td>0</td>\n",
       "      <td>0</td>\n",
       "      <td>0</td>\n",
       "      <td>0</td>\n",
       "      <td>0</td>\n",
       "      <td>0</td>\n",
       "      <td>0</td>\n",
       "      <td>0</td>\n",
       "    </tr>\n",
       "    <tr>\n",
       "      <th>15917</th>\n",
       "      <td>1</td>\n",
       "      <td>0</td>\n",
       "      <td>0</td>\n",
       "      <td>0</td>\n",
       "      <td>0</td>\n",
       "      <td>0</td>\n",
       "      <td>0</td>\n",
       "      <td>0</td>\n",
       "      <td>0</td>\n",
       "      <td>0</td>\n",
       "      <td>0</td>\n",
       "      <td>0</td>\n",
       "      <td>1</td>\n",
       "      <td>0</td>\n",
       "      <td>0</td>\n",
       "      <td>0</td>\n",
       "      <td>0</td>\n",
       "    </tr>\n",
       "    <tr>\n",
       "      <th>15918</th>\n",
       "      <td>1</td>\n",
       "      <td>0</td>\n",
       "      <td>0</td>\n",
       "      <td>0</td>\n",
       "      <td>0</td>\n",
       "      <td>0</td>\n",
       "      <td>0</td>\n",
       "      <td>0</td>\n",
       "      <td>0</td>\n",
       "      <td>0</td>\n",
       "      <td>0</td>\n",
       "      <td>0</td>\n",
       "      <td>1</td>\n",
       "      <td>0</td>\n",
       "      <td>0</td>\n",
       "      <td>0</td>\n",
       "      <td>0</td>\n",
       "    </tr>\n",
       "  </tbody>\n",
       "</table>\n",
       "<p>15919 rows × 17 columns</p>\n",
       "</div>"
      ],
      "text/plain": [
       "       Alloy wheels  Cab or rented Car  Catalytic Converter  \\\n",
       "0                 1                  0                    1   \n",
       "1                 1                  0                    0   \n",
       "2                 1                  0                    0   \n",
       "3                 1                  0                    0   \n",
       "4                 1                  0                    0   \n",
       "...             ...                ...                  ...   \n",
       "15914             1                  0                    0   \n",
       "15915             1                  0                    0   \n",
       "15916             1                  0                    0   \n",
       "15917             1                  0                    0   \n",
       "15918             1                  0                    0   \n",
       "\n",
       "       Handicapped enabled  Right hand drive  Roof rack  Shift paddles  \\\n",
       "0                        0                 0          0              0   \n",
       "1                        0                 0          0              0   \n",
       "2                        0                 0          0              0   \n",
       "3                        0                 0          0              0   \n",
       "4                        0                 0          0              0   \n",
       "...                    ...               ...        ...            ...   \n",
       "15914                    0                 0          0              0   \n",
       "15915                    0                 0          0              0   \n",
       "15916                    0                 0          0              0   \n",
       "15917                    0                 0          0              0   \n",
       "15918                    0                 0          0              0   \n",
       "\n",
       "       Ski bag  Sliding door  Sport package  Sport seats  Sport suspension  \\\n",
       "0            0             0              0            0                 0   \n",
       "1            0             0              0            1                 1   \n",
       "2            0             0              0            0                 0   \n",
       "3            0             0              0            1                 0   \n",
       "4            0             0              1            0                 1   \n",
       "...        ...           ...            ...          ...               ...   \n",
       "15914        0             0              0            0                 0   \n",
       "15915        0             0              0            0                 0   \n",
       "15916        0             0              0            0                 0   \n",
       "15917        0             0              0            0                 0   \n",
       "15918        0             0              0            0                 0   \n",
       "\n",
       "       Touch screen  Trailer hitch  Tuned car  Voice Control  Winter tyres  \n",
       "0                 0              0          0              1             0  \n",
       "1                 0              0          0              1             0  \n",
       "2                 0              0          0              1             0  \n",
       "3                 0              0          0              1             0  \n",
       "4                 0              0          0              1             0  \n",
       "...             ...            ...        ...            ...           ...  \n",
       "15914             1              0          0              0             0  \n",
       "15915             1              0          0              1             0  \n",
       "15916             0              0          0              0             0  \n",
       "15917             1              0          0              0             0  \n",
       "15918             1              0          0              0             0  \n",
       "\n",
       "[15919 rows x 17 columns]"
      ]
     },
     "execution_count": 166,
     "metadata": {},
     "output_type": "execute_result"
    }
   ],
   "source": [
    "df.Extras.map(lambda x: \",\".join(x), na_action='ignore').str.get_dummies(\",\")"
   ]
  },
  {
   "cell_type": "code",
   "execution_count": 167,
   "id": "86d3c0a0",
   "metadata": {
    "scrolled": true
   },
   "outputs": [
    {
     "data": {
      "text/plain": [
       "Index(['make_model', 'body_type', 'price', 'vat', 'km', 'registration',\n",
       "       'prev_owner', 'hp', 'Make', 'Model', 'Body Color', 'Upholstery', 'Body',\n",
       "       'Nr. of Doors', 'Nr. of Seats', 'Gearing Type', 'Displacement',\n",
       "       'Weight', 'Drive chain', 'Consumption', 'CO2 Emission',\n",
       "       'Emission Class', 'comfort', 'media', 'Extras', '\\nSafety & Security\\n',\n",
       "       'Emission Label', 'Gears', 'Country version', 'Vehicle condition',\n",
       "       'particul_filter', 'Fuel Type'],\n",
       "      dtype='object')"
      ]
     },
     "execution_count": 167,
     "metadata": {},
     "output_type": "execute_result"
    }
   ],
   "source": [
    "df.columns"
   ]
  },
  {
   "cell_type": "markdown",
   "id": "44bcc8c1",
   "metadata": {},
   "source": [
    "###   '\\nSafety & Security\\n'"
   ]
  },
  {
   "cell_type": "code",
   "execution_count": 168,
   "id": "908b5b82",
   "metadata": {},
   "outputs": [],
   "source": [
    "df.rename(columns={'\\nSafety & Security\\n':'Safety & Security'},inplace=True)"
   ]
  },
  {
   "cell_type": "code",
   "execution_count": 169,
   "id": "a0357800",
   "metadata": {},
   "outputs": [
    {
     "data": {
      "text/plain": [
       "14568    [ABS, Central door lock, Daytime running light...\n",
       "3487     [ABS, Adaptive headlights, Alarm system, Centr...\n",
       "11837    [ABS, Adaptive headlights, Central door lock, ...\n",
       "Name: Safety & Security, dtype: object"
      ]
     },
     "execution_count": 169,
     "metadata": {},
     "output_type": "execute_result"
    }
   ],
   "source": [
    "df['Safety & Security'].sample(3)"
   ]
  },
  {
   "cell_type": "code",
   "execution_count": 170,
   "id": "25f47cd9",
   "metadata": {},
   "outputs": [
    {
     "data": {
      "text/plain": [
       "982"
      ]
     },
     "execution_count": 170,
     "metadata": {},
     "output_type": "execute_result"
    }
   ],
   "source": [
    "df['Safety & Security'].isnull().sum()"
   ]
  },
  {
   "cell_type": "code",
   "execution_count": 171,
   "id": "eaabcd14",
   "metadata": {
    "scrolled": false
   },
   "outputs": [
    {
     "data": {
      "text/html": [
       "<div>\n",
       "<style scoped>\n",
       "    .dataframe tbody tr th:only-of-type {\n",
       "        vertical-align: middle;\n",
       "    }\n",
       "\n",
       "    .dataframe tbody tr th {\n",
       "        vertical-align: top;\n",
       "    }\n",
       "\n",
       "    .dataframe thead th {\n",
       "        text-align: right;\n",
       "    }\n",
       "</style>\n",
       "<table border=\"1\" class=\"dataframe\">\n",
       "  <thead>\n",
       "    <tr style=\"text-align: right;\">\n",
       "      <th></th>\n",
       "      <th>make_model</th>\n",
       "      <th>body_type</th>\n",
       "      <th>price</th>\n",
       "      <th>vat</th>\n",
       "      <th>km</th>\n",
       "      <th>registration</th>\n",
       "      <th>prev_owner</th>\n",
       "      <th>hp</th>\n",
       "      <th>Make</th>\n",
       "      <th>Model</th>\n",
       "      <th>Body Color</th>\n",
       "      <th>Upholstery</th>\n",
       "      <th>Body</th>\n",
       "      <th>Nr. of Doors</th>\n",
       "      <th>Nr. of Seats</th>\n",
       "      <th>Gearing Type</th>\n",
       "      <th>Displacement</th>\n",
       "      <th>Weight</th>\n",
       "      <th>Drive chain</th>\n",
       "      <th>Consumption</th>\n",
       "      <th>CO2 Emission</th>\n",
       "      <th>Emission Class</th>\n",
       "      <th>comfort</th>\n",
       "      <th>media</th>\n",
       "      <th>Extras</th>\n",
       "      <th>Safety &amp; Security</th>\n",
       "      <th>Emission Label</th>\n",
       "      <th>Gears</th>\n",
       "      <th>Country version</th>\n",
       "      <th>Vehicle condition</th>\n",
       "      <th>particul_filter</th>\n",
       "      <th>Fuel Type</th>\n",
       "    </tr>\n",
       "  </thead>\n",
       "  <tbody>\n",
       "    <tr>\n",
       "      <th>30</th>\n",
       "      <td>Audi A1</td>\n",
       "      <td>Compact</td>\n",
       "      <td>11290</td>\n",
       "      <td>False</td>\n",
       "      <td>38400.0</td>\n",
       "      <td>2016-06-01</td>\n",
       "      <td>NaN</td>\n",
       "      <td>66.0</td>\n",
       "      <td>Audi</td>\n",
       "      <td>A1</td>\n",
       "      <td>Black</td>\n",
       "      <td>None</td>\n",
       "      <td>Compact</td>\n",
       "      <td>5.0</td>\n",
       "      <td>[\\n5\\n]</td>\n",
       "      <td>Manual</td>\n",
       "      <td>422.0</td>\n",
       "      <td>95</td>\n",
       "      <td>front</td>\n",
       "      <td>[[3 l/100 km (comb)], [3 l/100 km (city)], [3 ...</td>\n",
       "      <td>NaN</td>\n",
       "      <td>None</td>\n",
       "      <td>None</td>\n",
       "      <td>None</td>\n",
       "      <td>None</td>\n",
       "      <td>None</td>\n",
       "      <td>None</td>\n",
       "      <td>[\\n5\\n]</td>\n",
       "      <td>None</td>\n",
       "      <td>Used</td>\n",
       "      <td>False</td>\n",
       "      <td>Diesel</td>\n",
       "    </tr>\n",
       "  </tbody>\n",
       "</table>\n",
       "</div>"
      ],
      "text/plain": [
       "   make_model body_type  price    vat       km registration  prev_owner    hp  \\\n",
       "30    Audi A1   Compact  11290  False  38400.0   2016-06-01         NaN  66.0   \n",
       "\n",
       "    Make Model Body Color Upholstery     Body  Nr. of Doors Nr. of Seats  \\\n",
       "30  Audi    A1      Black       None  Compact           5.0      [\\n5\\n]   \n",
       "\n",
       "   Gearing Type  Displacement Weight Drive chain  \\\n",
       "30       Manual         422.0     95       front   \n",
       "\n",
       "                                          Consumption  CO2 Emission  \\\n",
       "30  [[3 l/100 km (comb)], [3 l/100 km (city)], [3 ...           NaN   \n",
       "\n",
       "   Emission Class comfort media Extras Safety & Security Emission Label  \\\n",
       "30           None    None  None   None              None           None   \n",
       "\n",
       "      Gears Country version Vehicle condition  particul_filter Fuel Type  \n",
       "30  [\\n5\\n]            None              Used            False    Diesel  "
      ]
     },
     "execution_count": 171,
     "metadata": {},
     "output_type": "execute_result"
    }
   ],
   "source": [
    "df[df['Safety & Security'].isnull()].iloc[[1]]"
   ]
  },
  {
   "cell_type": "code",
   "execution_count": 172,
   "id": "5bca7835",
   "metadata": {},
   "outputs": [
    {
     "data": {
      "text/html": [
       "<div>\n",
       "<style scoped>\n",
       "    .dataframe tbody tr th:only-of-type {\n",
       "        vertical-align: middle;\n",
       "    }\n",
       "\n",
       "    .dataframe tbody tr th {\n",
       "        vertical-align: top;\n",
       "    }\n",
       "\n",
       "    .dataframe thead th {\n",
       "        text-align: right;\n",
       "    }\n",
       "</style>\n",
       "<table border=\"1\" class=\"dataframe\">\n",
       "  <thead>\n",
       "    <tr style=\"text-align: right;\">\n",
       "      <th></th>\n",
       "      <th>ABS</th>\n",
       "      <th>Adaptive Cruise Control</th>\n",
       "      <th>Adaptive headlights</th>\n",
       "      <th>Alarm system</th>\n",
       "      <th>Blind spot monitor</th>\n",
       "      <th>Central door lock</th>\n",
       "      <th>Central door lock with remote control</th>\n",
       "      <th>Daytime running lights</th>\n",
       "      <th>Driver drowsiness detection</th>\n",
       "      <th>Driver-side airbag</th>\n",
       "      <th>Electronic stability control</th>\n",
       "      <th>Emergency brake assistant</th>\n",
       "      <th>Emergency system</th>\n",
       "      <th>Fog lights</th>\n",
       "      <th>Head airbag</th>\n",
       "      <th>Immobilizer</th>\n",
       "      <th>Isofix</th>\n",
       "      <th>LED Daytime Running Lights</th>\n",
       "      <th>LED Headlights</th>\n",
       "      <th>Lane departure warning system</th>\n",
       "      <th>Night view assist</th>\n",
       "      <th>Passenger-side airbag</th>\n",
       "      <th>Power steering</th>\n",
       "      <th>Rear airbag</th>\n",
       "      <th>Side airbag</th>\n",
       "      <th>Tire pressure monitoring system</th>\n",
       "      <th>Traction control</th>\n",
       "      <th>Traffic sign recognition</th>\n",
       "      <th>Xenon headlights</th>\n",
       "    </tr>\n",
       "  </thead>\n",
       "  <tbody>\n",
       "    <tr>\n",
       "      <th>0</th>\n",
       "      <td>1</td>\n",
       "      <td>0</td>\n",
       "      <td>0</td>\n",
       "      <td>0</td>\n",
       "      <td>0</td>\n",
       "      <td>1</td>\n",
       "      <td>0</td>\n",
       "      <td>1</td>\n",
       "      <td>0</td>\n",
       "      <td>1</td>\n",
       "      <td>1</td>\n",
       "      <td>0</td>\n",
       "      <td>0</td>\n",
       "      <td>1</td>\n",
       "      <td>0</td>\n",
       "      <td>1</td>\n",
       "      <td>1</td>\n",
       "      <td>0</td>\n",
       "      <td>0</td>\n",
       "      <td>0</td>\n",
       "      <td>0</td>\n",
       "      <td>1</td>\n",
       "      <td>1</td>\n",
       "      <td>0</td>\n",
       "      <td>1</td>\n",
       "      <td>1</td>\n",
       "      <td>1</td>\n",
       "      <td>0</td>\n",
       "      <td>1</td>\n",
       "    </tr>\n",
       "    <tr>\n",
       "      <th>1</th>\n",
       "      <td>1</td>\n",
       "      <td>0</td>\n",
       "      <td>0</td>\n",
       "      <td>0</td>\n",
       "      <td>0</td>\n",
       "      <td>1</td>\n",
       "      <td>1</td>\n",
       "      <td>1</td>\n",
       "      <td>0</td>\n",
       "      <td>1</td>\n",
       "      <td>1</td>\n",
       "      <td>0</td>\n",
       "      <td>0</td>\n",
       "      <td>0</td>\n",
       "      <td>1</td>\n",
       "      <td>1</td>\n",
       "      <td>1</td>\n",
       "      <td>0</td>\n",
       "      <td>0</td>\n",
       "      <td>0</td>\n",
       "      <td>0</td>\n",
       "      <td>1</td>\n",
       "      <td>1</td>\n",
       "      <td>0</td>\n",
       "      <td>1</td>\n",
       "      <td>1</td>\n",
       "      <td>1</td>\n",
       "      <td>0</td>\n",
       "      <td>1</td>\n",
       "    </tr>\n",
       "    <tr>\n",
       "      <th>2</th>\n",
       "      <td>1</td>\n",
       "      <td>0</td>\n",
       "      <td>0</td>\n",
       "      <td>0</td>\n",
       "      <td>0</td>\n",
       "      <td>1</td>\n",
       "      <td>0</td>\n",
       "      <td>1</td>\n",
       "      <td>0</td>\n",
       "      <td>1</td>\n",
       "      <td>1</td>\n",
       "      <td>0</td>\n",
       "      <td>0</td>\n",
       "      <td>0</td>\n",
       "      <td>0</td>\n",
       "      <td>1</td>\n",
       "      <td>1</td>\n",
       "      <td>0</td>\n",
       "      <td>0</td>\n",
       "      <td>0</td>\n",
       "      <td>0</td>\n",
       "      <td>1</td>\n",
       "      <td>1</td>\n",
       "      <td>0</td>\n",
       "      <td>1</td>\n",
       "      <td>1</td>\n",
       "      <td>1</td>\n",
       "      <td>0</td>\n",
       "      <td>0</td>\n",
       "    </tr>\n",
       "    <tr>\n",
       "      <th>3</th>\n",
       "      <td>1</td>\n",
       "      <td>0</td>\n",
       "      <td>0</td>\n",
       "      <td>1</td>\n",
       "      <td>0</td>\n",
       "      <td>0</td>\n",
       "      <td>1</td>\n",
       "      <td>0</td>\n",
       "      <td>1</td>\n",
       "      <td>1</td>\n",
       "      <td>1</td>\n",
       "      <td>0</td>\n",
       "      <td>1</td>\n",
       "      <td>0</td>\n",
       "      <td>1</td>\n",
       "      <td>1</td>\n",
       "      <td>1</td>\n",
       "      <td>0</td>\n",
       "      <td>0</td>\n",
       "      <td>0</td>\n",
       "      <td>0</td>\n",
       "      <td>1</td>\n",
       "      <td>1</td>\n",
       "      <td>0</td>\n",
       "      <td>1</td>\n",
       "      <td>1</td>\n",
       "      <td>0</td>\n",
       "      <td>0</td>\n",
       "      <td>0</td>\n",
       "    </tr>\n",
       "    <tr>\n",
       "      <th>4</th>\n",
       "      <td>1</td>\n",
       "      <td>0</td>\n",
       "      <td>0</td>\n",
       "      <td>0</td>\n",
       "      <td>0</td>\n",
       "      <td>1</td>\n",
       "      <td>0</td>\n",
       "      <td>0</td>\n",
       "      <td>0</td>\n",
       "      <td>1</td>\n",
       "      <td>1</td>\n",
       "      <td>0</td>\n",
       "      <td>0</td>\n",
       "      <td>1</td>\n",
       "      <td>0</td>\n",
       "      <td>1</td>\n",
       "      <td>1</td>\n",
       "      <td>0</td>\n",
       "      <td>0</td>\n",
       "      <td>0</td>\n",
       "      <td>0</td>\n",
       "      <td>1</td>\n",
       "      <td>1</td>\n",
       "      <td>0</td>\n",
       "      <td>1</td>\n",
       "      <td>1</td>\n",
       "      <td>1</td>\n",
       "      <td>0</td>\n",
       "      <td>1</td>\n",
       "    </tr>\n",
       "    <tr>\n",
       "      <th>...</th>\n",
       "      <td>...</td>\n",
       "      <td>...</td>\n",
       "      <td>...</td>\n",
       "      <td>...</td>\n",
       "      <td>...</td>\n",
       "      <td>...</td>\n",
       "      <td>...</td>\n",
       "      <td>...</td>\n",
       "      <td>...</td>\n",
       "      <td>...</td>\n",
       "      <td>...</td>\n",
       "      <td>...</td>\n",
       "      <td>...</td>\n",
       "      <td>...</td>\n",
       "      <td>...</td>\n",
       "      <td>...</td>\n",
       "      <td>...</td>\n",
       "      <td>...</td>\n",
       "      <td>...</td>\n",
       "      <td>...</td>\n",
       "      <td>...</td>\n",
       "      <td>...</td>\n",
       "      <td>...</td>\n",
       "      <td>...</td>\n",
       "      <td>...</td>\n",
       "      <td>...</td>\n",
       "      <td>...</td>\n",
       "      <td>...</td>\n",
       "      <td>...</td>\n",
       "    </tr>\n",
       "    <tr>\n",
       "      <th>15914</th>\n",
       "      <td>1</td>\n",
       "      <td>0</td>\n",
       "      <td>0</td>\n",
       "      <td>0</td>\n",
       "      <td>0</td>\n",
       "      <td>1</td>\n",
       "      <td>1</td>\n",
       "      <td>0</td>\n",
       "      <td>0</td>\n",
       "      <td>1</td>\n",
       "      <td>1</td>\n",
       "      <td>1</td>\n",
       "      <td>0</td>\n",
       "      <td>0</td>\n",
       "      <td>1</td>\n",
       "      <td>1</td>\n",
       "      <td>1</td>\n",
       "      <td>1</td>\n",
       "      <td>1</td>\n",
       "      <td>1</td>\n",
       "      <td>0</td>\n",
       "      <td>1</td>\n",
       "      <td>1</td>\n",
       "      <td>1</td>\n",
       "      <td>1</td>\n",
       "      <td>1</td>\n",
       "      <td>1</td>\n",
       "      <td>1</td>\n",
       "      <td>0</td>\n",
       "    </tr>\n",
       "    <tr>\n",
       "      <th>15915</th>\n",
       "      <td>1</td>\n",
       "      <td>1</td>\n",
       "      <td>0</td>\n",
       "      <td>0</td>\n",
       "      <td>1</td>\n",
       "      <td>1</td>\n",
       "      <td>0</td>\n",
       "      <td>1</td>\n",
       "      <td>0</td>\n",
       "      <td>1</td>\n",
       "      <td>1</td>\n",
       "      <td>1</td>\n",
       "      <td>0</td>\n",
       "      <td>0</td>\n",
       "      <td>0</td>\n",
       "      <td>1</td>\n",
       "      <td>1</td>\n",
       "      <td>1</td>\n",
       "      <td>1</td>\n",
       "      <td>1</td>\n",
       "      <td>0</td>\n",
       "      <td>1</td>\n",
       "      <td>1</td>\n",
       "      <td>0</td>\n",
       "      <td>1</td>\n",
       "      <td>1</td>\n",
       "      <td>1</td>\n",
       "      <td>1</td>\n",
       "      <td>0</td>\n",
       "    </tr>\n",
       "    <tr>\n",
       "      <th>15916</th>\n",
       "      <td>1</td>\n",
       "      <td>1</td>\n",
       "      <td>0</td>\n",
       "      <td>0</td>\n",
       "      <td>1</td>\n",
       "      <td>1</td>\n",
       "      <td>0</td>\n",
       "      <td>1</td>\n",
       "      <td>0</td>\n",
       "      <td>1</td>\n",
       "      <td>1</td>\n",
       "      <td>1</td>\n",
       "      <td>0</td>\n",
       "      <td>0</td>\n",
       "      <td>0</td>\n",
       "      <td>1</td>\n",
       "      <td>1</td>\n",
       "      <td>1</td>\n",
       "      <td>1</td>\n",
       "      <td>1</td>\n",
       "      <td>0</td>\n",
       "      <td>1</td>\n",
       "      <td>1</td>\n",
       "      <td>0</td>\n",
       "      <td>1</td>\n",
       "      <td>0</td>\n",
       "      <td>1</td>\n",
       "      <td>1</td>\n",
       "      <td>0</td>\n",
       "    </tr>\n",
       "    <tr>\n",
       "      <th>15917</th>\n",
       "      <td>1</td>\n",
       "      <td>0</td>\n",
       "      <td>0</td>\n",
       "      <td>0</td>\n",
       "      <td>1</td>\n",
       "      <td>0</td>\n",
       "      <td>0</td>\n",
       "      <td>0</td>\n",
       "      <td>0</td>\n",
       "      <td>1</td>\n",
       "      <td>1</td>\n",
       "      <td>1</td>\n",
       "      <td>0</td>\n",
       "      <td>0</td>\n",
       "      <td>0</td>\n",
       "      <td>0</td>\n",
       "      <td>1</td>\n",
       "      <td>0</td>\n",
       "      <td>1</td>\n",
       "      <td>0</td>\n",
       "      <td>0</td>\n",
       "      <td>1</td>\n",
       "      <td>1</td>\n",
       "      <td>0</td>\n",
       "      <td>1</td>\n",
       "      <td>1</td>\n",
       "      <td>0</td>\n",
       "      <td>1</td>\n",
       "      <td>0</td>\n",
       "    </tr>\n",
       "    <tr>\n",
       "      <th>15918</th>\n",
       "      <td>1</td>\n",
       "      <td>0</td>\n",
       "      <td>0</td>\n",
       "      <td>0</td>\n",
       "      <td>1</td>\n",
       "      <td>0</td>\n",
       "      <td>0</td>\n",
       "      <td>1</td>\n",
       "      <td>0</td>\n",
       "      <td>1</td>\n",
       "      <td>1</td>\n",
       "      <td>1</td>\n",
       "      <td>0</td>\n",
       "      <td>0</td>\n",
       "      <td>0</td>\n",
       "      <td>1</td>\n",
       "      <td>1</td>\n",
       "      <td>1</td>\n",
       "      <td>0</td>\n",
       "      <td>0</td>\n",
       "      <td>0</td>\n",
       "      <td>1</td>\n",
       "      <td>1</td>\n",
       "      <td>0</td>\n",
       "      <td>1</td>\n",
       "      <td>1</td>\n",
       "      <td>0</td>\n",
       "      <td>1</td>\n",
       "      <td>0</td>\n",
       "    </tr>\n",
       "  </tbody>\n",
       "</table>\n",
       "<p>15919 rows × 29 columns</p>\n",
       "</div>"
      ],
      "text/plain": [
       "       ABS  Adaptive Cruise Control  Adaptive headlights  Alarm system  \\\n",
       "0        1                        0                    0             0   \n",
       "1        1                        0                    0             0   \n",
       "2        1                        0                    0             0   \n",
       "3        1                        0                    0             1   \n",
       "4        1                        0                    0             0   \n",
       "...    ...                      ...                  ...           ...   \n",
       "15914    1                        0                    0             0   \n",
       "15915    1                        1                    0             0   \n",
       "15916    1                        1                    0             0   \n",
       "15917    1                        0                    0             0   \n",
       "15918    1                        0                    0             0   \n",
       "\n",
       "       Blind spot monitor  Central door lock  \\\n",
       "0                       0                  1   \n",
       "1                       0                  1   \n",
       "2                       0                  1   \n",
       "3                       0                  0   \n",
       "4                       0                  1   \n",
       "...                   ...                ...   \n",
       "15914                   0                  1   \n",
       "15915                   1                  1   \n",
       "15916                   1                  1   \n",
       "15917                   1                  0   \n",
       "15918                   1                  0   \n",
       "\n",
       "       Central door lock with remote control  Daytime running lights  \\\n",
       "0                                          0                       1   \n",
       "1                                          1                       1   \n",
       "2                                          0                       1   \n",
       "3                                          1                       0   \n",
       "4                                          0                       0   \n",
       "...                                      ...                     ...   \n",
       "15914                                      1                       0   \n",
       "15915                                      0                       1   \n",
       "15916                                      0                       1   \n",
       "15917                                      0                       0   \n",
       "15918                                      0                       1   \n",
       "\n",
       "       Driver drowsiness detection  Driver-side airbag  \\\n",
       "0                                0                   1   \n",
       "1                                0                   1   \n",
       "2                                0                   1   \n",
       "3                                1                   1   \n",
       "4                                0                   1   \n",
       "...                            ...                 ...   \n",
       "15914                            0                   1   \n",
       "15915                            0                   1   \n",
       "15916                            0                   1   \n",
       "15917                            0                   1   \n",
       "15918                            0                   1   \n",
       "\n",
       "       Electronic stability control  Emergency brake assistant  \\\n",
       "0                                 1                          0   \n",
       "1                                 1                          0   \n",
       "2                                 1                          0   \n",
       "3                                 1                          0   \n",
       "4                                 1                          0   \n",
       "...                             ...                        ...   \n",
       "15914                             1                          1   \n",
       "15915                             1                          1   \n",
       "15916                             1                          1   \n",
       "15917                             1                          1   \n",
       "15918                             1                          1   \n",
       "\n",
       "       Emergency system  Fog lights  Head airbag  Immobilizer  Isofix  \\\n",
       "0                     0           1            0            1       1   \n",
       "1                     0           0            1            1       1   \n",
       "2                     0           0            0            1       1   \n",
       "3                     1           0            1            1       1   \n",
       "4                     0           1            0            1       1   \n",
       "...                 ...         ...          ...          ...     ...   \n",
       "15914                 0           0            1            1       1   \n",
       "15915                 0           0            0            1       1   \n",
       "15916                 0           0            0            1       1   \n",
       "15917                 0           0            0            0       1   \n",
       "15918                 0           0            0            1       1   \n",
       "\n",
       "       LED Daytime Running Lights  LED Headlights  \\\n",
       "0                               0               0   \n",
       "1                               0               0   \n",
       "2                               0               0   \n",
       "3                               0               0   \n",
       "4                               0               0   \n",
       "...                           ...             ...   \n",
       "15914                           1               1   \n",
       "15915                           1               1   \n",
       "15916                           1               1   \n",
       "15917                           0               1   \n",
       "15918                           1               0   \n",
       "\n",
       "       Lane departure warning system  Night view assist  \\\n",
       "0                                  0                  0   \n",
       "1                                  0                  0   \n",
       "2                                  0                  0   \n",
       "3                                  0                  0   \n",
       "4                                  0                  0   \n",
       "...                              ...                ...   \n",
       "15914                              1                  0   \n",
       "15915                              1                  0   \n",
       "15916                              1                  0   \n",
       "15917                              0                  0   \n",
       "15918                              0                  0   \n",
       "\n",
       "       Passenger-side airbag  Power steering  Rear airbag  Side airbag  \\\n",
       "0                          1               1            0            1   \n",
       "1                          1               1            0            1   \n",
       "2                          1               1            0            1   \n",
       "3                          1               1            0            1   \n",
       "4                          1               1            0            1   \n",
       "...                      ...             ...          ...          ...   \n",
       "15914                      1               1            1            1   \n",
       "15915                      1               1            0            1   \n",
       "15916                      1               1            0            1   \n",
       "15917                      1               1            0            1   \n",
       "15918                      1               1            0            1   \n",
       "\n",
       "       Tire pressure monitoring system  Traction control  \\\n",
       "0                                    1                 1   \n",
       "1                                    1                 1   \n",
       "2                                    1                 1   \n",
       "3                                    1                 0   \n",
       "4                                    1                 1   \n",
       "...                                ...               ...   \n",
       "15914                                1                 1   \n",
       "15915                                1                 1   \n",
       "15916                                0                 1   \n",
       "15917                                1                 0   \n",
       "15918                                1                 0   \n",
       "\n",
       "       Traffic sign recognition  Xenon headlights  \n",
       "0                             0                 1  \n",
       "1                             0                 1  \n",
       "2                             0                 0  \n",
       "3                             0                 0  \n",
       "4                             0                 1  \n",
       "...                         ...               ...  \n",
       "15914                         1                 0  \n",
       "15915                         1                 0  \n",
       "15916                         1                 0  \n",
       "15917                         1                 0  \n",
       "15918                         1                 0  \n",
       "\n",
       "[15919 rows x 29 columns]"
      ]
     },
     "execution_count": 172,
     "metadata": {},
     "output_type": "execute_result"
    }
   ],
   "source": [
    "df['Safety & Security'].map(lambda x: \",\".join(x), na_action='ignore').str.get_dummies(\",\")"
   ]
  },
  {
   "cell_type": "markdown",
   "id": "45534c88",
   "metadata": {},
   "source": [
    "#### 'Emission Label'"
   ]
  },
  {
   "cell_type": "code",
   "execution_count": 173,
   "id": "8f2632ee",
   "metadata": {
    "scrolled": true
   },
   "outputs": [
    {
     "data": {
      "text/plain": [
       "14190    None\n",
       "15175    None\n",
       "5528     None\n",
       "Name: Emission Label, dtype: object"
      ]
     },
     "execution_count": 173,
     "metadata": {},
     "output_type": "execute_result"
    }
   ],
   "source": [
    "df['Emission Label'].sample(3)"
   ]
  },
  {
   "cell_type": "code",
   "execution_count": 174,
   "id": "e0dba7d8",
   "metadata": {},
   "outputs": [
    {
     "ename": "TypeError",
     "evalue": "unhashable type: 'list'",
     "output_type": "error",
     "traceback": [
      "\u001b[0;31m---------------------------------------------------------------------------\u001b[0m",
      "\u001b[0;31mTypeError\u001b[0m                                 Traceback (most recent call last)",
      "\u001b[0;32mpandas/_libs/hashtable_class_helper.pxi\u001b[0m in \u001b[0;36mpandas._libs.hashtable.PyObjectHashTable.map_locations\u001b[0;34m()\u001b[0m\n",
      "\u001b[0;31mTypeError\u001b[0m: unhashable type: 'list'"
     ]
    },
    {
     "name": "stderr",
     "output_type": "stream",
     "text": [
      "Exception ignored in: 'pandas._libs.index.IndexEngine._call_map_locations'\n",
      "Traceback (most recent call last):\n",
      "  File \"pandas/_libs/hashtable_class_helper.pxi\", line 4588, in pandas._libs.hashtable.PyObjectHashTable.map_locations\n",
      "TypeError: unhashable type: 'list'\n"
     ]
    },
    {
     "data": {
      "text/plain": [
       "NaN                     11934\n",
       "[\\n4 (Green)\\n]          3553\n",
       "[\\n1 (No sticker)\\n]      381\n",
       "[[], [], []]               40\n",
       "[\\n5 (Blue)\\n]              8\n",
       "[\\n3 (Yellow)\\n]            2\n",
       "[\\n2 (Red)\\n]               1\n",
       "Name: Emission Label, dtype: int64"
      ]
     },
     "execution_count": 174,
     "metadata": {},
     "output_type": "execute_result"
    }
   ],
   "source": [
    "df['Emission Label'].value_counts(dropna = False)"
   ]
  },
  {
   "cell_type": "code",
   "execution_count": 175,
   "id": "ac463cac",
   "metadata": {},
   "outputs": [
    {
     "data": {
      "text/plain": [
       "Euro 6          10139\n",
       "NaN              3628\n",
       "Euro 6d-TEMP     1845\n",
       "Euro 6c           127\n",
       "Euro 5             78\n",
       "Euro 6d            62\n",
       "Euro 4             40\n",
       "Name: Emission Class, dtype: int64"
      ]
     },
     "execution_count": 175,
     "metadata": {},
     "output_type": "execute_result"
    }
   ],
   "source": [
    "df['Emission Class'].value_counts(dropna = False)"
   ]
  },
  {
   "cell_type": "code",
   "execution_count": 176,
   "id": "95f5ec72",
   "metadata": {},
   "outputs": [],
   "source": [
    "# emisyon class ile emisyon label benzer işlevi yerine getiriyor. Ayrıca emisyon class daha dolu \n",
    "# bir sütun dolayısı ile emisyon label düşülebilir"
   ]
  },
  {
   "cell_type": "code",
   "execution_count": 177,
   "id": "bc0ae2ae",
   "metadata": {},
   "outputs": [],
   "source": [
    "df.drop(columns= 'Emission Label', inplace=True)"
   ]
  },
  {
   "cell_type": "code",
   "execution_count": 178,
   "id": "07be7fa8",
   "metadata": {},
   "outputs": [
    {
     "data": {
      "text/plain": [
       "Index(['make_model', 'body_type', 'price', 'vat', 'km', 'registration',\n",
       "       'prev_owner', 'hp', 'Make', 'Model', 'Body Color', 'Upholstery', 'Body',\n",
       "       'Nr. of Doors', 'Nr. of Seats', 'Gearing Type', 'Displacement',\n",
       "       'Weight', 'Drive chain', 'Consumption', 'CO2 Emission',\n",
       "       'Emission Class', 'comfort', 'media', 'Extras', 'Safety & Security',\n",
       "       'Gears', 'Country version', 'Vehicle condition', 'particul_filter',\n",
       "       'Fuel Type'],\n",
       "      dtype='object')"
      ]
     },
     "execution_count": 178,
     "metadata": {},
     "output_type": "execute_result"
    }
   ],
   "source": [
    "df.columns"
   ]
  },
  {
   "cell_type": "markdown",
   "id": "71a74539",
   "metadata": {},
   "source": [
    "### 'Gears' "
   ]
  },
  {
   "cell_type": "code",
   "execution_count": 179,
   "id": "fa92348c",
   "metadata": {},
   "outputs": [
    {
     "data": {
      "text/plain": [
       "0           None\n",
       "1        [\\n7\\n]\n",
       "2           None\n",
       "3        [\\n6\\n]\n",
       "4           None\n",
       "          ...   \n",
       "15914    [\\n6\\n]\n",
       "15915    [\\n7\\n]\n",
       "15916    [\\n6\\n]\n",
       "15917    [\\n6\\n]\n",
       "15918       None\n",
       "Name: Gears, Length: 15919, dtype: object"
      ]
     },
     "execution_count": 179,
     "metadata": {},
     "output_type": "execute_result"
    }
   ],
   "source": [
    "df.Gears\n",
    "# araçların vites sayısını içeriyor"
   ]
  },
  {
   "cell_type": "code",
   "execution_count": 180,
   "id": "1352ffe6",
   "metadata": {},
   "outputs": [
    {
     "ename": "TypeError",
     "evalue": "unhashable type: 'list'",
     "output_type": "error",
     "traceback": [
      "\u001b[0;31m---------------------------------------------------------------------------\u001b[0m",
      "\u001b[0;31mTypeError\u001b[0m                                 Traceback (most recent call last)",
      "\u001b[0;32mpandas/_libs/hashtable_class_helper.pxi\u001b[0m in \u001b[0;36mpandas._libs.hashtable.PyObjectHashTable.map_locations\u001b[0;34m()\u001b[0m\n",
      "\u001b[0;31mTypeError\u001b[0m: unhashable type: 'list'"
     ]
    },
    {
     "name": "stderr",
     "output_type": "stream",
     "text": [
      "Exception ignored in: 'pandas._libs.index.IndexEngine._call_map_locations'\n",
      "Traceback (most recent call last):\n",
      "  File \"pandas/_libs/hashtable_class_helper.pxi\", line 4588, in pandas._libs.hashtable.PyObjectHashTable.map_locations\n",
      "TypeError: unhashable type: 'list'\n"
     ]
    },
    {
     "data": {
      "text/plain": [
       "[\\n6\\n]     5822\n",
       "NaN         4712\n",
       "[\\n5\\n]     3239\n",
       "[\\n7\\n]     1908\n",
       "[\\n8\\n]      224\n",
       "[\\n9\\n]        6\n",
       "[\\n4\\n]        2\n",
       "[\\n3\\n]        2\n",
       "[\\n1\\n]        2\n",
       "[\\n50\\n]       1\n",
       "[\\n2\\n]        1\n",
       "Name: Gears, dtype: int64"
      ]
     },
     "execution_count": 180,
     "metadata": {},
     "output_type": "execute_result"
    }
   ],
   "source": [
    "df.Gears.value_counts(dropna = False)"
   ]
  },
  {
   "cell_type": "code",
   "execution_count": 181,
   "id": "63495d73",
   "metadata": {},
   "outputs": [],
   "source": [
    "df.Gears = df.Gears.map(lambda x: x[0].strip(\"\\n\"),na_action='ignore')"
   ]
  },
  {
   "cell_type": "code",
   "execution_count": 182,
   "id": "84a50129",
   "metadata": {},
   "outputs": [
    {
     "data": {
      "text/plain": [
       "6      5822\n",
       "NaN    4712\n",
       "5      3239\n",
       "7      1908\n",
       "8       224\n",
       "9         6\n",
       "1         2\n",
       "4         2\n",
       "3         2\n",
       "50        1\n",
       "2         1\n",
       "Name: Gears, dtype: int64"
      ]
     },
     "execution_count": 182,
     "metadata": {},
     "output_type": "execute_result"
    }
   ],
   "source": [
    "df.Gears.value_counts(dropna=False)"
   ]
  },
  {
   "cell_type": "code",
   "execution_count": 183,
   "id": "2a06b5c7",
   "metadata": {},
   "outputs": [
    {
     "data": {
      "text/plain": [
       "14495    50\n",
       "Name: Gears, dtype: object"
      ]
     },
     "execution_count": 183,
     "metadata": {},
     "output_type": "execute_result"
    }
   ],
   "source": [
    "df[df.Gears == '50'].Gears"
   ]
  },
  {
   "cell_type": "code",
   "execution_count": 184,
   "id": "3e914004",
   "metadata": {},
   "outputs": [],
   "source": [
    "df.Gears.iloc[14495] = '5'"
   ]
  },
  {
   "cell_type": "code",
   "execution_count": 185,
   "id": "1c10202a",
   "metadata": {},
   "outputs": [
    {
     "data": {
      "text/plain": [
       "6      5822\n",
       "NaN    4712\n",
       "5      3240\n",
       "7      1908\n",
       "8       224\n",
       "9         6\n",
       "1         2\n",
       "4         2\n",
       "3         2\n",
       "2         1\n",
       "Name: Gears, dtype: int64"
      ]
     },
     "execution_count": 185,
     "metadata": {},
     "output_type": "execute_result"
    }
   ],
   "source": [
    "df.Gears.value_counts(dropna = False)"
   ]
  },
  {
   "cell_type": "code",
   "execution_count": 186,
   "id": "d00d01e2",
   "metadata": {},
   "outputs": [
    {
     "data": {
      "text/plain": [
       "4712"
      ]
     },
     "execution_count": 186,
     "metadata": {},
     "output_type": "execute_result"
    }
   ],
   "source": [
    "df.Gears.isnull().sum()"
   ]
  },
  {
   "cell_type": "markdown",
   "id": "1a162efd",
   "metadata": {},
   "source": [
    "### 'Country version'"
   ]
  },
  {
   "cell_type": "code",
   "execution_count": 187,
   "id": "88083474",
   "metadata": {},
   "outputs": [
    {
     "ename": "TypeError",
     "evalue": "unhashable type: 'list'",
     "output_type": "error",
     "traceback": [
      "\u001b[0;31m---------------------------------------------------------------------------\u001b[0m",
      "\u001b[0;31mTypeError\u001b[0m                                 Traceback (most recent call last)",
      "\u001b[0;32mpandas/_libs/hashtable_class_helper.pxi\u001b[0m in \u001b[0;36mpandas._libs.hashtable.PyObjectHashTable.map_locations\u001b[0;34m()\u001b[0m\n",
      "\u001b[0;31mTypeError\u001b[0m: unhashable type: 'list'"
     ]
    },
    {
     "name": "stderr",
     "output_type": "stream",
     "text": [
      "Exception ignored in: 'pandas._libs.index.IndexEngine._call_map_locations'\n",
      "Traceback (most recent call last):\n",
      "  File \"pandas/_libs/hashtable_class_helper.pxi\", line 4588, in pandas._libs.hashtable.PyObjectHashTable.map_locations\n",
      "TypeError: unhashable type: 'list'\n"
     ]
    },
    {
     "data": {
      "text/plain": [
       "NaN                     8333\n",
       "[\\nGermany\\n]           4502\n",
       "[\\nItaly\\n]             1038\n",
       "[\\nEuropean Union\\n]     507\n",
       "[\\nNetherlands\\n]        464\n",
       "[\\nSpain\\n]              325\n",
       "[\\nBelgium\\n]            314\n",
       "[\\nAustria\\n]            208\n",
       "[\\nCzech Republic\\n]      52\n",
       "[\\nPoland\\n]              49\n",
       "[\\nFrance\\n]              38\n",
       "[\\nDenmark\\n]             33\n",
       "[\\nHungary\\n]             28\n",
       "[\\nJapan\\n]                8\n",
       "[\\nSlovakia\\n]             4\n",
       "[\\nCroatia\\n]              4\n",
       "[\\nSweden\\n]               3\n",
       "[\\nBulgaria\\n]             2\n",
       "[\\nRomania\\n]              2\n",
       "[\\nEgypt\\n]                1\n",
       "[\\nSerbia\\n]               1\n",
       "[\\nLuxembourg\\n]           1\n",
       "[\\nSwitzerland\\n]          1\n",
       "[\\nSlovenia\\n]             1\n",
       "Name: Country version, dtype: int64"
      ]
     },
     "execution_count": 187,
     "metadata": {},
     "output_type": "execute_result"
    }
   ],
   "source": [
    "df['Country version'].value_counts(dropna = False)"
   ]
  },
  {
   "cell_type": "code",
   "execution_count": 188,
   "id": "356852ea",
   "metadata": {},
   "outputs": [
    {
     "data": {
      "text/plain": [
       "0           None\n",
       "1           None\n",
       "2           None\n",
       "3           None\n",
       "4        Germany\n",
       "          ...   \n",
       "15914       None\n",
       "15915    Germany\n",
       "15916    Austria\n",
       "15917       None\n",
       "15918    Germany\n",
       "Name: Country version, Length: 15919, dtype: object"
      ]
     },
     "execution_count": 188,
     "metadata": {},
     "output_type": "execute_result"
    }
   ],
   "source": [
    "df['Country version'].map(lambda x: x[0].strip('\\n'),na_action='ignore')"
   ]
  },
  {
   "cell_type": "code",
   "execution_count": null,
   "id": "6f829bfd",
   "metadata": {},
   "outputs": [],
   "source": []
  }
 ],
 "metadata": {
  "kernelspec": {
   "display_name": "Python 3",
   "language": "python",
   "name": "python3"
  },
  "language_info": {
   "codemirror_mode": {
    "name": "ipython",
    "version": 3
   },
   "file_extension": ".py",
   "mimetype": "text/x-python",
   "name": "python",
   "nbconvert_exporter": "python",
   "pygments_lexer": "ipython3",
   "version": "3.8.8"
  }
 },
 "nbformat": 4,
 "nbformat_minor": 5
}
