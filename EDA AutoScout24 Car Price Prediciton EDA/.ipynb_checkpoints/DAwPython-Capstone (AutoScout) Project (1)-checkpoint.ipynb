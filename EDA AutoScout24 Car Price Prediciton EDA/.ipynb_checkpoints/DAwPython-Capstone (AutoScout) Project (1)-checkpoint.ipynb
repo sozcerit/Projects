{
 "cells": [
  {
   "cell_type": "markdown",
   "metadata": {},
   "source": [
    "___\n",
    "\n",
    "<p style=\"text-align: center;\"><img src=\"https://docs.google.com/uc?id=1lY0Uj5R04yMY3-ZppPWxqCr5pvBLYPnV\" class=\"img-fluid\" alt=\"CLRSWY\"></p>\n",
    "\n",
    "___"
   ]
  },
  {
   "cell_type": "markdown",
   "metadata": {},
   "source": [
    "# WELCOME!"
   ]
  },
  {
   "cell_type": "markdown",
   "metadata": {},
   "source": [
    "## Introduction\n",
    "Welcome to \"***AutoScout Data Analysis Project***\". This is the capstone project of ***Data Analysis*** Module. **Auto Scout** data which using for this project, scraped from the on-line car trading company in 2019, contains many features of 9 different car models. In this project, you will have the opportunity to apply many commonly used algorithms for Data Cleaning and Exploratory Data Analysis by using many Python libraries such as Numpy, Pandas, Matplotlib, Seaborn, Scipy you will analyze clean dataset.\n",
    "\n",
    "The project consists of 3 parts:\n",
    "* First part is related with 'data cleaning'. It deals with Incorrect Headers, Incorrect Format, Anomalies, Dropping useless columns.\n",
    "* Second part is related with 'filling data'. It deals with Missing Values. Categorical to numeric transformation is done.\n",
    "* Third part is related with 'handling outliers of data' via Visualisation libraries. Some insights are extracted.\n"
   ]
  },
  {
   "cell_type": "markdown",
   "metadata": {},
   "source": [
    "# PART- 1 `( Data Cleaning )`"
   ]
  },
  {
   "cell_type": "code",
   "execution_count": 1,
   "metadata": {},
   "outputs": [],
   "source": [
    "import pandas as pd\n",
    "import numpy as np\n",
    "pd.set_option(\"display.max_columns\", None)"
   ]
  },
  {
   "cell_type": "code",
   "execution_count": 2,
   "metadata": {},
   "outputs": [],
   "source": [
    "df = pd.read_json(\"scout_car.json\",lines= True,orient= 'list')"
   ]
  },
  {
   "cell_type": "code",
   "execution_count": 3,
   "metadata": {},
   "outputs": [
    {
     "data": {
      "text/html": [
       "<div>\n",
       "<style scoped>\n",
       "    .dataframe tbody tr th:only-of-type {\n",
       "        vertical-align: middle;\n",
       "    }\n",
       "\n",
       "    .dataframe tbody tr th {\n",
       "        vertical-align: top;\n",
       "    }\n",
       "\n",
       "    .dataframe thead th {\n",
       "        text-align: right;\n",
       "    }\n",
       "</style>\n",
       "<table border=\"1\" class=\"dataframe\">\n",
       "  <thead>\n",
       "    <tr style=\"text-align: right;\">\n",
       "      <th></th>\n",
       "      <th>0</th>\n",
       "    </tr>\n",
       "  </thead>\n",
       "  <tbody>\n",
       "    <tr>\n",
       "      <th>url</th>\n",
       "      <td>https://www.autoscout24.com//offers/audi-a1-sp...</td>\n",
       "    </tr>\n",
       "    <tr>\n",
       "      <th>make_model</th>\n",
       "      <td>Audi A1</td>\n",
       "    </tr>\n",
       "    <tr>\n",
       "      <th>short_description</th>\n",
       "      <td>Sportback 1.4 TDI S-tronic Xenon Navi Klima</td>\n",
       "    </tr>\n",
       "    <tr>\n",
       "      <th>body_type</th>\n",
       "      <td>Sedans</td>\n",
       "    </tr>\n",
       "    <tr>\n",
       "      <th>price</th>\n",
       "      <td>15770</td>\n",
       "    </tr>\n",
       "    <tr>\n",
       "      <th>vat</th>\n",
       "      <td>VAT deductible</td>\n",
       "    </tr>\n",
       "    <tr>\n",
       "      <th>km</th>\n",
       "      <td>56,013 km</td>\n",
       "    </tr>\n",
       "    <tr>\n",
       "      <th>registration</th>\n",
       "      <td>01/2016</td>\n",
       "    </tr>\n",
       "    <tr>\n",
       "      <th>prev_owner</th>\n",
       "      <td>2 previous owners</td>\n",
       "    </tr>\n",
       "    <tr>\n",
       "      <th>kW</th>\n",
       "      <td>NaN</td>\n",
       "    </tr>\n",
       "    <tr>\n",
       "      <th>hp</th>\n",
       "      <td>66 kW</td>\n",
       "    </tr>\n",
       "    <tr>\n",
       "      <th>Type</th>\n",
       "      <td>[, Used, , Diesel (Particulate Filter)]</td>\n",
       "    </tr>\n",
       "    <tr>\n",
       "      <th>Previous Owners</th>\n",
       "      <td>\\n2\\n</td>\n",
       "    </tr>\n",
       "    <tr>\n",
       "      <th>Next Inspection</th>\n",
       "      <td>[\\n06/2021\\n, \\n99 g CO2/km (comb)\\n]</td>\n",
       "    </tr>\n",
       "    <tr>\n",
       "      <th>Inspection new</th>\n",
       "      <td>[\\nYes\\n, \\nEuro 6\\n]</td>\n",
       "    </tr>\n",
       "    <tr>\n",
       "      <th>Warranty</th>\n",
       "      <td>[\\n, \\n, \\n4 (Green)\\n]</td>\n",
       "    </tr>\n",
       "    <tr>\n",
       "      <th>Full Service</th>\n",
       "      <td>[\\n, \\n]</td>\n",
       "    </tr>\n",
       "    <tr>\n",
       "      <th>Non-smoking Vehicle</th>\n",
       "      <td>[\\n, \\n]</td>\n",
       "    </tr>\n",
       "    <tr>\n",
       "      <th>null</th>\n",
       "      <td>[]</td>\n",
       "    </tr>\n",
       "    <tr>\n",
       "      <th>Make</th>\n",
       "      <td>\\nAudi\\n</td>\n",
       "    </tr>\n",
       "    <tr>\n",
       "      <th>Model</th>\n",
       "      <td>[\\n, A1, \\n]</td>\n",
       "    </tr>\n",
       "    <tr>\n",
       "      <th>Offer Number</th>\n",
       "      <td>[\\nLR-062483\\n]</td>\n",
       "    </tr>\n",
       "    <tr>\n",
       "      <th>First Registration</th>\n",
       "      <td>[\\n, 2016, \\n]</td>\n",
       "    </tr>\n",
       "    <tr>\n",
       "      <th>Body Color</th>\n",
       "      <td>[\\n, Black, \\n]</td>\n",
       "    </tr>\n",
       "    <tr>\n",
       "      <th>Paint Type</th>\n",
       "      <td>[\\nMetallic\\n]</td>\n",
       "    </tr>\n",
       "    <tr>\n",
       "      <th>Body Color Original</th>\n",
       "      <td>[\\nMythosschwarz\\n]</td>\n",
       "    </tr>\n",
       "    <tr>\n",
       "      <th>Upholstery</th>\n",
       "      <td>[\\nCloth, Black\\n]</td>\n",
       "    </tr>\n",
       "    <tr>\n",
       "      <th>Body</th>\n",
       "      <td>[\\n, Sedans, \\n]</td>\n",
       "    </tr>\n",
       "    <tr>\n",
       "      <th>Nr. of Doors</th>\n",
       "      <td>[\\n5\\n]</td>\n",
       "    </tr>\n",
       "    <tr>\n",
       "      <th>Nr. of Seats</th>\n",
       "      <td>[\\n5\\n]</td>\n",
       "    </tr>\n",
       "    <tr>\n",
       "      <th>Model Code</th>\n",
       "      <td>[\\n0588/BDF\\n]</td>\n",
       "    </tr>\n",
       "    <tr>\n",
       "      <th>Gearing Type</th>\n",
       "      <td>[\\n, Automatic, \\n]</td>\n",
       "    </tr>\n",
       "    <tr>\n",
       "      <th>Displacement</th>\n",
       "      <td>[\\n1,422 cc\\n]</td>\n",
       "    </tr>\n",
       "    <tr>\n",
       "      <th>Cylinders</th>\n",
       "      <td>[\\n3\\n]</td>\n",
       "    </tr>\n",
       "    <tr>\n",
       "      <th>Weight</th>\n",
       "      <td>[\\n1,220 kg\\n]</td>\n",
       "    </tr>\n",
       "    <tr>\n",
       "      <th>Drive chain</th>\n",
       "      <td>[\\nfront\\n]</td>\n",
       "    </tr>\n",
       "    <tr>\n",
       "      <th>Fuel</th>\n",
       "      <td>[\\n, Diesel (Particulate Filter), \\n]</td>\n",
       "    </tr>\n",
       "    <tr>\n",
       "      <th>Consumption</th>\n",
       "      <td>[[3.8 l/100 km (comb)], [4.3 l/100 km (city)],...</td>\n",
       "    </tr>\n",
       "    <tr>\n",
       "      <th>CO2 Emission</th>\n",
       "      <td>[\\n99 g CO2/km (comb)\\n]</td>\n",
       "    </tr>\n",
       "    <tr>\n",
       "      <th>Emission Class</th>\n",
       "      <td>[\\nEuro 6\\n]</td>\n",
       "    </tr>\n",
       "    <tr>\n",
       "      <th>\\nComfort &amp; Convenience\\n</th>\n",
       "      <td>[Air conditioning, Armrest, Automatic climate ...</td>\n",
       "    </tr>\n",
       "    <tr>\n",
       "      <th>\\nEntertainment &amp; Media\\n</th>\n",
       "      <td>[Bluetooth, Hands-free equipment, On-board com...</td>\n",
       "    </tr>\n",
       "    <tr>\n",
       "      <th>\\nExtras\\n</th>\n",
       "      <td>[Alloy wheels, Catalytic Converter, Voice Cont...</td>\n",
       "    </tr>\n",
       "    <tr>\n",
       "      <th>\\nSafety &amp; Security\\n</th>\n",
       "      <td>[ABS, Central door lock, Daytime running light...</td>\n",
       "    </tr>\n",
       "    <tr>\n",
       "      <th>description</th>\n",
       "      <td>[\\n, Sicherheit:,  , Deaktivierung für Beifahr...</td>\n",
       "    </tr>\n",
       "    <tr>\n",
       "      <th>Emission Label</th>\n",
       "      <td>NaN</td>\n",
       "    </tr>\n",
       "    <tr>\n",
       "      <th>Gears</th>\n",
       "      <td>NaN</td>\n",
       "    </tr>\n",
       "    <tr>\n",
       "      <th>Country version</th>\n",
       "      <td>NaN</td>\n",
       "    </tr>\n",
       "    <tr>\n",
       "      <th>Electricity consumption</th>\n",
       "      <td>NaN</td>\n",
       "    </tr>\n",
       "    <tr>\n",
       "      <th>Last Service Date</th>\n",
       "      <td>NaN</td>\n",
       "    </tr>\n",
       "    <tr>\n",
       "      <th>Other Fuel Types</th>\n",
       "      <td>NaN</td>\n",
       "    </tr>\n",
       "    <tr>\n",
       "      <th>Availability</th>\n",
       "      <td>NaN</td>\n",
       "    </tr>\n",
       "    <tr>\n",
       "      <th>Last Timing Belt Service Date</th>\n",
       "      <td>NaN</td>\n",
       "    </tr>\n",
       "    <tr>\n",
       "      <th>Available from</th>\n",
       "      <td>NaN</td>\n",
       "    </tr>\n",
       "  </tbody>\n",
       "</table>\n",
       "</div>"
      ],
      "text/plain": [
       "                                                                               0\n",
       "url                            https://www.autoscout24.com//offers/audi-a1-sp...\n",
       "make_model                                                               Audi A1\n",
       "short_description                    Sportback 1.4 TDI S-tronic Xenon Navi Klima\n",
       "body_type                                                                 Sedans\n",
       "price                                                                      15770\n",
       "vat                                                               VAT deductible\n",
       "km                                                                     56,013 km\n",
       "registration                                                             01/2016\n",
       "prev_owner                                                     2 previous owners\n",
       "kW                                                                           NaN\n",
       "hp                                                                         66 kW\n",
       "Type                                     [, Used, , Diesel (Particulate Filter)]\n",
       "Previous Owners                                                            \\n2\\n\n",
       "Next Inspection                            [\\n06/2021\\n, \\n99 g CO2/km (comb)\\n]\n",
       "Inspection new                                             [\\nYes\\n, \\nEuro 6\\n]\n",
       "Warranty                                                 [\\n, \\n, \\n4 (Green)\\n]\n",
       "Full Service                                                            [\\n, \\n]\n",
       "Non-smoking Vehicle                                                     [\\n, \\n]\n",
       "null                                                                          []\n",
       "Make                                                                    \\nAudi\\n\n",
       "Model                                                               [\\n, A1, \\n]\n",
       "Offer Number                                                     [\\nLR-062483\\n]\n",
       "First Registration                                                [\\n, 2016, \\n]\n",
       "Body Color                                                       [\\n, Black, \\n]\n",
       "Paint Type                                                        [\\nMetallic\\n]\n",
       "Body Color Original                                          [\\nMythosschwarz\\n]\n",
       "Upholstery                                                    [\\nCloth, Black\\n]\n",
       "Body                                                            [\\n, Sedans, \\n]\n",
       "Nr. of Doors                                                             [\\n5\\n]\n",
       "Nr. of Seats                                                             [\\n5\\n]\n",
       "Model Code                                                        [\\n0588/BDF\\n]\n",
       "Gearing Type                                                 [\\n, Automatic, \\n]\n",
       "Displacement                                                      [\\n1,422 cc\\n]\n",
       "Cylinders                                                                [\\n3\\n]\n",
       "Weight                                                            [\\n1,220 kg\\n]\n",
       "Drive chain                                                          [\\nfront\\n]\n",
       "Fuel                                       [\\n, Diesel (Particulate Filter), \\n]\n",
       "Consumption                    [[3.8 l/100 km (comb)], [4.3 l/100 km (city)],...\n",
       "CO2 Emission                                            [\\n99 g CO2/km (comb)\\n]\n",
       "Emission Class                                                      [\\nEuro 6\\n]\n",
       "\\nComfort & Convenience\\n      [Air conditioning, Armrest, Automatic climate ...\n",
       "\\nEntertainment & Media\\n      [Bluetooth, Hands-free equipment, On-board com...\n",
       "\\nExtras\\n                     [Alloy wheels, Catalytic Converter, Voice Cont...\n",
       "\\nSafety & Security\\n          [ABS, Central door lock, Daytime running light...\n",
       "description                    [\\n, Sicherheit:,  , Deaktivierung für Beifahr...\n",
       "Emission Label                                                               NaN\n",
       "Gears                                                                        NaN\n",
       "Country version                                                              NaN\n",
       "Electricity consumption                                                      NaN\n",
       "Last Service Date                                                            NaN\n",
       "Other Fuel Types                                                             NaN\n",
       "Availability                                                                 NaN\n",
       "Last Timing Belt Service Date                                                NaN\n",
       "Available from                                                               NaN"
      ]
     },
     "execution_count": 3,
     "metadata": {},
     "output_type": "execute_result"
    }
   ],
   "source": [
    "df.head(1).T"
   ]
  },
  {
   "cell_type": "code",
   "execution_count": 4,
   "metadata": {},
   "outputs": [
    {
     "name": "stdout",
     "output_type": "stream",
     "text": [
      "<class 'pandas.core.frame.DataFrame'>\n",
      "RangeIndex: 15919 entries, 0 to 15918\n",
      "Data columns (total 54 columns):\n",
      " #   Column                         Non-Null Count  Dtype  \n",
      "---  ------                         --------------  -----  \n",
      " 0   url                            15919 non-null  object \n",
      " 1   make_model                     15919 non-null  object \n",
      " 2   short_description              15873 non-null  object \n",
      " 3   body_type                      15859 non-null  object \n",
      " 4   price                          15919 non-null  int64  \n",
      " 5   vat                            11406 non-null  object \n",
      " 6   km                             15919 non-null  object \n",
      " 7   registration                   15919 non-null  object \n",
      " 8   prev_owner                     9091 non-null   object \n",
      " 9   kW                             0 non-null      float64\n",
      " 10  hp                             15919 non-null  object \n",
      " 11  Type                           15917 non-null  object \n",
      " 12  Previous Owners                9279 non-null   object \n",
      " 13  Next Inspection                3535 non-null   object \n",
      " 14  Inspection new                 3932 non-null   object \n",
      " 15  Warranty                       10499 non-null  object \n",
      " 16  Full Service                   8215 non-null   object \n",
      " 17  Non-smoking Vehicle            7177 non-null   object \n",
      " 18  null                           15919 non-null  object \n",
      " 19  Make                           15919 non-null  object \n",
      " 20  Model                          15919 non-null  object \n",
      " 21  Offer Number                   12744 non-null  object \n",
      " 22  First Registration             14322 non-null  object \n",
      " 23  Body Color                     15322 non-null  object \n",
      " 24  Paint Type                     10147 non-null  object \n",
      " 25  Body Color Original            12160 non-null  object \n",
      " 26  Upholstery                     12199 non-null  object \n",
      " 27  Body                           15859 non-null  object \n",
      " 28  Nr. of Doors                   15707 non-null  object \n",
      " 29  Nr. of Seats                   14942 non-null  object \n",
      " 30  Model Code                     4978 non-null   object \n",
      " 31  Gearing Type                   15919 non-null  object \n",
      " 32  Displacement                   15423 non-null  object \n",
      " 33  Cylinders                      10239 non-null  object \n",
      " 34  Weight                         8945 non-null   object \n",
      " 35  Drive chain                    9061 non-null   object \n",
      " 36  Fuel                           15919 non-null  object \n",
      " 37  Consumption                    14013 non-null  object \n",
      " 38  CO2 Emission                   14111 non-null  object \n",
      " 39  Emission Class                 12898 non-null  object \n",
      " 40  \n",
      "Comfort & Convenience\n",
      "        14999 non-null  object \n",
      " 41  \n",
      "Entertainment & Media\n",
      "        14545 non-null  object \n",
      " 42  \n",
      "Extras\n",
      "                       12957 non-null  object \n",
      " 43  \n",
      "Safety & Security\n",
      "            14937 non-null  object \n",
      " 44  description                    15919 non-null  object \n",
      " 45  Emission Label                 3985 non-null   object \n",
      " 46  Gears                          11207 non-null  object \n",
      " 47  Country version                7586 non-null   object \n",
      " 48  Electricity consumption        137 non-null    object \n",
      " 49  Last Service Date              566 non-null    object \n",
      " 50  Other Fuel Types               880 non-null    object \n",
      " 51  Availability                   635 non-null    object \n",
      " 52  Last Timing Belt Service Date  16 non-null     object \n",
      " 53  Available from                 272 non-null    object \n",
      "dtypes: float64(1), int64(1), object(52)\n",
      "memory usage: 6.6+ MB\n"
     ]
    }
   ],
   "source": [
    "df.info()"
   ]
  },
  {
   "cell_type": "code",
   "execution_count": 5,
   "metadata": {},
   "outputs": [
    {
     "data": {
      "text/plain": [
       "Index(['url', 'make_model', 'short_description', 'body_type', 'price', 'vat',\n",
       "       'km', 'registration', 'prev_owner', 'kW', 'hp', 'Type',\n",
       "       'Previous Owners', 'Next Inspection', 'Inspection new', 'Warranty',\n",
       "       'Full Service', 'Non-smoking Vehicle', 'null', 'Make', 'Model',\n",
       "       'Offer Number', 'First Registration', 'Body Color', 'Paint Type',\n",
       "       'Body Color Original', 'Upholstery', 'Body', 'Nr. of Doors',\n",
       "       'Nr. of Seats', 'Model Code', 'Gearing Type', 'Displacement',\n",
       "       'Cylinders', 'Weight', 'Drive chain', 'Fuel', 'Consumption',\n",
       "       'CO2 Emission', 'Emission Class', '\\nComfort & Convenience\\n',\n",
       "       '\\nEntertainment & Media\\n', '\\nExtras\\n', '\\nSafety & Security\\n',\n",
       "       'description', 'Emission Label', 'Gears', 'Country version',\n",
       "       'Electricity consumption', 'Last Service Date', 'Other Fuel Types',\n",
       "       'Availability', 'Last Timing Belt Service Date', 'Available from'],\n",
       "      dtype='object')"
      ]
     },
     "execution_count": 5,
     "metadata": {},
     "output_type": "execute_result"
    }
   ],
   "source": [
    "df.columns"
   ]
  },
  {
   "cell_type": "code",
   "execution_count": 6,
   "metadata": {},
   "outputs": [
    {
     "data": {
      "text/plain": [
       "0        https://www.autoscout24.com//offers/audi-a1-sp...\n",
       "1        https://www.autoscout24.com//offers/audi-a1-1-...\n",
       "2        https://www.autoscout24.com//offers/audi-a1-sp...\n",
       "3        https://www.autoscout24.com//offers/audi-a1-1-...\n",
       "4        https://www.autoscout24.com//offers/audi-a1-sp...\n",
       "                               ...                        \n",
       "15914    https://www.autoscout24.com//offers/renault-es...\n",
       "15915    https://www.autoscout24.com//offers/renault-es...\n",
       "15916    https://www.autoscout24.com//offers/renault-es...\n",
       "15917    https://www.autoscout24.com//offers/renault-es...\n",
       "15918    https://www.autoscout24.com//offers/renault-es...\n",
       "Name: url, Length: 15919, dtype: object"
      ]
     },
     "execution_count": 6,
     "metadata": {},
     "output_type": "execute_result"
    }
   ],
   "source": [
    "df.url\n",
    "# araçların ilan sayfasının linkleri\n",
    "# drop edilebilir. "
   ]
  },
  {
   "cell_type": "code",
   "execution_count": 7,
   "metadata": {
    "scrolled": true
   },
   "outputs": [
    {
     "data": {
      "text/plain": [
       "15547    Renault Espace\n",
       "3219            Audi A3\n",
       "11394     Opel Insignia\n",
       "15773    Renault Espace\n",
       "14334      Renault Clio\n",
       "Name: make_model, dtype: object"
      ]
     },
     "execution_count": 7,
     "metadata": {},
     "output_type": "execute_result"
    }
   ],
   "source": [
    "df.make_model.sample(5)\n",
    "# Make ve Model sütunlarının birleşimi \n",
    "# bu sütun daha temiz olduğu için split edilebilir. "
   ]
  },
  {
   "cell_type": "code",
   "execution_count": 8,
   "metadata": {},
   "outputs": [
    {
     "data": {
      "text/plain": [
       "5721                              ST Edition AT D1,6/136PS\n",
       "6833             K Lim. 5türig Edition Start/Stop*Navi*PDC\n",
       "14919    Deluxe - EXPORT OUT EU TROPICAL VERSION - EXPO...\n",
       "Name: short_description, dtype: object"
      ]
     },
     "execution_count": 8,
     "metadata": {},
     "output_type": "execute_result"
    }
   ],
   "source": [
    "df.short_description.sample(3)\n",
    "# tüm sütunlar değerlendirildikten sonra tekrar bakılacak"
   ]
  },
  {
   "cell_type": "code",
   "execution_count": 9,
   "metadata": {},
   "outputs": [
    {
     "data": {
      "text/plain": [
       "array(['Sedans', 'Station wagon', 'Compact', 'Other', 'Coupe', 'Van',\n",
       "       'Off-Road', 'Convertible', None, 'Transporter'], dtype=object)"
      ]
     },
     "execution_count": 9,
     "metadata": {},
     "output_type": "execute_result"
    }
   ],
   "source": [
    "df['body_type'].unique()\n",
    "# araç şase tipleri"
   ]
  },
  {
   "cell_type": "code",
   "execution_count": 10,
   "metadata": {},
   "outputs": [
    {
     "data": {
      "text/plain": [
       "Sedans           7903\n",
       "Station wagon    3553\n",
       "Compact          3153\n",
       "Van               783\n",
       "Other             290\n",
       "Transporter        88\n",
       "Off-Road           56\n",
       "Coupe              25\n",
       "Convertible         8\n",
       "Name: body_type, dtype: int64"
      ]
     },
     "execution_count": 10,
     "metadata": {},
     "output_type": "execute_result"
    }
   ],
   "source": [
    "df.body_type.value_counts()"
   ]
  },
  {
   "cell_type": "code",
   "execution_count": 11,
   "metadata": {},
   "outputs": [
    {
     "data": {
      "text/plain": [
       "60"
      ]
     },
     "execution_count": 11,
     "metadata": {},
     "output_type": "execute_result"
    }
   ],
   "source": [
    "df.body_type.isnull().sum()\n",
    "# toplamda body tipi  bilinmeyen 350 tane değer var."
   ]
  },
  {
   "cell_type": "code",
   "execution_count": 12,
   "metadata": {},
   "outputs": [
    {
     "data": {
      "text/plain": [
       "[13, 74600]"
      ]
     },
     "execution_count": 12,
     "metadata": {},
     "output_type": "execute_result"
    }
   ],
   "source": [
    "df.price\n",
    "# araçların fiyat bilgileri yer alıyor ve null değer yer almıyor.\n",
    "a,b = min(df.price),max(df.price)\n",
    "[a,b]"
   ]
  },
  {
   "cell_type": "code",
   "execution_count": 13,
   "metadata": {},
   "outputs": [
    {
     "data": {
      "text/plain": [
       "VAT deductible      10980\n",
       "Price negotiable      426\n",
       "Name: vat, dtype: int64"
      ]
     },
     "execution_count": 13,
     "metadata": {},
     "output_type": "execute_result"
    }
   ],
   "source": [
    "df.vat.value_counts()\n",
    "# araçlara ait "
   ]
  },
  {
   "cell_type": "code",
   "execution_count": 14,
   "metadata": {},
   "outputs": [
    {
     "data": {
      "text/plain": [
       "4513"
      ]
     },
     "execution_count": 14,
     "metadata": {},
     "output_type": "execute_result"
    }
   ],
   "source": [
    "df.vat.isnull().sum()"
   ]
  },
  {
   "cell_type": "code",
   "execution_count": 15,
   "metadata": {},
   "outputs": [
    {
     "data": {
      "text/html": [
       "<div>\n",
       "<style scoped>\n",
       "    .dataframe tbody tr th:only-of-type {\n",
       "        vertical-align: middle;\n",
       "    }\n",
       "\n",
       "    .dataframe tbody tr th {\n",
       "        vertical-align: top;\n",
       "    }\n",
       "\n",
       "    .dataframe thead th {\n",
       "        text-align: right;\n",
       "    }\n",
       "</style>\n",
       "<table border=\"1\" class=\"dataframe\">\n",
       "  <thead>\n",
       "    <tr style=\"text-align: right;\">\n",
       "      <th></th>\n",
       "      <th>registration</th>\n",
       "      <th>vat</th>\n",
       "    </tr>\n",
       "  </thead>\n",
       "  <tbody>\n",
       "    <tr>\n",
       "      <th>1072</th>\n",
       "      <td>02/2017</td>\n",
       "      <td>Price negotiable</td>\n",
       "    </tr>\n",
       "    <tr>\n",
       "      <th>4799</th>\n",
       "      <td>01/2018</td>\n",
       "      <td>Price negotiable</td>\n",
       "    </tr>\n",
       "    <tr>\n",
       "      <th>334</th>\n",
       "      <td>05/2018</td>\n",
       "      <td>Price negotiable</td>\n",
       "    </tr>\n",
       "  </tbody>\n",
       "</table>\n",
       "</div>"
      ],
      "text/plain": [
       "     registration               vat\n",
       "1072      02/2017  Price negotiable\n",
       "4799      01/2018  Price negotiable\n",
       "334       05/2018  Price negotiable"
      ]
     },
     "execution_count": 15,
     "metadata": {},
     "output_type": "execute_result"
    }
   ],
   "source": [
    "df[df.vat == 'Price negotiable'][[\"registration\",\"vat\"]].sample(3)"
   ]
  },
  {
   "cell_type": "code",
   "execution_count": 16,
   "metadata": {},
   "outputs": [
    {
     "data": {
      "text/plain": [
       "0        15770\n",
       "1        14500\n",
       "2        14640\n",
       "3        14500\n",
       "4        16790\n",
       "         ...  \n",
       "15914    39950\n",
       "15915    39885\n",
       "15916    39875\n",
       "15917    39700\n",
       "15918    40999\n",
       "Name: price, Length: 15919, dtype: int64"
      ]
     },
     "execution_count": 16,
     "metadata": {},
     "output_type": "execute_result"
    }
   ],
   "source": [
    "df.price\n",
    "# araçlara"
   ]
  },
  {
   "cell_type": "code",
   "execution_count": 17,
   "metadata": {},
   "outputs": [
    {
     "data": {
      "text/plain": [
       "- km    1024\n",
       "Name: km, dtype: int64"
      ]
     },
     "execution_count": 17,
     "metadata": {},
     "output_type": "execute_result"
    }
   ],
   "source": [
    "df[df.km == '- km'].km.value_counts()\n",
    "# null değerler yok ama '- km' şeklinde değerler girilmiş. "
   ]
  },
  {
   "cell_type": "code",
   "execution_count": 18,
   "metadata": {},
   "outputs": [
    {
     "data": {
      "text/plain": [
       "0        01/2016\n",
       "1        03/2017\n",
       "2        02/2016\n",
       "3        08/2016\n",
       "4        05/2016\n",
       "          ...   \n",
       "15914        -/-\n",
       "15915    01/2019\n",
       "15916    03/2019\n",
       "15917    06/2019\n",
       "15918    01/2019\n",
       "Name: registration, Length: 15919, dtype: object"
      ]
     },
     "execution_count": 18,
     "metadata": {},
     "output_type": "execute_result"
    }
   ],
   "source": [
    "df.registration \n",
    "# veri tipi string olarak girilmiş. Tarih bilgileri içerdiği için datetime a çevirilebilir\n",
    "# araçların model yılı kayıt yılı. \n",
    "# isnull değerleri yok. \n",
    "# \"-/-\" şeklinde veri girişleri mevcut. Bunların düzenlenmesi gerekir. "
   ]
  },
  {
   "cell_type": "code",
   "execution_count": 19,
   "metadata": {},
   "outputs": [
    {
     "data": {
      "text/plain": [
       "(1597, 54)"
      ]
     },
     "execution_count": 19,
     "metadata": {},
     "output_type": "execute_result"
    }
   ],
   "source": [
    "df[df.registration == \"-/-\"].shape"
   ]
  },
  {
   "cell_type": "code",
   "execution_count": 20,
   "metadata": {},
   "outputs": [
    {
     "data": {
      "text/plain": [
       "1 previous owner     8294\n",
       "2 previous owners     778\n",
       "3 previous owners      17\n",
       "4 previous owners       2\n",
       "Name: prev_owner, dtype: int64"
      ]
     },
     "execution_count": 20,
     "metadata": {},
     "output_type": "execute_result"
    }
   ],
   "source": [
    "df['prev_owner'].value_counts()\n",
    "# arabanın kaçıncı sahibi olmuş\n",
    "# geçersiz veri girişi yok\n",
    "# null değerler var. 6828 tane "
   ]
  },
  {
   "cell_type": "code",
   "execution_count": 21,
   "metadata": {},
   "outputs": [
    {
     "data": {
      "text/plain": [
       "0       NaN\n",
       "1       NaN\n",
       "2       NaN\n",
       "3       NaN\n",
       "4       NaN\n",
       "         ..\n",
       "15914   NaN\n",
       "15915   NaN\n",
       "15916   NaN\n",
       "15917   NaN\n",
       "15918   NaN\n",
       "Name: kW, Length: 15919, dtype: float64"
      ]
     },
     "execution_count": 21,
     "metadata": {},
     "output_type": "execute_result"
    }
   ],
   "source": [
    "df.kW\n",
    "# tamamı null olan bir sütun"
   ]
  },
  {
   "cell_type": "code",
   "execution_count": 22,
   "metadata": {},
   "outputs": [
    {
     "data": {
      "text/plain": [
       "<bound method NDFrame.head of                                                      url      make_model  \\\n",
       "0      https://www.autoscout24.com//offers/audi-a1-sp...         Audi A1   \n",
       "1      https://www.autoscout24.com//offers/audi-a1-1-...         Audi A1   \n",
       "2      https://www.autoscout24.com//offers/audi-a1-sp...         Audi A1   \n",
       "3      https://www.autoscout24.com//offers/audi-a1-1-...         Audi A1   \n",
       "4      https://www.autoscout24.com//offers/audi-a1-sp...         Audi A1   \n",
       "...                                                  ...             ...   \n",
       "15914  https://www.autoscout24.com//offers/renault-es...  Renault Espace   \n",
       "15915  https://www.autoscout24.com//offers/renault-es...  Renault Espace   \n",
       "15916  https://www.autoscout24.com//offers/renault-es...  Renault Espace   \n",
       "15917  https://www.autoscout24.com//offers/renault-es...  Renault Espace   \n",
       "15918  https://www.autoscout24.com//offers/renault-es...  Renault Espace   \n",
       "\n",
       "                                       short_description body_type  price  \\\n",
       "0            Sportback 1.4 TDI S-tronic Xenon Navi Klima    Sedans  15770   \n",
       "1                                         1.8 TFSI sport    Sedans  14500   \n",
       "2      Sportback 1.6 TDI S tronic Einparkhilfe plus+m...    Sedans  14640   \n",
       "3                                1.4 TDi Design S tronic    Sedans  14500   \n",
       "4      Sportback 1.4 TDI S-Tronic S-Line Ext. admired...    Sedans  16790   \n",
       "...                                                  ...       ...    ...   \n",
       "15914              Blue dCi 200CV EDC Executive 4Control       Van  39950   \n",
       "15915                TCe 225 EDC GPF LIM Deluxe Pano,RFK       Van  39885   \n",
       "15916  Blue dCi 200 EDC Initiale Paris Leder LED Navi...       Van  39875   \n",
       "15917  Blue dCi 200CV EDC Business , NUOVA DA IMMATRI...       Van  39700   \n",
       "15918        INITIALE PARIS TCe 225 EDC GPF NAVI SHZ AUX       Van  40999   \n",
       "\n",
       "                    vat         km registration         prev_owner  kW  \\\n",
       "0        VAT deductible  56,013 km      01/2016  2 previous owners NaN   \n",
       "1      Price negotiable  80,000 km      03/2017               None NaN   \n",
       "2        VAT deductible  83,450 km      02/2016   1 previous owner NaN   \n",
       "3                  None  73,000 km      08/2016   1 previous owner NaN   \n",
       "4                  None  16,200 km      05/2016   1 previous owner NaN   \n",
       "...                 ...        ...          ...                ...  ..   \n",
       "15914    VAT deductible       - km          -/-               None NaN   \n",
       "15915    VAT deductible   9,900 km      01/2019   1 previous owner NaN   \n",
       "15916    VAT deductible      15 km      03/2019   1 previous owner NaN   \n",
       "15917    VAT deductible      10 km      06/2019               None NaN   \n",
       "15918    VAT deductible       - km      01/2019   1 previous owner NaN   \n",
       "\n",
       "           hp                                               Type  \\\n",
       "0       66 kW            [, Used, , Diesel (Particulate Filter)]   \n",
       "1      141 kW                               [, Used, , Gasoline]   \n",
       "2       85 kW            [, Used, , Diesel (Particulate Filter)]   \n",
       "3       66 kW            [, Used, , Diesel (Particulate Filter)]   \n",
       "4       66 kW            [, Used, , Diesel (Particulate Filter)]   \n",
       "...       ...                                                ...   \n",
       "15914  147 kW             [, New, , Diesel (Particulate Filter)]   \n",
       "15915  165 kW  [, Used, , Super 95 / Super Plus 98 (Particula...   \n",
       "15916  146 kW                       [, Pre-registered, , Diesel]   \n",
       "15917  147 kW                       [, Pre-registered, , Diesel]   \n",
       "15918  165 kW                      [, Demonstration, , Super 95]   \n",
       "\n",
       "                                         Previous Owners  \\\n",
       "0                                                  \\n2\\n   \n",
       "1                                                    NaN   \n",
       "2                                                  \\n1\\n   \n",
       "3                                                  \\n1\\n   \n",
       "4                                                  \\n1\\n   \n",
       "...                                                  ...   \n",
       "15914                                                NaN   \n",
       "15915  [\\n1\\n, \\n, 7.4 l/100 km (comb), \\n, 9.2 l/100...   \n",
       "15916                   [\\n1\\n, \\n139 g CO2/km (comb)\\n]   \n",
       "15917                                                NaN   \n",
       "15918                                              \\n1\\n   \n",
       "\n",
       "                              Next Inspection  \\\n",
       "0       [\\n06/2021\\n, \\n99 g CO2/km (comb)\\n]   \n",
       "1                                         NaN   \n",
       "2                                         NaN   \n",
       "3                                         NaN   \n",
       "4                                         NaN   \n",
       "...                                       ...   \n",
       "15914                                     NaN   \n",
       "15915  [\\n01/2022\\n, \\n168 g CO2/km (comb)\\n]   \n",
       "15916                                     NaN   \n",
       "15917                                     NaN   \n",
       "15918                                     NaN   \n",
       "\n",
       "                           Inspection new                          Warranty  \\\n",
       "0                   [\\nYes\\n, \\nEuro 6\\n]           [\\n, \\n, \\n4 (Green)\\n]   \n",
       "1                                     NaN                               NaN   \n",
       "2                                     NaN  [\\n, \\n, \\n99 g CO2/km (comb)\\n]   \n",
       "3                                     NaN                               NaN   \n",
       "4      [\\nYes\\n, \\n109 g CO2/km (comb)\\n]              [\\n, \\n, \\nEuro 6\\n]   \n",
       "...                                   ...                               ...   \n",
       "15914                                 NaN                     \\n24 months\\n   \n",
       "15915                                 NaN              [\\n, \\n, \\nEuro 6\\n]   \n",
       "15916         [\\nYes\\n, \\nEuro 6d-TEMP\\n]           [\\n, \\n, \\n4 (Green)\\n]   \n",
       "15917                                 NaN                                \\n   \n",
       "15918  [\\nYes\\n, \\n153 g CO2/km (comb)\\n]                               NaN   \n",
       "\n",
       "                           Full Service      Non-smoking Vehicle null  \\\n",
       "0                              [\\n, \\n]                 [\\n, \\n]   []   \n",
       "1                                   NaN                      NaN   []   \n",
       "2                                   NaN                      NaN   []   \n",
       "3      [\\n, \\n, \\n99 g CO2/km (comb)\\n]     [\\n, \\n, \\nEuro 6\\n]   []   \n",
       "4               [\\n, \\n, \\n4 (Green)\\n]                 [\\n, \\n]   []   \n",
       "...                                 ...                      ...  ...   \n",
       "15914                               NaN                      NaN   []   \n",
       "15915                               NaN  [\\n, \\n, \\n4 (Green)\\n]   []   \n",
       "15916                          [\\n, \\n]                 [\\n, \\n]   []   \n",
       "15917                               NaN                      NaN   []   \n",
       "15918                               NaN                      NaN   []   \n",
       "\n",
       "              Make             Model          Offer Number First Registration  \\\n",
       "0         \\nAudi\\n      [\\n, A1, \\n]       [\\nLR-062483\\n]     [\\n, 2016, \\n]   \n",
       "1         \\nAudi\\n      [\\n, A1, \\n]                   NaN     [\\n, 2017, \\n]   \n",
       "2         \\nAudi\\n      [\\n, A1, \\n]        [\\nAM-95365\\n]     [\\n, 2016, \\n]   \n",
       "3         \\nAudi\\n      [\\n, A1, \\n]                   NaN     [\\n, 2016, \\n]   \n",
       "4         \\nAudi\\n      [\\n, A1, \\n]           [\\nC1626\\n]     [\\n, 2016, \\n]   \n",
       "...            ...               ...                   ...                ...   \n",
       "15914  \\nRenault\\n  [\\n, Espace, \\n]        [\\n10988301\\n]                NaN   \n",
       "15915  \\nRenault\\n  [\\n, Espace, \\n]     [\\n507370_3223\\n]     [\\n, 2019, \\n]   \n",
       "15916  \\nRenault\\n  [\\n, Espace, \\n]        [\\nEspace16\\n]     [\\n, 2019, \\n]   \n",
       "15917  \\nRenault\\n  [\\n, Espace, \\n]         [\\n2691331\\n]     [\\n, 2019, \\n]   \n",
       "15918  \\nRenault\\n  [\\n, Espace, \\n]  [\\nRe_30000008029\\n]     [\\n, 2019, \\n]   \n",
       "\n",
       "            Body Color      Paint Type           Body Color Original  \\\n",
       "0      [\\n, Black, \\n]  [\\nMetallic\\n]           [\\nMythosschwarz\\n]   \n",
       "1        [\\n, Red, \\n]             NaN                           NaN   \n",
       "2      [\\n, Black, \\n]  [\\nMetallic\\n]  [\\nmythosschwarz metallic\\n]   \n",
       "3      [\\n, Brown, \\n]  [\\nMetallic\\n]                           NaN   \n",
       "4      [\\n, Black, \\n]  [\\nMetallic\\n]  [\\nMythosschwarz Metallic\\n]   \n",
       "...                ...             ...                           ...   \n",
       "15914   [\\n, Grey, \\n]  [\\nMetallic\\n]            [\\nGrigio scuro\\n]   \n",
       "15915   [\\n, Grey, \\n]  [\\nMetallic\\n]     [\\nStahl-Grau Metallic\\n]   \n",
       "15916  [\\n, White, \\n]             NaN             [\\narktis-weiß\\n]   \n",
       "15917   [\\n, Grey, \\n]             NaN                  [\\nGrigio\\n]   \n",
       "15918   [\\n, Grey, \\n]  [\\nMetallic\\n]  [\\nTitanium-Grau Metallic\\n]   \n",
       "\n",
       "                      Upholstery              Body Nr. of Doors Nr. of Seats  \\\n",
       "0             [\\nCloth, Black\\n]  [\\n, Sedans, \\n]      [\\n5\\n]      [\\n5\\n]   \n",
       "1              [\\nCloth, Grey\\n]  [\\n, Sedans, \\n]      [\\n3\\n]      [\\n4\\n]   \n",
       "2             [\\nCloth, Black\\n]  [\\n, Sedans, \\n]      [\\n4\\n]      [\\n4\\n]   \n",
       "3                            NaN  [\\n, Sedans, \\n]      [\\n3\\n]      [\\n4\\n]   \n",
       "4             [\\nCloth, Black\\n]  [\\n, Sedans, \\n]      [\\n5\\n]      [\\n5\\n]   \n",
       "...                          ...               ...          ...          ...   \n",
       "15914                        NaN     [\\n, Van, \\n]      [\\n5\\n]      [\\n5\\n]   \n",
       "15915                [\\nCloth\\n]     [\\n, Van, \\n]      [\\n5\\n]      [\\n5\\n]   \n",
       "15916  [\\nFull leather, Black\\n]     [\\n, Van, \\n]      [\\n5\\n]      [\\n7\\n]   \n",
       "15917         [\\nPart leather\\n]     [\\n, Van, \\n]      [\\n5\\n]      [\\n7\\n]   \n",
       "15918  [\\nFull leather, Brown\\n]     [\\n, Van, \\n]      [\\n5\\n]      [\\n5\\n]   \n",
       "\n",
       "           Model Code         Gearing Type    Displacement Cylinders  \\\n",
       "0      [\\n0588/BDF\\n]  [\\n, Automatic, \\n]  [\\n1,422 cc\\n]   [\\n3\\n]   \n",
       "1      [\\n0588/BCY\\n]  [\\n, Automatic, \\n]  [\\n1,798 cc\\n]   [\\n4\\n]   \n",
       "2                 NaN  [\\n, Automatic, \\n]  [\\n1,598 cc\\n]       NaN   \n",
       "3                 NaN  [\\n, Automatic, \\n]  [\\n1,422 cc\\n]   [\\n3\\n]   \n",
       "4      [\\n0588/BDF\\n]  [\\n, Automatic, \\n]  [\\n1,422 cc\\n]   [\\n3\\n]   \n",
       "...               ...                  ...             ...       ...   \n",
       "15914             NaN  [\\n, Automatic, \\n]  [\\n1,997 cc\\n]   [\\n4\\n]   \n",
       "15915  [\\n0000/000\\n]  [\\n, Automatic, \\n]  [\\n1,798 cc\\n]   [\\n4\\n]   \n",
       "15916             NaN  [\\n, Automatic, \\n]  [\\n1,997 cc\\n]   [\\n4\\n]   \n",
       "15917             NaN  [\\n, Automatic, \\n]  [\\n1,997 cc\\n]   [\\n4\\n]   \n",
       "15918  [\\n3333/BHJ\\n]  [\\n, Automatic, \\n]  [\\n1,798 cc\\n]   [\\n4\\n]   \n",
       "\n",
       "               Weight  Drive chain  \\\n",
       "0      [\\n1,220 kg\\n]  [\\nfront\\n]   \n",
       "1      [\\n1,255 kg\\n]  [\\nfront\\n]   \n",
       "2                 NaN  [\\nfront\\n]   \n",
       "3      [\\n1,195 kg\\n]          NaN   \n",
       "4                 NaN  [\\nfront\\n]   \n",
       "...               ...          ...   \n",
       "15914  [\\n1,758 kg\\n]  [\\nfront\\n]   \n",
       "15915  [\\n1,708 kg\\n]  [\\nfront\\n]   \n",
       "15916             NaN  [\\nfront\\n]   \n",
       "15917  [\\n1,758 kg\\n]  [\\nfront\\n]   \n",
       "15918  [\\n1,685 kg\\n]    [\\n4WD\\n]   \n",
       "\n",
       "                                                    Fuel  \\\n",
       "0                  [\\n, Diesel (Particulate Filter), \\n]   \n",
       "1                                     [\\n, Gasoline, \\n]   \n",
       "2                  [\\n, Diesel (Particulate Filter), \\n]   \n",
       "3                  [\\n, Diesel (Particulate Filter), \\n]   \n",
       "4                  [\\n, Diesel (Particulate Filter), \\n]   \n",
       "...                                                  ...   \n",
       "15914              [\\n, Diesel (Particulate Filter), \\n]   \n",
       "15915  [\\n, Super 95 / Super Plus 98 (Particulate Fil...   \n",
       "15916                                   [\\n, Diesel, \\n]   \n",
       "15917                                   [\\n, Diesel, \\n]   \n",
       "15918                                 [\\n, Super 95, \\n]   \n",
       "\n",
       "                                             Consumption  \\\n",
       "0      [[3.8 l/100 km (comb)], [4.3 l/100 km (city)],...   \n",
       "1      [[5.6 l/100 km (comb)], [7.1 l/100 km (city)],...   \n",
       "2      [[3.8 l/100 km (comb)], [4.4 l/100 km (city)],...   \n",
       "3      [[3.8 l/100 km (comb)], [4.3 l/100 km (city)],...   \n",
       "4      [[4.1 l/100 km (comb)], [4.6 l/100 km (city)],...   \n",
       "...                                                  ...   \n",
       "15914  [[5.3 l/100 km (comb)], [6.2 l/100 km (city)],...   \n",
       "15915  [\\n, 7.4 l/100 km (comb), \\n, 9.2 l/100 km (ci...   \n",
       "15916  [[5.3 l/100 km (comb)], [6.2 l/100 km (city)],...   \n",
       "15917  [[5.3 l/100 km (comb)], [6.2 l/100 km (city)],...   \n",
       "15918  [[6.8 l/100 km (comb)], [8.7 l/100 km (city)],...   \n",
       "\n",
       "                    CO2 Emission      Emission Class  \\\n",
       "0       [\\n99 g CO2/km (comb)\\n]        [\\nEuro 6\\n]   \n",
       "1      [\\n129 g CO2/km (comb)\\n]        [\\nEuro 6\\n]   \n",
       "2       [\\n99 g CO2/km (comb)\\n]        [\\nEuro 6\\n]   \n",
       "3       [\\n99 g CO2/km (comb)\\n]        [\\nEuro 6\\n]   \n",
       "4      [\\n109 g CO2/km (comb)\\n]        [\\nEuro 6\\n]   \n",
       "...                          ...                 ...   \n",
       "15914  [\\n139 g CO2/km (comb)\\n]                 NaN   \n",
       "15915  [\\n168 g CO2/km (comb)\\n]                 NaN   \n",
       "15916  [\\n139 g CO2/km (comb)\\n]  [\\nEuro 6d-TEMP\\n]   \n",
       "15917  [\\n139 g CO2/km (comb)\\n]        [\\nEuro 6\\n]   \n",
       "15918  [\\n153 g CO2/km (comb)\\n]        [\\nEuro 6\\n]   \n",
       "\n",
       "                               \\nComfort & Convenience\\n  \\\n",
       "0      [Air conditioning, Armrest, Automatic climate ...   \n",
       "1      [Air conditioning, Automatic climate control, ...   \n",
       "2      [Air conditioning, Cruise control, Electrical ...   \n",
       "3      [Air suspension, Armrest, Auxiliary heating, E...   \n",
       "4      [Air conditioning, Armrest, Automatic climate ...   \n",
       "...                                                  ...   \n",
       "15914  [Air conditioning, Automatic climate control, ...   \n",
       "15915  [Air conditioning, Automatic climate control, ...   \n",
       "15916  [Air conditioning, Armrest, Automatic climate ...   \n",
       "15917  [Air conditioning, Automatic climate control, ...   \n",
       "15918  [Air conditioning, Automatic climate control, ...   \n",
       "\n",
       "                               \\nEntertainment & Media\\n  \\\n",
       "0      [Bluetooth, Hands-free equipment, On-board com...   \n",
       "1      [Bluetooth, Hands-free equipment, On-board com...   \n",
       "2                               [MP3, On-board computer]   \n",
       "3      [Bluetooth, CD player, Hands-free equipment, M...   \n",
       "4      [Bluetooth, CD player, Hands-free equipment, M...   \n",
       "...                                                  ...   \n",
       "15914  [Bluetooth, Digital radio, Hands-free equipmen...   \n",
       "15915  [Bluetooth, Digital radio, Hands-free equipmen...   \n",
       "15916  [Bluetooth, Hands-free equipment, On-board com...   \n",
       "15917             [Bluetooth, Digital radio, Radio, USB]   \n",
       "15918                                              [USB]   \n",
       "\n",
       "                                              \\nExtras\\n  \\\n",
       "0      [Alloy wheels, Catalytic Converter, Voice Cont...   \n",
       "1      [Alloy wheels, Sport seats, Sport suspension, ...   \n",
       "2                          [Alloy wheels, Voice Control]   \n",
       "3             [Alloy wheels, Sport seats, Voice Control]   \n",
       "4      [Alloy wheels, Sport package, Sport suspension...   \n",
       "...                                                  ...   \n",
       "15914                       [Alloy wheels, Touch screen]   \n",
       "15915        [Alloy wheels, Touch screen, Voice Control]   \n",
       "15916                                     [Alloy wheels]   \n",
       "15917                       [Alloy wheels, Touch screen]   \n",
       "15918                       [Alloy wheels, Touch screen]   \n",
       "\n",
       "                                   \\nSafety & Security\\n  \\\n",
       "0      [ABS, Central door lock, Daytime running light...   \n",
       "1      [ABS, Central door lock, Central door lock wit...   \n",
       "2      [ABS, Central door lock, Daytime running light...   \n",
       "3      [ABS, Alarm system, Central door lock with rem...   \n",
       "4      [ABS, Central door lock, Driver-side airbag, E...   \n",
       "...                                                  ...   \n",
       "15914  [ABS, Central door lock, Central door lock wit...   \n",
       "15915  [ABS, Adaptive Cruise Control, Blind spot moni...   \n",
       "15916  [ABS, Adaptive Cruise Control, Blind spot moni...   \n",
       "15917  [ABS, Blind spot monitor, Driver-side airbag, ...   \n",
       "15918  [ABS, Blind spot monitor, Daytime running ligh...   \n",
       "\n",
       "                                             description   Emission Label  \\\n",
       "0      [\\n, Sicherheit:,  , Deaktivierung für Beifahr...              NaN   \n",
       "1      [\\nLangstreckenfahrzeug daher die hohe Kilomet...  [\\n4 (Green)\\n]   \n",
       "2      [\\n, Fahrzeug-Nummer: AM-95365,  , Ehem. UPE 2...  [\\n4 (Green)\\n]   \n",
       "3      [\\nAudi A1: , - 1e eigenaar , - Perfecte staat...              NaN   \n",
       "4      [\\n, Technik & Sicherheit:, Xenon plus, Klimaa...              NaN   \n",
       "...                                                  ...              ...   \n",
       "15914  [\\nVettura visionabile nella sede in Via Roma ...              NaN   \n",
       "15915  [\\nDach: Panorama-Glas-Schiebedach, Lackierung...              NaN   \n",
       "15916  [\\n, Getriebe:,  Automatik, Technik:,  Bordcom...              NaN   \n",
       "15917  [\\nDEK:[2691331], Renault Espace Blue dCi 200C...              NaN   \n",
       "15918  [\\n, Sicherheit Airbags:,  , Seitenairbag,  , ...  [\\n4 (Green)\\n]   \n",
       "\n",
       "         Gears Country version Electricity consumption Last Service Date  \\\n",
       "0          NaN             NaN                     NaN               NaN   \n",
       "1      [\\n7\\n]             NaN                     NaN               NaN   \n",
       "2          NaN             NaN                     NaN               NaN   \n",
       "3      [\\n6\\n]             NaN                     NaN               NaN   \n",
       "4          NaN   [\\nGermany\\n]                     NaN               NaN   \n",
       "...        ...             ...                     ...               ...   \n",
       "15914  [\\n6\\n]             NaN                     NaN               NaN   \n",
       "15915  [\\n7\\n]   [\\nGermany\\n]                     NaN               NaN   \n",
       "15916  [\\n6\\n]   [\\nAustria\\n]                     NaN               NaN   \n",
       "15917  [\\n6\\n]             NaN                     NaN               NaN   \n",
       "15918      NaN   [\\nGermany\\n]                     NaN               NaN   \n",
       "\n",
       "      Other Fuel Types                   Availability  \\\n",
       "0                  NaN                            NaN   \n",
       "1                  NaN                            NaN   \n",
       "2                  NaN                            NaN   \n",
       "3                  NaN                            NaN   \n",
       "4                  NaN                            NaN   \n",
       "...                ...                            ...   \n",
       "15914              NaN                            NaN   \n",
       "15915     [[], [], []]    \\nin 5 days from ordering\\n   \n",
       "15916              NaN  \\nin 120 days from ordering\\n   \n",
       "15917              NaN                            NaN   \n",
       "15918              NaN                            NaN   \n",
       "\n",
       "      Last Timing Belt Service Date Available from  \n",
       "0                               NaN            NaN  \n",
       "1                               NaN            NaN  \n",
       "2                               NaN            NaN  \n",
       "3                               NaN            NaN  \n",
       "4                               NaN            NaN  \n",
       "...                             ...            ...  \n",
       "15914                           NaN            NaN  \n",
       "15915                           NaN            NaN  \n",
       "15916                           NaN            NaN  \n",
       "15917                           NaN            NaN  \n",
       "15918                           NaN            NaN  \n",
       "\n",
       "[15919 rows x 54 columns]>"
      ]
     },
     "execution_count": 22,
     "metadata": {},
     "output_type": "execute_result"
    }
   ],
   "source": [
    "df.head\n",
    "# hp değerleri kw biriminden gerilmiş. "
   ]
  },
  {
   "cell_type": "code",
   "execution_count": 23,
   "metadata": {},
   "outputs": [
    {
     "data": {
      "text/plain": [
       "637                                   [, Used, , Gasoline]\n",
       "4575     [, Employee's car, , Diesel (Particulate Filter)]\n",
       "10227                       [, Pre-registered, , Super 95]\n",
       "Name: Type, dtype: object"
      ]
     },
     "execution_count": 23,
     "metadata": {},
     "output_type": "execute_result"
    }
   ],
   "source": [
    "df.Type.sample(3)\n",
    "# feature enginering yapılabilir bir sütun.\n",
    "# bu sütunda birden fazla bilgi yer alıyor. \n",
    "# farklı sütunlara bölünebilir. "
   ]
  },
  {
   "cell_type": "code",
   "execution_count": 24,
   "metadata": {},
   "outputs": [
    {
     "data": {
      "text/plain": [
       "Diesel (Particulate Filter)    4315\n",
       "Super 95                       3338\n",
       "Gasoline                       3175\n",
       "Name: Type, dtype: int64"
      ]
     },
     "execution_count": 24,
     "metadata": {},
     "output_type": "execute_result"
    }
   ],
   "source": [
    "df.Type.map(lambda x : x[3], na_action = 'ignore').value_counts()[:3]\n",
    "# autoscout sitesinde yer alan yakıt tipleri baz alınacak. \n",
    "# str.contains kullanılabilir."
   ]
  },
  {
   "attachments": {
    "image%20%289%29.png": {
     "image/png": "[encoded data removed]"
    }
   },
   "cell_type": "markdown",
   "metadata": {},
   "source": [
    "![image%20%289%29.png](attachment:image%20%289%29.png)"
   ]
  },
  {
   "cell_type": "code",
   "execution_count": 25,
   "metadata": {},
   "outputs": [
    {
     "data": {
      "text/plain": [
       "6640"
      ]
     },
     "execution_count": 25,
     "metadata": {},
     "output_type": "execute_result"
    }
   ],
   "source": [
    "df['Previous Owners'].isnull().sum()\n",
    "# autoscout incelendiğinde sütunlara ait bilgiler normal arama ve detaylı arama\n",
    "# alanlarını içermektedir. Örneğin 'Previous Owners' ile \"prew owner\" aynı bilgileri içermesine rağmen\n",
    "# birisi detaylı arama alanından diğeri ise normal arama bölgesinden bilgiler getrmekte."
   ]
  },
  {
   "cell_type": "code",
   "execution_count": 26,
   "metadata": {},
   "outputs": [
    {
     "data": {
      "text/plain": [
       "0    [\\n06/2021\\n, \\n99 g CO2/km (comb)\\n]\n",
       "1                                      NaN\n",
       "2                                      NaN\n",
       "Name: Next Inspection, dtype: object"
      ]
     },
     "execution_count": 26,
     "metadata": {},
     "output_type": "execute_result"
    }
   ],
   "source": [
    "df[\"Next Inspection\"].head(3)\n",
    "# üzerinde durulması gerekebilir. \n",
    "# muayene bilgileri için sıfır araçlar ile karşılaştırma yapıp karak verilecek. "
   ]
  },
  {
   "cell_type": "code",
   "execution_count": 27,
   "metadata": {},
   "outputs": [
    {
     "data": {
      "text/plain": [
       "7161                                                   NaN\n",
       "15802                                                  NaN\n",
       "15418                                                  NaN\n",
       "9097     [\\nYes\\n, \\n, 5.7 l/100 km (comb), \\n, 7.2 l/1...\n",
       "3277                                                   NaN\n",
       "Name: Inspection new, dtype: object"
      ]
     },
     "execution_count": 27,
     "metadata": {},
     "output_type": "execute_result"
    }
   ],
   "source": [
    "df['Inspection new'].sample(5)"
   ]
  },
  {
   "cell_type": "code",
   "execution_count": 28,
   "metadata": {},
   "outputs": [
    {
     "data": {
      "text/plain": [
       "0                 [\\n, \\n, \\n4 (Green)\\n]\n",
       "1                                     NaN\n",
       "2        [\\n, \\n, \\n99 g CO2/km (comb)\\n]\n",
       "3                                     NaN\n",
       "4                    [\\n, \\n, \\nEuro 6\\n]\n",
       "                       ...               \n",
       "15914                       \\n24 months\\n\n",
       "15915                [\\n, \\n, \\nEuro 6\\n]\n",
       "15916             [\\n, \\n, \\n4 (Green)\\n]\n",
       "15917                                  \\n\n",
       "15918                                 NaN\n",
       "Name: Warranty, Length: 15919, dtype: object"
      ]
     },
     "execution_count": 28,
     "metadata": {},
     "output_type": "execute_result"
    }
   ],
   "source": [
    "df.Warranty"
   ]
  },
  {
   "cell_type": "code",
   "execution_count": 29,
   "metadata": {},
   "outputs": [],
   "source": [
    "df.Warranty = df.Warranty.map(lambda x : x[0].replace(' months','').strip('\\n '), na_action = 'ignore')\n"
   ]
  },
  {
   "cell_type": "code",
   "execution_count": 30,
   "metadata": {},
   "outputs": [
    {
     "data": {
      "text/plain": [
       "4090     NaN\n",
       "14046     24\n",
       "8868     NaN\n",
       "11259    NaN\n",
       "9973      24\n",
       "Name: Warranty, dtype: object"
      ]
     },
     "execution_count": 30,
     "metadata": {},
     "output_type": "execute_result"
    }
   ],
   "source": [
    "df.Warranty.sample(5)"
   ]
  },
  {
   "cell_type": "code",
   "execution_count": 31,
   "metadata": {},
   "outputs": [
    {
     "ename": "TypeError",
     "evalue": "unhashable type: 'list'",
     "output_type": "error",
     "traceback": [
      "\u001b[1;31m---------------------------------------------------------------------------\u001b[0m",
      "\u001b[1;31mTypeError\u001b[0m                                 Traceback (most recent call last)",
      "\u001b[1;32mpandas\\_libs\\hashtable_class_helper.pxi\u001b[0m in \u001b[0;36mpandas._libs.hashtable.PyObjectHashTable.map_locations\u001b[1;34m()\u001b[0m\n",
      "\u001b[1;31mTypeError\u001b[0m: unhashable type: 'list'"
     ]
    },
    {
     "name": "stderr",
     "output_type": "stream",
     "text": [
      "Exception ignored in: 'pandas._libs.index.IndexEngine._call_map_locations'\n",
      "Traceback (most recent call last):\n",
      "  File \"pandas\\_libs\\hashtable_class_helper.pxi\", line 1709, in pandas._libs.hashtable.PyObjectHashTable.map_locations\n",
      "TypeError: unhashable type: 'list'\n"
     ]
    },
    {
     "data": {
      "text/plain": [
       "[\\n, \\n, \\n4 (Green)\\n]                                                                       2235\n",
       "[\\n, \\n, \\nEuro 6\\n]                                                                          2097\n",
       "[\\n, \\n]                                                                                      1702\n",
       "[\\n, \\n, \\nEuro 6d-TEMP\\n]                                                                     399\n",
       "\\n                                                                                             283\n",
       "                                                                                              ... \n",
       "[\\n, \\n, \\n197 g CO2/km (comb)\\n]                                                                1\n",
       "[\\n, \\n, \\n84 g CO2/km (comb)\\n]                                                                 1\n",
       "[\\n, \\n, \\n, 6 l/100 km (comb), \\n, 8 l/100 km (city), \\n, 4.9 l/100 km (country), \\n]           1\n",
       "[\\n, \\n, \\n, 5 l/100 km (comb), \\n, 5.9 l/100 km (city), \\n, 4.5 l/100 km (country), \\n]         1\n",
       "[\\n, \\n, \\n, 5.4 l/100 km (comb), \\n, 7.3 l/100 km (city), \\n, 4.2 l/100 km (country), \\n]       1\n",
       "Name: Full Service, Length: 122, dtype: int64"
      ]
     },
     "execution_count": 31,
     "metadata": {},
     "output_type": "execute_result"
    }
   ],
   "source": [
    "df['Full Service'].value_counts()\n",
    "# bu sütun düşülebilir. "
   ]
  },
  {
   "cell_type": "code",
   "execution_count": 32,
   "metadata": {},
   "outputs": [
    {
     "data": {
      "text/plain": [
       "7214     [\\n, \\n]\n",
       "10945         NaN\n",
       "8755          NaN\n",
       "942      [\\n, \\n]\n",
       "1538     [\\n, \\n]\n",
       "4779          NaN\n",
       "Name: Non-smoking Vehicle, dtype: object"
      ]
     },
     "execution_count": 32,
     "metadata": {},
     "output_type": "execute_result"
    }
   ],
   "source": [
    "df['Non-smoking Vehicle'].sample(6)\n",
    "# bu sütun düşülebilir"
   ]
  },
  {
   "cell_type": "code",
   "execution_count": 33,
   "metadata": {},
   "outputs": [
    {
     "data": {
      "text/plain": [
       "0        []\n",
       "1        []\n",
       "2        []\n",
       "3        []\n",
       "4        []\n",
       "         ..\n",
       "15914    []\n",
       "15915    []\n",
       "15916    []\n",
       "15917    []\n",
       "15918    []\n",
       "Name: null, Length: 15919, dtype: object"
      ]
     },
     "execution_count": 33,
     "metadata": {},
     "output_type": "execute_result"
    }
   ],
   "source": [
    "df.null\n",
    "# Bu zaten düşülecek"
   ]
  },
  {
   "cell_type": "code",
   "execution_count": 34,
   "metadata": {},
   "outputs": [
    {
     "data": {
      "text/plain": [
       "0           \\nAudi\\n\n",
       "1           \\nAudi\\n\n",
       "2           \\nAudi\\n\n",
       "3           \\nAudi\\n\n",
       "4           \\nAudi\\n\n",
       "            ...     \n",
       "15914    \\nRenault\\n\n",
       "15915    \\nRenault\\n\n",
       "15916    \\nRenault\\n\n",
       "15917    \\nRenault\\n\n",
       "15918    \\nRenault\\n\n",
       "Name: Make, Length: 15919, dtype: object"
      ]
     },
     "execution_count": 34,
     "metadata": {},
     "output_type": "execute_result"
    }
   ],
   "source": [
    "df.Make\n",
    "# "
   ]
  },
  {
   "cell_type": "code",
   "execution_count": 35,
   "metadata": {},
   "outputs": [
    {
     "data": {
      "text/plain": [
       "0            [\\n, A1, \\n]\n",
       "1            [\\n, A1, \\n]\n",
       "2            [\\n, A1, \\n]\n",
       "3            [\\n, A1, \\n]\n",
       "4            [\\n, A1, \\n]\n",
       "               ...       \n",
       "15914    [\\n, Espace, \\n]\n",
       "15915    [\\n, Espace, \\n]\n",
       "15916    [\\n, Espace, \\n]\n",
       "15917    [\\n, Espace, \\n]\n",
       "15918    [\\n, Espace, \\n]\n",
       "Name: Model, Length: 15919, dtype: object"
      ]
     },
     "execution_count": 35,
     "metadata": {},
     "output_type": "execute_result"
    }
   ],
   "source": [
    "df.Model"
   ]
  },
  {
   "cell_type": "code",
   "execution_count": 36,
   "metadata": {},
   "outputs": [
    {
     "data": {
      "text/plain": [
       "0             [\\nLR-062483\\n]\n",
       "1                         NaN\n",
       "2              [\\nAM-95365\\n]\n",
       "3                         NaN\n",
       "4                 [\\nC1626\\n]\n",
       "                 ...         \n",
       "15914          [\\n10988301\\n]\n",
       "15915       [\\n507370_3223\\n]\n",
       "15916          [\\nEspace16\\n]\n",
       "15917           [\\n2691331\\n]\n",
       "15918    [\\nRe_30000008029\\n]\n",
       "Name: Offer Number, Length: 15919, dtype: object"
      ]
     },
     "execution_count": 36,
     "metadata": {},
     "output_type": "execute_result"
    }
   ],
   "source": [
    "df['Offer Number']\n",
    "# ilan numarası olduğu için düşülebilir"
   ]
  },
  {
   "cell_type": "code",
   "execution_count": 37,
   "metadata": {},
   "outputs": [
    {
     "data": {
      "text/plain": [
       "0        [\\n, 2016, \\n]\n",
       "1        [\\n, 2017, \\n]\n",
       "2        [\\n, 2016, \\n]\n",
       "3        [\\n, 2016, \\n]\n",
       "4        [\\n, 2016, \\n]\n",
       "              ...      \n",
       "15914               NaN\n",
       "15915    [\\n, 2019, \\n]\n",
       "15916    [\\n, 2019, \\n]\n",
       "15917    [\\n, 2019, \\n]\n",
       "15918    [\\n, 2019, \\n]\n",
       "Name: First Registration, Length: 15919, dtype: object"
      ]
     },
     "execution_count": 37,
     "metadata": {},
     "output_type": "execute_result"
    }
   ],
   "source": [
    "df['First Registration']\n",
    "# trafik tescil tarihi"
   ]
  },
  {
   "cell_type": "code",
   "execution_count": 38,
   "metadata": {},
   "outputs": [
    {
     "data": {
      "text/plain": [
       "0        [\\n, Black, \\n]\n",
       "1          [\\n, Red, \\n]\n",
       "2        [\\n, Black, \\n]\n",
       "3        [\\n, Brown, \\n]\n",
       "4        [\\n, Black, \\n]\n",
       "              ...       \n",
       "15914     [\\n, Grey, \\n]\n",
       "15915     [\\n, Grey, \\n]\n",
       "15916    [\\n, White, \\n]\n",
       "15917     [\\n, Grey, \\n]\n",
       "15918     [\\n, Grey, \\n]\n",
       "Name: Body Color, Length: 15919, dtype: object"
      ]
     },
     "execution_count": 38,
     "metadata": {},
     "output_type": "execute_result"
    }
   ],
   "source": [
    "df['Body Color']"
   ]
  },
  {
   "cell_type": "code",
   "execution_count": 39,
   "metadata": {},
   "outputs": [
    {
     "ename": "TypeError",
     "evalue": "unhashable type: 'list'",
     "output_type": "error",
     "traceback": [
      "\u001b[1;31m---------------------------------------------------------------------------\u001b[0m",
      "\u001b[1;31mTypeError\u001b[0m                                 Traceback (most recent call last)",
      "\u001b[1;32mpandas\\_libs\\hashtable_class_helper.pxi\u001b[0m in \u001b[0;36mpandas._libs.hashtable.PyObjectHashTable.map_locations\u001b[1;34m()\u001b[0m\n",
      "\u001b[1;31mTypeError\u001b[0m: unhashable type: 'list'"
     ]
    },
    {
     "name": "stderr",
     "output_type": "stream",
     "text": [
      "Exception ignored in: 'pandas._libs.index.IndexEngine._call_map_locations'\n",
      "Traceback (most recent call last):\n",
      "  File \"pandas\\_libs\\hashtable_class_helper.pxi\", line 1709, in pandas._libs.hashtable.PyObjectHashTable.map_locations\n",
      "TypeError: unhashable type: 'list'\n"
     ]
    },
    {
     "data": {
      "text/plain": [
       "[\\nMetallic\\n]       9794\n",
       "[\\nUni/basic\\n]       347\n",
       "[\\nPerl effect\\n]       6\n",
       "Name: Paint Type, dtype: int64"
      ]
     },
     "execution_count": 39,
     "metadata": {},
     "output_type": "execute_result"
    }
   ],
   "source": [
    "df['Paint Type'].value_counts()"
   ]
  },
  {
   "cell_type": "code",
   "execution_count": 40,
   "metadata": {},
   "outputs": [
    {
     "data": {
      "text/plain": [
       "0                 [\\nMythosschwarz\\n]\n",
       "1                                 NaN\n",
       "2        [\\nmythosschwarz metallic\\n]\n",
       "3                                 NaN\n",
       "4        [\\nMythosschwarz Metallic\\n]\n",
       "                     ...             \n",
       "15914              [\\nGrigio scuro\\n]\n",
       "15915       [\\nStahl-Grau Metallic\\n]\n",
       "15916               [\\narktis-weiß\\n]\n",
       "15917                    [\\nGrigio\\n]\n",
       "15918    [\\nTitanium-Grau Metallic\\n]\n",
       "Name: Body Color Original, Length: 15919, dtype: object"
      ]
     },
     "execution_count": 40,
     "metadata": {},
     "output_type": "execute_result"
    }
   ],
   "source": [
    "df['Body Color Original']\n",
    "# 3579 tane null değeri var."
   ]
  },
  {
   "cell_type": "code",
   "execution_count": 41,
   "metadata": {},
   "outputs": [
    {
     "data": {
      "text/plain": [
       "0        [\\n, Sedans, \\n]\n",
       "1        [\\n, Sedans, \\n]\n",
       "2        [\\n, Sedans, \\n]\n",
       "3        [\\n, Sedans, \\n]\n",
       "4        [\\n, Sedans, \\n]\n",
       "               ...       \n",
       "15914       [\\n, Van, \\n]\n",
       "15915       [\\n, Van, \\n]\n",
       "15916       [\\n, Van, \\n]\n",
       "15917       [\\n, Van, \\n]\n",
       "15918       [\\n, Van, \\n]\n",
       "Name: Body, Length: 15919, dtype: object"
      ]
     },
     "execution_count": 41,
     "metadata": {},
     "output_type": "execute_result"
    }
   ],
   "source": [
    "df.Body"
   ]
  },
  {
   "cell_type": "code",
   "execution_count": 42,
   "metadata": {},
   "outputs": [
    {
     "data": {
      "text/plain": [
       "0        [\\n5\\n]\n",
       "1        [\\n3\\n]\n",
       "2        [\\n4\\n]\n",
       "3        [\\n3\\n]\n",
       "4        [\\n5\\n]\n",
       "          ...   \n",
       "15914    [\\n5\\n]\n",
       "15915    [\\n5\\n]\n",
       "15916    [\\n5\\n]\n",
       "15917    [\\n5\\n]\n",
       "15918    [\\n5\\n]\n",
       "Name: Nr. of Doors, Length: 15919, dtype: object"
      ]
     },
     "execution_count": 42,
     "metadata": {},
     "output_type": "execute_result"
    }
   ],
   "source": [
    "df['Nr. of Doors']"
   ]
  },
  {
   "cell_type": "code",
   "execution_count": 43,
   "metadata": {},
   "outputs": [
    {
     "data": {
      "text/plain": [
       "0               [\\nCloth, Black\\n]\n",
       "1                [\\nCloth, Grey\\n]\n",
       "2               [\\nCloth, Black\\n]\n",
       "3                              NaN\n",
       "4               [\\nCloth, Black\\n]\n",
       "                   ...            \n",
       "15914                          NaN\n",
       "15915                  [\\nCloth\\n]\n",
       "15916    [\\nFull leather, Black\\n]\n",
       "15917           [\\nPart leather\\n]\n",
       "15918    [\\nFull leather, Brown\\n]\n",
       "Name: Upholstery, Length: 15919, dtype: object"
      ]
     },
     "execution_count": 43,
     "metadata": {},
     "output_type": "execute_result"
    }
   ],
   "source": [
    "df['Upholstery']\n",
    "# araba döşemesi"
   ]
  },
  {
   "cell_type": "code",
   "execution_count": 44,
   "metadata": {},
   "outputs": [
    {
     "data": {
      "text/plain": [
       "0        [\\n5\\n]\n",
       "1        [\\n4\\n]\n",
       "2        [\\n4\\n]\n",
       "3        [\\n4\\n]\n",
       "4        [\\n5\\n]\n",
       "          ...   \n",
       "15914    [\\n5\\n]\n",
       "15915    [\\n5\\n]\n",
       "15916    [\\n7\\n]\n",
       "15917    [\\n7\\n]\n",
       "15918    [\\n5\\n]\n",
       "Name: Nr. of Seats, Length: 15919, dtype: object"
      ]
     },
     "execution_count": 44,
     "metadata": {},
     "output_type": "execute_result"
    }
   ],
   "source": [
    "df['Nr. of Seats']\n",
    "# koltuk sayyısı"
   ]
  },
  {
   "cell_type": "code",
   "execution_count": 45,
   "metadata": {},
   "outputs": [
    {
     "data": {
      "text/plain": [
       "0        [\\n0588/BDF\\n]\n",
       "1        [\\n0588/BCY\\n]\n",
       "2                   NaN\n",
       "3                   NaN\n",
       "4        [\\n0588/BDF\\n]\n",
       "              ...      \n",
       "15914               NaN\n",
       "15915    [\\n0000/000\\n]\n",
       "15916               NaN\n",
       "15917               NaN\n",
       "15918    [\\n3333/BHJ\\n]\n",
       "Name: Model Code, Length: 15919, dtype: object"
      ]
     },
     "execution_count": 45,
     "metadata": {},
     "output_type": "execute_result"
    }
   ],
   "source": [
    "df['Model Code']\n",
    "# bu sütüun düşülebilir"
   ]
  },
  {
   "cell_type": "code",
   "execution_count": 46,
   "metadata": {},
   "outputs": [
    {
     "data": {
      "text/plain": [
       "0        [\\n, Automatic, \\n]\n",
       "1        [\\n, Automatic, \\n]\n",
       "2        [\\n, Automatic, \\n]\n",
       "3        [\\n, Automatic, \\n]\n",
       "4        [\\n, Automatic, \\n]\n",
       "                ...         \n",
       "15914    [\\n, Automatic, \\n]\n",
       "15915    [\\n, Automatic, \\n]\n",
       "15916    [\\n, Automatic, \\n]\n",
       "15917    [\\n, Automatic, \\n]\n",
       "15918    [\\n, Automatic, \\n]\n",
       "Name: Gearing Type, Length: 15919, dtype: object"
      ]
     },
     "execution_count": 46,
     "metadata": {},
     "output_type": "execute_result"
    }
   ],
   "source": [
    "df['Gearing Type']\n",
    "# şanzıman tipi"
   ]
  },
  {
   "cell_type": "code",
   "execution_count": 47,
   "metadata": {},
   "outputs": [
    {
     "data": {
      "text/plain": [
       "0        [\\n1,422 cc\\n]\n",
       "1        [\\n1,798 cc\\n]\n",
       "2        [\\n1,598 cc\\n]\n",
       "3        [\\n1,422 cc\\n]\n",
       "4        [\\n1,422 cc\\n]\n",
       "              ...      \n",
       "15914    [\\n1,997 cc\\n]\n",
       "15915    [\\n1,798 cc\\n]\n",
       "15916    [\\n1,997 cc\\n]\n",
       "15917    [\\n1,997 cc\\n]\n",
       "15918    [\\n1,798 cc\\n]\n",
       "Name: Displacement, Length: 15919, dtype: object"
      ]
     },
     "execution_count": 47,
     "metadata": {},
     "output_type": "execute_result"
    }
   ],
   "source": [
    "df['Displacement']\n",
    "# motor hacmi"
   ]
  },
  {
   "cell_type": "code",
   "execution_count": 48,
   "metadata": {},
   "outputs": [
    {
     "data": {
      "text/plain": [
       "0        [\\n3\\n]\n",
       "1        [\\n4\\n]\n",
       "2            NaN\n",
       "3        [\\n3\\n]\n",
       "4        [\\n3\\n]\n",
       "          ...   \n",
       "15914    [\\n4\\n]\n",
       "15915    [\\n4\\n]\n",
       "15916    [\\n4\\n]\n",
       "15917    [\\n4\\n]\n",
       "15918    [\\n4\\n]\n",
       "Name: Cylinders, Length: 15919, dtype: object"
      ]
     },
     "execution_count": 48,
     "metadata": {},
     "output_type": "execute_result"
    }
   ],
   "source": [
    "df['Cylinders']\n",
    "# silindir sayısı"
   ]
  },
  {
   "cell_type": "code",
   "execution_count": 49,
   "metadata": {},
   "outputs": [
    {
     "data": {
      "text/plain": [
       "0        [\\n1,220 kg\\n]\n",
       "1        [\\n1,255 kg\\n]\n",
       "2                   NaN\n",
       "3        [\\n1,195 kg\\n]\n",
       "4                   NaN\n",
       "              ...      \n",
       "15914    [\\n1,758 kg\\n]\n",
       "15915    [\\n1,708 kg\\n]\n",
       "15916               NaN\n",
       "15917    [\\n1,758 kg\\n]\n",
       "15918    [\\n1,685 kg\\n]\n",
       "Name: Weight, Length: 15919, dtype: object"
      ]
     },
     "execution_count": 49,
     "metadata": {},
     "output_type": "execute_result"
    }
   ],
   "source": [
    "df.Weight\n",
    "# araçların ağırlıkları\n",
    "# 6974 tane null değer var. "
   ]
  },
  {
   "cell_type": "code",
   "execution_count": 50,
   "metadata": {},
   "outputs": [
    {
     "data": {
      "text/plain": [
       "0        [\\nfront\\n]\n",
       "1        [\\nfront\\n]\n",
       "2        [\\nfront\\n]\n",
       "3                NaN\n",
       "4        [\\nfront\\n]\n",
       "            ...     \n",
       "15914    [\\nfront\\n]\n",
       "15915    [\\nfront\\n]\n",
       "15916    [\\nfront\\n]\n",
       "15917    [\\nfront\\n]\n",
       "15918      [\\n4WD\\n]\n",
       "Name: Drive chain, Length: 15919, dtype: object"
      ]
     },
     "execution_count": 50,
     "metadata": {},
     "output_type": "execute_result"
    }
   ],
   "source": [
    "df['Drive chain']\n",
    "# arabanın çekiş türü"
   ]
  },
  {
   "cell_type": "code",
   "execution_count": 51,
   "metadata": {},
   "outputs": [
    {
     "data": {
      "text/plain": [
       "0                    [\\n, Diesel (Particulate Filter), \\n]\n",
       "1                                       [\\n, Gasoline, \\n]\n",
       "2                    [\\n, Diesel (Particulate Filter), \\n]\n",
       "3                    [\\n, Diesel (Particulate Filter), \\n]\n",
       "4                    [\\n, Diesel (Particulate Filter), \\n]\n",
       "                               ...                        \n",
       "15914                [\\n, Diesel (Particulate Filter), \\n]\n",
       "15915    [\\n, Super 95 / Super Plus 98 (Particulate Fil...\n",
       "15916                                     [\\n, Diesel, \\n]\n",
       "15917                                     [\\n, Diesel, \\n]\n",
       "15918                                   [\\n, Super 95, \\n]\n",
       "Name: Fuel, Length: 15919, dtype: object"
      ]
     },
     "execution_count": 51,
     "metadata": {},
     "output_type": "execute_result"
    }
   ],
   "source": [
    "df.Fuel\n",
    "# Type sütunu ile hemen hemen aynı. Type sütununda used bilgisi de var. "
   ]
  },
  {
   "cell_type": "code",
   "execution_count": 52,
   "metadata": {},
   "outputs": [
    {
     "data": {
      "text/plain": [
       "0        [[3.8 l/100 km (comb)], [4.3 l/100 km (city)],...\n",
       "1        [[5.6 l/100 km (comb)], [7.1 l/100 km (city)],...\n",
       "2        [[3.8 l/100 km (comb)], [4.4 l/100 km (city)],...\n",
       "3        [[3.8 l/100 km (comb)], [4.3 l/100 km (city)],...\n",
       "4        [[4.1 l/100 km (comb)], [4.6 l/100 km (city)],...\n",
       "                               ...                        \n",
       "15914    [[5.3 l/100 km (comb)], [6.2 l/100 km (city)],...\n",
       "15915    [\\n, 7.4 l/100 km (comb), \\n, 9.2 l/100 km (ci...\n",
       "15916    [[5.3 l/100 km (comb)], [6.2 l/100 km (city)],...\n",
       "15917    [[5.3 l/100 km (comb)], [6.2 l/100 km (city)],...\n",
       "15918    [[6.8 l/100 km (comb)], [8.7 l/100 km (city)],...\n",
       "Name: Consumption, Length: 15919, dtype: object"
      ]
     },
     "execution_count": 52,
     "metadata": {},
     "output_type": "execute_result"
    }
   ],
   "source": [
    "df.Consumption\n",
    "# Yakıt tüketimi "
   ]
  },
  {
   "cell_type": "code",
   "execution_count": 53,
   "metadata": {},
   "outputs": [
    {
     "data": {
      "text/plain": [
       "0         [\\n99 g CO2/km (comb)\\n]\n",
       "1        [\\n129 g CO2/km (comb)\\n]\n",
       "2         [\\n99 g CO2/km (comb)\\n]\n",
       "3         [\\n99 g CO2/km (comb)\\n]\n",
       "4        [\\n109 g CO2/km (comb)\\n]\n",
       "                   ...            \n",
       "15914    [\\n139 g CO2/km (comb)\\n]\n",
       "15915    [\\n168 g CO2/km (comb)\\n]\n",
       "15916    [\\n139 g CO2/km (comb)\\n]\n",
       "15917    [\\n139 g CO2/km (comb)\\n]\n",
       "15918    [\\n153 g CO2/km (comb)\\n]\n",
       "Name: CO2 Emission, Length: 15919, dtype: object"
      ]
     },
     "execution_count": 53,
     "metadata": {},
     "output_type": "execute_result"
    }
   ],
   "source": [
    "df['CO2 Emission']\n",
    "# CO2 emisyonu"
   ]
  },
  {
   "cell_type": "code",
   "execution_count": 54,
   "metadata": {},
   "outputs": [
    {
     "ename": "TypeError",
     "evalue": "unhashable type: 'list'",
     "output_type": "error",
     "traceback": [
      "\u001b[1;31m---------------------------------------------------------------------------\u001b[0m",
      "\u001b[1;31mTypeError\u001b[0m                                 Traceback (most recent call last)",
      "\u001b[1;32mpandas\\_libs\\hashtable_class_helper.pxi\u001b[0m in \u001b[0;36mpandas._libs.hashtable.PyObjectHashTable.map_locations\u001b[1;34m()\u001b[0m\n",
      "\u001b[1;31mTypeError\u001b[0m: unhashable type: 'list'"
     ]
    },
    {
     "name": "stderr",
     "output_type": "stream",
     "text": [
      "Exception ignored in: 'pandas._libs.index.IndexEngine._call_map_locations'\n",
      "Traceback (most recent call last):\n",
      "  File \"pandas\\_libs\\hashtable_class_helper.pxi\", line 1709, in pandas._libs.hashtable.PyObjectHashTable.map_locations\n",
      "TypeError: unhashable type: 'list'\n"
     ]
    },
    {
     "data": {
      "text/plain": [
       "[\\nEuro 6\\n]          10139\n",
       "[\\nEuro 6d-TEMP\\n]     1845\n",
       "[[], [], []]            607\n",
       "[\\nEuro 6c\\n]           127\n",
       "[\\nEuro 5\\n]             78\n",
       "[\\nEuro 6d\\n]            62\n",
       "[\\nEuro 4\\n]             40\n",
       "Name: Emission Class, dtype: int64"
      ]
     },
     "execution_count": 54,
     "metadata": {},
     "output_type": "execute_result"
    }
   ],
   "source": [
    "df['Emission Class'].value_counts()\n",
    "# 6 çeşit class var. Bir tane de null class var. "
   ]
  },
  {
   "cell_type": "code",
   "execution_count": 55,
   "metadata": {},
   "outputs": [
    {
     "data": {
      "text/plain": [
       "0        [Air conditioning, Armrest, Automatic climate ...\n",
       "1        [Air conditioning, Automatic climate control, ...\n",
       "2        [Air conditioning, Cruise control, Electrical ...\n",
       "3        [Air suspension, Armrest, Auxiliary heating, E...\n",
       "4        [Air conditioning, Armrest, Automatic climate ...\n",
       "                               ...                        \n",
       "15914    [Air conditioning, Automatic climate control, ...\n",
       "15915    [Air conditioning, Automatic climate control, ...\n",
       "15916    [Air conditioning, Armrest, Automatic climate ...\n",
       "15917    [Air conditioning, Automatic climate control, ...\n",
       "15918    [Air conditioning, Automatic climate control, ...\n",
       "Name: \\nComfort & Convenience\\n, Length: 15919, dtype: object"
      ]
     },
     "execution_count": 55,
     "metadata": {},
     "output_type": "execute_result"
    }
   ],
   "source": [
    "df['\\nComfort & Convenience\\n']\n"
   ]
  },
  {
   "cell_type": "code",
   "execution_count": 56,
   "metadata": {},
   "outputs": [
    {
     "data": {
      "text/plain": [
       "0        [Bluetooth, Hands-free equipment, On-board com...\n",
       "1        [Bluetooth, Hands-free equipment, On-board com...\n",
       "2                                 [MP3, On-board computer]\n",
       "3        [Bluetooth, CD player, Hands-free equipment, M...\n",
       "4        [Bluetooth, CD player, Hands-free equipment, M...\n",
       "                               ...                        \n",
       "15914    [Bluetooth, Digital radio, Hands-free equipmen...\n",
       "15915    [Bluetooth, Digital radio, Hands-free equipmen...\n",
       "15916    [Bluetooth, Hands-free equipment, On-board com...\n",
       "15917               [Bluetooth, Digital radio, Radio, USB]\n",
       "15918                                                [USB]\n",
       "Name: \\nEntertainment & Media\\n, Length: 15919, dtype: object"
      ]
     },
     "execution_count": 56,
     "metadata": {},
     "output_type": "execute_result"
    }
   ],
   "source": [
    "df['\\nEntertainment & Media\\n']"
   ]
  },
  {
   "cell_type": "code",
   "execution_count": 57,
   "metadata": {},
   "outputs": [
    {
     "data": {
      "text/plain": [
       "0        [Alloy wheels, Catalytic Converter, Voice Cont...\n",
       "1        [Alloy wheels, Sport seats, Sport suspension, ...\n",
       "2                            [Alloy wheels, Voice Control]\n",
       "3               [Alloy wheels, Sport seats, Voice Control]\n",
       "4        [Alloy wheels, Sport package, Sport suspension...\n",
       "                               ...                        \n",
       "15914                         [Alloy wheels, Touch screen]\n",
       "15915          [Alloy wheels, Touch screen, Voice Control]\n",
       "15916                                       [Alloy wheels]\n",
       "15917                         [Alloy wheels, Touch screen]\n",
       "15918                         [Alloy wheels, Touch screen]\n",
       "Name: \\nExtras\\n, Length: 15919, dtype: object"
      ]
     },
     "execution_count": 57,
     "metadata": {},
     "output_type": "execute_result"
    }
   ],
   "source": [
    "df['\\nExtras\\n']"
   ]
  },
  {
   "cell_type": "code",
   "execution_count": 58,
   "metadata": {},
   "outputs": [
    {
     "data": {
      "text/plain": [
       "0        [ABS, Central door lock, Daytime running light...\n",
       "1        [ABS, Central door lock, Central door lock wit...\n",
       "2        [ABS, Central door lock, Daytime running light...\n",
       "3        [ABS, Alarm system, Central door lock with rem...\n",
       "4        [ABS, Central door lock, Driver-side airbag, E...\n",
       "                               ...                        \n",
       "15914    [ABS, Central door lock, Central door lock wit...\n",
       "15915    [ABS, Adaptive Cruise Control, Blind spot moni...\n",
       "15916    [ABS, Adaptive Cruise Control, Blind spot moni...\n",
       "15917    [ABS, Blind spot monitor, Driver-side airbag, ...\n",
       "15918    [ABS, Blind spot monitor, Daytime running ligh...\n",
       "Name: \\nSafety & Security\\n, Length: 15919, dtype: object"
      ]
     },
     "execution_count": 58,
     "metadata": {},
     "output_type": "execute_result"
    }
   ],
   "source": [
    "df['\\nSafety & Security\\n']"
   ]
  },
  {
   "cell_type": "code",
   "execution_count": 59,
   "metadata": {},
   "outputs": [
    {
     "data": {
      "text/plain": [
       "0        [\\n, Sicherheit:,  , Deaktivierung für Beifahr...\n",
       "1        [\\nLangstreckenfahrzeug daher die hohe Kilomet...\n",
       "2        [\\n, Fahrzeug-Nummer: AM-95365,  , Ehem. UPE 2...\n",
       "3        [\\nAudi A1: , - 1e eigenaar , - Perfecte staat...\n",
       "4        [\\n, Technik & Sicherheit:, Xenon plus, Klimaa...\n",
       "                               ...                        \n",
       "15914    [\\nVettura visionabile nella sede in Via Roma ...\n",
       "15915    [\\nDach: Panorama-Glas-Schiebedach, Lackierung...\n",
       "15916    [\\n, Getriebe:,  Automatik, Technik:,  Bordcom...\n",
       "15917    [\\nDEK:[2691331], Renault Espace Blue dCi 200C...\n",
       "15918    [\\n, Sicherheit Airbags:,  , Seitenairbag,  , ...\n",
       "Name: description, Length: 15919, dtype: object"
      ]
     },
     "execution_count": 59,
     "metadata": {},
     "output_type": "execute_result"
    }
   ],
   "source": [
    "df['description']\n",
    "# düşülebilir sütun"
   ]
  },
  {
   "cell_type": "code",
   "execution_count": 60,
   "metadata": {},
   "outputs": [
    {
     "data": {
      "text/plain": [
       "11934"
      ]
     },
     "execution_count": 60,
     "metadata": {},
     "output_type": "execute_result"
    }
   ],
   "source": [
    "df['Emission Label'].isnull().sum()\n",
    "# bu sütun düşülebilir"
   ]
  },
  {
   "cell_type": "code",
   "execution_count": 61,
   "metadata": {},
   "outputs": [
    {
     "data": {
      "text/plain": [
       "0            NaN\n",
       "1        [\\n7\\n]\n",
       "2            NaN\n",
       "3        [\\n6\\n]\n",
       "4            NaN\n",
       "          ...   \n",
       "15914    [\\n6\\n]\n",
       "15915    [\\n7\\n]\n",
       "15916    [\\n6\\n]\n",
       "15917    [\\n6\\n]\n",
       "15918        NaN\n",
       "Name: Gears, Length: 15919, dtype: object"
      ]
     },
     "execution_count": 61,
     "metadata": {},
     "output_type": "execute_result"
    }
   ],
   "source": [
    "df.Gears\n",
    "# vites sayısı"
   ]
  },
  {
   "cell_type": "code",
   "execution_count": 62,
   "metadata": {},
   "outputs": [
    {
     "ename": "TypeError",
     "evalue": "unhashable type: 'list'",
     "output_type": "error",
     "traceback": [
      "\u001b[1;31m---------------------------------------------------------------------------\u001b[0m",
      "\u001b[1;31mTypeError\u001b[0m                                 Traceback (most recent call last)",
      "\u001b[1;32mpandas\\_libs\\hashtable_class_helper.pxi\u001b[0m in \u001b[0;36mpandas._libs.hashtable.PyObjectHashTable.map_locations\u001b[1;34m()\u001b[0m\n",
      "\u001b[1;31mTypeError\u001b[0m: unhashable type: 'list'"
     ]
    },
    {
     "name": "stderr",
     "output_type": "stream",
     "text": [
      "Exception ignored in: 'pandas._libs.index.IndexEngine._call_map_locations'\n",
      "Traceback (most recent call last):\n",
      "  File \"pandas\\_libs\\hashtable_class_helper.pxi\", line 1709, in pandas._libs.hashtable.PyObjectHashTable.map_locations\n",
      "TypeError: unhashable type: 'list'\n"
     ]
    },
    {
     "data": {
      "text/plain": [
       "[\\nGermany\\n]           4502\n",
       "[\\nItaly\\n]             1038\n",
       "[\\nEuropean Union\\n]     507\n",
       "[\\nNetherlands\\n]        464\n",
       "[\\nSpain\\n]              325\n",
       "[\\nBelgium\\n]            314\n",
       "[\\nAustria\\n]            208\n",
       "[\\nCzech Republic\\n]      52\n",
       "[\\nPoland\\n]              49\n",
       "[\\nFrance\\n]              38\n",
       "[\\nDenmark\\n]             33\n",
       "[\\nHungary\\n]             28\n",
       "[\\nJapan\\n]                8\n",
       "[\\nCroatia\\n]              4\n",
       "[\\nSlovakia\\n]             4\n",
       "[\\nSweden\\n]               3\n",
       "[\\nBulgaria\\n]             2\n",
       "[\\nRomania\\n]              2\n",
       "[\\nSwitzerland\\n]          1\n",
       "[\\nLuxembourg\\n]           1\n",
       "[\\nSerbia\\n]               1\n",
       "[\\nSlovenia\\n]             1\n",
       "[\\nEgypt\\n]                1\n",
       "Name: Country version, dtype: int64"
      ]
     },
     "execution_count": 62,
     "metadata": {},
     "output_type": "execute_result"
    }
   ],
   "source": [
    "df['Country version'].value_counts()\n",
    "# null değerler için other girilebilir\n"
   ]
  },
  {
   "cell_type": "code",
   "execution_count": 63,
   "metadata": {},
   "outputs": [
    {
     "data": {
      "text/plain": [
       "15782"
      ]
     },
     "execution_count": 63,
     "metadata": {},
     "output_type": "execute_result"
    }
   ],
   "source": [
    "df['Electricity consumption'].isnull().sum()\n",
    "# tamamı null değer olduğu için düşülebilir. "
   ]
  },
  {
   "cell_type": "code",
   "execution_count": 64,
   "metadata": {},
   "outputs": [
    {
     "data": {
      "text/plain": [
       "15353"
      ]
     },
     "execution_count": 64,
     "metadata": {},
     "output_type": "execute_result"
    }
   ],
   "source": [
    "df['Last Service Date'].isnull().sum()\n",
    "# tamamı null düşülebilir"
   ]
  },
  {
   "cell_type": "code",
   "execution_count": 65,
   "metadata": {},
   "outputs": [
    {
     "data": {
      "text/plain": [
       "15039"
      ]
     },
     "execution_count": 65,
     "metadata": {},
     "output_type": "execute_result"
    }
   ],
   "source": [
    "df['Other Fuel Types'].isnull().sum()\n",
    "# tamamına yakını null düşülebilir. "
   ]
  },
  {
   "cell_type": "code",
   "execution_count": 66,
   "metadata": {},
   "outputs": [
    {
     "data": {
      "text/plain": [
       "15284"
      ]
     },
     "execution_count": 66,
     "metadata": {},
     "output_type": "execute_result"
    }
   ],
   "source": [
    "df['Availability'].isnull().sum()\n",
    "# tamamına yakını null düşülebilir"
   ]
  },
  {
   "cell_type": "code",
   "execution_count": 67,
   "metadata": {},
   "outputs": [
    {
     "data": {
      "text/plain": [
       "15903"
      ]
     },
     "execution_count": 67,
     "metadata": {},
     "output_type": "execute_result"
    }
   ],
   "source": [
    "df['Last Timing Belt Service Date'].isnull().sum()\n",
    "# düşülebilir."
   ]
  },
  {
   "cell_type": "code",
   "execution_count": 68,
   "metadata": {},
   "outputs": [
    {
     "data": {
      "text/plain": [
       "15647"
      ]
     },
     "execution_count": 68,
     "metadata": {},
     "output_type": "execute_result"
    }
   ],
   "source": [
    "df['Available from'].isnull().sum()\n",
    "# tamamı düşülebilir. "
   ]
  },
  {
   "cell_type": "markdown",
   "metadata": {},
   "source": [
    "# Düşülecek sütunlar\n",
    "**tüm sütunlar tek tek incelendi**\n",
    "\n",
    "**düşülmesi gereken sütunlara karar verildi.**"
   ]
  },
  {
   "cell_type": "code",
   "execution_count": 69,
   "metadata": {},
   "outputs": [],
   "source": [
    "#    Düşülecek sütunlar.:\n",
    "columns = [\n",
    "'Last Timing Belt Service Date',\n",
    "'Available from',\n",
    "'Availability',\n",
    "'Other Fuel Types',\n",
    "'Last Service Date',\n",
    "'Electricity consumption',\n",
    "'description',\n",
    "'Cylinders',\n",
    "'Model Code',\n",
    "'Body Color Original',\n",
    "'Paint Type',\n",
    "'Offer Number',\n",
    "'null',\n",
    "'Non-smoking Vehicle',\n",
    "'Full Service',\n",
    "'Previous Owners',\n",
    "\"short_description\",\n",
    "\"url\",\n",
    "\"Fuel\",\n",
    "\"kW\"]"
   ]
  },
  {
   "cell_type": "code",
   "execution_count": 70,
   "metadata": {},
   "outputs": [],
   "source": [
    "df = df.drop(columns,axis=1)\n"
   ]
  },
  {
   "cell_type": "code",
   "execution_count": 71,
   "metadata": {},
   "outputs": [
    {
     "data": {
      "text/plain": [
       "(15919, 34)"
      ]
     },
     "execution_count": 71,
     "metadata": {},
     "output_type": "execute_result"
    }
   ],
   "source": [
    "df.shape"
   ]
  },
  {
   "cell_type": "code",
   "execution_count": 72,
   "metadata": {},
   "outputs": [
    {
     "ename": "TypeError",
     "evalue": "to_csv() got an unexpected keyword argument 'storage_options'",
     "output_type": "error",
     "traceback": [
      "\u001b[1;31m---------------------------------------------------------------------------\u001b[0m",
      "\u001b[1;31mTypeError\u001b[0m                                 Traceback (most recent call last)",
      "\u001b[1;32m<ipython-input-72-7b8c96e576cc>\u001b[0m in \u001b[0;36m<module>\u001b[1;34m\u001b[0m\n\u001b[1;32m----> 1\u001b[1;33m \u001b[0mdf\u001b[0m\u001b[1;33m.\u001b[0m\u001b[0mto_csv\u001b[0m\u001b[1;33m(\u001b[0m\u001b[1;34m\"stage_1.csv\"\u001b[0m\u001b[1;33m,\u001b[0m\u001b[0mindex\u001b[0m\u001b[1;33m=\u001b[0m\u001b[1;32mFalse\u001b[0m\u001b[1;33m,\u001b[0m\u001b[0mstorage_options\u001b[0m\u001b[1;33m=\u001b[0m\u001b[1;32mNone\u001b[0m\u001b[1;33m)\u001b[0m\u001b[1;33m\u001b[0m\u001b[1;33m\u001b[0m\u001b[0m\n\u001b[0m",
      "\u001b[1;31mTypeError\u001b[0m: to_csv() got an unexpected keyword argument 'storage_options'"
     ]
    }
   ],
   "source": [
    "df.to_csv(\"stage_1.csv\",index=False,storage_options=None)"
   ]
  },
  {
   "cell_type": "markdown",
   "metadata": {},
   "source": [
    "## Import Libraries and Data"
   ]
  },
  {
   "cell_type": "code",
   "execution_count": null,
   "metadata": {},
   "outputs": [],
   "source": []
  },
  {
   "cell_type": "code",
   "execution_count": null,
   "metadata": {},
   "outputs": [],
   "source": []
  },
  {
   "cell_type": "code",
   "execution_count": null,
   "metadata": {},
   "outputs": [],
   "source": []
  },
  {
   "cell_type": "code",
   "execution_count": null,
   "metadata": {},
   "outputs": [],
   "source": []
  },
  {
   "cell_type": "code",
   "execution_count": null,
   "metadata": {},
   "outputs": [],
   "source": [
    "df_dummied.to_csv(\"final_scout_dummy.csv\", index=False)"
   ]
  },
  {
   "cell_type": "code",
   "execution_count": null,
   "metadata": {},
   "outputs": [],
   "source": [
    "df.to_csv(\"final_scout_not_dummy.csv\", index=False)"
   ]
  },
  {
   "cell_type": "code",
   "execution_count": 73,
   "metadata": {},
   "outputs": [],
   "source": [
    "df.to_json(\"stage1.json\")"
   ]
  },
  {
   "cell_type": "code",
   "execution_count": null,
   "metadata": {},
   "outputs": [],
   "source": []
  }
 ],
 "metadata": {
  "kernelspec": {
   "display_name": "Python 3",
   "language": "python",
   "name": "python3"
  },
  "language_info": {
   "codemirror_mode": {
    "name": "ipython",
    "version": 3
   },
   "file_extension": ".py",
   "mimetype": "text/x-python",
   "name": "python",
   "nbconvert_exporter": "python",
   "pygments_lexer": "ipython3",
   "version": "3.8.8"
  }
 },
 "nbformat": 4,
 "nbformat_minor": 4
}
