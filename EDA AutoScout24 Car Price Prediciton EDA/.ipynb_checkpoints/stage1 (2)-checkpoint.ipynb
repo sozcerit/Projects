{
 "cells": [
  {
   "cell_type": "code",
   "execution_count": 1,
   "id": "f767239f",
   "metadata": {},
   "outputs": [],
   "source": [
    "import pandas as pd\n",
    "import numpy as np\n",
    "pd.set_option(\"display.max_columns\", None)\n",
    "\n"
   ]
  },
  {
   "cell_type": "code",
   "execution_count": 2,
   "id": "29216552",
   "metadata": {},
   "outputs": [],
   "source": [
    "df = pd.read_json(\"stage1.json\")"
   ]
  },
  {
   "cell_type": "code",
   "execution_count": 3,
   "id": "d05a4324",
   "metadata": {},
   "outputs": [
    {
     "data": {
      "text/plain": [
       "Index(['make_model', 'body_type', 'price', 'vat', 'km', 'registration',\n",
       "       'prev_owner', 'hp', 'Type', 'Next Inspection', 'Inspection new',\n",
       "       'Warranty', 'Make', 'Model', 'First Registration', 'Body Color',\n",
       "       'Upholstery', 'Body', 'Nr. of Doors', 'Nr. of Seats', 'Gearing Type',\n",
       "       'Displacement', 'Weight', 'Drive chain', 'Consumption', 'CO2 Emission',\n",
       "       'Emission Class', '\\nComfort & Convenience\\n',\n",
       "       '\\nEntertainment & Media\\n', '\\nExtras\\n', '\\nSafety & Security\\n',\n",
       "       'Emission Label', 'Gears', 'Country version'],\n",
       "      dtype='object')"
      ]
     },
     "execution_count": 3,
     "metadata": {},
     "output_type": "execute_result"
    }
   ],
   "source": [
    "df.columns"
   ]
  },
  {
   "cell_type": "code",
   "execution_count": 4,
   "id": "cc8f9c52",
   "metadata": {},
   "outputs": [
    {
     "data": {
      "text/html": [
       "<div>\n",
       "<style scoped>\n",
       "    .dataframe tbody tr th:only-of-type {\n",
       "        vertical-align: middle;\n",
       "    }\n",
       "\n",
       "    .dataframe tbody tr th {\n",
       "        vertical-align: top;\n",
       "    }\n",
       "\n",
       "    .dataframe thead th {\n",
       "        text-align: right;\n",
       "    }\n",
       "</style>\n",
       "<table border=\"1\" class=\"dataframe\">\n",
       "  <thead>\n",
       "    <tr style=\"text-align: right;\">\n",
       "      <th></th>\n",
       "      <th>make_model</th>\n",
       "      <th>body_type</th>\n",
       "      <th>price</th>\n",
       "      <th>vat</th>\n",
       "      <th>km</th>\n",
       "      <th>registration</th>\n",
       "      <th>prev_owner</th>\n",
       "      <th>hp</th>\n",
       "      <th>Type</th>\n",
       "      <th>Next Inspection</th>\n",
       "      <th>Inspection new</th>\n",
       "      <th>Warranty</th>\n",
       "      <th>Make</th>\n",
       "      <th>Model</th>\n",
       "      <th>First Registration</th>\n",
       "      <th>Body Color</th>\n",
       "      <th>Upholstery</th>\n",
       "      <th>Body</th>\n",
       "      <th>Nr. of Doors</th>\n",
       "      <th>Nr. of Seats</th>\n",
       "      <th>Gearing Type</th>\n",
       "      <th>Displacement</th>\n",
       "      <th>Weight</th>\n",
       "      <th>Drive chain</th>\n",
       "      <th>Consumption</th>\n",
       "      <th>CO2 Emission</th>\n",
       "      <th>Emission Class</th>\n",
       "      <th>\\nComfort &amp; Convenience\\n</th>\n",
       "      <th>\\nEntertainment &amp; Media\\n</th>\n",
       "      <th>\\nExtras\\n</th>\n",
       "      <th>\\nSafety &amp; Security\\n</th>\n",
       "      <th>Emission Label</th>\n",
       "      <th>Gears</th>\n",
       "      <th>Country version</th>\n",
       "    </tr>\n",
       "  </thead>\n",
       "  <tbody>\n",
       "    <tr>\n",
       "      <th>0</th>\n",
       "      <td>Audi A1</td>\n",
       "      <td>Sedans</td>\n",
       "      <td>15770</td>\n",
       "      <td>VAT deductible</td>\n",
       "      <td>56,013 km</td>\n",
       "      <td>01/2016</td>\n",
       "      <td>2 previous owners</td>\n",
       "      <td>66 kW</td>\n",
       "      <td>[, Used, , Diesel (Particulate Filter)]</td>\n",
       "      <td>[\\n06/2021\\n, \\n99 g CO2/km (comb)\\n]</td>\n",
       "      <td>[\\nYes\\n, \\nEuro 6\\n]</td>\n",
       "      <td></td>\n",
       "      <td>\\nAudi\\n</td>\n",
       "      <td>[\\n, A1, \\n]</td>\n",
       "      <td>[\\n, 2016, \\n]</td>\n",
       "      <td>[\\n, Black, \\n]</td>\n",
       "      <td>[\\nCloth, Black\\n]</td>\n",
       "      <td>[\\n, Sedans, \\n]</td>\n",
       "      <td>[\\n5\\n]</td>\n",
       "      <td>[\\n5\\n]</td>\n",
       "      <td>[\\n, Automatic, \\n]</td>\n",
       "      <td>[\\n1,422 cc\\n]</td>\n",
       "      <td>[\\n1,220 kg\\n]</td>\n",
       "      <td>[\\nfront\\n]</td>\n",
       "      <td>[[3.8 l/100 km (comb)], [4.3 l/100 km (city)],...</td>\n",
       "      <td>[\\n99 g CO2/km (comb)\\n]</td>\n",
       "      <td>[\\nEuro 6\\n]</td>\n",
       "      <td>[Air conditioning, Armrest, Automatic climate ...</td>\n",
       "      <td>[Bluetooth, Hands-free equipment, On-board com...</td>\n",
       "      <td>[Alloy wheels, Catalytic Converter, Voice Cont...</td>\n",
       "      <td>[ABS, Central door lock, Daytime running light...</td>\n",
       "      <td>None</td>\n",
       "      <td>None</td>\n",
       "      <td>None</td>\n",
       "    </tr>\n",
       "    <tr>\n",
       "      <th>1</th>\n",
       "      <td>Audi A1</td>\n",
       "      <td>Sedans</td>\n",
       "      <td>14500</td>\n",
       "      <td>Price negotiable</td>\n",
       "      <td>80,000 km</td>\n",
       "      <td>03/2017</td>\n",
       "      <td>None</td>\n",
       "      <td>141 kW</td>\n",
       "      <td>[, Used, , Gasoline]</td>\n",
       "      <td>None</td>\n",
       "      <td>None</td>\n",
       "      <td>None</td>\n",
       "      <td>\\nAudi\\n</td>\n",
       "      <td>[\\n, A1, \\n]</td>\n",
       "      <td>[\\n, 2017, \\n]</td>\n",
       "      <td>[\\n, Red, \\n]</td>\n",
       "      <td>[\\nCloth, Grey\\n]</td>\n",
       "      <td>[\\n, Sedans, \\n]</td>\n",
       "      <td>[\\n3\\n]</td>\n",
       "      <td>[\\n4\\n]</td>\n",
       "      <td>[\\n, Automatic, \\n]</td>\n",
       "      <td>[\\n1,798 cc\\n]</td>\n",
       "      <td>[\\n1,255 kg\\n]</td>\n",
       "      <td>[\\nfront\\n]</td>\n",
       "      <td>[[5.6 l/100 km (comb)], [7.1 l/100 km (city)],...</td>\n",
       "      <td>[\\n129 g CO2/km (comb)\\n]</td>\n",
       "      <td>[\\nEuro 6\\n]</td>\n",
       "      <td>[Air conditioning, Automatic climate control, ...</td>\n",
       "      <td>[Bluetooth, Hands-free equipment, On-board com...</td>\n",
       "      <td>[Alloy wheels, Sport seats, Sport suspension, ...</td>\n",
       "      <td>[ABS, Central door lock, Central door lock wit...</td>\n",
       "      <td>[\\n4 (Green)\\n]</td>\n",
       "      <td>[\\n7\\n]</td>\n",
       "      <td>None</td>\n",
       "    </tr>\n",
       "    <tr>\n",
       "      <th>2</th>\n",
       "      <td>Audi A1</td>\n",
       "      <td>Sedans</td>\n",
       "      <td>14640</td>\n",
       "      <td>VAT deductible</td>\n",
       "      <td>83,450 km</td>\n",
       "      <td>02/2016</td>\n",
       "      <td>1 previous owner</td>\n",
       "      <td>85 kW</td>\n",
       "      <td>[, Used, , Diesel (Particulate Filter)]</td>\n",
       "      <td>None</td>\n",
       "      <td>None</td>\n",
       "      <td></td>\n",
       "      <td>\\nAudi\\n</td>\n",
       "      <td>[\\n, A1, \\n]</td>\n",
       "      <td>[\\n, 2016, \\n]</td>\n",
       "      <td>[\\n, Black, \\n]</td>\n",
       "      <td>[\\nCloth, Black\\n]</td>\n",
       "      <td>[\\n, Sedans, \\n]</td>\n",
       "      <td>[\\n4\\n]</td>\n",
       "      <td>[\\n4\\n]</td>\n",
       "      <td>[\\n, Automatic, \\n]</td>\n",
       "      <td>[\\n1,598 cc\\n]</td>\n",
       "      <td>None</td>\n",
       "      <td>[\\nfront\\n]</td>\n",
       "      <td>[[3.8 l/100 km (comb)], [4.4 l/100 km (city)],...</td>\n",
       "      <td>[\\n99 g CO2/km (comb)\\n]</td>\n",
       "      <td>[\\nEuro 6\\n]</td>\n",
       "      <td>[Air conditioning, Cruise control, Electrical ...</td>\n",
       "      <td>[MP3, On-board computer]</td>\n",
       "      <td>[Alloy wheels, Voice Control]</td>\n",
       "      <td>[ABS, Central door lock, Daytime running light...</td>\n",
       "      <td>[\\n4 (Green)\\n]</td>\n",
       "      <td>None</td>\n",
       "      <td>None</td>\n",
       "    </tr>\n",
       "    <tr>\n",
       "      <th>3</th>\n",
       "      <td>Audi A1</td>\n",
       "      <td>Sedans</td>\n",
       "      <td>14500</td>\n",
       "      <td>None</td>\n",
       "      <td>73,000 km</td>\n",
       "      <td>08/2016</td>\n",
       "      <td>1 previous owner</td>\n",
       "      <td>66 kW</td>\n",
       "      <td>[, Used, , Diesel (Particulate Filter)]</td>\n",
       "      <td>None</td>\n",
       "      <td>None</td>\n",
       "      <td>None</td>\n",
       "      <td>\\nAudi\\n</td>\n",
       "      <td>[\\n, A1, \\n]</td>\n",
       "      <td>[\\n, 2016, \\n]</td>\n",
       "      <td>[\\n, Brown, \\n]</td>\n",
       "      <td>None</td>\n",
       "      <td>[\\n, Sedans, \\n]</td>\n",
       "      <td>[\\n3\\n]</td>\n",
       "      <td>[\\n4\\n]</td>\n",
       "      <td>[\\n, Automatic, \\n]</td>\n",
       "      <td>[\\n1,422 cc\\n]</td>\n",
       "      <td>[\\n1,195 kg\\n]</td>\n",
       "      <td>None</td>\n",
       "      <td>[[3.8 l/100 km (comb)], [4.3 l/100 km (city)],...</td>\n",
       "      <td>[\\n99 g CO2/km (comb)\\n]</td>\n",
       "      <td>[\\nEuro 6\\n]</td>\n",
       "      <td>[Air suspension, Armrest, Auxiliary heating, E...</td>\n",
       "      <td>[Bluetooth, CD player, Hands-free equipment, M...</td>\n",
       "      <td>[Alloy wheels, Sport seats, Voice Control]</td>\n",
       "      <td>[ABS, Alarm system, Central door lock with rem...</td>\n",
       "      <td>None</td>\n",
       "      <td>[\\n6\\n]</td>\n",
       "      <td>None</td>\n",
       "    </tr>\n",
       "    <tr>\n",
       "      <th>4</th>\n",
       "      <td>Audi A1</td>\n",
       "      <td>Sedans</td>\n",
       "      <td>16790</td>\n",
       "      <td>None</td>\n",
       "      <td>16,200 km</td>\n",
       "      <td>05/2016</td>\n",
       "      <td>1 previous owner</td>\n",
       "      <td>66 kW</td>\n",
       "      <td>[, Used, , Diesel (Particulate Filter)]</td>\n",
       "      <td>None</td>\n",
       "      <td>[\\nYes\\n, \\n109 g CO2/km (comb)\\n]</td>\n",
       "      <td></td>\n",
       "      <td>\\nAudi\\n</td>\n",
       "      <td>[\\n, A1, \\n]</td>\n",
       "      <td>[\\n, 2016, \\n]</td>\n",
       "      <td>[\\n, Black, \\n]</td>\n",
       "      <td>[\\nCloth, Black\\n]</td>\n",
       "      <td>[\\n, Sedans, \\n]</td>\n",
       "      <td>[\\n5\\n]</td>\n",
       "      <td>[\\n5\\n]</td>\n",
       "      <td>[\\n, Automatic, \\n]</td>\n",
       "      <td>[\\n1,422 cc\\n]</td>\n",
       "      <td>None</td>\n",
       "      <td>[\\nfront\\n]</td>\n",
       "      <td>[[4.1 l/100 km (comb)], [4.6 l/100 km (city)],...</td>\n",
       "      <td>[\\n109 g CO2/km (comb)\\n]</td>\n",
       "      <td>[\\nEuro 6\\n]</td>\n",
       "      <td>[Air conditioning, Armrest, Automatic climate ...</td>\n",
       "      <td>[Bluetooth, CD player, Hands-free equipment, M...</td>\n",
       "      <td>[Alloy wheels, Sport package, Sport suspension...</td>\n",
       "      <td>[ABS, Central door lock, Driver-side airbag, E...</td>\n",
       "      <td>None</td>\n",
       "      <td>None</td>\n",
       "      <td>[\\nGermany\\n]</td>\n",
       "    </tr>\n",
       "  </tbody>\n",
       "</table>\n",
       "</div>"
      ],
      "text/plain": [
       "  make_model body_type  price               vat         km registration  \\\n",
       "0    Audi A1    Sedans  15770    VAT deductible  56,013 km      01/2016   \n",
       "1    Audi A1    Sedans  14500  Price negotiable  80,000 km      03/2017   \n",
       "2    Audi A1    Sedans  14640    VAT deductible  83,450 km      02/2016   \n",
       "3    Audi A1    Sedans  14500              None  73,000 km      08/2016   \n",
       "4    Audi A1    Sedans  16790              None  16,200 km      05/2016   \n",
       "\n",
       "          prev_owner      hp                                     Type  \\\n",
       "0  2 previous owners   66 kW  [, Used, , Diesel (Particulate Filter)]   \n",
       "1               None  141 kW                     [, Used, , Gasoline]   \n",
       "2   1 previous owner   85 kW  [, Used, , Diesel (Particulate Filter)]   \n",
       "3   1 previous owner   66 kW  [, Used, , Diesel (Particulate Filter)]   \n",
       "4   1 previous owner   66 kW  [, Used, , Diesel (Particulate Filter)]   \n",
       "\n",
       "                         Next Inspection                      Inspection new  \\\n",
       "0  [\\n06/2021\\n, \\n99 g CO2/km (comb)\\n]               [\\nYes\\n, \\nEuro 6\\n]   \n",
       "1                                   None                                None   \n",
       "2                                   None                                None   \n",
       "3                                   None                                None   \n",
       "4                                   None  [\\nYes\\n, \\n109 g CO2/km (comb)\\n]   \n",
       "\n",
       "  Warranty      Make         Model First Registration       Body Color  \\\n",
       "0           \\nAudi\\n  [\\n, A1, \\n]     [\\n, 2016, \\n]  [\\n, Black, \\n]   \n",
       "1     None  \\nAudi\\n  [\\n, A1, \\n]     [\\n, 2017, \\n]    [\\n, Red, \\n]   \n",
       "2           \\nAudi\\n  [\\n, A1, \\n]     [\\n, 2016, \\n]  [\\n, Black, \\n]   \n",
       "3     None  \\nAudi\\n  [\\n, A1, \\n]     [\\n, 2016, \\n]  [\\n, Brown, \\n]   \n",
       "4           \\nAudi\\n  [\\n, A1, \\n]     [\\n, 2016, \\n]  [\\n, Black, \\n]   \n",
       "\n",
       "           Upholstery              Body Nr. of Doors Nr. of Seats  \\\n",
       "0  [\\nCloth, Black\\n]  [\\n, Sedans, \\n]      [\\n5\\n]      [\\n5\\n]   \n",
       "1   [\\nCloth, Grey\\n]  [\\n, Sedans, \\n]      [\\n3\\n]      [\\n4\\n]   \n",
       "2  [\\nCloth, Black\\n]  [\\n, Sedans, \\n]      [\\n4\\n]      [\\n4\\n]   \n",
       "3                None  [\\n, Sedans, \\n]      [\\n3\\n]      [\\n4\\n]   \n",
       "4  [\\nCloth, Black\\n]  [\\n, Sedans, \\n]      [\\n5\\n]      [\\n5\\n]   \n",
       "\n",
       "          Gearing Type    Displacement          Weight  Drive chain  \\\n",
       "0  [\\n, Automatic, \\n]  [\\n1,422 cc\\n]  [\\n1,220 kg\\n]  [\\nfront\\n]   \n",
       "1  [\\n, Automatic, \\n]  [\\n1,798 cc\\n]  [\\n1,255 kg\\n]  [\\nfront\\n]   \n",
       "2  [\\n, Automatic, \\n]  [\\n1,598 cc\\n]            None  [\\nfront\\n]   \n",
       "3  [\\n, Automatic, \\n]  [\\n1,422 cc\\n]  [\\n1,195 kg\\n]         None   \n",
       "4  [\\n, Automatic, \\n]  [\\n1,422 cc\\n]            None  [\\nfront\\n]   \n",
       "\n",
       "                                         Consumption  \\\n",
       "0  [[3.8 l/100 km (comb)], [4.3 l/100 km (city)],...   \n",
       "1  [[5.6 l/100 km (comb)], [7.1 l/100 km (city)],...   \n",
       "2  [[3.8 l/100 km (comb)], [4.4 l/100 km (city)],...   \n",
       "3  [[3.8 l/100 km (comb)], [4.3 l/100 km (city)],...   \n",
       "4  [[4.1 l/100 km (comb)], [4.6 l/100 km (city)],...   \n",
       "\n",
       "                CO2 Emission Emission Class  \\\n",
       "0   [\\n99 g CO2/km (comb)\\n]   [\\nEuro 6\\n]   \n",
       "1  [\\n129 g CO2/km (comb)\\n]   [\\nEuro 6\\n]   \n",
       "2   [\\n99 g CO2/km (comb)\\n]   [\\nEuro 6\\n]   \n",
       "3   [\\n99 g CO2/km (comb)\\n]   [\\nEuro 6\\n]   \n",
       "4  [\\n109 g CO2/km (comb)\\n]   [\\nEuro 6\\n]   \n",
       "\n",
       "                           \\nComfort & Convenience\\n  \\\n",
       "0  [Air conditioning, Armrest, Automatic climate ...   \n",
       "1  [Air conditioning, Automatic climate control, ...   \n",
       "2  [Air conditioning, Cruise control, Electrical ...   \n",
       "3  [Air suspension, Armrest, Auxiliary heating, E...   \n",
       "4  [Air conditioning, Armrest, Automatic climate ...   \n",
       "\n",
       "                           \\nEntertainment & Media\\n  \\\n",
       "0  [Bluetooth, Hands-free equipment, On-board com...   \n",
       "1  [Bluetooth, Hands-free equipment, On-board com...   \n",
       "2                           [MP3, On-board computer]   \n",
       "3  [Bluetooth, CD player, Hands-free equipment, M...   \n",
       "4  [Bluetooth, CD player, Hands-free equipment, M...   \n",
       "\n",
       "                                          \\nExtras\\n  \\\n",
       "0  [Alloy wheels, Catalytic Converter, Voice Cont...   \n",
       "1  [Alloy wheels, Sport seats, Sport suspension, ...   \n",
       "2                      [Alloy wheels, Voice Control]   \n",
       "3         [Alloy wheels, Sport seats, Voice Control]   \n",
       "4  [Alloy wheels, Sport package, Sport suspension...   \n",
       "\n",
       "                               \\nSafety & Security\\n   Emission Label  \\\n",
       "0  [ABS, Central door lock, Daytime running light...             None   \n",
       "1  [ABS, Central door lock, Central door lock wit...  [\\n4 (Green)\\n]   \n",
       "2  [ABS, Central door lock, Daytime running light...  [\\n4 (Green)\\n]   \n",
       "3  [ABS, Alarm system, Central door lock with rem...             None   \n",
       "4  [ABS, Central door lock, Driver-side airbag, E...             None   \n",
       "\n",
       "     Gears Country version  \n",
       "0     None            None  \n",
       "1  [\\n7\\n]            None  \n",
       "2     None            None  \n",
       "3  [\\n6\\n]            None  \n",
       "4     None   [\\nGermany\\n]  "
      ]
     },
     "execution_count": 4,
     "metadata": {},
     "output_type": "execute_result"
    }
   ],
   "source": [
    "df.head()"
   ]
  },
  {
   "cell_type": "markdown",
   "id": "a8ad586d",
   "metadata": {},
   "source": [
    "### Öncelikle Dublicate satırları düşüyoruz. "
   ]
  },
  {
   "cell_type": "code",
   "execution_count": 5,
   "id": "a6ef98ad",
   "metadata": {},
   "outputs": [
    {
     "data": {
      "text/plain": [
       "(15919, 34)"
      ]
     },
     "execution_count": 5,
     "metadata": {},
     "output_type": "execute_result"
    }
   ],
   "source": [
    "df.shape"
   ]
  },
  {
   "cell_type": "code",
   "execution_count": 6,
   "id": "8b2e71d2",
   "metadata": {},
   "outputs": [
    {
     "data": {
      "text/plain": [
       "(15919, 34)"
      ]
     },
     "execution_count": 6,
     "metadata": {},
     "output_type": "execute_result"
    }
   ],
   "source": [
    "df.shape"
   ]
  },
  {
   "cell_type": "markdown",
   "id": "e96bd5ec",
   "metadata": {},
   "source": [
    "### make_model \n",
    "**Bu sütunda yer alan veriler üzerinde herhangi bir cleaning işlemi yapmaya gerek yok.**"
   ]
  },
  {
   "cell_type": "code",
   "execution_count": 7,
   "id": "7d29095c",
   "metadata": {},
   "outputs": [
    {
     "data": {
      "text/plain": [
       "12816    Opel Insignia\n",
       "4229           Audi A3\n",
       "7508        Opel Astra\n",
       "10053       Opel Corsa\n",
       "5934        Opel Astra\n",
       "Name: make_model, dtype: object"
      ]
     },
     "execution_count": 7,
     "metadata": {},
     "output_type": "execute_result"
    }
   ],
   "source": [
    "df.make_model.sample(5)\n",
    "    "
   ]
  },
  {
   "cell_type": "code",
   "execution_count": 8,
   "id": "99a0e62e",
   "metadata": {},
   "outputs": [
    {
     "data": {
      "text/plain": [
       "0"
      ]
     },
     "execution_count": 8,
     "metadata": {},
     "output_type": "execute_result"
    }
   ],
   "source": [
    "df.make_model.isnull().sum()"
   ]
  },
  {
   "cell_type": "markdown",
   "id": "d8d5d978",
   "metadata": {},
   "source": [
    "### body_type\n",
    "**bu sütun üzerinde data cleaning işlemi yapmaya gerek yok."
   ]
  },
  {
   "cell_type": "code",
   "execution_count": 9,
   "id": "229452ca",
   "metadata": {},
   "outputs": [
    {
     "data": {
      "text/plain": [
       "60"
      ]
     },
     "execution_count": 9,
     "metadata": {},
     "output_type": "execute_result"
    }
   ],
   "source": [
    "df.body_type.isnull().sum()"
   ]
  },
  {
   "cell_type": "code",
   "execution_count": 10,
   "id": "4a3eb346",
   "metadata": {},
   "outputs": [
    {
     "data": {
      "text/plain": [
       "Sedans           7903\n",
       "Station wagon    3553\n",
       "Compact          3153\n",
       "Van               783\n",
       "Other             290\n",
       "Transporter        88\n",
       "Off-Road           56\n",
       "Coupe              25\n",
       "Convertible         8\n",
       "Name: body_type, dtype: int64"
      ]
     },
     "execution_count": 10,
     "metadata": {},
     "output_type": "execute_result"
    }
   ],
   "source": [
    "df.body_type.value_counts()\n"
   ]
  },
  {
   "cell_type": "code",
   "execution_count": 11,
   "id": "50ef8aea",
   "metadata": {},
   "outputs": [
    {
     "data": {
      "text/plain": [
       "Index(['make_model', 'body_type', 'price', 'vat', 'km', 'registration',\n",
       "       'prev_owner', 'hp', 'Type', 'Next Inspection', 'Inspection new',\n",
       "       'Warranty', 'Make', 'Model', 'First Registration', 'Body Color',\n",
       "       'Upholstery', 'Body', 'Nr. of Doors', 'Nr. of Seats', 'Gearing Type',\n",
       "       'Displacement', 'Weight', 'Drive chain', 'Consumption', 'CO2 Emission',\n",
       "       'Emission Class', '\\nComfort & Convenience\\n',\n",
       "       '\\nEntertainment & Media\\n', '\\nExtras\\n', '\\nSafety & Security\\n',\n",
       "       'Emission Label', 'Gears', 'Country version'],\n",
       "      dtype='object')"
      ]
     },
     "execution_count": 11,
     "metadata": {},
     "output_type": "execute_result"
    }
   ],
   "source": [
    "df.columns"
   ]
  },
  {
   "cell_type": "markdown",
   "id": "8c512860",
   "metadata": {},
   "source": [
    "### price"
   ]
  },
  {
   "cell_type": "markdown",
   "id": "c190dc19",
   "metadata": {},
   "source": [
    "**Bu sütunda integer değerler var ve veri tipi de integer. Null değerler yok fakat outlier değerler var.**"
   ]
  },
  {
   "cell_type": "code",
   "execution_count": 12,
   "id": "c0b7b3bc",
   "metadata": {},
   "outputs": [
    {
     "data": {
      "text/plain": [
       "dtype('int64')"
      ]
     },
     "execution_count": 12,
     "metadata": {},
     "output_type": "execute_result"
    }
   ],
   "source": [
    "df.price.dtype"
   ]
  },
  {
   "cell_type": "code",
   "execution_count": 13,
   "id": "3bb5342d",
   "metadata": {},
   "outputs": [
    {
     "data": {
      "text/plain": [
       "0"
      ]
     },
     "execution_count": 13,
     "metadata": {},
     "output_type": "execute_result"
    }
   ],
   "source": [
    "df.price.isnull().sum()"
   ]
  },
  {
   "cell_type": "code",
   "execution_count": 14,
   "id": "560eee2f",
   "metadata": {},
   "outputs": [],
   "source": [
    "min_price,max_price = min(df.price), max(df.price)"
   ]
  },
  {
   "cell_type": "code",
   "execution_count": 15,
   "id": "a0734c33",
   "metadata": {},
   "outputs": [
    {
     "data": {
      "text/plain": [
       "[13, 74600]"
      ]
     },
     "execution_count": 15,
     "metadata": {},
     "output_type": "execute_result"
    }
   ],
   "source": [
    "[min_price,max_price]"
   ]
  },
  {
   "cell_type": "markdown",
   "id": "bbf8efa6",
   "metadata": {},
   "source": [
    "**Outlier değerler var bunlar ile daha sonra ilgileneceğiz. Outlier değerleri tespit edip bunlar ile ilgili \n",
    "karar vereceğiz.**"
   ]
  },
  {
   "cell_type": "markdown",
   "id": "0b0a7b3f",
   "metadata": {},
   "source": [
    "### vat \n",
    "**bu sütunda yer alan değerler için web sitesini incelediğimiz zaman 2 farklı seçenek vardı.\n",
    "bunlardan null olanları false diğerlerini True yaptık.** "
   ]
  },
  {
   "cell_type": "code",
   "execution_count": 16,
   "id": "956b845f",
   "metadata": {},
   "outputs": [
    {
     "data": {
      "text/plain": [
       "10064    VAT deductible\n",
       "546      VAT deductible\n",
       "1428               None\n",
       "1655     VAT deductible\n",
       "9651     VAT deductible\n",
       "Name: vat, dtype: object"
      ]
     },
     "execution_count": 16,
     "metadata": {},
     "output_type": "execute_result"
    }
   ],
   "source": [
    "df.vat.sample(5)"
   ]
  },
  {
   "cell_type": "code",
   "execution_count": 17,
   "id": "3ab26f96",
   "metadata": {},
   "outputs": [
    {
     "data": {
      "text/plain": [
       "array(['VAT deductible', 'Price negotiable', None], dtype=object)"
      ]
     },
     "execution_count": 17,
     "metadata": {},
     "output_type": "execute_result"
    }
   ],
   "source": [
    "df.vat.unique()"
   ]
  },
  {
   "cell_type": "code",
   "execution_count": 18,
   "id": "2954126b",
   "metadata": {},
   "outputs": [
    {
     "data": {
      "text/plain": [
       "VAT deductible      10980\n",
       "Price negotiable      426\n",
       "Name: vat, dtype: int64"
      ]
     },
     "execution_count": 18,
     "metadata": {},
     "output_type": "execute_result"
    }
   ],
   "source": [
    "df.vat.value_counts()"
   ]
  },
  {
   "cell_type": "code",
   "execution_count": 19,
   "id": "e709b061",
   "metadata": {},
   "outputs": [
    {
     "data": {
      "text/plain": [
       "4513"
      ]
     },
     "execution_count": 19,
     "metadata": {},
     "output_type": "execute_result"
    }
   ],
   "source": [
    "df.vat.isnull().sum()"
   ]
  },
  {
   "cell_type": "code",
   "execution_count": 20,
   "id": "af0123b4",
   "metadata": {},
   "outputs": [
    {
     "data": {
      "text/plain": [
       "NoneType"
      ]
     },
     "execution_count": 20,
     "metadata": {},
     "output_type": "execute_result"
    }
   ],
   "source": [
    "type(df.vat[4])"
   ]
  },
  {
   "cell_type": "code",
   "execution_count": 21,
   "id": "52de0f35",
   "metadata": {},
   "outputs": [],
   "source": [
    "df.vat = df.vat.map(lambda x: False if x == None else True)"
   ]
  },
  {
   "cell_type": "code",
   "execution_count": 22,
   "id": "89875dd8",
   "metadata": {},
   "outputs": [
    {
     "data": {
      "text/plain": [
       "True     11406\n",
       "False     4513\n",
       "Name: vat, dtype: int64"
      ]
     },
     "execution_count": 22,
     "metadata": {},
     "output_type": "execute_result"
    }
   ],
   "source": [
    "df.vat.value_counts()"
   ]
  },
  {
   "cell_type": "code",
   "execution_count": 23,
   "id": "c723891a",
   "metadata": {},
   "outputs": [
    {
     "data": {
      "text/plain": [
       "False"
      ]
     },
     "execution_count": 23,
     "metadata": {},
     "output_type": "execute_result"
    }
   ],
   "source": [
    "np.nan == np.nan  # np.nan özel bir değer. kendisine bile eşit değil."
   ]
  },
  {
   "cell_type": "code",
   "execution_count": 24,
   "id": "7326d141",
   "metadata": {},
   "outputs": [
    {
     "data": {
      "text/plain": [
       "float"
      ]
     },
     "execution_count": 24,
     "metadata": {},
     "output_type": "execute_result"
    }
   ],
   "source": [
    "type(np.nan)  # değer tipi olarak float döndürür."
   ]
  },
  {
   "cell_type": "markdown",
   "id": "f710b42c",
   "metadata": {},
   "source": [
    "### km \n",
    "**sütunu string veri tipinde. Bu sütunu temizleyip integer veri tipine çevirmeliyiz.** "
   ]
  },
  {
   "cell_type": "code",
   "execution_count": 25,
   "id": "397ae366",
   "metadata": {},
   "outputs": [
    {
     "data": {
      "text/plain": [
       "0        56,013 km\n",
       "1        80,000 km\n",
       "2        83,450 km\n",
       "3        73,000 km\n",
       "4        16,200 km\n",
       "           ...    \n",
       "15914         - km\n",
       "15915     9,900 km\n",
       "15916        15 km\n",
       "15917        10 km\n",
       "15918         - km\n",
       "Name: km, Length: 15919, dtype: object"
      ]
     },
     "execution_count": 25,
     "metadata": {},
     "output_type": "execute_result"
    }
   ],
   "source": [
    "df.km"
   ]
  },
  {
   "cell_type": "code",
   "execution_count": 26,
   "id": "1a98bdd2",
   "metadata": {},
   "outputs": [],
   "source": [
    "df.km = df.km.str.replace(',','').str.strip(' km').replace('-', np.nan).astype(float)\n"
   ]
  },
  {
   "cell_type": "markdown",
   "id": "255cad0e",
   "metadata": {},
   "source": [
    "**km sütunu içinde yer alan non-integer ifadeler temizlendi. Yerlerine nan değerler atandı. Nan değerlerin yerine**\n",
    "**diğer sütunlar incelendikten sonra ortalama bir km değeri atamayı planlıyoruz. Şimdilik işlem yapılmadı.**"
   ]
  },
  {
   "cell_type": "code",
   "execution_count": 27,
   "id": "7363c416",
   "metadata": {},
   "outputs": [
    {
     "data": {
      "text/plain": [
       "1024"
      ]
     },
     "execution_count": 27,
     "metadata": {},
     "output_type": "execute_result"
    }
   ],
   "source": [
    "df.km.isnull().sum()"
   ]
  },
  {
   "cell_type": "code",
   "execution_count": 28,
   "id": "93788d05",
   "metadata": {},
   "outputs": [
    {
     "ename": "TypeError",
     "evalue": "unhashable type: 'list'",
     "output_type": "error",
     "traceback": [
      "\u001b[0;31m---------------------------------------------------------------------------\u001b[0m",
      "\u001b[0;31mTypeError\u001b[0m                                 Traceback (most recent call last)",
      "\u001b[0;32mpandas/_libs/hashtable_class_helper.pxi\u001b[0m in \u001b[0;36mpandas._libs.hashtable.PyObjectHashTable.map_locations\u001b[0;34m()\u001b[0m\n",
      "\u001b[0;31mTypeError\u001b[0m: unhashable type: 'list'"
     ]
    },
    {
     "name": "stderr",
     "output_type": "stream",
     "text": [
      "Exception ignored in: 'pandas._libs.index.IndexEngine._call_map_locations'\n",
      "Traceback (most recent call last):\n",
      "  File \"pandas/_libs/hashtable_class_helper.pxi\", line 4588, in pandas._libs.hashtable.PyObjectHashTable.map_locations\n",
      "TypeError: unhashable type: 'list'\n"
     ]
    },
    {
     "data": {
      "text/plain": [
       "[\\n, 2019, \\n]    147\n",
       "[\\n, 2018, \\n]     38\n",
       "[\\n, 2017, \\n]      1\n",
       "Name: First Registration, dtype: int64"
      ]
     },
     "execution_count": 28,
     "metadata": {},
     "output_type": "execute_result"
    }
   ],
   "source": [
    "df[df.km.isnull()]['First Registration'].value_counts()"
   ]
  },
  {
   "cell_type": "markdown",
   "id": "2fdc06fc",
   "metadata": {},
   "source": [
    "### registration Sütunu"
   ]
  },
  {
   "cell_type": "markdown",
   "id": "463e7f6e",
   "metadata": {},
   "source": [
    "**Veri tipini datetime tipine çevirmeliyiz. Çünkü tarih verisi içeriyor.** "
   ]
  },
  {
   "cell_type": "code",
   "execution_count": 29,
   "id": "22d953db",
   "metadata": {},
   "outputs": [
    {
     "data": {
      "text/plain": [
       "0    01/2016\n",
       "1    03/2017\n",
       "2    02/2016\n",
       "3    08/2016\n",
       "4    05/2016\n",
       "Name: registration, dtype: object"
      ]
     },
     "execution_count": 29,
     "metadata": {},
     "output_type": "execute_result"
    }
   ],
   "source": [
    "df.registration.head()"
   ]
  },
  {
   "cell_type": "code",
   "execution_count": 30,
   "id": "3f03da6f",
   "metadata": {},
   "outputs": [
    {
     "data": {
      "text/plain": [
       "0"
      ]
     },
     "execution_count": 30,
     "metadata": {},
     "output_type": "execute_result"
    }
   ],
   "source": [
    "df.registration.isnull().sum()"
   ]
  },
  {
   "cell_type": "code",
   "execution_count": 31,
   "id": "6065e3b7",
   "metadata": {},
   "outputs": [],
   "source": [
    "df.registration = df.registration.replace('-/-', np.nan)\n"
   ]
  },
  {
   "cell_type": "code",
   "execution_count": 32,
   "id": "ba433999",
   "metadata": {},
   "outputs": [],
   "source": [
    "df.registration = pd.to_datetime(df.registration)\n"
   ]
  },
  {
   "cell_type": "code",
   "execution_count": 33,
   "id": "84a42483",
   "metadata": {},
   "outputs": [
    {
     "data": {
      "text/plain": [
       "1597"
      ]
     },
     "execution_count": 33,
     "metadata": {},
     "output_type": "execute_result"
    }
   ],
   "source": [
    "df[\"First Registration\"].isnull().sum()"
   ]
  },
  {
   "cell_type": "code",
   "execution_count": 34,
   "id": "dd8bfb9a",
   "metadata": {},
   "outputs": [
    {
     "data": {
      "text/plain": [
       "1597"
      ]
     },
     "execution_count": 34,
     "metadata": {},
     "output_type": "execute_result"
    }
   ],
   "source": [
    "df.registration.isnull().sum()"
   ]
  },
  {
   "cell_type": "code",
   "execution_count": 35,
   "id": "9996fe62",
   "metadata": {},
   "outputs": [
    {
     "data": {
      "text/html": [
       "<div>\n",
       "<style scoped>\n",
       "    .dataframe tbody tr th:only-of-type {\n",
       "        vertical-align: middle;\n",
       "    }\n",
       "\n",
       "    .dataframe tbody tr th {\n",
       "        vertical-align: top;\n",
       "    }\n",
       "\n",
       "    .dataframe thead th {\n",
       "        text-align: right;\n",
       "    }\n",
       "</style>\n",
       "<table border=\"1\" class=\"dataframe\">\n",
       "  <thead>\n",
       "    <tr style=\"text-align: right;\">\n",
       "      <th></th>\n",
       "      <th>First Registration</th>\n",
       "      <th>registration</th>\n",
       "    </tr>\n",
       "  </thead>\n",
       "  <tbody>\n",
       "    <tr>\n",
       "      <th>11378</th>\n",
       "      <td>[\\n, 2018, \\n]</td>\n",
       "      <td>2018-03-01</td>\n",
       "    </tr>\n",
       "    <tr>\n",
       "      <th>4249</th>\n",
       "      <td>[\\n, 2018, \\n]</td>\n",
       "      <td>2018-07-01</td>\n",
       "    </tr>\n",
       "    <tr>\n",
       "      <th>1995</th>\n",
       "      <td>[\\n, 2019, \\n]</td>\n",
       "      <td>2019-05-01</td>\n",
       "    </tr>\n",
       "    <tr>\n",
       "      <th>5539</th>\n",
       "      <td>None</td>\n",
       "      <td>NaT</td>\n",
       "    </tr>\n",
       "    <tr>\n",
       "      <th>2328</th>\n",
       "      <td>None</td>\n",
       "      <td>NaT</td>\n",
       "    </tr>\n",
       "  </tbody>\n",
       "</table>\n",
       "</div>"
      ],
      "text/plain": [
       "      First Registration registration\n",
       "11378     [\\n, 2018, \\n]   2018-03-01\n",
       "4249      [\\n, 2018, \\n]   2018-07-01\n",
       "1995      [\\n, 2019, \\n]   2019-05-01\n",
       "5539                None          NaT\n",
       "2328                None          NaT"
      ]
     },
     "execution_count": 35,
     "metadata": {},
     "output_type": "execute_result"
    }
   ],
   "source": [
    "df[['First Registration','registration']].sample(5)\n",
    "# first registration sütunun  ile registration sütunu benzer değerleri içerdiği için\n",
    "# first registration sütunu drop edilebilir"
   ]
  },
  {
   "cell_type": "code",
   "execution_count": 36,
   "id": "555201d3",
   "metadata": {},
   "outputs": [],
   "source": [
    "df.drop('First Registration',axis=1,inplace=True)"
   ]
  },
  {
   "cell_type": "markdown",
   "id": "05ef1bdb",
   "metadata": {},
   "source": [
    "###  registration sütununda yer alan nan değerler için daha sonra tekrar bakılacak."
   ]
  },
  {
   "cell_type": "code",
   "execution_count": null,
   "id": "c4a8246c",
   "metadata": {},
   "outputs": [],
   "source": []
  },
  {
   "cell_type": "markdown",
   "id": "4605f0f9",
   "metadata": {},
   "source": [
    "### 'prev_owner' sütunu\n",
    "**arabanın kaçıncı el olduğu bilgisi yer alıyor. Bu sütunun daha anlamlı hale gelmesi için integer'a çevirilebilir.**"
   ]
  },
  {
   "cell_type": "code",
   "execution_count": 37,
   "id": "d719dcef",
   "metadata": {},
   "outputs": [
    {
     "data": {
      "text/plain": [
       "0    2 previous owners\n",
       "1                 None\n",
       "2     1 previous owner\n",
       "3     1 previous owner\n",
       "4     1 previous owner\n",
       "Name: prev_owner, dtype: object"
      ]
     },
     "execution_count": 37,
     "metadata": {},
     "output_type": "execute_result"
    }
   ],
   "source": [
    "df.prev_owner.head()"
   ]
  },
  {
   "cell_type": "code",
   "execution_count": 38,
   "id": "52d0e239",
   "metadata": {},
   "outputs": [
    {
     "data": {
      "text/plain": [
       "array(['2 previous owners', None, '1 previous owner', '3 previous owners',\n",
       "       '4 previous owners'], dtype=object)"
      ]
     },
     "execution_count": 38,
     "metadata": {},
     "output_type": "execute_result"
    }
   ],
   "source": [
    "df.prev_owner.unique()"
   ]
  },
  {
   "cell_type": "code",
   "execution_count": 39,
   "id": "bf9cf8ae",
   "metadata": {},
   "outputs": [
    {
     "data": {
      "text/plain": [
       "6828"
      ]
     },
     "execution_count": 39,
     "metadata": {},
     "output_type": "execute_result"
    }
   ],
   "source": [
    "df.prev_owner.isnull().sum()"
   ]
  },
  {
   "cell_type": "code",
   "execution_count": 40,
   "id": "3df2787b",
   "metadata": {},
   "outputs": [],
   "source": [
    "df.prev_owner = df.prev_owner.str.strip('previous owners').astype(float)\n"
   ]
  },
  {
   "cell_type": "code",
   "execution_count": 41,
   "id": "ef616105",
   "metadata": {},
   "outputs": [],
   "source": [
    "# df.prev_owner.map(lambda x: x.split()[0],na_action='ignore').astype(float)"
   ]
  },
  {
   "cell_type": "markdown",
   "id": "fbd85454",
   "metadata": {},
   "source": [
    "### hp sütunu\n",
    "** bu sütunu integer ya da float a çevirebiliriz.** "
   ]
  },
  {
   "cell_type": "code",
   "execution_count": 42,
   "id": "3dd956fd",
   "metadata": {
    "scrolled": true
   },
   "outputs": [
    {
     "data": {
      "text/plain": [
       "85 kW     2542\n",
       "66 kW     2122\n",
       "81 kW     1402\n",
       "100 kW    1308\n",
       "110 kW    1112\n",
       "          ... \n",
       "133 kW       1\n",
       "84 kW        1\n",
       "44 kW        1\n",
       "4 kW         1\n",
       "137 kW       1\n",
       "Name: hp, Length: 81, dtype: int64"
      ]
     },
     "execution_count": 42,
     "metadata": {},
     "output_type": "execute_result"
    }
   ],
   "source": [
    "df.hp.value_counts()"
   ]
  },
  {
   "cell_type": "code",
   "execution_count": 43,
   "id": "d858c581",
   "metadata": {},
   "outputs": [
    {
     "data": {
      "text/plain": [
       "0         66 kW\n",
       "1        141 kW\n",
       "2         85 kW\n",
       "3         66 kW\n",
       "4         66 kW\n",
       "          ...  \n",
       "15914    147 kW\n",
       "15915    165 kW\n",
       "15916    146 kW\n",
       "15917    147 kW\n",
       "15918    165 kW\n",
       "Name: hp, Length: 15919, dtype: object"
      ]
     },
     "execution_count": 43,
     "metadata": {},
     "output_type": "execute_result"
    }
   ],
   "source": [
    "df.hp"
   ]
  },
  {
   "cell_type": "code",
   "execution_count": 44,
   "id": "63780cae",
   "metadata": {},
   "outputs": [],
   "source": [
    "df.hp = df.hp.str.strip(\" kW\").replace(\"-\",np.nan).astype(float)"
   ]
  },
  {
   "cell_type": "code",
   "execution_count": 45,
   "id": "ec9a19f2",
   "metadata": {},
   "outputs": [
    {
     "data": {
      "text/plain": [
       "88"
      ]
     },
     "execution_count": 45,
     "metadata": {},
     "output_type": "execute_result"
    }
   ],
   "source": [
    "df.hp.isnull().sum()"
   ]
  },
  {
   "cell_type": "markdown",
   "id": "41223050",
   "metadata": {},
   "source": [
    "### Type sütunu"
   ]
  },
  {
   "cell_type": "code",
   "execution_count": 46,
   "id": "a554069b",
   "metadata": {},
   "outputs": [
    {
     "data": {
      "text/plain": [
       "0                  [, Used, , Diesel (Particulate Filter)]\n",
       "1                                     [, Used, , Gasoline]\n",
       "2                  [, Used, , Diesel (Particulate Filter)]\n",
       "3                  [, Used, , Diesel (Particulate Filter)]\n",
       "4                  [, Used, , Diesel (Particulate Filter)]\n",
       "                               ...                        \n",
       "15914               [, New, , Diesel (Particulate Filter)]\n",
       "15915    [, Used, , Super 95 / Super Plus 98 (Particula...\n",
       "15916                         [, Pre-registered, , Diesel]\n",
       "15917                         [, Pre-registered, , Diesel]\n",
       "15918                        [, Demonstration, , Super 95]\n",
       "Name: Type, Length: 15919, dtype: object"
      ]
     },
     "execution_count": 46,
     "metadata": {},
     "output_type": "execute_result"
    }
   ],
   "source": [
    "df.Type"
   ]
  },
  {
   "cell_type": "code",
   "execution_count": 47,
   "id": "bca4d5c0",
   "metadata": {},
   "outputs": [
    {
     "data": {
      "text/plain": [
       "9341               Used\n",
       "13370              Used\n",
       "12169              Used\n",
       "15449    Pre-registered\n",
       "15529              Used\n",
       "Name: Type, dtype: object"
      ]
     },
     "execution_count": 47,
     "metadata": {},
     "output_type": "execute_result"
    }
   ],
   "source": [
    "df.Type.map(lambda x: x[1],na_action='ignore').sample(5)\n",
    "# siteyi incelediğimiz bu bilgilerin \"Vehicle condition\" olarak karşımıza çıktığını görmekteyiz. Serda\n",
    "# bu nedenle Vehicle condition sütunu oluşturup type sütununu parçalıyoruz."
   ]
  },
  {
   "cell_type": "code",
   "execution_count": 48,
   "id": "2896a700",
   "metadata": {},
   "outputs": [],
   "source": [
    "df[\"Vehicle condition\"] = df.Type.map(lambda x: x[1],na_action='ignore')\n"
   ]
  },
  {
   "cell_type": "code",
   "execution_count": 49,
   "id": "20626a0a",
   "metadata": {},
   "outputs": [
    {
     "data": {
      "text/plain": [
       "0    Used\n",
       "1    Used\n",
       "2    Used\n",
       "3    Used\n",
       "4    Used\n",
       "Name: Vehicle condition, dtype: object"
      ]
     },
     "execution_count": 49,
     "metadata": {},
     "output_type": "execute_result"
    }
   ],
   "source": [
    "df[\"Vehicle condition\"].head()"
   ]
  },
  {
   "cell_type": "code",
   "execution_count": 50,
   "id": "e0d52de0",
   "metadata": {},
   "outputs": [
    {
     "data": {
      "text/plain": [
       "4819"
      ]
     },
     "execution_count": 50,
     "metadata": {},
     "output_type": "execute_result"
    }
   ],
   "source": [
    "df.Type.map(lambda x: x[3],na_action='ignore').str.contains(\"Particulate Filter\").sum()\n",
    "# particulate filter içeren satır sayısı"
   ]
  },
  {
   "cell_type": "code",
   "execution_count": 51,
   "id": "9517262d",
   "metadata": {
    "scrolled": false
   },
   "outputs": [],
   "source": [
    "df[\"particul_filter\"] = df.Type.map(lambda x: x[3], na_action='ignore').str.extract(\"\\(([^)]+)\").fillna(False)\n",
    "# particule filter için regex denemesi () parantez içinde yer yazan 'particulate filter' string ifadeyi almak için\n",
    "# içinde particulate filter yazmayan nan değerlere False atadık"
   ]
  },
  {
   "cell_type": "code",
   "execution_count": 52,
   "id": "ce7366d3",
   "metadata": {},
   "outputs": [],
   "source": [
    "df.particul_filter = df.particul_filter.map(lambda x: True if x else False)\n",
    "# içinde particulate filter yazanları True yazmayanlar ise zaten false"
   ]
  },
  {
   "cell_type": "code",
   "execution_count": 53,
   "id": "27d8b320",
   "metadata": {},
   "outputs": [
    {
     "data": {
      "text/plain": [
       "0         True\n",
       "1        False\n",
       "2         True\n",
       "3         True\n",
       "4         True\n",
       "         ...  \n",
       "15914     True\n",
       "15915     True\n",
       "15916    False\n",
       "15917    False\n",
       "15918    False\n",
       "Name: particul_filter, Length: 15919, dtype: bool"
      ]
     },
     "execution_count": 53,
     "metadata": {},
     "output_type": "execute_result"
    }
   ],
   "source": [
    "df.particul_filter"
   ]
  },
  {
   "cell_type": "code",
   "execution_count": 54,
   "id": "0983422e",
   "metadata": {},
   "outputs": [],
   "source": [
    "df[\"Fuel Type\"] = df.Type.map(lambda x: x[3],na_action='ignore').str.extract(\"([^(]+)\")\n",
    "# ( karakterinden önceki her şeyi al \n",
    "# bu sayede araçların yakıt tiplerini çekmiş olacağız."
   ]
  },
  {
   "cell_type": "code",
   "execution_count": 55,
   "id": "a5b812b9",
   "metadata": {},
   "outputs": [
    {
     "data": {
      "text/plain": [
       "0                          Diesel \n",
       "1                         Gasoline\n",
       "2                          Diesel \n",
       "3                          Diesel \n",
       "4                          Diesel \n",
       "                   ...            \n",
       "15914                      Diesel \n",
       "15915    Super 95 / Super Plus 98 \n",
       "15916                       Diesel\n",
       "15917                       Diesel\n",
       "15918                     Super 95\n",
       "Name: Fuel Type, Length: 15919, dtype: object"
      ]
     },
     "execution_count": 55,
     "metadata": {},
     "output_type": "execute_result"
    }
   ],
   "source": [
    "df[\"Fuel Type\"]"
   ]
  },
  {
   "cell_type": "code",
   "execution_count": 56,
   "id": "d9eff92a",
   "metadata": {},
   "outputs": [
    {
     "data": {
      "text/plain": [
       "0                  [, Used, , Diesel (Particulate Filter)]\n",
       "1                                     [, Used, , Gasoline]\n",
       "2                  [, Used, , Diesel (Particulate Filter)]\n",
       "3                  [, Used, , Diesel (Particulate Filter)]\n",
       "4                  [, Used, , Diesel (Particulate Filter)]\n",
       "                               ...                        \n",
       "15914               [, New, , Diesel (Particulate Filter)]\n",
       "15915    [, Used, , Super 95 / Super Plus 98 (Particula...\n",
       "15916                         [, Pre-registered, , Diesel]\n",
       "15917                         [, Pre-registered, , Diesel]\n",
       "15918                        [, Demonstration, , Super 95]\n",
       "Name: Type, Length: 15919, dtype: object"
      ]
     },
     "execution_count": 56,
     "metadata": {},
     "output_type": "execute_result"
    }
   ],
   "source": [
    "df.Type"
   ]
  },
  {
   "cell_type": "code",
   "execution_count": 57,
   "id": "306058ed",
   "metadata": {},
   "outputs": [],
   "source": [
    "# Type sütunundan Vehicle condition,  Fuel Type ve particul_filter olmak üzere yeni kolanlar oluşturduk\n",
    "# Type sütunu artık düşebiliriz\n",
    "df.drop('Type',axis=1, inplace=True)"
   ]
  },
  {
   "cell_type": "code",
   "execution_count": 58,
   "id": "d83d94d9",
   "metadata": {},
   "outputs": [
    {
     "data": {
      "text/plain": [
       "Index(['make_model', 'body_type', 'price', 'vat', 'km', 'registration',\n",
       "       'prev_owner', 'hp', 'Next Inspection', 'Inspection new', 'Warranty',\n",
       "       'Make', 'Model', 'Body Color', 'Upholstery', 'Body', 'Nr. of Doors',\n",
       "       'Nr. of Seats', 'Gearing Type', 'Displacement', 'Weight', 'Drive chain',\n",
       "       'Consumption', 'CO2 Emission', 'Emission Class',\n",
       "       '\\nComfort & Convenience\\n', '\\nEntertainment & Media\\n', '\\nExtras\\n',\n",
       "       '\\nSafety & Security\\n', 'Emission Label', 'Gears', 'Country version',\n",
       "       'Vehicle condition', 'particul_filter', 'Fuel Type'],\n",
       "      dtype='object')"
      ]
     },
     "execution_count": 58,
     "metadata": {},
     "output_type": "execute_result"
    }
   ],
   "source": [
    "df.columns"
   ]
  },
  {
   "cell_type": "markdown",
   "id": "ae9fb112",
   "metadata": {},
   "source": [
    "### 'Next Inspection' sütunu"
   ]
  },
  {
   "cell_type": "code",
   "execution_count": 59,
   "id": "d09df026",
   "metadata": {},
   "outputs": [
    {
     "data": {
      "text/plain": [
       "Index(['make_model', 'body_type', 'price', 'vat', 'km', 'registration',\n",
       "       'prev_owner', 'hp', 'Next Inspection', 'Inspection new', 'Warranty',\n",
       "       'Make', 'Model', 'Body Color', 'Upholstery', 'Body', 'Nr. of Doors',\n",
       "       'Nr. of Seats', 'Gearing Type', 'Displacement', 'Weight', 'Drive chain',\n",
       "       'Consumption', 'CO2 Emission', 'Emission Class',\n",
       "       '\\nComfort & Convenience\\n', '\\nEntertainment & Media\\n', '\\nExtras\\n',\n",
       "       '\\nSafety & Security\\n', 'Emission Label', 'Gears', 'Country version',\n",
       "       'Vehicle condition', 'particul_filter', 'Fuel Type'],\n",
       "      dtype='object')"
      ]
     },
     "execution_count": 59,
     "metadata": {},
     "output_type": "execute_result"
    }
   ],
   "source": [
    "df.columns"
   ]
  },
  {
   "cell_type": "code",
   "execution_count": 60,
   "id": "02da654f",
   "metadata": {},
   "outputs": [
    {
     "data": {
      "text/plain": [
       "12384"
      ]
     },
     "execution_count": 60,
     "metadata": {},
     "output_type": "execute_result"
    }
   ],
   "source": [
    "df['Next Inspection'].isnull().sum()"
   ]
  },
  {
   "cell_type": "code",
   "execution_count": 61,
   "id": "a98bfe7f",
   "metadata": {},
   "outputs": [],
   "source": [
    "# null sayısına bakılırsa bu sütunu düşebiliriz.\n"
   ]
  },
  {
   "cell_type": "code",
   "execution_count": 62,
   "id": "5366418a",
   "metadata": {},
   "outputs": [],
   "source": [
    "df.drop('Next Inspection',axis=1, inplace=True)"
   ]
  },
  {
   "cell_type": "markdown",
   "id": "3e584c7a",
   "metadata": {},
   "source": [
    "### 'Inspection new' Sütunu"
   ]
  },
  {
   "cell_type": "code",
   "execution_count": 63,
   "id": "70462c5d",
   "metadata": {},
   "outputs": [
    {
     "data": {
      "text/plain": [
       "11987"
      ]
     },
     "execution_count": 63,
     "metadata": {},
     "output_type": "execute_result"
    }
   ],
   "source": [
    "df['Inspection new'].isnull().sum()"
   ]
  },
  {
   "cell_type": "code",
   "execution_count": 64,
   "id": "93bbf53e",
   "metadata": {},
   "outputs": [],
   "source": [
    "# null sayısına bakılırsa bu sütunu da düşebiliriz.\n",
    "df.drop('Inspection new',axis=1,inplace = True)"
   ]
  },
  {
   "cell_type": "markdown",
   "id": "78ecaa08",
   "metadata": {},
   "source": [
    "### 'Warranty' sütunu"
   ]
  },
  {
   "cell_type": "code",
   "execution_count": 65,
   "id": "4b2c5e46",
   "metadata": {},
   "outputs": [
    {
     "data": {
      "text/plain": [
       "5420"
      ]
     },
     "execution_count": 65,
     "metadata": {},
     "output_type": "execute_result"
    }
   ],
   "source": [
    "df.Warranty.isnull().sum()"
   ]
  },
  {
   "cell_type": "code",
   "execution_count": 66,
   "id": "d3a88558",
   "metadata": {},
   "outputs": [
    {
     "data": {
      "text/plain": [
       "7703"
      ]
     },
     "execution_count": 66,
     "metadata": {},
     "output_type": "execute_result"
    }
   ],
   "source": [
    "sum(df.Warranty == \"\")"
   ]
  },
  {
   "cell_type": "code",
   "execution_count": 67,
   "id": "245c750f",
   "metadata": {},
   "outputs": [
    {
     "data": {
      "text/plain": [
       "(7703, 33)"
      ]
     },
     "execution_count": 67,
     "metadata": {},
     "output_type": "execute_result"
    }
   ],
   "source": [
    "df[df.Warranty == \"\"].shape"
   ]
  },
  {
   "cell_type": "code",
   "execution_count": 68,
   "id": "3baad18c",
   "metadata": {},
   "outputs": [],
   "source": [
    "# null ve \"\" ifadeleri 13000 den fazla. Bu sütunun neredeyse tamamı da null. Düşülebilir. \n",
    "df.drop('Warranty',axis=1,inplace=True)"
   ]
  },
  {
   "cell_type": "code",
   "execution_count": 69,
   "id": "57d7cb83",
   "metadata": {},
   "outputs": [
    {
     "data": {
      "text/plain": [
       "Index(['make_model', 'body_type', 'price', 'vat', 'km', 'registration',\n",
       "       'prev_owner', 'hp', 'Make', 'Model', 'Body Color', 'Upholstery', 'Body',\n",
       "       'Nr. of Doors', 'Nr. of Seats', 'Gearing Type', 'Displacement',\n",
       "       'Weight', 'Drive chain', 'Consumption', 'CO2 Emission',\n",
       "       'Emission Class', '\\nComfort & Convenience\\n',\n",
       "       '\\nEntertainment & Media\\n', '\\nExtras\\n', '\\nSafety & Security\\n',\n",
       "       'Emission Label', 'Gears', 'Country version', 'Vehicle condition',\n",
       "       'particul_filter', 'Fuel Type'],\n",
       "      dtype='object')"
      ]
     },
     "execution_count": 69,
     "metadata": {},
     "output_type": "execute_result"
    }
   ],
   "source": [
    "df.columns"
   ]
  },
  {
   "cell_type": "markdown",
   "id": "63e02dca",
   "metadata": {},
   "source": [
    "### Make ve Model Sütunları"
   ]
  },
  {
   "cell_type": "code",
   "execution_count": 70,
   "id": "1fbc9c64",
   "metadata": {},
   "outputs": [],
   "source": [
    "df.Make = df.Make.str.strip(\"\\n\")"
   ]
  },
  {
   "cell_type": "code",
   "execution_count": 71,
   "id": "58f9afd0",
   "metadata": {},
   "outputs": [
    {
     "data": {
      "text/plain": [
       "0           Audi\n",
       "1           Audi\n",
       "2           Audi\n",
       "3           Audi\n",
       "4           Audi\n",
       "          ...   \n",
       "15914    Renault\n",
       "15915    Renault\n",
       "15916    Renault\n",
       "15917    Renault\n",
       "15918    Renault\n",
       "Name: Make, Length: 15919, dtype: object"
      ]
     },
     "execution_count": 71,
     "metadata": {},
     "output_type": "execute_result"
    }
   ],
   "source": [
    "df.Make"
   ]
  },
  {
   "cell_type": "code",
   "execution_count": 72,
   "id": "f90c1099",
   "metadata": {},
   "outputs": [],
   "source": [
    "df.Model = df.Model.map(lambda x: x[1],na_action='ignore')"
   ]
  },
  {
   "cell_type": "markdown",
   "id": "dbc048b6",
   "metadata": {},
   "source": [
    "### 'Body Color' Sütunu"
   ]
  },
  {
   "cell_type": "code",
   "execution_count": 73,
   "id": "e90aed31",
   "metadata": {},
   "outputs": [],
   "source": [
    "df['Body Color'] = df['Body Color'].map(lambda x: x[1],na_action='ignore')"
   ]
  },
  {
   "cell_type": "code",
   "execution_count": 74,
   "id": "1be93f81",
   "metadata": {},
   "outputs": [
    {
     "data": {
      "text/plain": [
       "0        Black\n",
       "1          Red\n",
       "2        Black\n",
       "3        Brown\n",
       "4        Black\n",
       "         ...  \n",
       "15914     Grey\n",
       "15915     Grey\n",
       "15916    White\n",
       "15917     Grey\n",
       "15918     Grey\n",
       "Name: Body Color, Length: 15919, dtype: object"
      ]
     },
     "execution_count": 74,
     "metadata": {},
     "output_type": "execute_result"
    }
   ],
   "source": [
    "df['Body Color']"
   ]
  },
  {
   "cell_type": "code",
   "execution_count": 75,
   "id": "e86659c3",
   "metadata": {},
   "outputs": [
    {
     "ename": "TypeError",
     "evalue": "unhashable type: 'list'",
     "output_type": "error",
     "traceback": [
      "\u001b[0;31m---------------------------------------------------------------------------\u001b[0m",
      "\u001b[0;31mTypeError\u001b[0m                                 Traceback (most recent call last)",
      "\u001b[0;32mpandas/_libs/hashtable_class_helper.pxi\u001b[0m in \u001b[0;36mpandas._libs.hashtable.PyObjectHashTable.map_locations\u001b[0;34m()\u001b[0m\n",
      "\u001b[0;31mTypeError\u001b[0m: unhashable type: 'list'"
     ]
    },
    {
     "name": "stderr",
     "output_type": "stream",
     "text": [
      "Exception ignored in: 'pandas._libs.index.IndexEngine._call_map_locations'\n",
      "Traceback (most recent call last):\n",
      "  File \"pandas/_libs/hashtable_class_helper.pxi\", line 4588, in pandas._libs.hashtable.PyObjectHashTable.map_locations\n",
      "TypeError: unhashable type: 'list'\n"
     ]
    },
    {
     "data": {
      "text/plain": [
       "[\\nCloth, Black\\n]           5821\n",
       "[\\nPart leather, Black\\n]    1121\n",
       "[\\nCloth\\n]                  1005\n",
       "[\\nCloth, Grey\\n]             891\n",
       "[\\nCloth, Other\\n]            639\n",
       "[\\nFull leather, Black\\n]     575\n",
       "[\\nBlack\\n]                   491\n",
       "[\\nGrey\\n]                    273\n",
       "[\\nOther, Other\\n]            182\n",
       "[\\nPart leather\\n]            140\n",
       "[\\nFull leather\\n]            139\n",
       "[\\nFull leather, Brown\\n]     116\n",
       "[\\nPart leather, Grey\\n]      116\n",
       "[\\nOther, Black\\n]            110\n",
       "[\\nFull leather, Other\\n]      72\n",
       "[\\nFull leather, Grey\\n]       67\n",
       "[\\nPart leather, Other\\n]      65\n",
       "[\\nOther\\n]                    56\n",
       "[\\nPart leather, Brown\\n]      50\n",
       "[\\nalcantara, Black\\n]         47\n",
       "[\\nVelour, Black\\n]            36\n",
       "[\\nFull leather, Beige\\n]      36\n",
       "[\\nCloth, Brown\\n]             28\n",
       "[\\nVelour\\n]                   16\n",
       "[\\nOther, Grey\\n]              15\n",
       "[\\nCloth, Beige\\n]             13\n",
       "[\\nBrown\\n]                    12\n",
       "[\\nCloth, Blue\\n]              12\n",
       "[\\nCloth, White\\n]              8\n",
       "[\\nVelour, Grey\\n]              8\n",
       "[\\nalcantara, Grey\\n]           6\n",
       "[\\nCloth, Red\\n]                5\n",
       "[\\nOther, Yellow\\n]             4\n",
       "[\\nPart leather, Red\\n]         3\n",
       "[\\nBeige\\n]                     3\n",
       "[\\nBlue\\n]                      2\n",
       "[\\nFull leather, Blue\\n]        2\n",
       "[\\nalcantara\\n]                 2\n",
       "[\\nalcantara, Other\\n]          2\n",
       "[\\nPart leather, Beige\\n]       2\n",
       "[\\nWhite\\n]                     2\n",
       "[\\nPart leather, White\\n]       2\n",
       "[\\nFull leather, Red\\n]         1\n",
       "[\\nOther, Brown\\n]              1\n",
       "[\\nCloth, Orange\\n]             1\n",
       "[\\nFull leather, White\\n]       1\n",
       "Name: Upholstery, dtype: int64"
      ]
     },
     "execution_count": 75,
     "metadata": {},
     "output_type": "execute_result"
    }
   ],
   "source": [
    "df.Upholstery.map(lambda x: x).value_counts()\n",
    "# bu sütunu incelediğimiz zaman arabaların koltuklarının deri mi kumaşmı olduğu bilgis ön plana çıkıyor. Ben fiyata etki edecek \n",
    "#olan kumaş mı deri mi kısmını alıp gerisini atacağım. "
   ]
  },
  {
   "cell_type": "code",
   "execution_count": 76,
   "id": "c7651281",
   "metadata": {},
   "outputs": [
    {
     "data": {
      "text/plain": [
       "3720"
      ]
     },
     "execution_count": 76,
     "metadata": {},
     "output_type": "execute_result"
    }
   ],
   "source": [
    "df.Upholstery.isnull().sum()"
   ]
  },
  {
   "cell_type": "code",
   "execution_count": 77,
   "id": "5188f8b4",
   "metadata": {},
   "outputs": [],
   "source": [
    "df.Upholstery = df.Upholstery.map(lambda x: x[0].strip(\"\\n\").split(\",\")[0],na_action='ignore')"
   ]
  },
  {
   "cell_type": "code",
   "execution_count": 78,
   "id": "cb90b25c",
   "metadata": {},
   "outputs": [
    {
     "data": {
      "text/plain": [
       "3720"
      ]
     },
     "execution_count": 78,
     "metadata": {},
     "output_type": "execute_result"
    }
   ],
   "source": [
    "df.Upholstery.isnull().sum()"
   ]
  },
  {
   "cell_type": "code",
   "execution_count": 79,
   "id": "4e01ff34",
   "metadata": {},
   "outputs": [
    {
     "data": {
      "text/plain": [
       "Index(['make_model', 'body_type', 'price', 'vat', 'km', 'registration',\n",
       "       'prev_owner', 'hp', 'Make', 'Model', 'Body Color', 'Upholstery', 'Body',\n",
       "       'Nr. of Doors', 'Nr. of Seats', 'Gearing Type', 'Displacement',\n",
       "       'Weight', 'Drive chain', 'Consumption', 'CO2 Emission',\n",
       "       'Emission Class', '\\nComfort & Convenience\\n',\n",
       "       '\\nEntertainment & Media\\n', '\\nExtras\\n', '\\nSafety & Security\\n',\n",
       "       'Emission Label', 'Gears', 'Country version', 'Vehicle condition',\n",
       "       'particul_filter', 'Fuel Type'],\n",
       "      dtype='object')"
      ]
     },
     "execution_count": 79,
     "metadata": {},
     "output_type": "execute_result"
    }
   ],
   "source": [
    "df.columns"
   ]
  },
  {
   "cell_type": "markdown",
   "id": "aa78d834",
   "metadata": {},
   "source": [
    "### Body Sütunu"
   ]
  },
  {
   "cell_type": "code",
   "execution_count": 80,
   "id": "929c79ae",
   "metadata": {},
   "outputs": [],
   "source": [
    "df.Body = df.Body.map(lambda x: x[1],na_action='ignore')"
   ]
  },
  {
   "cell_type": "markdown",
   "id": "65b51241",
   "metadata": {},
   "source": [
    "### 'Nr. of Doors' sütunu"
   ]
  },
  {
   "cell_type": "code",
   "execution_count": 81,
   "id": "72bc4a8a",
   "metadata": {},
   "outputs": [],
   "source": [
    "df['Nr. of Doors'] = df['Nr. of Doors'].map(lambda x: x[0].strip(\"\\n\"),na_action='ignore')"
   ]
  },
  {
   "cell_type": "code",
   "execution_count": 82,
   "id": "85411965",
   "metadata": {},
   "outputs": [
    {
     "data": {
      "text/plain": [
       "5    11575\n",
       "4     3079\n",
       "3      832\n",
       "2      219\n",
       "1        1\n",
       "7        1\n",
       "Name: Nr. of Doors, dtype: int64"
      ]
     },
     "execution_count": 82,
     "metadata": {},
     "output_type": "execute_result"
    }
   ],
   "source": [
    "df['Nr. of Doors'].value_counts()"
   ]
  },
  {
   "cell_type": "code",
   "execution_count": 83,
   "id": "1502b5f9",
   "metadata": {},
   "outputs": [
    {
     "data": {
      "text/plain": [
       "212"
      ]
     },
     "execution_count": 83,
     "metadata": {},
     "output_type": "execute_result"
    }
   ],
   "source": [
    "df['Nr. of Doors'].isnull().sum()"
   ]
  },
  {
   "cell_type": "code",
   "execution_count": 84,
   "id": "26f3e793",
   "metadata": {},
   "outputs": [],
   "source": [
    "df['Nr. of Doors'] = df['Nr. of Doors'].astype(float)"
   ]
  },
  {
   "cell_type": "code",
   "execution_count": 85,
   "id": "a9250ebd",
   "metadata": {},
   "outputs": [
    {
     "data": {
      "text/plain": [
       "dtype('float64')"
      ]
     },
     "execution_count": 85,
     "metadata": {},
     "output_type": "execute_result"
    }
   ],
   "source": [
    "df['Nr. of Doors'].dtype"
   ]
  },
  {
   "cell_type": "markdown",
   "id": "c867e95c",
   "metadata": {},
   "source": [
    "### 'Gearing Type'"
   ]
  },
  {
   "cell_type": "code",
   "execution_count": 86,
   "id": "97ccf0b7",
   "metadata": {
    "scrolled": true
   },
   "outputs": [
    {
     "data": {
      "text/plain": [
       "array(['Automatic', 'Manual', 'Semi-automatic'], dtype=object)"
      ]
     },
     "execution_count": 86,
     "metadata": {},
     "output_type": "execute_result"
    }
   ],
   "source": [
    "df['Gearing Type'].map(lambda x: x[1],na_action='ignore').unique()"
   ]
  },
  {
   "cell_type": "code",
   "execution_count": 87,
   "id": "94fc1366",
   "metadata": {},
   "outputs": [],
   "source": [
    "df['Gearing Type'] = df['Gearing Type'].map(lambda x: x[1],na_action='ignore')"
   ]
  },
  {
   "cell_type": "code",
   "execution_count": 88,
   "id": "0eb2a923",
   "metadata": {},
   "outputs": [
    {
     "data": {
      "text/plain": [
       "0"
      ]
     },
     "execution_count": 88,
     "metadata": {},
     "output_type": "execute_result"
    }
   ],
   "source": [
    "df['Gearing Type'].isnull().sum()"
   ]
  },
  {
   "cell_type": "code",
   "execution_count": 89,
   "id": "b31f4747",
   "metadata": {},
   "outputs": [
    {
     "data": {
      "text/plain": [
       "Index(['make_model', 'body_type', 'price', 'vat', 'km', 'registration',\n",
       "       'prev_owner', 'hp', 'Make', 'Model', 'Body Color', 'Upholstery', 'Body',\n",
       "       'Nr. of Doors', 'Nr. of Seats', 'Gearing Type', 'Displacement',\n",
       "       'Weight', 'Drive chain', 'Consumption', 'CO2 Emission',\n",
       "       'Emission Class', '\\nComfort & Convenience\\n',\n",
       "       '\\nEntertainment & Media\\n', '\\nExtras\\n', '\\nSafety & Security\\n',\n",
       "       'Emission Label', 'Gears', 'Country version', 'Vehicle condition',\n",
       "       'particul_filter', 'Fuel Type'],\n",
       "      dtype='object')"
      ]
     },
     "execution_count": 89,
     "metadata": {},
     "output_type": "execute_result"
    }
   ],
   "source": [
    "df.columns"
   ]
  },
  {
   "cell_type": "markdown",
   "id": "4bbb1c6e",
   "metadata": {},
   "source": [
    "### 'Displacement' Sütunu"
   ]
  },
  {
   "cell_type": "code",
   "execution_count": 90,
   "id": "5e05b8f4",
   "metadata": {},
   "outputs": [
    {
     "data": {
      "text/plain": [
       "0        [\\n1,422 cc\\n]\n",
       "1        [\\n1,798 cc\\n]\n",
       "2        [\\n1,598 cc\\n]\n",
       "3        [\\n1,422 cc\\n]\n",
       "4        [\\n1,422 cc\\n]\n",
       "              ...      \n",
       "15914    [\\n1,997 cc\\n]\n",
       "15915    [\\n1,798 cc\\n]\n",
       "15916    [\\n1,997 cc\\n]\n",
       "15917    [\\n1,997 cc\\n]\n",
       "15918    [\\n1,798 cc\\n]\n",
       "Name: Displacement, Length: 15919, dtype: object"
      ]
     },
     "execution_count": 90,
     "metadata": {},
     "output_type": "execute_result"
    }
   ],
   "source": [
    "df['Displacement']"
   ]
  },
  {
   "cell_type": "code",
   "execution_count": 91,
   "id": "abf7d461",
   "metadata": {},
   "outputs": [],
   "source": [
    "df['Displacement'] = df['Displacement'].map(lambda x: x[0].strip(\",\\n1\").strip(\" cc\"),na_action='ignore')"
   ]
  },
  {
   "cell_type": "code",
   "execution_count": 92,
   "id": "23ec25ee",
   "metadata": {},
   "outputs": [
    {
     "data": {
      "text/plain": [
       "36"
      ]
     },
     "execution_count": 92,
     "metadata": {},
     "output_type": "execute_result"
    }
   ],
   "source": [
    "sum(df['Displacement'] == '')\n",
    "# 36 tane '' değeri var."
   ]
  },
  {
   "cell_type": "code",
   "execution_count": 93,
   "id": "6415ae42",
   "metadata": {},
   "outputs": [],
   "source": [
    "df['Displacement'] = df['Displacement'].map(lambda x: x if x.isnumeric() else np.nan,na_action='ignore')"
   ]
  },
  {
   "cell_type": "code",
   "execution_count": 94,
   "id": "13f10205",
   "metadata": {},
   "outputs": [
    {
     "data": {
      "text/plain": [
       "0"
      ]
     },
     "execution_count": 94,
     "metadata": {},
     "output_type": "execute_result"
    }
   ],
   "source": [
    "sum(df['Displacement'] == '')\n",
    "# kodumu çalışmış"
   ]
  },
  {
   "cell_type": "code",
   "execution_count": 95,
   "id": "606dbcb4",
   "metadata": {},
   "outputs": [],
   "source": [
    "df['Displacement'] = df['Displacement'].astype(float)"
   ]
  },
  {
   "cell_type": "code",
   "execution_count": 96,
   "id": "18a7dbe0",
   "metadata": {},
   "outputs": [
    {
     "data": {
      "text/plain": [
       "601"
      ]
     },
     "execution_count": 96,
     "metadata": {},
     "output_type": "execute_result"
    }
   ],
   "source": [
    "df['Displacement'].isnull().sum()"
   ]
  },
  {
   "cell_type": "code",
   "execution_count": 97,
   "id": "e9c150f1",
   "metadata": {},
   "outputs": [
    {
     "data": {
      "text/plain": [
       "41"
      ]
     },
     "execution_count": 97,
     "metadata": {},
     "output_type": "execute_result"
    }
   ],
   "source": [
    "sum(df.Displacement== 0.)"
   ]
  },
  {
   "cell_type": "code",
   "execution_count": 98,
   "id": "6c777f87",
   "metadata": {},
   "outputs": [],
   "source": [
    "df.Displacement = df.Displacement.map(lambda x: np.nan if x == 0. else x)"
   ]
  },
  {
   "cell_type": "code",
   "execution_count": 99,
   "id": "88bfaaa3",
   "metadata": {},
   "outputs": [
    {
     "data": {
      "text/plain": [
       "0"
      ]
     },
     "execution_count": 99,
     "metadata": {},
     "output_type": "execute_result"
    }
   ],
   "source": [
    "sum(df.Displacement== 0.)"
   ]
  },
  {
   "cell_type": "code",
   "execution_count": 100,
   "id": "70b40fd9",
   "metadata": {},
   "outputs": [
    {
     "data": {
      "text/plain": [
       "642"
      ]
     },
     "execution_count": 100,
     "metadata": {},
     "output_type": "execute_result"
    }
   ],
   "source": [
    "df['Displacement'].isnull().sum()"
   ]
  },
  {
   "cell_type": "markdown",
   "id": "689c85f1",
   "metadata": {},
   "source": [
    "### Weight Sütunu"
   ]
  },
  {
   "cell_type": "code",
   "execution_count": 101,
   "id": "39888b6a",
   "metadata": {},
   "outputs": [
    {
     "data": {
      "text/plain": [
       "['\\n1,220 kg\\n']"
      ]
     },
     "execution_count": 101,
     "metadata": {},
     "output_type": "execute_result"
    }
   ],
   "source": [
    "df.Weight[0]\n",
    "# tek bir satır ile veri tipimizi tanımış olduk.\n",
    "# weight sütununda birim yazmasına gerek yok. Bu sütunu da float yapabiliriz\n"
   ]
  },
  {
   "cell_type": "code",
   "execution_count": 102,
   "id": "2d1461b1",
   "metadata": {},
   "outputs": [],
   "source": [
    "df.Weight = df.Weight.map(lambda x: x[0].strip('\\n1,').strip(\" kg\"),na_action='ignore')"
   ]
  },
  {
   "cell_type": "code",
   "execution_count": 103,
   "id": "833c4fa9",
   "metadata": {},
   "outputs": [
    {
     "data": {
      "text/plain": [
       "6974"
      ]
     },
     "execution_count": 103,
     "metadata": {},
     "output_type": "execute_result"
    }
   ],
   "source": [
    "df.Weight.isnull().sum()"
   ]
  },
  {
   "cell_type": "markdown",
   "id": "90893ac6",
   "metadata": {},
   "source": [
    "### 'Drive chain' Sütunu\n"
   ]
  },
  {
   "cell_type": "code",
   "execution_count": 104,
   "id": "27a7bee6",
   "metadata": {
    "scrolled": true
   },
   "outputs": [
    {
     "data": {
      "text/plain": [
       "0        [\\nfront\\n]\n",
       "1        [\\nfront\\n]\n",
       "2        [\\nfront\\n]\n",
       "3               None\n",
       "4        [\\nfront\\n]\n",
       "            ...     \n",
       "15914    [\\nfront\\n]\n",
       "15915    [\\nfront\\n]\n",
       "15916    [\\nfront\\n]\n",
       "15917    [\\nfront\\n]\n",
       "15918      [\\n4WD\\n]\n",
       "Name: Drive chain, Length: 15919, dtype: object"
      ]
     },
     "execution_count": 104,
     "metadata": {},
     "output_type": "execute_result"
    }
   ],
   "source": [
    "df['Drive chain']"
   ]
  },
  {
   "cell_type": "code",
   "execution_count": 105,
   "id": "f3df0ba0",
   "metadata": {},
   "outputs": [],
   "source": [
    "df['Drive chain'] = df['Drive chain'].map(lambda x: x[0].strip('\\n'),na_action='ignore')"
   ]
  },
  {
   "cell_type": "code",
   "execution_count": 106,
   "id": "495e95ba",
   "metadata": {},
   "outputs": [
    {
     "data": {
      "text/plain": [
       "array(['front', None, '4WD', 'rear'], dtype=object)"
      ]
     },
     "execution_count": 106,
     "metadata": {},
     "output_type": "execute_result"
    }
   ],
   "source": [
    "df['Drive chain'].unique()"
   ]
  },
  {
   "cell_type": "code",
   "execution_count": 107,
   "id": "cf81b215",
   "metadata": {},
   "outputs": [
    {
     "data": {
      "text/plain": [
       "6858"
      ]
     },
     "execution_count": 107,
     "metadata": {},
     "output_type": "execute_result"
    }
   ],
   "source": [
    "df['Drive chain'].isnull().sum()"
   ]
  },
  {
   "cell_type": "markdown",
   "id": "ec5cce6b",
   "metadata": {},
   "source": [
    "### Consumption "
   ]
  },
  {
   "cell_type": "markdown",
   "id": "36fc90c9",
   "metadata": {},
   "source": [
    "* bu sütunda 3 farklı veri bulunmakta fakat bazı sütunlarda 3 ten daha az veya \n",
    "* daha fazla verilerde bulunmakta. Bu nedenle sütunda gerekli temizlikleri yaptıktan sonra ortalama alacağız. "
   ]
  },
  {
   "cell_type": "code",
   "execution_count": 108,
   "id": "3ae87a31",
   "metadata": {},
   "outputs": [
    {
     "ename": "TypeError",
     "evalue": "unhashable type: 'list'",
     "output_type": "error",
     "traceback": [
      "\u001b[0;31m---------------------------------------------------------------------------\u001b[0m",
      "\u001b[0;31mTypeError\u001b[0m                                 Traceback (most recent call last)",
      "\u001b[0;32mpandas/_libs/hashtable_class_helper.pxi\u001b[0m in \u001b[0;36mpandas._libs.hashtable.PyObjectHashTable.map_locations\u001b[0;34m()\u001b[0m\n",
      "\u001b[0;31mTypeError\u001b[0m: unhashable type: 'list'"
     ]
    },
    {
     "name": "stderr",
     "output_type": "stream",
     "text": [
      "Exception ignored in: 'pandas._libs.index.IndexEngine._call_map_locations'\n",
      "Traceback (most recent call last):\n",
      "  File \"pandas/_libs/hashtable_class_helper.pxi\", line 4588, in pandas._libs.hashtable.PyObjectHashTable.map_locations\n",
      "TypeError: unhashable type: 'list'\n"
     ]
    },
    {
     "data": {
      "text/plain": [
       "[[3.9 l/100 km (comb)], [4.1 l/100 km (city)], [3.7 l/100 km (country)]]              304\n",
       "[[4.2 l/100 km (comb)], [5 l/100 km (city)], [3.7 l/100 km (country)]]                276\n",
       "[[5.4 l/100 km (comb)], [6.8 l/100 km (city)], [4.5 l/100 km (country)]]              257\n",
       "[[3.8 l/100 km (comb)], [4.3 l/100 km (city)], [3.5 l/100 km (country)]]              253\n",
       "[[4.7 l/100 km (comb)], [5.1 l/100 km (city)], [4.4 l/100 km (country)]]              244\n",
       "                                                                                     ... \n",
       "[[5.2 l/100 km (comb)], [6 l/100 km (city)], [4.8 l/100 km (country)]]                  1\n",
       "[[5.3 l/100 km (comb)], [6 l/100 km (city)], [5 l/100 km (country)]]                    1\n",
       "[\\n, 6.5 l/100 km (comb), \\n, 8.1 l/100 km (city), \\n, 5.5 l/100 km (country), \\n]      1\n",
       "[[4.3 l/100 km (comb)], [5.6 l/100 km (city)], [3.5 l/100 km (country)]]                1\n",
       "[[50 l/100 km (comb)], [64 l/100 km (city)], [42 l/100 km (country)]]                   1\n",
       "Name: Consumption, Length: 881, dtype: int64"
      ]
     },
     "execution_count": 108,
     "metadata": {},
     "output_type": "execute_result"
    }
   ],
   "source": [
    "df.Consumption.value_counts()"
   ]
  },
  {
   "cell_type": "code",
   "execution_count": 109,
   "id": "ed36ed3f",
   "metadata": {},
   "outputs": [
    {
     "ename": "TypeError",
     "evalue": "join() takes no keyword arguments",
     "output_type": "error",
     "traceback": [
      "\u001b[0;31m---------------------------------------------------------------------------\u001b[0m",
      "\u001b[0;31mTypeError\u001b[0m                                 Traceback (most recent call last)",
      "\u001b[0;32m<ipython-input-109-dc779b3f6864>\u001b[0m in \u001b[0;36m<module>\u001b[0;34m\u001b[0m\n\u001b[1;32m      1\u001b[0m \u001b[0;31m# önce parçlara ayıralım.\u001b[0m\u001b[0;34m\u001b[0m\u001b[0;34m\u001b[0m\u001b[0;34m\u001b[0m\u001b[0m\n\u001b[1;32m      2\u001b[0m \u001b[0mdata\u001b[0m \u001b[0;34m=\u001b[0m \u001b[0;34m[\u001b[0m\u001b[0;34m]\u001b[0m\u001b[0;34m\u001b[0m\u001b[0;34m\u001b[0m\u001b[0m\n\u001b[0;32m----> 3\u001b[0;31m \u001b[0mdf\u001b[0m\u001b[0;34m.\u001b[0m\u001b[0mConsumption\u001b[0m\u001b[0;34m.\u001b[0m\u001b[0mmap\u001b[0m\u001b[0;34m(\u001b[0m\u001b[0;32mlambda\u001b[0m \u001b[0mx\u001b[0m\u001b[0;34m:\u001b[0m \u001b[0mdata\u001b[0m\u001b[0;34m.\u001b[0m\u001b[0mappend\u001b[0m\u001b[0;34m(\u001b[0m\u001b[0;34m\" \"\u001b[0m\u001b[0;34m.\u001b[0m\u001b[0mjoin\u001b[0m\u001b[0;34m(\u001b[0m\u001b[0;32mlambda\u001b[0m \u001b[0mx\u001b[0m\u001b[0;34m:\u001b[0m \u001b[0mx\u001b[0m\u001b[0;34m,\u001b[0m\u001b[0mna_action\u001b[0m\u001b[0;34m=\u001b[0m \u001b[0;34m'ignore'\u001b[0m\u001b[0;34m)\u001b[0m\u001b[0;34m)\u001b[0m\u001b[0;34m,\u001b[0m\u001b[0mna_action\u001b[0m\u001b[0;34m=\u001b[0m\u001b[0;34m'ignore'\u001b[0m\u001b[0;34m)\u001b[0m\u001b[0;34m\u001b[0m\u001b[0;34m\u001b[0m\u001b[0m\n\u001b[0m",
      "\u001b[0;32m~/opt/anaconda3/lib/python3.8/site-packages/pandas/core/series.py\u001b[0m in \u001b[0;36mmap\u001b[0;34m(self, arg, na_action)\u001b[0m\n\u001b[1;32m   3907\u001b[0m         \u001b[0mdtype\u001b[0m\u001b[0;34m:\u001b[0m \u001b[0mobject\u001b[0m\u001b[0;34m\u001b[0m\u001b[0;34m\u001b[0m\u001b[0m\n\u001b[1;32m   3908\u001b[0m         \"\"\"\n\u001b[0;32m-> 3909\u001b[0;31m         \u001b[0mnew_values\u001b[0m \u001b[0;34m=\u001b[0m \u001b[0msuper\u001b[0m\u001b[0;34m(\u001b[0m\u001b[0;34m)\u001b[0m\u001b[0;34m.\u001b[0m\u001b[0m_map_values\u001b[0m\u001b[0;34m(\u001b[0m\u001b[0marg\u001b[0m\u001b[0;34m,\u001b[0m \u001b[0mna_action\u001b[0m\u001b[0;34m=\u001b[0m\u001b[0mna_action\u001b[0m\u001b[0;34m)\u001b[0m\u001b[0;34m\u001b[0m\u001b[0;34m\u001b[0m\u001b[0m\n\u001b[0m\u001b[1;32m   3910\u001b[0m         return self._constructor(new_values, index=self.index).__finalize__(\n\u001b[1;32m   3911\u001b[0m             \u001b[0mself\u001b[0m\u001b[0;34m,\u001b[0m \u001b[0mmethod\u001b[0m\u001b[0;34m=\u001b[0m\u001b[0;34m\"map\"\u001b[0m\u001b[0;34m\u001b[0m\u001b[0;34m\u001b[0m\u001b[0m\n",
      "\u001b[0;32m~/opt/anaconda3/lib/python3.8/site-packages/pandas/core/base.py\u001b[0m in \u001b[0;36m_map_values\u001b[0;34m(self, mapper, na_action)\u001b[0m\n\u001b[1;32m    935\u001b[0m \u001b[0;34m\u001b[0m\u001b[0m\n\u001b[1;32m    936\u001b[0m         \u001b[0;31m# mapper is a function\u001b[0m\u001b[0;34m\u001b[0m\u001b[0;34m\u001b[0m\u001b[0;34m\u001b[0m\u001b[0m\n\u001b[0;32m--> 937\u001b[0;31m         \u001b[0mnew_values\u001b[0m \u001b[0;34m=\u001b[0m \u001b[0mmap_f\u001b[0m\u001b[0;34m(\u001b[0m\u001b[0mvalues\u001b[0m\u001b[0;34m,\u001b[0m \u001b[0mmapper\u001b[0m\u001b[0;34m)\u001b[0m\u001b[0;34m\u001b[0m\u001b[0;34m\u001b[0m\u001b[0m\n\u001b[0m\u001b[1;32m    938\u001b[0m \u001b[0;34m\u001b[0m\u001b[0m\n\u001b[1;32m    939\u001b[0m         \u001b[0;32mreturn\u001b[0m \u001b[0mnew_values\u001b[0m\u001b[0;34m\u001b[0m\u001b[0;34m\u001b[0m\u001b[0m\n",
      "\u001b[0;32m~/opt/anaconda3/lib/python3.8/site-packages/pandas/core/base.py\u001b[0m in \u001b[0;36m<lambda>\u001b[0;34m(values, f)\u001b[0m\n\u001b[1;32m    922\u001b[0m             \u001b[0mvalues\u001b[0m \u001b[0;34m=\u001b[0m \u001b[0mself\u001b[0m\u001b[0;34m.\u001b[0m\u001b[0mastype\u001b[0m\u001b[0;34m(\u001b[0m\u001b[0mobject\u001b[0m\u001b[0;34m)\u001b[0m\u001b[0;34m.\u001b[0m\u001b[0m_values\u001b[0m  \u001b[0;31m# type: ignore[attr-defined]\u001b[0m\u001b[0;34m\u001b[0m\u001b[0;34m\u001b[0m\u001b[0m\n\u001b[1;32m    923\u001b[0m             \u001b[0;32mif\u001b[0m \u001b[0mna_action\u001b[0m \u001b[0;34m==\u001b[0m \u001b[0;34m\"ignore\"\u001b[0m\u001b[0;34m:\u001b[0m\u001b[0;34m\u001b[0m\u001b[0;34m\u001b[0m\u001b[0m\n\u001b[0;32m--> 924\u001b[0;31m                 map_f = lambda values, f: lib.map_infer_mask(\n\u001b[0m\u001b[1;32m    925\u001b[0m                     \u001b[0mvalues\u001b[0m\u001b[0;34m,\u001b[0m \u001b[0mf\u001b[0m\u001b[0;34m,\u001b[0m \u001b[0misna\u001b[0m\u001b[0;34m(\u001b[0m\u001b[0mvalues\u001b[0m\u001b[0;34m)\u001b[0m\u001b[0;34m.\u001b[0m\u001b[0mview\u001b[0m\u001b[0;34m(\u001b[0m\u001b[0mnp\u001b[0m\u001b[0;34m.\u001b[0m\u001b[0muint8\u001b[0m\u001b[0;34m)\u001b[0m\u001b[0;34m\u001b[0m\u001b[0;34m\u001b[0m\u001b[0m\n\u001b[1;32m    926\u001b[0m                 )\n",
      "\u001b[0;32mpandas/_libs/lib.pyx\u001b[0m in \u001b[0;36mpandas._libs.lib.map_infer_mask\u001b[0;34m()\u001b[0m\n",
      "\u001b[0;32m<ipython-input-109-dc779b3f6864>\u001b[0m in \u001b[0;36m<lambda>\u001b[0;34m(x)\u001b[0m\n\u001b[1;32m      1\u001b[0m \u001b[0;31m# önce parçlara ayıralım.\u001b[0m\u001b[0;34m\u001b[0m\u001b[0;34m\u001b[0m\u001b[0;34m\u001b[0m\u001b[0m\n\u001b[1;32m      2\u001b[0m \u001b[0mdata\u001b[0m \u001b[0;34m=\u001b[0m \u001b[0;34m[\u001b[0m\u001b[0;34m]\u001b[0m\u001b[0;34m\u001b[0m\u001b[0;34m\u001b[0m\u001b[0m\n\u001b[0;32m----> 3\u001b[0;31m \u001b[0mdf\u001b[0m\u001b[0;34m.\u001b[0m\u001b[0mConsumption\u001b[0m\u001b[0;34m.\u001b[0m\u001b[0mmap\u001b[0m\u001b[0;34m(\u001b[0m\u001b[0;32mlambda\u001b[0m \u001b[0mx\u001b[0m\u001b[0;34m:\u001b[0m \u001b[0mdata\u001b[0m\u001b[0;34m.\u001b[0m\u001b[0mappend\u001b[0m\u001b[0;34m(\u001b[0m\u001b[0;34m\" \"\u001b[0m\u001b[0;34m.\u001b[0m\u001b[0mjoin\u001b[0m\u001b[0;34m(\u001b[0m\u001b[0;32mlambda\u001b[0m \u001b[0mx\u001b[0m\u001b[0;34m:\u001b[0m \u001b[0mx\u001b[0m\u001b[0;34m,\u001b[0m\u001b[0mna_action\u001b[0m\u001b[0;34m=\u001b[0m \u001b[0;34m'ignore'\u001b[0m\u001b[0;34m)\u001b[0m\u001b[0;34m)\u001b[0m\u001b[0;34m,\u001b[0m\u001b[0mna_action\u001b[0m\u001b[0;34m=\u001b[0m\u001b[0;34m'ignore'\u001b[0m\u001b[0;34m)\u001b[0m\u001b[0;34m\u001b[0m\u001b[0;34m\u001b[0m\u001b[0m\n\u001b[0m",
      "\u001b[0;31mTypeError\u001b[0m: join() takes no keyword arguments"
     ]
    }
   ],
   "source": [
    "# önce parçlara ayıralım.\n",
    "data = []\n",
    "df.Consumption.map(lambda x: data.append(\" \".join(lambda x: x,na_action= 'ignore')),na_action='ignore')"
   ]
  },
  {
   "cell_type": "code",
   "execution_count": null,
   "id": "e0d7bc19",
   "metadata": {},
   "outputs": [],
   "source": []
  },
  {
   "cell_type": "code",
   "execution_count": 110,
   "id": "803ad5b4",
   "metadata": {},
   "outputs": [
    {
     "data": {
      "text/plain": [
       "[['3.8 l/100 km (comb)'], ['4.3 l/100 km (city)'], ['3.5 l/100 km (country)']]"
      ]
     },
     "execution_count": 110,
     "metadata": {},
     "output_type": "execute_result"
    }
   ],
   "source": [
    "df.Consumption[0]"
   ]
  },
  {
   "cell_type": "code",
   "execution_count": 111,
   "id": "0840c508",
   "metadata": {},
   "outputs": [
    {
     "data": {
      "text/plain": [
       "['3.8 l/100 km (comb)']"
      ]
     },
     "execution_count": 111,
     "metadata": {},
     "output_type": "execute_result"
    }
   ],
   "source": [
    "df.Consumption[0][0]"
   ]
  },
  {
   "cell_type": "code",
   "execution_count": 112,
   "id": "62af57ab",
   "metadata": {},
   "outputs": [
    {
     "ename": "TypeError",
     "evalue": "unhashable type: 'list'",
     "output_type": "error",
     "traceback": [
      "\u001b[0;31m---------------------------------------------------------------------------\u001b[0m",
      "\u001b[0;31mTypeError\u001b[0m                                 Traceback (most recent call last)",
      "\u001b[0;32mpandas/_libs/hashtable_class_helper.pxi\u001b[0m in \u001b[0;36mpandas._libs.hashtable.PyObjectHashTable.map_locations\u001b[0;34m()\u001b[0m\n",
      "\u001b[0;31mTypeError\u001b[0m: unhashable type: 'list'"
     ]
    },
    {
     "name": "stderr",
     "output_type": "stream",
     "text": [
      "Exception ignored in: 'pandas._libs.index.IndexEngine._call_map_locations'\n",
      "Traceback (most recent call last):\n",
      "  File \"pandas/_libs/hashtable_class_helper.pxi\", line 4588, in pandas._libs.hashtable.PyObjectHashTable.map_locations\n",
      "TypeError: unhashable type: 'list'\n"
     ]
    },
    {
     "data": {
      "text/plain": [
       "[3.9 l/100 km (comb)]     732\n",
       "[4 l/100 km (comb)]       712\n",
       "[5.4 l/100 km (comb)]     662\n",
       "[5.1 l/100 km (comb)]     627\n",
       "[4.4 l/100 km (comb)]     595\n",
       "                         ... \n",
       "[1 l/100 km (comb)]         1\n",
       "[9.1 l/100 km (comb)]       1\n",
       "[7.5 l/100 km (comb)]       1\n",
       "[32 l/100 km (comb)]        1\n",
       "[13.8 l/100 km (comb)]      1\n",
       "Name: Consumption, Length: 79, dtype: int64"
      ]
     },
     "execution_count": 112,
     "metadata": {},
     "output_type": "execute_result"
    }
   ],
   "source": [
    "df.Consumption.map(lambda x: None if len(x[0]) < 1 or x[0]  == '\\n' else x[0] ,na_action='ignore').value_counts()"
   ]
  },
  {
   "cell_type": "code",
   "execution_count": 113,
   "id": "8d2e9be0",
   "metadata": {},
   "outputs": [],
   "source": [
    "import re"
   ]
  },
  {
   "cell_type": "code",
   "execution_count": 114,
   "id": "71fbad29",
   "metadata": {},
   "outputs": [
    {
     "ename": "TypeError",
     "evalue": "expected string or bytes-like object",
     "output_type": "error",
     "traceback": [
      "\u001b[0;31m---------------------------------------------------------------------------\u001b[0m",
      "\u001b[0;31mTypeError\u001b[0m                                 Traceback (most recent call last)",
      "\u001b[0;32m<ipython-input-114-94d1118e769b>\u001b[0m in \u001b[0;36m<module>\u001b[0;34m\u001b[0m\n\u001b[0;32m----> 1\u001b[0;31m \u001b[0mre\u001b[0m\u001b[0;34m.\u001b[0m\u001b[0mfindall\u001b[0m\u001b[0;34m(\u001b[0m\u001b[0;34m\"\\d+\\.\\d+\"\u001b[0m\u001b[0;34m,\u001b[0m \u001b[0mdf\u001b[0m\u001b[0;34m.\u001b[0m\u001b[0mConsumption\u001b[0m\u001b[0;34m.\u001b[0m\u001b[0mmap\u001b[0m\u001b[0;34m(\u001b[0m\u001b[0;32mlambda\u001b[0m \u001b[0mx\u001b[0m\u001b[0;34m:\u001b[0m \u001b[0mx\u001b[0m\u001b[0;34m[\u001b[0m\u001b[0;36m0\u001b[0m\u001b[0;34m]\u001b[0m\u001b[0;34m,\u001b[0m\u001b[0mna_action\u001b[0m\u001b[0;34m=\u001b[0m\u001b[0;34m'ignore'\u001b[0m\u001b[0;34m)\u001b[0m\u001b[0;34m)\u001b[0m\u001b[0;34m\u001b[0m\u001b[0;34m\u001b[0m\u001b[0m\n\u001b[0m",
      "\u001b[0;32m~/opt/anaconda3/lib/python3.8/re.py\u001b[0m in \u001b[0;36mfindall\u001b[0;34m(pattern, string, flags)\u001b[0m\n\u001b[1;32m    239\u001b[0m \u001b[0;34m\u001b[0m\u001b[0m\n\u001b[1;32m    240\u001b[0m     Empty matches are included in the result.\"\"\"\n\u001b[0;32m--> 241\u001b[0;31m     \u001b[0;32mreturn\u001b[0m \u001b[0m_compile\u001b[0m\u001b[0;34m(\u001b[0m\u001b[0mpattern\u001b[0m\u001b[0;34m,\u001b[0m \u001b[0mflags\u001b[0m\u001b[0;34m)\u001b[0m\u001b[0;34m.\u001b[0m\u001b[0mfindall\u001b[0m\u001b[0;34m(\u001b[0m\u001b[0mstring\u001b[0m\u001b[0;34m)\u001b[0m\u001b[0;34m\u001b[0m\u001b[0;34m\u001b[0m\u001b[0m\n\u001b[0m\u001b[1;32m    242\u001b[0m \u001b[0;34m\u001b[0m\u001b[0m\n\u001b[1;32m    243\u001b[0m \u001b[0;32mdef\u001b[0m \u001b[0mfinditer\u001b[0m\u001b[0;34m(\u001b[0m\u001b[0mpattern\u001b[0m\u001b[0;34m,\u001b[0m \u001b[0mstring\u001b[0m\u001b[0;34m,\u001b[0m \u001b[0mflags\u001b[0m\u001b[0;34m=\u001b[0m\u001b[0;36m0\u001b[0m\u001b[0;34m)\u001b[0m\u001b[0;34m:\u001b[0m\u001b[0;34m\u001b[0m\u001b[0;34m\u001b[0m\u001b[0m\n",
      "\u001b[0;31mTypeError\u001b[0m: expected string or bytes-like object"
     ]
    }
   ],
   "source": [
    "re.findall(\"\\d+\\.\\d+\", df.Consumption.map(lambda x: x[0],na_action='ignore'))"
   ]
  },
  {
   "cell_type": "code",
   "execution_count": 115,
   "id": "3c80bf92",
   "metadata": {},
   "outputs": [
    {
     "data": {
      "text/plain": [
       "['13.4']"
      ]
     },
     "execution_count": 115,
     "metadata": {},
     "output_type": "execute_result"
    }
   ],
   "source": [
    "import re\n",
    "re.findall(\"\\d+\\.\\d+\", \"Current Level: 13.4 db.\")\n",
    "['13.4']\n"
   ]
  },
  {
   "cell_type": "code",
   "execution_count": 116,
   "id": "8121779f",
   "metadata": {},
   "outputs": [],
   "source": [
    "a = []\n",
    "b = \"hello world\""
   ]
  },
  {
   "cell_type": "code",
   "execution_count": null,
   "id": "452bf6c1",
   "metadata": {},
   "outputs": [],
   "source": [
    "if a:\n",
    "    print(\"çalıştı\")"
   ]
  }
 ],
 "metadata": {
  "kernelspec": {
   "display_name": "Python 3",
   "language": "python",
   "name": "python3"
  },
  "language_info": {
   "codemirror_mode": {
    "name": "ipython",
    "version": 3
   },
   "file_extension": ".py",
   "mimetype": "text/x-python",
   "name": "python",
   "nbconvert_exporter": "python",
   "pygments_lexer": "ipython3",
   "version": "3.8.8"
  }
 },
 "nbformat": 4,
 "nbformat_minor": 5
}
